{
 "cells": [
  {
   "cell_type": "code",
   "execution_count": 1,
   "id": "bdea9482",
   "metadata": {},
   "outputs": [],
   "source": [
    "import os\n",
    "import time\n",
    "from tqdm import tqdm\n",
    "from bs4 import BeautifulSoup\n",
    "from urllib import request, error"
   ]
  },
  {
   "cell_type": "code",
   "execution_count": 2,
   "id": "d5a45765",
   "metadata": {},
   "outputs": [
    {
     "name": "stderr",
     "output_type": "stream",
     "text": [
      "\r",
      "  0%|                                                                                                                               | 0/6576 [00:00<?, ?it/s]"
     ]
    },
    {
     "name": "stdout",
     "output_type": "stream",
     "text": [
      "------------------------------------------------------------------------------ 2\n",
      "ezoraicho_160420_furano_cf.wma\n",
      "/home/wataru/code/b-com/b-com/crawling/エゾライチョウ/さえずり\n",
      "https://www.bird-research.jp/1_shiryo/koe/ezoraicho_160420_furano_cf.wma\n"
     ]
    },
    {
     "name": "stderr",
     "output_type": "stream",
     "text": [
      "\r",
      "  0%|                                                                                                                     | 3/6576 [00:05<3:10:23,  1.74s/it]"
     ]
    },
    {
     "name": "stdout",
     "output_type": "stream",
     "text": [
      "------------------------------------------------------------------------------ 9\n",
      "ezoraicho2_160420_furano_cf.wma\n",
      "/home/wataru/code/b-com/b-com/crawling/エゾライチョウ/幌打ち\n",
      "https://www.bird-research.jp/1_shiryo/koe/ezoraicho2_160420_furano_cf.wma\n"
     ]
    },
    {
     "name": "stderr",
     "output_type": "stream",
     "text": [
      "\r",
      "  0%|▏                                                                                                                   | 10/6576 [00:10<1:46:46,  1.02it/s]"
     ]
    },
    {
     "name": "stdout",
     "output_type": "stream",
     "text": [
      "------------------------------------------------------------------------------ 16\n",
      "ezoraicho_080703_doto_kuroda.wma\n",
      "/home/wataru/code/b-com/b-com/crawling/エゾライチョウ/雌\n",
      "https://www.bird-research.jp/1_shiryo/koe/ezoraicho_080703_doto_kuroda.wma\n"
     ]
    },
    {
     "name": "stderr",
     "output_type": "stream",
     "text": [
      "\r",
      "  0%|▎                                                                                                                   | 17/6576 [00:15<1:33:42,  1.17it/s]"
     ]
    },
    {
     "name": "stdout",
     "output_type": "stream",
     "text": [
      "------------------------------------------------------------------------------ 23\n",
      "ezoraicho_080703_doto_kuroda2.wma\n",
      "/home/wataru/code/b-com/b-com/crawling/エゾライチョウ/雌\n",
      "https://www.bird-research.jp/1_shiryo/koe/ezoraicho_080703_doto_kuroda2.wma\n"
     ]
    },
    {
     "name": "stderr",
     "output_type": "stream",
     "text": [
      "\r",
      "  0%|▍                                                                                                                   | 24/6576 [00:21<1:29:31,  1.22it/s]"
     ]
    },
    {
     "name": "stdout",
     "output_type": "stream",
     "text": [
      "------------------------------------------------------------------------------ 30\n",
      "raicho_100526_norikura_hotta.wma\n",
      "/home/wataru/code/b-com/b-com/crawling/ライチョウ/\n",
      "https://www.bird-research.jp/1_shiryo/koe/raicho_100526_norikura_hotta.wma\n"
     ]
    },
    {
     "name": "stderr",
     "output_type": "stream",
     "text": [
      "\r",
      "  0%|▌                                                                                                                   | 31/6576 [00:26<1:26:26,  1.26it/s]"
     ]
    },
    {
     "name": "stdout",
     "output_type": "stream",
     "text": [
      "------------------------------------------------------------------------------ 37\n",
      "uzura_110814_kitahiroshima_namba.wma\n",
      "/home/wataru/code/b-com/b-com/crawling/ウズラ/\n",
      "https://www.bird-research.jp/1_shiryo/koe/uzura_110814_kitahiroshima_namba.wma\n"
     ]
    },
    {
     "name": "stderr",
     "output_type": "stream",
     "text": [
      "\r",
      "  1%|▋                                                                                                                   | 38/6576 [00:31<1:24:46,  1.29it/s]"
     ]
    },
    {
     "name": "stdout",
     "output_type": "stream",
     "text": [
      "------------------------------------------------------------------------------ 44\n",
      "uzura_090427_watarase_hirano.wma\n",
      "/home/wataru/code/b-com/b-com/crawling/ウズラ/\n",
      "https://www.bird-research.jp/1_shiryo/koe/uzura_090427_watarase_hirano.wma\n"
     ]
    },
    {
     "name": "stderr",
     "output_type": "stream",
     "text": [
      "\r",
      "  1%|▊                                                                                                                   | 45/6576 [00:36<1:23:28,  1.30it/s]"
     ]
    },
    {
     "name": "stdout",
     "output_type": "stream",
     "text": [
      "------------------------------------------------------------------------------ 51\n",
      "yamadori_190410_chichibu_cf.wma\n",
      "/home/wataru/code/b-com/b-com/crawling/ヤマドリ/幌打ち\n",
      "https://www.bird-research.jp/1_shiryo/koe/yamadori_190410_chichibu_cf.wma\n"
     ]
    },
    {
     "name": "stderr",
     "output_type": "stream",
     "text": [
      "\r",
      "  1%|▉                                                                                                                   | 52/6576 [00:42<1:23:01,  1.31it/s]"
     ]
    },
    {
     "name": "stdout",
     "output_type": "stream",
     "text": [
      "------------------------------------------------------------------------------ 58\n",
      "yamadori_130608_takarazuka_kaji.wma\n",
      "/home/wataru/code/b-com/b-com/crawling/ヤマドリ/幌打ち\n",
      "https://www.bird-research.jp/1_shiryo/koe/yamadori_130608_takarazuka_kaji.wma\n"
     ]
    },
    {
     "name": "stderr",
     "output_type": "stream",
     "text": [
      "\r",
      "  1%|█                                                                                                                   | 59/6576 [00:47<1:22:02,  1.32it/s]"
     ]
    },
    {
     "name": "stdout",
     "output_type": "stream",
     "text": [
      "------------------------------------------------------------------------------ 65\n",
      "yamador_150530_sado_mju.wma\n",
      "/home/wataru/code/b-com/b-com/crawling/ヤマドリ/地鳴き\n",
      "https://www.bird-research.jp/1_shiryo/koe/yamador_150530_sado_mju.wma\n"
     ]
    },
    {
     "name": "stderr",
     "output_type": "stream",
     "text": [
      "\r",
      "  1%|█▏                                                                                                                  | 66/6576 [00:52<1:21:40,  1.33it/s]"
     ]
    },
    {
     "name": "stdout",
     "output_type": "stream",
     "text": [
      "------------------------------------------------------------------------------ 72\n",
      "yamadori_kosado_140529_mju.wma\n",
      "/home/wataru/code/b-com/b-com/crawling/ヤマドリ/地鳴き\n",
      "https://www.bird-research.jp/1_shiryo/koe/yamadori_kosado_140529_mju.wma\n"
     ]
    },
    {
     "name": "stderr",
     "output_type": "stream",
     "text": [
      "\r",
      "  1%|█▎                                                                                                                  | 73/6576 [00:57<1:21:23,  1.33it/s]"
     ]
    },
    {
     "name": "stdout",
     "output_type": "stream",
     "text": [
      "------------------------------------------------------------------------------ 79\n",
      "yamadori_210423_chichibu_cf.wma\n",
      "/home/wataru/code/b-com/b-com/crawling/ヤマドリ/地鳴き\n",
      "https://www.bird-research.jp/1_shiryo/koe/yamadori_210423_chichibu_cf.wma\n"
     ]
    },
    {
     "name": "stderr",
     "output_type": "stream",
     "text": [
      "\r",
      "  1%|█▍                                                                                                                  | 80/6576 [01:02<1:21:29,  1.33it/s]"
     ]
    },
    {
     "name": "stdout",
     "output_type": "stream",
     "text": [
      "------------------------------------------------------------------------------ 86\n",
      "yamadori_120607_oita_ikenaga.wma\n",
      "/home/wataru/code/b-com/b-com/crawling/ヤマドリ/アカヤマドリ\n",
      "https://www.bird-research.jp/1_shiryo/koe/yamadori_120607_oita_ikenaga.wma\n"
     ]
    },
    {
     "name": "stderr",
     "output_type": "stream",
     "text": [
      "\r",
      "  1%|█▌                                                                                                                  | 87/6576 [01:08<1:21:25,  1.33it/s]"
     ]
    },
    {
     "name": "stdout",
     "output_type": "stream",
     "text": [
      "------------------------------------------------------------------------------ 93\n",
      "kizi_210529_watarase_oi.wma\n",
      "/home/wataru/code/b-com/b-com/crawling/キジ/\n",
      "https://www.bird-research.jp/1_shiryo/koe/kizi_210529_watarase_oi.wma\n"
     ]
    },
    {
     "name": "stderr",
     "output_type": "stream",
     "text": [
      "\r",
      "  1%|█▋                                                                                                                  | 94/6576 [01:13<1:21:23,  1.33it/s]"
     ]
    },
    {
     "name": "stdout",
     "output_type": "stream",
     "text": [
      "------------------------------------------------------------------------------ 100\n",
      "kizi_101209_watarase_hirano.wma\n",
      "/home/wataru/code/b-com/b-com/crawling/キジ/\n",
      "https://www.bird-research.jp/1_shiryo/koe/kizi_101209_watarase_hirano.wma\n"
     ]
    },
    {
     "name": "stderr",
     "output_type": "stream",
     "text": [
      "\r",
      "  2%|█▊                                                                                                                 | 101/6576 [01:18<1:20:53,  1.33it/s]"
     ]
    },
    {
     "name": "stdout",
     "output_type": "stream",
     "text": [
      "------------------------------------------------------------------------------ 107\n",
      "kiji_1008_aichi_kuroda.wma\n",
      "/home/wataru/code/b-com/b-com/crawling/キジ/\n",
      "https://www.bird-research.jp/1_shiryo/koe/kiji_1008_aichi_kuroda.wma\n"
     ]
    },
    {
     "name": "stderr",
     "output_type": "stream",
     "text": [
      "\r",
      "  2%|█▉                                                                                                                 | 108/6576 [01:23<1:20:42,  1.34it/s]"
     ]
    },
    {
     "name": "stdout",
     "output_type": "stream",
     "text": [
      "------------------------------------------------------------------------------ 114\n",
      "kizi_100608_watarase.wma\n",
      "/home/wataru/code/b-com/b-com/crawling/キジ/雌\n",
      "https://www.bird-research.jp/1_shiryo/koe/kizi_100608_watarase.wma\n"
     ]
    },
    {
     "name": "stderr",
     "output_type": "stream",
     "text": [
      "\r",
      "  2%|██                                                                                                                 | 115/6576 [01:29<1:20:19,  1.34it/s]"
     ]
    },
    {
     "name": "stdout",
     "output_type": "stream",
     "text": [
      "------------------------------------------------------------------------------ 121\n",
      "kiji_080413_utsunomiya_hirano.wma\n",
      "/home/wataru/code/b-com/b-com/crawling/キジ/\n",
      "https://www.bird-research.jp/1_shiryo/koe/kiji_080413_utsunomiya_hirano.wma\n"
     ]
    },
    {
     "name": "stderr",
     "output_type": "stream",
     "text": [
      "\r",
      "  2%|██▏                                                                                                                | 122/6576 [01:34<1:20:03,  1.34it/s]"
     ]
    },
    {
     "name": "stdout",
     "output_type": "stream",
     "text": [
      "------------------------------------------------------------------------------ 128\n",
      "kijij_211027_shiga_kuroda.wma\n",
      "/home/wataru/code/b-com/b-com/crawling/キジ/幼鳥\n",
      "https://www.bird-research.jp/1_shiryo/koe/kijij_211027_shiga_kuroda.wma\n"
     ]
    },
    {
     "name": "stderr",
     "output_type": "stream",
     "text": [
      "\r",
      "  2%|██▎                                                                                                                | 129/6576 [01:39<1:19:54,  1.34it/s]"
     ]
    },
    {
     "name": "stdout",
     "output_type": "stream",
     "text": [
      "------------------------------------------------------------------------------ 136\n",
      "hishikui_111029_osatsu_namba.wma\n",
      "/home/wataru/code/b-com/b-com/crawling/ヒシクイ/亜種ｵｵﾋｼｸｲ\n",
      "https://www.bird-research.jp/1_shiryo/koe/hishikui_111029_osatsu_namba.wma\n"
     ]
    },
    {
     "name": "stderr",
     "output_type": "stream",
     "text": [
      "\r",
      "  2%|██▍                                                                                                                | 137/6576 [01:44<1:16:19,  1.41it/s]"
     ]
    },
    {
     "name": "stdout",
     "output_type": "stream",
     "text": [
      "------------------------------------------------------------------------------ 143\n",
      "hishikui_190213_byodonuma_shimada.wma\n",
      "/home/wataru/code/b-com/b-com/crawling/ヒシクイ/>亜種ﾋｼｸｲ\n",
      "https://www.bird-research.jp/1_shiryo/koe/hishikui_190213_byodonuma_shimada.wma\n"
     ]
    },
    {
     "name": "stderr",
     "output_type": "stream",
     "text": [
      "\r",
      "  2%|██▌                                                                                                                | 144/6576 [01:49<1:17:08,  1.39it/s]"
     ]
    },
    {
     "name": "stdout",
     "output_type": "stream",
     "text": [
      "------------------------------------------------------------------------------ 150\n",
      "magan_111008_miyajimanuma_namba.wma\n",
      "/home/wataru/code/b-com/b-com/crawling/マガン/\n",
      "https://www.bird-research.jp/1_shiryo/koe/magan_111008_miyajimanuma_namba.wma\n"
     ]
    },
    {
     "name": "stderr",
     "output_type": "stream",
     "text": [
      "\r",
      "  2%|██▋                                                                                                                | 151/6576 [01:55<1:17:36,  1.38it/s]"
     ]
    },
    {
     "name": "stdout",
     "output_type": "stream",
     "text": [
      "------------------------------------------------------------------------------ 157\n",
      "magan2_111008_miyajimanuma_namba.wma\n",
      "/home/wataru/code/b-com/b-com/crawling/マガン/群れ\n",
      "https://www.bird-research.jp/1_shiryo/koe/magan2_111008_miyajimanuma_namba.wma\n"
     ]
    },
    {
     "name": "stderr",
     "output_type": "stream",
     "text": [
      "\r",
      "  2%|██▊                                                                                                                | 158/6576 [02:00<1:18:18,  1.37it/s]"
     ]
    },
    {
     "name": "stdout",
     "output_type": "stream",
     "text": [
      "------------------------------------------------------------------------------ 164\n",
      "magan_161213_izunuma_mju.wma\n",
      "/home/wataru/code/b-com/b-com/crawling/マガン/羽音\n",
      "https://www.bird-research.jp/1_shiryo/koe/magan_161213_izunuma_mju.wma\n"
     ]
    },
    {
     "name": "stderr",
     "output_type": "stream",
     "text": [
      "\r",
      "  3%|██▉                                                                                                                | 165/6576 [02:05<1:18:26,  1.36it/s]"
     ]
    },
    {
     "name": "stdout",
     "output_type": "stream",
     "text": [
      "------------------------------------------------------------------------------ 171\n",
      "hakugan_211106_ogata_sato.wma\n",
      "/home/wataru/code/b-com/b-com/crawling/ハクガン/群れ\n",
      "https://www.bird-research.jp/1_shiryo/koe/hakugan_211106_ogata_sato.wma\n"
     ]
    },
    {
     "name": "stderr",
     "output_type": "stream",
     "text": [
      "\r",
      "  3%|███                                                                                                                | 172/6576 [02:10<1:19:01,  1.35it/s]"
     ]
    },
    {
     "name": "stdout",
     "output_type": "stream",
     "text": [
      "------------------------------------------------------------------------------ 178\n",
      "sijukaragan_190201_tome_koyama.wma\n",
      "/home/wataru/code/b-com/b-com/crawling/シジュウカラガン/\n",
      "https://www.bird-research.jp/1_shiryo/koe/sijukaragan_190201_tome_koyama.wma\n"
     ]
    },
    {
     "name": "stderr",
     "output_type": "stream",
     "text": [
      "\r",
      "  3%|███▏                                                                                                               | 179/6576 [02:15<1:19:05,  1.35it/s]"
     ]
    },
    {
     "name": "stdout",
     "output_type": "stream",
     "text": [
      "------------------------------------------------------------------------------ 185\n",
      "kokugan_151206_koyaike_hasegawa.wma\n",
      "/home/wataru/code/b-com/b-com/crawling/コクガン/\n",
      "https://www.bird-research.jp/1_shiryo/koe/kokugan_151206_koyaike_hasegawa.wma\n"
     ]
    },
    {
     "name": "stderr",
     "output_type": "stream",
     "text": [
      "\r",
      "  3%|███▎                                                                                                               | 186/6576 [02:21<1:18:51,  1.35it/s]"
     ]
    },
    {
     "name": "stdout",
     "output_type": "stream",
     "text": [
      "------------------------------------------------------------------------------ 192\n",
      "kokugan_160312_hakodate_mikami.wma\n",
      "/home/wataru/code/b-com/b-com/crawling/コクガン/\n",
      "https://www.bird-research.jp/1_shiryo/koe/kokugan_160312_hakodate_mikami.wma\n"
     ]
    },
    {
     "name": "stderr",
     "output_type": "stream",
     "text": [
      "\r",
      "  3%|███▍                                                                                                               | 193/6576 [02:26<1:18:45,  1.35it/s]"
     ]
    },
    {
     "name": "stdout",
     "output_type": "stream",
     "text": [
      "------------------------------------------------------------------------------ 199\n",
      "kohakucho_130407_aomori_kuroda.wma\n",
      "/home/wataru/code/b-com/b-com/crawling/コハクチョウ/\n",
      "https://www.bird-research.jp/1_shiryo/koe/kohakucho_130407_aomori_kuroda.wma\n"
     ]
    },
    {
     "name": "stderr",
     "output_type": "stream",
     "text": [
      "\r",
      "  3%|███▍                                                                                                               | 200/6576 [02:31<1:19:01,  1.34it/s]"
     ]
    },
    {
     "name": "stdout",
     "output_type": "stream",
     "text": [
      "------------------------------------------------------------------------------ 206\n",
      "kohakucyou_051107_tottori_kaji.wma\n",
      "/home/wataru/code/b-com/b-com/crawling/コハクチョウ/\n",
      "https://www.bird-research.jp/1_shiryo/koe/kohakucyou_051107_tottori_kaji.wma\n"
     ]
    },
    {
     "name": "stderr",
     "output_type": "stream",
     "text": [
      "\r",
      "  3%|███▌                                                                                                               | 207/6576 [02:36<1:19:13,  1.34it/s]"
     ]
    },
    {
     "name": "stdout",
     "output_type": "stream",
     "text": [
      "------------------------------------------------------------------------------ 213\n",
      "kohakucho_151129_kaga_mju.wma\n",
      "/home/wataru/code/b-com/b-com/crawling/コハクチョウ/\n",
      "https://www.bird-research.jp/1_shiryo/koe/kohakucho_151129_kaga_mju.wma\n"
     ]
    },
    {
     "name": "stderr",
     "output_type": "stream",
     "text": [
      "\r",
      "  3%|███▋                                                                                                               | 214/6576 [02:41<1:18:56,  1.34it/s]"
     ]
    },
    {
     "name": "stdout",
     "output_type": "stream",
     "text": [
      "------------------------------------------------------------------------------ 220\n",
      "ohakucho_161213_izunuma_mju.wma\n",
      "/home/wataru/code/b-com/b-com/crawling/オオハクチョウ/\n",
      "https://www.bird-research.jp/1_shiryo/koe/ohakucho_161213_izunuma_mju.wma\n"
     ]
    },
    {
     "name": "stderr",
     "output_type": "stream",
     "text": [
      "\r",
      "  3%|███▊                                                                                                               | 221/6576 [02:47<1:19:08,  1.34it/s]"
     ]
    },
    {
     "name": "stdout",
     "output_type": "stream",
     "text": [
      "------------------------------------------------------------------------------ 227\n",
      "ohakucho_100227_otawara_hirano.wma\n",
      "/home/wataru/code/b-com/b-com/crawling/オオハクチョウ/\n",
      "https://www.bird-research.jp/1_shiryo/koe/ohakucho_100227_otawara_hirano.wma\n"
     ]
    },
    {
     "name": "stderr",
     "output_type": "stream",
     "text": [
      "\r",
      "  3%|███▉                                                                                                               | 228/6576 [02:52<1:19:09,  1.34it/s]"
     ]
    },
    {
     "name": "stdout",
     "output_type": "stream",
     "text": [
      "------------------------------------------------------------------------------ 234\n",
      "oshidori_081208_nasu_hirano.wma\n",
      "/home/wataru/code/b-com/b-com/crawling/オシドリ/\n",
      "https://www.bird-research.jp/1_shiryo/koe/oshidori_081208_nasu_hirano.wma\n"
     ]
    },
    {
     "name": "stderr",
     "output_type": "stream",
     "text": [
      "\r",
      "  4%|████                                                                                                               | 235/6576 [02:57<1:19:05,  1.34it/s]"
     ]
    },
    {
     "name": "stdout",
     "output_type": "stream",
     "text": [
      "------------------------------------------------------------------------------ 241\n",
      "oshidori_170216_hyogo_kuroda.wma\n",
      "/home/wataru/code/b-com/b-com/crawling/オシドリ/雌？\n",
      "https://www.bird-research.jp/1_shiryo/koe/oshidori_170216_hyogo_kuroda.wma\n"
     ]
    },
    {
     "name": "stderr",
     "output_type": "stream",
     "text": [
      "\r",
      "  4%|████▏                                                                                                              | 242/6576 [03:03<1:19:06,  1.33it/s]"
     ]
    },
    {
     "name": "stdout",
     "output_type": "stream",
     "text": [
      "------------------------------------------------------------------------------ 248\n",
      "oshidori_131204_sano_hirano.wma\n",
      "/home/wataru/code/b-com/b-com/crawling/オシドリ/飛行時\n",
      "https://www.bird-research.jp/1_shiryo/koe/oshidori_131204_sano_hirano.wma\n"
     ]
    },
    {
     "name": "stderr",
     "output_type": "stream",
     "text": [
      "\r",
      "  4%|████▎                                                                                                              | 249/6576 [03:08<1:19:04,  1.33it/s]"
     ]
    },
    {
     "name": "stdout",
     "output_type": "stream",
     "text": [
      "------------------------------------------------------------------------------ 255\n",
      "okayoshi_210115_soka_ohi.wma\n",
      "/home/wataru/code/b-com/b-com/crawling/オカヨシガモ/求愛？\n",
      "https://www.bird-research.jp/1_shiryo/koe/okayoshi_210115_soka_ohi.wma\n"
     ]
    },
    {
     "name": "stderr",
     "output_type": "stream",
     "text": [
      "\r",
      "  4%|████▍                                                                                                              | 256/6576 [03:13<1:19:06,  1.33it/s]"
     ]
    },
    {
     "name": "stdout",
     "output_type": "stream",
     "text": [
      "------------------------------------------------------------------------------ 262\n",
      "yoshigamo_170216_hyogo_kuroda.wma\n",
      "/home/wataru/code/b-com/b-com/crawling/ヨシガモ/求愛\n",
      "https://www.bird-research.jp/1_shiryo/koe/yoshigamo_170216_hyogo_kuroda.wma\n"
     ]
    },
    {
     "name": "stderr",
     "output_type": "stream",
     "text": [
      "\r",
      "  4%|████▌                                                                                                              | 263/6576 [03:18<1:18:51,  1.33it/s]"
     ]
    },
    {
     "name": "stdout",
     "output_type": "stream",
     "text": [
      "------------------------------------------------------------------------------ 269\n",
      "hidorigamo_0801_hyogo_kaji.wma\n",
      "/home/wataru/code/b-com/b-com/crawling/ヒドリガモ/\n",
      "https://www.bird-research.jp/1_shiryo/koe/hidorigamo_0801_hyogo_kaji.wma\n"
     ]
    },
    {
     "name": "stderr",
     "output_type": "stream",
     "text": [
      "\r",
      "  4%|████▋                                                                                                              | 270/6576 [03:23<1:18:27,  1.34it/s]"
     ]
    },
    {
     "name": "stdout",
     "output_type": "stream",
     "text": [
      "------------------------------------------------------------------------------ 276\n",
      "hidorigamo_121214_hyogo_kaji.wma\n",
      "/home/wataru/code/b-com/b-com/crawling/ヒドリガモ/\n",
      "https://www.bird-research.jp/1_shiryo/koe/hidorigamo_121214_hyogo_kaji.wma\n"
     ]
    },
    {
     "name": "stderr",
     "output_type": "stream",
     "text": [
      "\r",
      "  4%|████▊                                                                                                              | 277/6576 [03:29<1:18:05,  1.34it/s]"
     ]
    },
    {
     "name": "stdout",
     "output_type": "stream",
     "text": [
      "------------------------------------------------------------------------------ 283\n",
      "amehi_160419_matsuzaka_miyagoe.wma\n",
      "/home/wataru/code/b-com/b-com/crawling/アメリカヒドリ/\n",
      "https://www.bird-research.jp/1_shiryo/koe/amehi_160419_matsuzaka_miyagoe.wma\n"
     ]
    },
    {
     "name": "stderr",
     "output_type": "stream",
     "text": [
      "\r",
      "  4%|████▉                                                                                                              | 284/6576 [03:34<1:17:57,  1.35it/s]"
     ]
    },
    {
     "name": "stdout",
     "output_type": "stream",
     "text": [
      "------------------------------------------------------------------------------ 290\n",
      "magamo_1001_hyogo_kaji.wma\n",
      "/home/wataru/code/b-com/b-com/crawling/マガモ/\n",
      "https://www.bird-research.jp/1_shiryo/koe/magamo_1001_hyogo_kaji.wma\n"
     ]
    },
    {
     "name": "stderr",
     "output_type": "stream",
     "text": [
      "\r",
      "  4%|█████                                                                                                              | 291/6576 [03:39<1:18:03,  1.34it/s]"
     ]
    },
    {
     "name": "stdout",
     "output_type": "stream",
     "text": [
      "------------------------------------------------------------------------------ 297\n",
      "magamo_140112_hyogo_kuroda.wma\n",
      "/home/wataru/code/b-com/b-com/crawling/マガモ/求愛\n",
      "https://www.bird-research.jp/1_shiryo/koe/magamo_140112_hyogo_kuroda.wma\n"
     ]
    },
    {
     "name": "stderr",
     "output_type": "stream",
     "text": [
      "\r",
      "  5%|█████▏                                                                                                             | 298/6576 [03:44<1:17:56,  1.34it/s]"
     ]
    },
    {
     "name": "stdout",
     "output_type": "stream",
     "text": [
      "------------------------------------------------------------------------------ 304\n",
      "magamo_2112041214_yoshimi_oi.wma\n",
      "/home/wataru/code/b-com/b-com/crawling/マガモ/雌？\n",
      "https://www.bird-research.jp/1_shiryo/koe/magamo_2112041214_yoshimi_oi.wma\n"
     ]
    },
    {
     "name": "stderr",
     "output_type": "stream",
     "text": [
      "\r",
      "  5%|█████▎                                                                                                             | 305/6576 [03:50<1:18:06,  1.34it/s]"
     ]
    },
    {
     "name": "stdout",
     "output_type": "stream",
     "text": [
      "------------------------------------------------------------------------------ 311\n",
      "magamo_2112041225_yoshimi_oi.wma\n",
      "/home/wataru/code/b-com/b-com/crawling/マガモ/求愛\n",
      "https://www.bird-research.jp/1_shiryo/koe/magamo_2112041225_yoshimi_oi.wma\n"
     ]
    },
    {
     "name": "stderr",
     "output_type": "stream",
     "text": [
      "\r",
      "  5%|█████▍                                                                                                             | 312/6576 [03:55<1:17:56,  1.34it/s]"
     ]
    },
    {
     "name": "stdout",
     "output_type": "stream",
     "text": [
      "------------------------------------------------------------------------------ 318\n",
      "magamo_2112041210_yoshimi_oi.wma\n",
      "/home/wataru/code/b-com/b-com/crawling/マガモ/\n",
      "https://www.bird-research.jp/1_shiryo/koe/magamo_2112041210_yoshimi_oi.wma\n"
     ]
    },
    {
     "name": "stderr",
     "output_type": "stream",
     "text": [
      "\r",
      "  5%|█████▌                                                                                                             | 319/6576 [04:00<1:17:46,  1.34it/s]"
     ]
    },
    {
     "name": "stdout",
     "output_type": "stream",
     "text": [
      "------------------------------------------------------------------------------ 325\n",
      "karugamo_0910_hyogo_kaji.wma\n",
      "/home/wataru/code/b-com/b-com/crawling/カルガモ/\n",
      "https://www.bird-research.jp/1_shiryo/koe/karugamo_0910_hyogo_kaji.wma\n"
     ]
    },
    {
     "name": "stderr",
     "output_type": "stream",
     "text": [
      "\r",
      "  5%|█████▋                                                                                                             | 326/6576 [04:05<1:17:30,  1.34it/s]"
     ]
    },
    {
     "name": "stdout",
     "output_type": "stream",
     "text": [
      "------------------------------------------------------------------------------ 332\n",
      "karugamo_0806_hyogo_kaji.wma\n",
      "/home/wataru/code/b-com/b-com/crawling/カルガモ/ヒナ\n",
      "https://www.bird-research.jp/1_shiryo/koe/karugamo_0806_hyogo_kaji.wma\n"
     ]
    },
    {
     "name": "stderr",
     "output_type": "stream",
     "text": [
      "\r",
      "  5%|█████▊                                                                                                             | 333/6576 [04:10<1:17:39,  1.34it/s]"
     ]
    },
    {
     "name": "stdout",
     "output_type": "stream",
     "text": [
      "------------------------------------------------------------------------------ 339\n",
      "hashibirogamo_110318_sano_hirano.wma\n",
      "/home/wataru/code/b-com/b-com/crawling/ハシビロガモ/\n",
      "https://www.bird-research.jp/1_shiryo/koe/hashibirogamo_110318_sano_hirano.wma\n"
     ]
    },
    {
     "name": "stderr",
     "output_type": "stream",
     "text": [
      "\r",
      "  5%|█████▉                                                                                                             | 340/6576 [04:16<1:17:24,  1.34it/s]"
     ]
    },
    {
     "name": "stdout",
     "output_type": "stream",
     "text": [
      "------------------------------------------------------------------------------ 346\n",
      "onagagamo1_0801_hyogo_kaji.wma\n",
      "/home/wataru/code/b-com/b-com/crawling/オナガガモ/\n",
      "https://www.bird-research.jp/1_shiryo/koe/onagagamo1_0801_hyogo_kaji.wma\n"
     ]
    },
    {
     "name": "stderr",
     "output_type": "stream",
     "text": [
      "\r",
      "  5%|██████                                                                                                             | 347/6576 [04:21<1:17:33,  1.34it/s]"
     ]
    },
    {
     "name": "stdout",
     "output_type": "stream",
     "text": [
      "------------------------------------------------------------------------------ 353\n",
      "onagagamo2_0801_hyogo_kaji.wma\n",
      "/home/wataru/code/b-com/b-com/crawling/オナガガモ/\n",
      "https://www.bird-research.jp/1_shiryo/koe/onagagamo2_0801_hyogo_kaji.wma\n"
     ]
    },
    {
     "name": "stderr",
     "output_type": "stream",
     "text": [
      "\r",
      "  5%|██████▏                                                                                                            | 354/6576 [04:26<1:17:32,  1.34it/s]"
     ]
    },
    {
     "name": "stdout",
     "output_type": "stream",
     "text": [
      "------------------------------------------------------------------------------ 360\n",
      "onagagamo_211129_saitama_oi.wma\n",
      "/home/wataru/code/b-com/b-com/crawling/オナガガモ/求愛\n",
      "https://www.bird-research.jp/1_shiryo/koe/onagagamo_211129_saitama_oi.wma\n"
     ]
    },
    {
     "name": "stderr",
     "output_type": "stream",
     "text": [
      "\r",
      "  5%|██████▎                                                                                                            | 361/6576 [04:31<1:17:19,  1.34it/s]"
     ]
    },
    {
     "name": "stdout",
     "output_type": "stream",
     "text": [
      "------------------------------------------------------------------------------ 367\n",
      "kogamo_0910_hyogo_kaji.wma\n",
      "/home/wataru/code/b-com/b-com/crawling/コガモ/\n",
      "https://www.bird-research.jp/1_shiryo/koe/kogamo_0910_hyogo_kaji.wma\n"
     ]
    },
    {
     "name": "stderr",
     "output_type": "stream",
     "text": [
      "\r",
      "  6%|██████▍                                                                                                            | 368/6576 [04:37<1:17:19,  1.34it/s]"
     ]
    },
    {
     "name": "stdout",
     "output_type": "stream",
     "text": [
      "------------------------------------------------------------------------------ 374\n",
      "kogamo_110227_yatsu_mju.wma\n",
      "/home/wataru/code/b-com/b-com/crawling/コガモ/\n",
      "https://www.bird-research.jp/1_shiryo/koe/kogamo_110227_yatsu_mju.wma\n"
     ]
    },
    {
     "name": "stderr",
     "output_type": "stream",
     "text": [
      "\r",
      "  6%|██████▌                                                                                                            | 375/6576 [04:42<1:17:01,  1.34it/s]"
     ]
    },
    {
     "name": "stdout",
     "output_type": "stream",
     "text": [
      "------------------------------------------------------------------------------ 381\n",
      "kinkuro_211230_nishinomiya_kaji.wma\n",
      "/home/wataru/code/b-com/b-com/crawling/キンクロハジロ/\n",
      "https://www.bird-research.jp/1_shiryo/koe/kinkuro_211230_nishinomiya_kaji.wma\n"
     ]
    },
    {
     "name": "stderr",
     "output_type": "stream",
     "text": [
      "\r",
      "  6%|██████▋                                                                                                            | 382/6576 [04:47<1:17:16,  1.34it/s]"
     ]
    },
    {
     "name": "stdout",
     "output_type": "stream",
     "text": [
      "------------------------------------------------------------------------------ 388\n",
      "shinorigamo_tomamae_130201_mju.wma\n",
      "/home/wataru/code/b-com/b-com/crawling/シノリガモ/\n",
      "https://www.bird-research.jp/1_shiryo/koe/shinorigamo_tomamae_130201_mju.wma\n"
     ]
    },
    {
     "name": "stderr",
     "output_type": "stream",
     "text": [
      "\r",
      "  6%|██████▊                                                                                                            | 389/6576 [04:54<1:26:42,  1.19it/s]"
     ]
    },
    {
     "name": "stdout",
     "output_type": "stream",
     "text": [
      "------------------------------------------------------------------------------ 395\n",
      "kurogamo_150222_nemuro_mju.wma\n",
      "/home/wataru/code/b-com/b-com/crawling/クロガモ/\n",
      "https://www.bird-research.jp/1_shiryo/koe/kurogamo_150222_nemuro_mju.wma\n"
     ]
    },
    {
     "name": "stderr",
     "output_type": "stream",
     "text": [
      "\r",
      "  6%|██████▉                                                                                                            | 396/6576 [05:00<1:23:46,  1.23it/s]"
     ]
    },
    {
     "name": "stdout",
     "output_type": "stream",
     "text": [
      "------------------------------------------------------------------------------ 402\n",
      "kurogamo_110308_notsuke_moriya.wma\n",
      "/home/wataru/code/b-com/b-com/crawling/クロガモ/\n",
      "https://www.bird-research.jp/1_shiryo/koe/kurogamo_110308_notsuke_moriya.wma\n"
     ]
    },
    {
     "name": "stderr",
     "output_type": "stream",
     "text": [
      "\r",
      "  6%|███████                                                                                                            | 403/6576 [05:05<1:21:42,  1.26it/s]"
     ]
    },
    {
     "name": "stdout",
     "output_type": "stream",
     "text": [
      "------------------------------------------------------------------------------ 409\n",
      "korigamo_150222_nemuro_mju.wma\n",
      "/home/wataru/code/b-com/b-com/crawling/コオリガモ/\n",
      "https://www.bird-research.jp/1_shiryo/koe/korigamo_150222_nemuro_mju.wma\n",
      "Not Found\n"
     ]
    },
    {
     "name": "stderr",
     "output_type": "stream",
     "text": [
      "\r",
      "  6%|███████▏                                                                                                           | 410/6576 [05:10<1:19:37,  1.29it/s]"
     ]
    },
    {
     "name": "stdout",
     "output_type": "stream",
     "text": [
      "------------------------------------------------------------------------------ 416\n",
      "korigamo_110205_wakkanai_mju.wma\n",
      "/home/wataru/code/b-com/b-com/crawling/コオリガモ/\n",
      "https://www.bird-research.jp/1_shiryo/koe/korigamo_110205_wakkanai_mju.wma\n"
     ]
    },
    {
     "name": "stderr",
     "output_type": "stream",
     "text": [
      "\r",
      "  6%|███████▎                                                                                                           | 417/6576 [05:15<1:18:59,  1.30it/s]"
     ]
    },
    {
     "name": "stdout",
     "output_type": "stream",
     "text": [
      "------------------------------------------------------------------------------ 423\n",
      "hojirogamo_110325_tomakomai_namba.wma\n",
      "/home/wataru/code/b-com/b-com/crawling/ホオジロガモ/\n",
      "https://www.bird-research.jp/1_shiryo/koe/hojirogamo_110325_tomakomai_namba.wma\n"
     ]
    },
    {
     "name": "stderr",
     "output_type": "stream",
     "text": [
      "\r",
      "  6%|███████▍                                                                                                           | 424/6576 [05:21<1:17:59,  1.31it/s]"
     ]
    },
    {
     "name": "stdout",
     "output_type": "stream",
     "text": [
      "------------------------------------------------------------------------------ 430\n",
      "umiaisa_130104_tatsuno_kuroda.wma\n",
      "/home/wataru/code/b-com/b-com/crawling/ウミアイサ/求愛\n",
      "https://www.bird-research.jp/1_shiryo/koe/umiaisa_130104_tatsuno_kuroda.wma\n"
     ]
    },
    {
     "name": "stderr",
     "output_type": "stream",
     "text": [
      "\r",
      "  7%|███████▌                                                                                                           | 431/6576 [05:26<1:17:29,  1.32it/s]"
     ]
    },
    {
     "name": "stdout",
     "output_type": "stream",
     "text": [
      "------------------------------------------------------------------------------ 438\n",
      "kaistuburi_0906_hyogo_kaji.wma\n",
      "/home/wataru/code/b-com/b-com/crawling/カイツブリ/\n",
      "https://www.bird-research.jp/1_shiryo/koe/kaistuburi_0906_hyogo_kaji.wma\n"
     ]
    },
    {
     "name": "stderr",
     "output_type": "stream",
     "text": [
      "\r",
      "  7%|███████▋                                                                                                           | 439/6576 [05:31<1:14:03,  1.38it/s]"
     ]
    },
    {
     "name": "stdout",
     "output_type": "stream",
     "text": [
      "------------------------------------------------------------------------------ 445\n",
      "kaistuburi_1001_hyogo_kaji.wma\n",
      "/home/wataru/code/b-com/b-com/crawling/カイツブリ/\n",
      "https://www.bird-research.jp/1_shiryo/koe/kaistuburi_1001_hyogo_kaji.wma\n"
     ]
    },
    {
     "name": "stderr",
     "output_type": "stream",
     "text": [
      "\r",
      "  7%|███████▊                                                                                                           | 446/6576 [05:36<1:14:27,  1.37it/s]"
     ]
    },
    {
     "name": "stdout",
     "output_type": "stream",
     "text": [
      "------------------------------------------------------------------------------ 452\n",
      "kaitsuburi_070619_watarase.wma\n",
      "/home/wataru/code/b-com/b-com/crawling/カイツブリ/\n",
      "https://www.bird-research.jp/1_shiryo/koe/kaitsuburi_070619_watarase.wma\n"
     ]
    },
    {
     "name": "stderr",
     "output_type": "stream",
     "text": [
      "\r",
      "  7%|███████▉                                                                                                           | 453/6576 [05:41<1:14:46,  1.36it/s]"
     ]
    },
    {
     "name": "stdout",
     "output_type": "stream",
     "text": [
      "------------------------------------------------------------------------------ 459\n",
      "kaitsuburi_140619_mihara_ito.wma\n",
      "/home/wataru/code/b-com/b-com/crawling/カイツブリ/夜鳴き\n",
      "https://www.bird-research.jp/1_shiryo/koe/kaitsuburi_140619_mihara_ito.wma\n"
     ]
    },
    {
     "name": "stderr",
     "output_type": "stream",
     "text": [
      "\r",
      "  7%|████████                                                                                                           | 460/6576 [05:47<1:15:07,  1.36it/s]"
     ]
    },
    {
     "name": "stdout",
     "output_type": "stream",
     "text": [
      "------------------------------------------------------------------------------ 466\n",
      "kaitsuburi_110708_tochigi_hirano.wma\n",
      "/home/wataru/code/b-com/b-com/crawling/カイツブリ/ヒナ\n",
      "https://www.bird-research.jp/1_shiryo/koe/kaitsuburi_110708_tochigi_hirano.wma\n"
     ]
    },
    {
     "name": "stderr",
     "output_type": "stream",
     "text": [
      "\r",
      "  7%|████████▏                                                                                                          | 467/6576 [05:52<1:15:29,  1.35it/s]"
     ]
    },
    {
     "name": "stdout",
     "output_type": "stream",
     "text": [
      "------------------------------------------------------------------------------ 473\n",
      "akaeri_110702_sarobetsu_namba.wma\n",
      "/home/wataru/code/b-com/b-com/crawling/アカエリカイツブリ/\n",
      "https://www.bird-research.jp/1_shiryo/koe/akaeri_110702_sarobetsu_namba.wma\n"
     ]
    },
    {
     "name": "stderr",
     "output_type": "stream",
     "text": [
      "\r",
      "  7%|████████▎                                                                                                          | 474/6576 [05:57<1:15:50,  1.34it/s]"
     ]
    },
    {
     "name": "stdout",
     "output_type": "stream",
     "text": [
      "------------------------------------------------------------------------------ 480\n",
      "kanmurikaitsburi_130412_aomori_kuroda.wma\n",
      "/home/wataru/code/b-com/b-com/crawling/カンムリカイツブリ/\n",
      "https://www.bird-research.jp/1_shiryo/koe/kanmurikaitsburi_130412_aomori_kuroda.wma\n"
     ]
    },
    {
     "name": "stderr",
     "output_type": "stream",
     "text": [
      "\r",
      "  7%|████████▍                                                                                                          | 481/6576 [06:02<1:15:32,  1.34it/s]"
     ]
    },
    {
     "name": "stdout",
     "output_type": "stream",
     "text": [
      "------------------------------------------------------------------------------ 487\n",
      "kanmurikaitsu_120417ogawara_mikami.wma\n",
      "/home/wataru/code/b-com/b-com/crawling/カンムリカイツブリ/求愛\n",
      "https://www.bird-research.jp/1_shiryo/koe/kanmurikaitsu_120417ogawara_mikami.wma\n"
     ]
    },
    {
     "name": "stderr",
     "output_type": "stream",
     "text": [
      "\r",
      "  7%|████████▌                                                                                                          | 488/6576 [06:08<1:15:19,  1.35it/s]"
     ]
    },
    {
     "name": "stdout",
     "output_type": "stream",
     "text": [
      "------------------------------------------------------------------------------ 494\n",
      "kanmurikaitsuburi_130615_aomori_kuroda.wma\n",
      "/home/wataru/code/b-com/b-com/crawling/カンムリカイツブリ/ヒナ\n",
      "https://www.bird-research.jp/1_shiryo/koe/kanmurikaitsuburi_130615_aomori_kuroda.wma\n"
     ]
    },
    {
     "name": "stderr",
     "output_type": "stream",
     "text": [
      "\r",
      "  8%|████████▋                                                                                                          | 495/6576 [06:13<1:15:26,  1.34it/s]"
     ]
    },
    {
     "name": "stdout",
     "output_type": "stream",
     "text": [
      "------------------------------------------------------------------------------ 501\n",
      "hajirokai_140214_tatsuno_kuroda.wma\n",
      "/home/wataru/code/b-com/b-com/crawling/ハジロカイツブリ/\n",
      "https://www.bird-research.jp/1_shiryo/koe/hajirokai_140214_tatsuno_kuroda.wma\n"
     ]
    },
    {
     "name": "stderr",
     "output_type": "stream",
     "text": [
      "\r",
      "  8%|████████▊                                                                                                          | 502/6576 [06:18<1:15:31,  1.34it/s]"
     ]
    },
    {
     "name": "stdout",
     "output_type": "stream",
     "text": [
      "------------------------------------------------------------------------------ 509\n",
      "karasubato_121108_kitakyu_mju.wma\n",
      "/home/wataru/code/b-com/b-com/crawling/カラスバト/さえずり\n",
      "https://www.bird-research.jp/1_shiryo/koe/karasubato_121108_kitakyu_mju.wma\n"
     ]
    },
    {
     "name": "stderr",
     "output_type": "stream",
     "text": [
      "\r",
      "  8%|████████▉                                                                                                          | 510/6576 [06:23<1:12:31,  1.39it/s]"
     ]
    },
    {
     "name": "stdout",
     "output_type": "stream",
     "text": [
      "------------------------------------------------------------------------------ 516\n",
      "kijibato_040504_kokubunji_mju.wma\n",
      "/home/wataru/code/b-com/b-com/crawling/キジバト/さえずり\n",
      "https://www.bird-research.jp/1_shiryo/koe/kijibato_040504_kokubunji_mju.wma\n"
     ]
    },
    {
     "name": "stderr",
     "output_type": "stream",
     "text": [
      "\r",
      "  8%|█████████                                                                                                          | 517/6576 [06:29<1:13:27,  1.37it/s]"
     ]
    },
    {
     "name": "stdout",
     "output_type": "stream",
     "text": [
      "------------------------------------------------------------------------------ 523\n",
      "kijibato_120506_kokubunji_mju.wma\n",
      "/home/wataru/code/b-com/b-com/crawling/キジバト/威嚇\n",
      "https://www.bird-research.jp/1_shiryo/koe/kijibato_120506_kokubunji_mju.wma\n"
     ]
    },
    {
     "name": "stderr",
     "output_type": "stream",
     "text": [
      "\r",
      "  8%|█████████▏                                                                                                         | 524/6576 [06:34<1:14:00,  1.36it/s]"
     ]
    },
    {
     "name": "stdout",
     "output_type": "stream",
     "text": [
      "------------------------------------------------------------------------------ 530\n",
      "shirakobato_120913_kasukabe_moriya.wma\n",
      "/home/wataru/code/b-com/b-com/crawling/シラコバト/さえずり\n",
      "https://www.bird-research.jp/1_shiryo/koe/shirakobato_120913_kasukabe_moriya.wma\n"
     ]
    },
    {
     "name": "stderr",
     "output_type": "stream",
     "text": [
      "\r",
      "  8%|█████████▎                                                                                                         | 531/6576 [06:39<1:14:31,  1.35it/s]"
     ]
    },
    {
     "name": "stdout",
     "output_type": "stream",
     "text": [
      "------------------------------------------------------------------------------ 537\n",
      "kinbato_130424_miyako_mtakagi.wma\n",
      "/home/wataru/code/b-com/b-com/crawling/キンバト/\n",
      "https://www.bird-research.jp/1_shiryo/koe/kinbato_130424_miyako_mtakagi.wma\n"
     ]
    },
    {
     "name": "stderr",
     "output_type": "stream",
     "text": [
      "\r",
      "  8%|█████████▍                                                                                                         | 538/6576 [06:44<1:14:26,  1.35it/s]"
     ]
    },
    {
     "name": "stdout",
     "output_type": "stream",
     "text": [
      "------------------------------------------------------------------------------ 544\n",
      "aobato_140606_shiiba_mju.wma\n",
      "/home/wataru/code/b-com/b-com/crawling/アオバト/さえずり\n",
      "https://www.bird-research.jp/1_shiryo/koe/aobato_140606_shiiba_mju.wma\n"
     ]
    },
    {
     "name": "stderr",
     "output_type": "stream",
     "text": [
      "\r",
      "  8%|█████████▌                                                                                                         | 545/6576 [06:49<1:14:39,  1.35it/s]"
     ]
    },
    {
     "name": "stdout",
     "output_type": "stream",
     "text": [
      "------------------------------------------------------------------------------ 551\n",
      "aobato_0905_hyogo_kaji.wma\n",
      "/home/wataru/code/b-com/b-com/crawling/アオバト/\n",
      "https://www.bird-research.jp/1_shiryo/koe/aobato_0905_hyogo_kaji.wma\n"
     ]
    },
    {
     "name": "stderr",
     "output_type": "stream",
     "text": [
      "\r",
      "  8%|█████████▋                                                                                                         | 552/6576 [06:55<1:14:50,  1.34it/s]"
     ]
    },
    {
     "name": "stdout",
     "output_type": "stream",
     "text": [
      "------------------------------------------------------------------------------ 558\n",
      "zuaka_080512_taketomi_mtakagi.wma\n",
      "/home/wataru/code/b-com/b-com/crawling/ズアカアオバト/\n",
      "https://www.bird-research.jp/1_shiryo/koe/zuaka_080512_taketomi_mtakagi.wma\n"
     ]
    },
    {
     "name": "stderr",
     "output_type": "stream",
     "text": [
      "\r",
      "  9%|█████████▊                                                                                                         | 559/6576 [07:00<1:14:52,  1.34it/s]"
     ]
    },
    {
     "name": "stdout",
     "output_type": "stream",
     "text": [
      "------------------------------------------------------------------------------ 565\n",
      "zuaka_9806_takara_anezaki.wma\n",
      "/home/wataru/code/b-com/b-com/crawling/ズアカアオバト/亜種\n",
      "    199806\n",
      "鹿児島県宝島\n",
      "姉崎悟\n",
      "mp3\n",
      "\n",
      "https://www.bird-research.jp/1_shiryo/koe/zuaka_9806_takara_anezaki.wma\n"
     ]
    },
    {
     "name": "stderr",
     "output_type": "stream",
     "text": [
      "\r",
      "  9%|█████████▉                                                                                                         | 566/6576 [07:05<1:14:34,  1.34it/s]"
     ]
    },
    {
     "name": "stdout",
     "output_type": "stream",
     "text": [
      "------------------------------------------------------------------------------ 573\n",
      "shiroeriohamu_110515_tomakomai_namba.wma\n",
      "/home/wataru/code/b-com/b-com/crawling/シロエリオオハム/地鳴き\n",
      "https://www.bird-research.jp/1_shiryo/koe/shiroeriohamu_110515_tomakomai_namba.wma\n"
     ]
    },
    {
     "name": "stderr",
     "output_type": "stream",
     "text": [
      "\r",
      "  9%|██████████                                                                                                         | 574/6576 [07:10<1:11:32,  1.40it/s]"
     ]
    },
    {
     "name": "stdout",
     "output_type": "stream",
     "text": [
      "------------------------------------------------------------------------------ 581\n",
      "\n",
      "/home/wataru/code/b-com/b-com/crawling/オオミズナギドリ/鳴き合い\n",
      "https://www.bird-research.jp/1_shiryo/file:///D:/HP/1_shiryo/koe/omizunagi_120801_fukuoka_mju.wma\n",
      "Not Found\n"
     ]
    },
    {
     "name": "stderr",
     "output_type": "stream",
     "text": [
      "\r",
      "  9%|██████████▏                                                                                                        | 582/6576 [07:16<1:08:59,  1.45it/s]"
     ]
    },
    {
     "name": "stdout",
     "output_type": "stream",
     "text": [
      "------------------------------------------------------------------------------ 589\n",
      "konotori_140602_toyooka_kuroda.wma\n",
      "/home/wataru/code/b-com/b-com/crawling/コウノトリ/ｸﾗｯﾀﾘﾝｸﾞ\n",
      "https://www.bird-research.jp/1_shiryo/koe/konotori_140602_toyooka_kuroda.wma\n"
     ]
    },
    {
     "name": "stderr",
     "output_type": "stream",
     "text": [
      "\r",
      "  9%|██████████▎                                                                                                        | 590/6576 [07:21<1:07:31,  1.48it/s]"
     ]
    },
    {
     "name": "stdout",
     "output_type": "stream",
     "text": [
      "------------------------------------------------------------------------------ 596\n",
      "konotori_150629_toyooka_kuroda.wma\n",
      "/home/wataru/code/b-com/b-com/crawling/コウノトリ/ヒナ餌乞\n",
      "https://www.bird-research.jp/1_shiryo/koe/konotori_150629_toyooka_kuroda.wma\n"
     ]
    },
    {
     "name": "stderr",
     "output_type": "stream",
     "text": [
      "\r",
      "  9%|██████████▍                                                                                                        | 597/6576 [07:26<1:09:10,  1.44it/s]"
     ]
    },
    {
     "name": "stdout",
     "output_type": "stream",
     "text": [
      "------------------------------------------------------------------------------ 604\n",
      "himeu_161120_sarufutsu_mju.wma\n",
      "/home/wataru/code/b-com/b-com/crawling/ヒメウ/ねぐら\n",
      "https://www.bird-research.jp/1_shiryo/koe/himeu_161120_sarufutsu_mju.wma\n"
     ]
    },
    {
     "name": "stderr",
     "output_type": "stream",
     "text": [
      "\r",
      "  9%|██████████▌                                                                                                        | 605/6576 [07:31<1:08:04,  1.46it/s]"
     ]
    },
    {
     "name": "stdout",
     "output_type": "stream",
     "text": [
      "------------------------------------------------------------------------------ 611\n",
      "kawau_121214_hyogo_kaji.wma\n",
      "/home/wataru/code/b-com/b-com/crawling/カワウ/\n",
      "https://www.bird-research.jp/1_shiryo/koe/kawau_121214_hyogo_kaji.wma\n"
     ]
    },
    {
     "name": "stderr",
     "output_type": "stream",
     "text": [
      "\r",
      "  9%|██████████▋                                                                                                        | 612/6576 [07:36<1:09:34,  1.43it/s]"
     ]
    },
    {
     "name": "stdout",
     "output_type": "stream",
     "text": [
      "------------------------------------------------------------------------------ 618\n",
      "kawau_140112_hyogo_kuroda.wma\n",
      "/home/wataru/code/b-com/b-com/crawling/カワウ/警戒\n",
      "https://www.bird-research.jp/1_shiryo/koe/kawau_140112_hyogo_kuroda.wma\n"
     ]
    },
    {
     "name": "stderr",
     "output_type": "stream",
     "text": [
      "\r",
      "  9%|██████████▊                                                                                                        | 619/6576 [07:42<1:11:20,  1.39it/s]"
     ]
    },
    {
     "name": "stdout",
     "output_type": "stream",
     "text": [
      "------------------------------------------------------------------------------ 625\n",
      "kawau_091204_sano_hirano.wma\n",
      "/home/wataru/code/b-com/b-com/crawling/カワウ/繁殖地\n",
      "https://www.bird-research.jp/1_shiryo/koe/kawau_091204_sano_hirano.wma\n"
     ]
    },
    {
     "name": "stderr",
     "output_type": "stream",
     "text": [
      "\r",
      " 10%|██████████▉                                                                                                        | 626/6576 [07:47<1:11:57,  1.38it/s]"
     ]
    },
    {
     "name": "stdout",
     "output_type": "stream",
     "text": [
      "------------------------------------------------------------------------------ 632\n",
      "umiu_130619_muroran_kros.wma\n",
      "/home/wataru/code/b-com/b-com/crawling/ウミウ/繁殖地\n",
      "https://www.bird-research.jp/1_shiryo/koe/umiu_130619_muroran_kros.wma\n"
     ]
    },
    {
     "name": "stderr",
     "output_type": "stream",
     "text": [
      "\r",
      " 10%|███████████                                                                                                        | 633/6576 [07:52<1:12:16,  1.37it/s]"
     ]
    },
    {
     "name": "stdout",
     "output_type": "stream",
     "text": [
      "------------------------------------------------------------------------------ 640\n",
      "sankanogoi_070413_watarase_hirano.wma\n",
      "/home/wataru/code/b-com/b-com/crawling/サンカノゴイ/\n",
      "https://www.bird-research.jp/1_shiryo/koe/sankanogoi_070413_watarase_hirano.wma\n"
     ]
    },
    {
     "name": "stderr",
     "output_type": "stream",
     "text": [
      "\r",
      " 10%|███████████▏                                                                                                       | 641/6576 [07:57<1:09:51,  1.42it/s]"
     ]
    },
    {
     "name": "stdout",
     "output_type": "stream",
     "text": [
      "------------------------------------------------------------------------------ 647\n",
      "yoshigoi_100601_watarase.wma\n",
      "/home/wataru/code/b-com/b-com/crawling/ヨシゴイ/\n",
      "https://www.bird-research.jp/1_shiryo/koe/yoshigoi_100601_watarase.wma\n"
     ]
    },
    {
     "name": "stderr",
     "output_type": "stream",
     "text": [
      "\r",
      " 10%|███████████▎                                                                                                       | 648/6576 [08:03<1:11:01,  1.39it/s]"
     ]
    },
    {
     "name": "stdout",
     "output_type": "stream",
     "text": [
      "------------------------------------------------------------------------------ 654\n",
      "yoshigoi_090805_watarase_hirano.wma\n",
      "/home/wataru/code/b-com/b-com/crawling/ヨシゴイ/巣立ちビナ\n",
      "https://www.bird-research.jp/1_shiryo/koe/yoshigoi_090805_watarase_hirano.wma\n"
     ]
    },
    {
     "name": "stderr",
     "output_type": "stream",
     "text": [
      "\r",
      " 10%|███████████▍                                                                                                       | 655/6576 [08:08<1:11:29,  1.38it/s]"
     ]
    },
    {
     "name": "stdout",
     "output_type": "stream",
     "text": [
      "------------------------------------------------------------------------------ 661\n",
      "mizogoi_0904_hyogo_kaji.wma\n",
      "/home/wataru/code/b-com/b-com/crawling/ミゾゴイ/\n",
      "https://www.bird-research.jp/1_shiryo/koe/mizogoi_0904_hyogo_kaji.wma\n"
     ]
    },
    {
     "name": "stderr",
     "output_type": "stream",
     "text": [
      "\r",
      " 10%|███████████▌                                                                                                       | 662/6576 [08:13<1:11:52,  1.37it/s]"
     ]
    },
    {
     "name": "stdout",
     "output_type": "stream",
     "text": [
      "------------------------------------------------------------------------------ 668\n",
      "mizogoi_160430_mogusa_koyama.wma\n",
      "/home/wataru/code/b-com/b-com/crawling/ミゾゴイ/\n",
      "https://www.bird-research.jp/1_shiryo/koe/mizogoi_160430_mogusa_koyama.wma\n"
     ]
    },
    {
     "name": "stderr",
     "output_type": "stream",
     "text": [
      "\r",
      " 10%|███████████▋                                                                                                       | 669/6576 [08:18<1:12:29,  1.36it/s]"
     ]
    },
    {
     "name": "stdout",
     "output_type": "stream",
     "text": [
      "------------------------------------------------------------------------------ 675\n",
      "goisagi_100420_watarase.wma\n",
      "/home/wataru/code/b-com/b-com/crawling/ゴイサギ/\n",
      "https://www.bird-research.jp/1_shiryo/koe/goisagi_100420_watarase.wma\n"
     ]
    },
    {
     "name": "stderr",
     "output_type": "stream",
     "text": [
      "\r",
      " 10%|███████████▊                                                                                                       | 676/6576 [08:23<1:12:47,  1.35it/s]"
     ]
    },
    {
     "name": "stdout",
     "output_type": "stream",
     "text": [
      "------------------------------------------------------------------------------ 682\n",
      "sasagoi_100503_utsunomiya.wma\n",
      "/home/wataru/code/b-com/b-com/crawling/ササゴイ/\n",
      "https://www.bird-research.jp/1_shiryo/koe/sasagoi_100503_utsunomiya.wma\n"
     ]
    },
    {
     "name": "stderr",
     "output_type": "stream",
     "text": [
      "\r",
      " 10%|███████████▉                                                                                                       | 683/6576 [08:29<1:12:40,  1.35it/s]"
     ]
    },
    {
     "name": "stdout",
     "output_type": "stream",
     "text": [
      "------------------------------------------------------------------------------ 689\n",
      "sasagoi_120623_2_utsunomiya_hirano.wma\n",
      "/home/wataru/code/b-com/b-com/crawling/ササゴイ/巣での声\n",
      "https://www.bird-research.jp/1_shiryo/koe/sasagoi_120623_2_utsunomiya_hirano.wma\n"
     ]
    },
    {
     "name": "stderr",
     "output_type": "stream",
     "text": [
      "\r",
      " 10%|████████████                                                                                                       | 690/6576 [08:34<1:13:01,  1.34it/s]"
     ]
    },
    {
     "name": "stdout",
     "output_type": "stream",
     "text": [
      "------------------------------------------------------------------------------ 696\n",
      "sasagoi_110814_utsunomiya_hirano.wma\n",
      "/home/wataru/code/b-com/b-com/crawling/ササゴイ/巣立ちビナ\n",
      "https://www.bird-research.jp/1_shiryo/koe/sasagoi_110814_utsunomiya_hirano.wma\n"
     ]
    },
    {
     "name": "stderr",
     "output_type": "stream",
     "text": [
      "\r",
      " 11%|████████████▏                                                                                                      | 697/6576 [08:39<1:13:10,  1.34it/s]"
     ]
    },
    {
     "name": "stdout",
     "output_type": "stream",
     "text": [
      "------------------------------------------------------------------------------ 703\n",
      "sasagoi_120623_utsunomiya_hirano.wma\n",
      "/home/wataru/code/b-com/b-com/crawling/ササゴイ/巣内ビナ\n",
      "https://www.bird-research.jp/1_shiryo/koe/sasagoi_120623_utsunomiya_hirano.wma\n"
     ]
    },
    {
     "name": "stderr",
     "output_type": "stream",
     "text": [
      "\r",
      " 11%|████████████▎                                                                                                      | 704/6576 [08:44<1:12:47,  1.34it/s]"
     ]
    },
    {
     "name": "stdout",
     "output_type": "stream",
     "text": [
      "------------------------------------------------------------------------------ 710\n",
      "aosagi_211004_sankaku_oshiro.wma\n",
      "/home/wataru/code/b-com/b-com/crawling/アオサギ/地鳴き\n",
      "https://www.bird-research.jp/1_shiryo/koe/aosagi_211004_sankaku_oshiro.wma\n"
     ]
    },
    {
     "name": "stderr",
     "output_type": "stream",
     "text": [
      "\r",
      " 11%|████████████▍                                                                                                      | 711/6576 [08:49<1:12:35,  1.35it/s]"
     ]
    },
    {
     "name": "stdout",
     "output_type": "stream",
     "text": [
      "------------------------------------------------------------------------------ 717\n",
      "aosagi_090409_asahikawa_matsunaga.wma\n",
      "/home/wataru/code/b-com/b-com/crawling/アオサギ/繁殖地\n",
      "https://www.bird-research.jp/1_shiryo/koe/aosagi_090409_asahikawa_matsunaga.wma\n"
     ]
    },
    {
     "name": "stderr",
     "output_type": "stream",
     "text": [
      "\r",
      " 11%|████████████▌                                                                                                      | 718/6576 [08:55<1:12:39,  1.34it/s]"
     ]
    },
    {
     "name": "stdout",
     "output_type": "stream",
     "text": [
      "------------------------------------------------------------------------------ 724\n",
      "aosagi_0812_hyogo_kaji.wma\n",
      "/home/wataru/code/b-com/b-com/crawling/アオサギ/\n",
      "https://www.bird-research.jp/1_shiryo/koe/aosagi_0812_hyogo_kaji.wma\n"
     ]
    },
    {
     "name": "stderr",
     "output_type": "stream",
     "text": [
      "\r",
      " 11%|████████████▋                                                                                                      | 725/6576 [09:00<1:12:30,  1.34it/s]"
     ]
    },
    {
     "name": "stdout",
     "output_type": "stream",
     "text": [
      "------------------------------------------------------------------------------ 731\n",
      "daisagi_080315_himeji.wma\n",
      "/home/wataru/code/b-com/b-com/crawling/ダイサギ/\n",
      "https://www.bird-research.jp/1_shiryo/koe/daisagi_080315_himeji.wma\n"
     ]
    },
    {
     "name": "stderr",
     "output_type": "stream",
     "text": [
      "\r",
      " 11%|████████████▊                                                                                                      | 732/6576 [09:05<1:12:31,  1.34it/s]"
     ]
    },
    {
     "name": "stdout",
     "output_type": "stream",
     "text": [
      "------------------------------------------------------------------------------ 738\n",
      "kosagi_121115_hyogo_kuroda.wma\n",
      "/home/wataru/code/b-com/b-com/crawling/コサギ/威嚇\n",
      "https://www.bird-research.jp/1_shiryo/koe/kosagi_121115_hyogo_kuroda.wma\n"
     ]
    },
    {
     "name": "stderr",
     "output_type": "stream",
     "text": [
      "\r",
      " 11%|████████████▉                                                                                                      | 739/6576 [09:10<1:12:26,  1.34it/s]"
     ]
    },
    {
     "name": "stdout",
     "output_type": "stream",
     "text": [
      "------------------------------------------------------------------------------ 745\n",
      "kosagi_121125_himeji_kuroda.wma\n",
      "/home/wataru/code/b-com/b-com/crawling/コサギ/威嚇\n",
      "https://www.bird-research.jp/1_shiryo/koe/kosagi_121125_himeji_kuroda.wma\n"
     ]
    },
    {
     "name": "stderr",
     "output_type": "stream",
     "text": [
      "\r",
      " 11%|█████████████                                                                                                      | 746/6576 [09:16<1:12:29,  1.34it/s]"
     ]
    },
    {
     "name": "stdout",
     "output_type": "stream",
     "text": [
      "------------------------------------------------------------------------------ 752\n",
      "kosagi_120526_kuki_endo.wma\n",
      "/home/wataru/code/b-com/b-com/crawling/コサギ/繁殖地\n",
      "https://www.bird-research.jp/1_shiryo/koe/kosagi_120526_kuki_endo.wma\n"
     ]
    },
    {
     "name": "stderr",
     "output_type": "stream",
     "text": [
      "\r",
      " 11%|█████████████▏                                                                                                     | 753/6576 [09:21<1:12:30,  1.34it/s]"
     ]
    },
    {
     "name": "stdout",
     "output_type": "stream",
     "text": [
      "------------------------------------------------------------------------------ 759\n",
      "kurosagi_150703_fukuoka_kuroda.wma\n",
      "/home/wataru/code/b-com/b-com/crawling/クロサギ/\n",
      "https://www.bird-research.jp/1_shiryo/koe/kurosagi_150703_fukuoka_kuroda.wma\n"
     ]
    },
    {
     "name": "stderr",
     "output_type": "stream",
     "text": [
      "\r",
      " 12%|█████████████▎                                                                                                     | 760/6576 [09:26<1:12:32,  1.34it/s]"
     ]
    },
    {
     "name": "stdout",
     "output_type": "stream",
     "text": [
      "------------------------------------------------------------------------------ 766\n",
      "toki_141223_sado_mju.wma\n",
      "/home/wataru/code/b-com/b-com/crawling/トキ/飛翔中\n",
      "https://www.bird-research.jp/1_shiryo/koe/toki_141223_sado_mju.wma\n"
     ]
    },
    {
     "name": "stderr",
     "output_type": "stream",
     "text": [
      "\r",
      " 12%|█████████████▍                                                                                                     | 767/6576 [09:31<1:12:13,  1.34it/s]"
     ]
    },
    {
     "name": "stdout",
     "output_type": "stream",
     "text": [
      "------------------------------------------------------------------------------ 773\n",
      "toki_14122406_sadonegura_mju.wma\n",
      "/home/wataru/code/b-com/b-com/crawling/トキ/ねぐら\n",
      "https://www.bird-research.jp/1_shiryo/koe/toki_14122406_sadonegura_mju.wma\n"
     ]
    },
    {
     "name": "stderr",
     "output_type": "stream",
     "text": [
      "\r",
      " 12%|█████████████▌                                                                                                     | 774/6576 [09:36<1:11:56,  1.34it/s]"
     ]
    },
    {
     "name": "stdout",
     "output_type": "stream",
     "text": [
      "------------------------------------------------------------------------------ 780\n",
      "toki_150202_sado_mju.wma\n",
      "/home/wataru/code/b-com/b-com/crawling/トキ/ねぐら\n",
      "https://www.bird-research.jp/1_shiryo/koe/toki_150202_sado_mju.wma\n"
     ]
    },
    {
     "name": "stderr",
     "output_type": "stream",
     "text": [
      "\r",
      " 12%|█████████████▋                                                                                                     | 781/6576 [09:42<1:12:05,  1.34it/s]"
     ]
    },
    {
     "name": "stdout",
     "output_type": "stream",
     "text": [
      "------------------------------------------------------------------------------ 787\n",
      "toki3_150202_sado_mju.wma\n",
      "/home/wataru/code/b-com/b-com/crawling/トキ/ねぐら\n",
      "https://www.bird-research.jp/1_shiryo/koe/toki3_150202_sado_mju.wma\n"
     ]
    },
    {
     "name": "stderr",
     "output_type": "stream",
     "text": [
      "\r",
      " 12%|█████████████▊                                                                                                     | 788/6576 [09:47<1:12:07,  1.34it/s]"
     ]
    },
    {
     "name": "stdout",
     "output_type": "stream",
     "text": [
      "------------------------------------------------------------------------------ 794\n",
      "kurotsura_191124_fukuoka_kuroda.wma\n",
      "/home/wataru/code/b-com/b-com/crawling/クロツラヘラサギ/地鳴き\n",
      "https://www.bird-research.jp/1_shiryo/koe/kurotsura_191124_fukuoka_kuroda.wma\n"
     ]
    },
    {
     "name": "stderr",
     "output_type": "stream",
     "text": [
      "\r",
      " 12%|█████████████▉                                                                                                     | 795/6576 [09:52<1:11:48,  1.34it/s]"
     ]
    },
    {
     "name": "stdout",
     "output_type": "stream",
     "text": [
      "------------------------------------------------------------------------------ 802\n",
      "manazuru1_071129_izumi_kaji.wma\n",
      "/home/wataru/code/b-com/b-com/crawling/マナヅル/\n",
      "https://www.bird-research.jp/1_shiryo/koe/manazuru1_071129_izumi_kaji.wma\n"
     ]
    },
    {
     "name": "stderr",
     "output_type": "stream",
     "text": [
      "\r",
      " 12%|██████████████                                                                                                     | 803/6576 [09:57<1:08:36,  1.40it/s]"
     ]
    },
    {
     "name": "stdout",
     "output_type": "stream",
     "text": [
      "------------------------------------------------------------------------------ 809\n",
      "tancho_080701_doto_kuroda.wma\n",
      "/home/wataru/code/b-com/b-com/crawling/タンチョウ/警戒？\n",
      "https://www.bird-research.jp/1_shiryo/koe/tancho_080701_doto_kuroda.wma\n"
     ]
    },
    {
     "name": "stderr",
     "output_type": "stream",
     "text": [
      "\r",
      " 12%|██████████████▏                                                                                                    | 810/6576 [10:03<1:09:17,  1.39it/s]"
     ]
    },
    {
     "name": "stdout",
     "output_type": "stream",
     "text": [
      "------------------------------------------------------------------------------ 816\n",
      "tancho2_080701_doto_kuroda.wma\n",
      "/home/wataru/code/b-com/b-com/crawling/タンチョウ/警戒？\n",
      "https://www.bird-research.jp/1_shiryo/koe/tancho2_080701_doto_kuroda.wma\n"
     ]
    },
    {
     "name": "stderr",
     "output_type": "stream",
     "text": [
      "\r",
      " 12%|██████████████▎                                                                                                    | 817/6576 [10:08<1:09:58,  1.37it/s]"
     ]
    },
    {
     "name": "stdout",
     "output_type": "stream",
     "text": [
      "------------------------------------------------------------------------------ 823\n",
      "nabezuru1_071201_izumi_kaji.wma\n",
      "/home/wataru/code/b-com/b-com/crawling/ナベヅル/\n",
      "https://www.bird-research.jp/1_shiryo/koe/nabezuru1_071201_izumi_kaji.wma\n"
     ]
    },
    {
     "name": "stderr",
     "output_type": "stream",
     "text": [
      "\r",
      " 13%|██████████████▍                                                                                                    | 824/6576 [10:13<1:10:18,  1.36it/s]"
     ]
    },
    {
     "name": "stdout",
     "output_type": "stream",
     "text": [
      "------------------------------------------------------------------------------ 830\n",
      "shimakuina_160205_watarase_hirano.wma\n",
      "/home/wataru/code/b-com/b-com/crawling/シマクイナ/\n",
      "https://www.bird-research.jp/1_shiryo/koe/shimakuina_160205_watarase_hirano.wma\n"
     ]
    },
    {
     "name": "stderr",
     "output_type": "stream",
     "text": [
      "\r",
      " 13%|██████████████▌                                                                                                    | 831/6576 [10:18<1:10:20,  1.36it/s]"
     ]
    },
    {
     "name": "stdout",
     "output_type": "stream",
     "text": [
      "------------------------------------------------------------------------------ 837\n",
      "yanbarukuina_191111_yanbaru_morishita.wav.wma\n",
      "/home/wataru/code/b-com/b-com/crawling/ヤンバルクイナ/地鳴き\n",
      "https://www.bird-research.jp/1_shiryo/koe/yanbarukuina_191111_yanbaru_morishita.wav.wma\n"
     ]
    },
    {
     "name": "stderr",
     "output_type": "stream",
     "text": [
      "\r",
      " 13%|██████████████▋                                                                                                    | 838/6576 [10:23<1:10:34,  1.36it/s]"
     ]
    },
    {
     "name": "stdout",
     "output_type": "stream",
     "text": [
      "------------------------------------------------------------------------------ 844\n",
      "kuina_060801_watarase_hirano.wma\n",
      "/home/wataru/code/b-com/b-com/crawling/クイナ/\n",
      "https://www.bird-research.jp/1_shiryo/koe/kuina_060801_watarase_hirano.wma\n"
     ]
    },
    {
     "name": "stderr",
     "output_type": "stream",
     "text": [
      "\r",
      " 13%|██████████████▊                                                                                                    | 845/6576 [10:29<1:10:50,  1.35it/s]"
     ]
    },
    {
     "name": "stdout",
     "output_type": "stream",
     "text": [
      "------------------------------------------------------------------------------ 851\n",
      "kuina_071127_watarase_hirano.wma\n",
      "/home/wataru/code/b-com/b-com/crawling/クイナ/\n",
      "https://www.bird-research.jp/1_shiryo/koe/kuina_071127_watarase_hirano.wma\n"
     ]
    },
    {
     "name": "stderr",
     "output_type": "stream",
     "text": [
      "\r",
      " 13%|██████████████▉                                                                                                    | 852/6576 [10:34<1:10:40,  1.35it/s]"
     ]
    },
    {
     "name": "stdout",
     "output_type": "stream",
     "text": [
      "------------------------------------------------------------------------------ 858\n",
      "kuina_081104_watarase_hirano.wma\n",
      "/home/wataru/code/b-com/b-com/crawling/クイナ/\n",
      "https://www.bird-research.jp/1_shiryo/koe/kuina_081104_watarase_hirano.wma\n"
     ]
    },
    {
     "name": "stderr",
     "output_type": "stream",
     "text": [
      "\r",
      " 13%|███████████████                                                                                                    | 859/6576 [10:39<1:10:34,  1.35it/s]"
     ]
    },
    {
     "name": "stdout",
     "output_type": "stream",
     "text": [
      "------------------------------------------------------------------------------ 865\n",
      "kuina_110426_watarase_hirano.wma\n",
      "/home/wataru/code/b-com/b-com/crawling/クイナ/地鳴き\n",
      "https://www.bird-research.jp/1_shiryo/koe/kuina_110426_watarase_hirano.wma\n"
     ]
    },
    {
     "name": "stderr",
     "output_type": "stream",
     "text": [
      "\r",
      " 13%|███████████████▏                                                                                                   | 866/6576 [10:44<1:10:27,  1.35it/s]"
     ]
    },
    {
     "name": "stdout",
     "output_type": "stream",
     "text": [
      "------------------------------------------------------------------------------ 872\n",
      "shiroharakuina_120424_ishigaki_moriya.wma\n",
      "/home/wataru/code/b-com/b-com/crawling/シロハラクイナ/\n",
      "https://www.bird-research.jp/1_shiryo/koe/shiroharakuina_120424_ishigaki_moriya.wma\n"
     ]
    },
    {
     "name": "stderr",
     "output_type": "stream",
     "text": [
      "\r",
      " 13%|███████████████▎                                                                                                   | 873/6576 [10:49<1:10:23,  1.35it/s]"
     ]
    },
    {
     "name": "stdout",
     "output_type": "stream",
     "text": [
      "------------------------------------------------------------------------------ 879\n",
      "shiroharakuina_050411_okinawa_kaji.wma\n",
      "/home/wataru/code/b-com/b-com/crawling/シロハラクイナ/喧嘩\n",
      "https://www.bird-research.jp/1_shiryo/koe/shiroharakuina_050411_okinawa_kaji.wma\n"
     ]
    },
    {
     "name": "stderr",
     "output_type": "stream",
     "text": [
      "\r",
      " 13%|███████████████▍                                                                                                   | 880/6576 [10:55<1:10:18,  1.35it/s]"
     ]
    },
    {
     "name": "stdout",
     "output_type": "stream",
     "text": [
      "------------------------------------------------------------------------------ 886\n",
      "hikuina_060711_watarase_hirano.wma\n",
      "/home/wataru/code/b-com/b-com/crawling/ヒクイナ/\n",
      "https://www.bird-research.jp/1_shiryo/koe/hikuina_060711_watarase_hirano.wma\n"
     ]
    },
    {
     "name": "stderr",
     "output_type": "stream",
     "text": [
      "\r",
      " 13%|███████████████▌                                                                                                   | 887/6576 [11:00<1:10:11,  1.35it/s]"
     ]
    },
    {
     "name": "stdout",
     "output_type": "stream",
     "text": [
      "------------------------------------------------------------------------------ 894\n",
      "hikuina_watarase_090511_hirano.wma\n",
      "/home/wataru/code/b-com/b-com/crawling/ヒクイナ/威嚇\n",
      "https://www.bird-research.jp/1_shiryo/koe/hikuina_watarase_090511_hirano.wma\n"
     ]
    },
    {
     "name": "stderr",
     "output_type": "stream",
     "text": [
      "\r",
      " 14%|███████████████▋                                                                                                   | 895/6576 [11:05<1:07:11,  1.41it/s]"
     ]
    },
    {
     "name": "stdout",
     "output_type": "stream",
     "text": [
      "------------------------------------------------------------------------------ 901\n",
      "hikuina_090511_watarase_hirano.wma\n",
      "/home/wataru/code/b-com/b-com/crawling/ヒクイナ/地鳴き\n",
      "https://www.bird-research.jp/1_shiryo/koe/hikuina_090511_watarase_hirano.wma\n"
     ]
    },
    {
     "name": "stderr",
     "output_type": "stream",
     "text": [
      "\r",
      " 14%|███████████████▊                                                                                                   | 902/6576 [11:10<1:08:02,  1.39it/s]"
     ]
    },
    {
     "name": "stdout",
     "output_type": "stream",
     "text": [
      "------------------------------------------------------------------------------ 908\n",
      "hikuina_151124_watarase_hirano.wma\n",
      "/home/wataru/code/b-com/b-com/crawling/ヒクイナ/地鳴き\n",
      "https://www.bird-research.jp/1_shiryo/koe/hikuina_151124_watarase_hirano.wma\n"
     ]
    },
    {
     "name": "stderr",
     "output_type": "stream",
     "text": [
      "\r",
      " 14%|███████████████▉                                                                                                   | 909/6576 [11:15<1:08:54,  1.37it/s]"
     ]
    },
    {
     "name": "stdout",
     "output_type": "stream",
     "text": [
      "------------------------------------------------------------------------------ 915\n",
      "ban_090424_watarase_hirano.wma\n",
      "/home/wataru/code/b-com/b-com/crawling/バン/\n",
      "https://www.bird-research.jp/1_shiryo/koe/ban_090424_watarase_hirano.wma\n"
     ]
    },
    {
     "name": "stderr",
     "output_type": "stream",
     "text": [
      "\r",
      " 14%|████████████████                                                                                                   | 916/6576 [11:21<1:09:04,  1.37it/s]"
     ]
    },
    {
     "name": "stdout",
     "output_type": "stream",
     "text": [
      "------------------------------------------------------------------------------ 922\n",
      "ban_080600_hyougo_kaji.wma\n",
      "/home/wataru/code/b-com/b-com/crawling/バン/\n",
      "https://www.bird-research.jp/1_shiryo/koe/ban_080600_hyougo_kaji.wma\n"
     ]
    },
    {
     "name": "stderr",
     "output_type": "stream",
     "text": [
      "\r",
      " 14%|████████████████▏                                                                                                  | 923/6576 [11:26<1:09:11,  1.36it/s]"
     ]
    },
    {
     "name": "stdout",
     "output_type": "stream",
     "text": [
      "------------------------------------------------------------------------------ 929\n",
      "ban_160528_himeji_kuroda.wma\n",
      "/home/wataru/code/b-com/b-com/crawling/バン/巣作り\n",
      "https://www.bird-research.jp/1_shiryo/koe/ban_160528_himeji_kuroda.wma\n"
     ]
    },
    {
     "name": "stderr",
     "output_type": "stream",
     "text": [
      "\r",
      " 14%|████████████████▎                                                                                                  | 930/6576 [11:31<1:09:36,  1.35it/s]"
     ]
    },
    {
     "name": "stdout",
     "output_type": "stream",
     "text": [
      "------------------------------------------------------------------------------ 936\n",
      "ooban_111227_watarase_hirano.wma\n",
      "/home/wataru/code/b-com/b-com/crawling/オオバン/\n",
      "https://www.bird-research.jp/1_shiryo/koe/ooban_111227_watarase_hirano.wma\n"
     ]
    },
    {
     "name": "stderr",
     "output_type": "stream",
     "text": [
      "\r",
      " 14%|████████████████▍                                                                                                  | 937/6576 [11:36<1:09:47,  1.35it/s]"
     ]
    },
    {
     "name": "stdout",
     "output_type": "stream",
     "text": [
      "------------------------------------------------------------------------------ 943\n",
      "oban_151129_awara_mju.wma\n",
      "/home/wataru/code/b-com/b-com/crawling/オオバン/\n",
      "https://www.bird-research.jp/1_shiryo/koe/oban_151129_awara_mju.wma\n"
     ]
    },
    {
     "name": "stderr",
     "output_type": "stream",
     "text": [
      "\r",
      " 14%|████████████████▌                                                                                                  | 944/6576 [11:41<1:09:57,  1.34it/s]"
     ]
    },
    {
     "name": "stdout",
     "output_type": "stream",
     "text": [
      "------------------------------------------------------------------------------ 958\n",
      "onikakko_150527_amami_miyayama.wma\n",
      "/home/wataru/code/b-com/b-com/crawling/オニカッコウ/さえずり\n",
      "https://www.bird-research.jp/1_shiryo/koe/onikakko_150527_amami_miyayama.wma\n"
     ]
    },
    {
     "name": "stderr",
     "output_type": "stream",
     "text": [
      "\r",
      " 15%|█████████████████                                                                                                    | 959/6576 [11:47<52:04,  1.80it/s]"
     ]
    },
    {
     "name": "stdout",
     "output_type": "stream",
     "text": [
      "------------------------------------------------------------------------------ 972\n",
      "juichi_090527_shioya_hirano.wma\n",
      "/home/wataru/code/b-com/b-com/crawling/ジュウイチ/さえずり\n",
      "https://www.bird-research.jp/1_shiryo/koe/juichi_090527_shioya_hirano.wma\n"
     ]
    },
    {
     "name": "stderr",
     "output_type": "stream",
     "text": [
      "\r",
      " 15%|█████████████████▎                                                                                                   | 973/6576 [11:52<45:12,  2.07it/s]"
     ]
    },
    {
     "name": "stdout",
     "output_type": "stream",
     "text": [
      "------------------------------------------------------------------------------ 979\n",
      "juuichi_0805_hyogo_kaji.wma\n",
      "/home/wataru/code/b-com/b-com/crawling/ジュウイチ/特殊声\n",
      "https://www.bird-research.jp/1_shiryo/koe/juuichi_0805_hyogo_kaji.wma\n"
     ]
    },
    {
     "name": "stderr",
     "output_type": "stream",
     "text": [
      "\r",
      " 15%|█████████████████▍                                                                                                   | 980/6576 [11:57<50:21,  1.85it/s]"
     ]
    },
    {
     "name": "stdout",
     "output_type": "stream",
     "text": [
      "------------------------------------------------------------------------------ 986\n",
      "hototogisu-ueta-tokyo060610.wma\n",
      "/home/wataru/code/b-com/b-com/crawling/ホトトギス/さえずり\n",
      "https://www.bird-research.jp/1_shiryo/onsei/hototogisu-ueta-tokyo060610.wma\n"
     ]
    },
    {
     "name": "stderr",
     "output_type": "stream",
     "text": [
      "\r",
      " 15%|█████████████████▌                                                                                                   | 987/6576 [12:02<54:59,  1.69it/s]"
     ]
    },
    {
     "name": "stdout",
     "output_type": "stream",
     "text": [
      "------------------------------------------------------------------------------ 994\n",
      "hototogisu_110609_okayama_kaji.wma\n",
      "/home/wataru/code/b-com/b-com/crawling/ホトトギス/地鳴き\n",
      "https://www.bird-research.jp/1_shiryo/koe/hototogisu_110609_okayama_kaji.wma\n"
     ]
    },
    {
     "name": "stderr",
     "output_type": "stream",
     "text": [
      "\r",
      " 15%|█████████████████▋                                                                                                   | 995/6576 [12:08<56:37,  1.64it/s]"
     ]
    },
    {
     "name": "stdout",
     "output_type": "stream",
     "text": [
      "------------------------------------------------------------------------------ 1001\n",
      "hototogisu_180522_kosado_mju.wma\n",
      "/home/wataru/code/b-com/b-com/crawling/ホトトギス/争い\n",
      "https://www.bird-research.jp/1_shiryo/koe/hototogisu_180522_kosado_mju.wma\n"
     ]
    },
    {
     "name": "stderr",
     "output_type": "stream",
     "text": [
      "\r",
      " 15%|█████████████████▎                                                                                                | 1002/6576 [12:13<1:00:04,  1.55it/s]"
     ]
    },
    {
     "name": "stdout",
     "output_type": "stream",
     "text": [
      "------------------------------------------------------------------------------ 1008\n",
      "segurokakko_180612_kokonoe_ikenaga.wma\n",
      "/home/wataru/code/b-com/b-com/crawling/セグロカッコウ/さえずり\n",
      "https://www.bird-research.jp/1_shiryo/koe/segurokakko_180612_kokonoe_ikenaga.wma\n"
     ]
    },
    {
     "name": "stderr",
     "output_type": "stream",
     "text": [
      "\r",
      " 15%|█████████████████▍                                                                                                | 1009/6576 [12:18<1:02:25,  1.49it/s]"
     ]
    },
    {
     "name": "stdout",
     "output_type": "stream",
     "text": [
      "------------------------------------------------------------------------------ 1015\n",
      "segurokakko_210605_oita_ikenaga.wma\n",
      "/home/wataru/code/b-com/b-com/crawling/セグロカッコウ/雌雄\n",
      "https://www.bird-research.jp/1_shiryo/koe/segurokakko_210605_oita_ikenaga.wma\n"
     ]
    },
    {
     "name": "stderr",
     "output_type": "stream",
     "text": [
      "\r",
      " 15%|█████████████████▌                                                                                                | 1016/6576 [12:23<1:04:13,  1.44it/s]"
     ]
    },
    {
     "name": "stdout",
     "output_type": "stream",
     "text": [
      "------------------------------------------------------------------------------ 1022\n",
      "segurokakko_130530_shimane_wada.wma\n",
      "/home/wataru/code/b-com/b-com/crawling/セグロカッコウ/さえずり\n",
      "https://www.bird-research.jp/1_shiryo/koe/segurokakko_130530_shimane_wada.wma\n"
     ]
    },
    {
     "name": "stderr",
     "output_type": "stream",
     "text": [
      "\r",
      " 16%|█████████████████▋                                                                                                | 1023/6576 [12:29<1:05:36,  1.41it/s]"
     ]
    },
    {
     "name": "stdout",
     "output_type": "stream",
     "text": [
      "------------------------------------------------------------------------------ 1029\n",
      "segurokakko_150523_tsushima_mju.wma\n",
      "/home/wataru/code/b-com/b-com/crawling/セグロカッコウ/さえずり\n",
      "https://www.bird-research.jp/1_shiryo/koe/segurokakko_150523_tsushima_mju.wma\n"
     ]
    },
    {
     "name": "stderr",
     "output_type": "stream",
     "text": [
      "\r",
      " 16%|█████████████████▊                                                                                                | 1030/6576 [12:34<1:06:41,  1.39it/s]"
     ]
    },
    {
     "name": "stdout",
     "output_type": "stream",
     "text": [
      "------------------------------------------------------------------------------ 1036\n",
      "tsutsudori_080523_nasushio_hirano.wma\n",
      "/home/wataru/code/b-com/b-com/crawling/ツツドリ/さえずり\n",
      "https://www.bird-research.jp/1_shiryo/koe/tsutsudori_080523_nasushio_hirano.wma\n"
     ]
    },
    {
     "name": "stderr",
     "output_type": "stream",
     "text": [
      "\r",
      " 16%|█████████████████▉                                                                                                | 1037/6576 [12:39<1:07:20,  1.37it/s]"
     ]
    },
    {
     "name": "stdout",
     "output_type": "stream",
     "text": [
      "------------------------------------------------------------------------------ 1043\n",
      "tsutsudori_210610_okutama_mju.wma\n",
      "/home/wataru/code/b-com/b-com/crawling/ツツドリ/さえずり\n",
      "https://www.bird-research.jp/1_shiryo/koe/tsutsudori_210610_okutama_mju.wma\n"
     ]
    },
    {
     "name": "stderr",
     "output_type": "stream",
     "text": [
      "\r",
      " 16%|██████████████████                                                                                                | 1044/6576 [12:44<1:07:45,  1.36it/s]"
     ]
    },
    {
     "name": "stdout",
     "output_type": "stream",
     "text": [
      "------------------------------------------------------------------------------ 1050\n",
      "tsutsudori_060623_hokkaidou_kaji.wma\n",
      "/home/wataru/code/b-com/b-com/crawling/ツツドリ/特殊声\n",
      "https://www.bird-research.jp/1_shiryo/koe/tsutsudori_060623_hokkaidou_kaji.wma\n"
     ]
    },
    {
     "name": "stderr",
     "output_type": "stream",
     "text": [
      "\r",
      " 16%|██████████████████▏                                                                                               | 1051/6576 [12:50<1:08:10,  1.35it/s]"
     ]
    },
    {
     "name": "stdout",
     "output_type": "stream",
     "text": [
      "------------------------------------------------------------------------------ 1057\n",
      "kakko060602_kokubunji_mju.wma\n",
      "/home/wataru/code/b-com/b-com/crawling/カッコウ/さえずり\n",
      "https://www.bird-research.jp/1_shiryo/koe/kakko060602_kokubunji_mju.wma\n"
     ]
    },
    {
     "name": "stderr",
     "output_type": "stream",
     "text": [
      "\r",
      " 16%|██████████████████▎                                                                                               | 1058/6576 [12:55<1:08:05,  1.35it/s]"
     ]
    },
    {
     "name": "stdout",
     "output_type": "stream",
     "text": [
      "------------------------------------------------------------------------------ 1065\n",
      "kakou_100610_nikko.wma\n",
      "/home/wataru/code/b-com/b-com/crawling/カッコウ/地鳴き\n",
      "https://www.bird-research.jp/1_shiryo/koe/kakou_100610_nikko.wma\n"
     ]
    },
    {
     "name": "stderr",
     "output_type": "stream",
     "text": [
      "\r",
      " 16%|██████████████████▍                                                                                               | 1066/6576 [13:00<1:06:34,  1.38it/s]"
     ]
    },
    {
     "name": "stdout",
     "output_type": "stream",
     "text": [
      "------------------------------------------------------------------------------ 1072\n",
      "kakko_120629_utsunomiya_hirano.wma\n",
      "/home/wataru/code/b-com/b-com/crawling/カッコウ/けんか\n",
      "https://www.bird-research.jp/1_shiryo/koe/kakko_120629_utsunomiya_hirano.wma\n"
     ]
    },
    {
     "name": "stderr",
     "output_type": "stream",
     "text": [
      "\r",
      " 16%|██████████████████▌                                                                                               | 1073/6576 [13:05<1:06:51,  1.37it/s]"
     ]
    },
    {
     "name": "stdout",
     "output_type": "stream",
     "text": [
      "------------------------------------------------------------------------------ 1079\n",
      "kakko_070716_chikuma_kasahara.wma\n",
      "/home/wataru/code/b-com/b-com/crawling/カッコウ/ヒナ\n",
      "https://www.bird-research.jp/1_shiryo/koe/kakko_070716_chikuma_kasahara.wma\n"
     ]
    },
    {
     "name": "stderr",
     "output_type": "stream",
     "text": [
      "\r",
      " 16%|██████████████████▋                                                                                               | 1080/6576 [13:11<1:07:28,  1.36it/s]"
     ]
    },
    {
     "name": "stdout",
     "output_type": "stream",
     "text": [
      "------------------------------------------------------------------------------ 1087\n",
      "yotaka-ueta-nigata060603.wma\n",
      "/home/wataru/code/b-com/b-com/crawling/ヨタカ/さえずり\n",
      "https://www.bird-research.jp/1_shiryo/onsei/yotaka-ueta-nigata060603.wma\n"
     ]
    },
    {
     "name": "stderr",
     "output_type": "stream",
     "text": [
      "\r",
      " 17%|██████████████████▊                                                                                               | 1088/6576 [13:16<1:05:15,  1.40it/s]"
     ]
    },
    {
     "name": "stdout",
     "output_type": "stream",
     "text": [
      "------------------------------------------------------------------------------ 1095\n",
      "yotaka_140528_osado_mju.wma\n",
      "/home/wataru/code/b-com/b-com/crawling/ヨタカ/さえずり（変音）\n",
      "https://www.bird-research.jp/1_shiryo/koe/yotaka_140528_osado_mju.wma\n"
     ]
    },
    {
     "name": "stderr",
     "output_type": "stream",
     "text": [
      "\r",
      " 17%|███████████████████                                                                                               | 1096/6576 [13:21<1:03:29,  1.44it/s]"
     ]
    },
    {
     "name": "stdout",
     "output_type": "stream",
     "text": [
      "------------------------------------------------------------------------------ 1102\n",
      "yotaka_teion_130618_nasushiobara_hirano.wma\n",
      "/home/wataru/code/b-com/b-com/crawling/ヨタカ/さえずり（低）\n",
      "https://www.bird-research.jp/1_shiryo/koe/yotaka_teion_130618_nasushiobara_hirano.wma\n"
     ]
    },
    {
     "name": "stderr",
     "output_type": "stream",
     "text": [
      "\r",
      " 17%|███████████████████                                                                                               | 1103/6576 [13:26<1:04:27,  1.41it/s]"
     ]
    },
    {
     "name": "stdout",
     "output_type": "stream",
     "text": [
      "------------------------------------------------------------------------------ 1109\n",
      "yotaka_070521_nikko_mju.wma\n",
      "/home/wataru/code/b-com/b-com/crawling/ヨタカ/地鳴き？\n",
      "https://www.bird-research.jp/1_shiryo/koe/yotaka_070521_nikko_mju.wma\n"
     ]
    },
    {
     "name": "stderr",
     "output_type": "stream",
     "text": [
      "\r",
      " 17%|███████████████████▏                                                                                              | 1110/6576 [13:32<1:05:13,  1.40it/s]"
     ]
    },
    {
     "name": "stdout",
     "output_type": "stream",
     "text": [
      "------------------------------------------------------------------------------ 1116\n",
      "yotaka_150624_wakayama_kuroda.wma\n",
      "/home/wataru/code/b-com/b-com/crawling/ヨタカ/３種類の声\n",
      "https://www.bird-research.jp/1_shiryo/koe/yotaka_150624_wakayama_kuroda.wma\n"
     ]
    },
    {
     "name": "stderr",
     "output_type": "stream",
     "text": [
      "\r",
      " 17%|███████████████████▎                                                                                              | 1117/6576 [13:37<1:05:42,  1.38it/s]"
     ]
    },
    {
     "name": "stdout",
     "output_type": "stream",
     "text": [
      "------------------------------------------------------------------------------ 1123\n",
      "yotaka_110604_nikko_abe.wma\n",
      "/home/wataru/code/b-com/b-com/crawling/ヨタカ/雄\n",
      "https://www.bird-research.jp/1_shiryo/koe/yotaka_110604_nikko_abe.wma\n"
     ]
    },
    {
     "name": "stderr",
     "output_type": "stream",
     "text": [
      "\r",
      " 17%|███████████████████▍                                                                                              | 1124/6576 [13:42<1:06:24,  1.37it/s]"
     ]
    },
    {
     "name": "stdout",
     "output_type": "stream",
     "text": [
      "------------------------------------------------------------------------------ 1130\n",
      "yotaka_120614_nikko_abe.wma\n",
      "/home/wataru/code/b-com/b-com/crawling/ヨタカ/雄\n",
      "https://www.bird-research.jp/1_shiryo/koe/yotaka_120614_nikko_abe.wma\n"
     ]
    },
    {
     "name": "stderr",
     "output_type": "stream",
     "text": [
      "\r",
      " 17%|███████████████████▌                                                                                              | 1131/6576 [13:47<1:06:50,  1.36it/s]"
     ]
    },
    {
     "name": "stdout",
     "output_type": "stream",
     "text": [
      "------------------------------------------------------------------------------ 1137\n",
      "yotaka_150629_nikko_abe.wma\n",
      "/home/wataru/code/b-com/b-com/crawling/ヨタカ/雄\n",
      "https://www.bird-research.jp/1_shiryo/koe/yotaka_150629_nikko_abe.wma\n"
     ]
    },
    {
     "name": "stderr",
     "output_type": "stream",
     "text": [
      "\r",
      " 17%|███████████████████▋                                                                                              | 1138/6576 [13:52<1:06:45,  1.36it/s]"
     ]
    },
    {
     "name": "stdout",
     "output_type": "stream",
     "text": [
      "------------------------------------------------------------------------------ 1145\n",
      "harioama_080704_doto_kuroda.wma\n",
      "/home/wataru/code/b-com/b-com/crawling/ハリオアマツバメ/\n",
      "https://www.bird-research.jp/1_shiryo/koe/harioama_080704_doto_kuroda.wma\n"
     ]
    },
    {
     "name": "stderr",
     "output_type": "stream",
     "text": [
      "\r",
      " 17%|███████████████████▊                                                                                              | 1146/6576 [13:58<1:04:14,  1.41it/s]"
     ]
    },
    {
     "name": "stdout",
     "output_type": "stream",
     "text": [
      "------------------------------------------------------------------------------ 1152\n",
      "amatsubame_180523_osado_mju.wma\n",
      "/home/wataru/code/b-com/b-com/crawling/アマツバメ/\n",
      "https://www.bird-research.jp/1_shiryo/koe/amatsubame_180523_osado_mju.wma\n"
     ]
    },
    {
     "name": "stderr",
     "output_type": "stream",
     "text": [
      "\r",
      " 18%|███████████████████▉                                                                                              | 1153/6576 [14:03<1:05:18,  1.38it/s]"
     ]
    },
    {
     "name": "stdout",
     "output_type": "stream",
     "text": [
      "------------------------------------------------------------------------------ 1159\n",
      "amatsubame_140528_wakayama_kuroda.wma\n",
      "/home/wataru/code/b-com/b-com/crawling/アマツバメ/\n",
      "https://www.bird-research.jp/1_shiryo/koe/amatsubame_140528_wakayama_kuroda.wma\n"
     ]
    },
    {
     "name": "stderr",
     "output_type": "stream",
     "text": [
      "\r",
      " 18%|████████████████████                                                                                              | 1160/6576 [14:08<1:05:36,  1.38it/s]"
     ]
    },
    {
     "name": "stdout",
     "output_type": "stream",
     "text": [
      "------------------------------------------------------------------------------ 1166\n",
      "amatsubame_120817_muroran_kuros.wma\n",
      "/home/wataru/code/b-com/b-com/crawling/アマツバメ/若鳥群れ\n",
      "https://www.bird-research.jp/1_shiryo/koe/amatsubame_120817_muroran_kuros.wma\n"
     ]
    },
    {
     "name": "stderr",
     "output_type": "stream",
     "text": [
      "\r",
      " 18%|████████████████████▏                                                                                             | 1167/6576 [14:13<1:06:09,  1.36it/s]"
     ]
    },
    {
     "name": "stdout",
     "output_type": "stream",
     "text": [
      "------------------------------------------------------------------------------ 1173\n",
      "amatsubame_120719_muroran_kuros.wma\n",
      "/home/wataru/code/b-com/b-com/crawling/アマツバメ/\n",
      "https://www.bird-research.jp/1_shiryo/koe/amatsubame_120719_muroran_kuros.wma\n"
     ]
    },
    {
     "name": "stderr",
     "output_type": "stream",
     "text": [
      "\r",
      " 18%|████████████████████▎                                                                                             | 1174/6576 [14:19<1:06:22,  1.36it/s]"
     ]
    },
    {
     "name": "stdout",
     "output_type": "stream",
     "text": [
      "------------------------------------------------------------------------------ 1180\n",
      "himeama_140614_fuji_mju.wma\n",
      "/home/wataru/code/b-com/b-com/crawling/ヒメアマツバメ/\n",
      "https://www.bird-research.jp/1_shiryo/koe/himeama_140614_fuji_mju.wma\n"
     ]
    },
    {
     "name": "stderr",
     "output_type": "stream",
     "text": [
      "\r",
      " 18%|████████████████████▍                                                                                             | 1181/6576 [14:24<1:06:21,  1.35it/s]"
     ]
    },
    {
     "name": "stdout",
     "output_type": "stream",
     "text": [
      "------------------------------------------------------------------------------ 1187\n",
      "himeama_150510_naganuma_mju.wma\n",
      "/home/wataru/code/b-com/b-com/crawling/ヒメアマツバメ/\n",
      "https://www.bird-research.jp/1_shiryo/koe/himeama_150510_naganuma_mju.wma\n"
     ]
    },
    {
     "name": "stderr",
     "output_type": "stream",
     "text": [
      "\r",
      " 18%|████████████████████▌                                                                                             | 1188/6576 [14:29<1:06:31,  1.35it/s]"
     ]
    },
    {
     "name": "stdout",
     "output_type": "stream",
     "text": [
      "------------------------------------------------------------------------------ 1194\n",
      "himeama2_150510_naganuma_mju.wma\n",
      "/home/wataru/code/b-com/b-com/crawling/ヒメアマツバメ/\n",
      "https://www.bird-research.jp/1_shiryo/koe/himeama2_150510_naganuma_mju.wma\n"
     ]
    },
    {
     "name": "stderr",
     "output_type": "stream",
     "text": [
      "\r",
      " 18%|████████████████████▋                                                                                             | 1195/6576 [14:34<1:06:41,  1.34it/s]"
     ]
    },
    {
     "name": "stdout",
     "output_type": "stream",
     "text": [
      "------------------------------------------------------------------------------ 1202\n",
      "tageri_121115_hyogo_kuroda.wma\n",
      "/home/wataru/code/b-com/b-com/crawling/タゲリ/地鳴き\n",
      "https://www.bird-research.jp/1_shiryo/koe/tageri_121115_hyogo_kuroda.wma\n"
     ]
    },
    {
     "name": "stderr",
     "output_type": "stream",
     "text": [
      "\r",
      " 18%|████████████████████▊                                                                                             | 1203/6576 [14:39<1:03:46,  1.40it/s]"
     ]
    },
    {
     "name": "stdout",
     "output_type": "stream",
     "text": [
      "------------------------------------------------------------------------------ 1209\n",
      "tageri_121116_hyogo_kuroda.wma\n",
      "/home/wataru/code/b-com/b-com/crawling/タゲリ/地鳴き\n",
      "https://www.bird-research.jp/1_shiryo/koe/tageri_121116_hyogo_kuroda.wma\n"
     ]
    },
    {
     "name": "stderr",
     "output_type": "stream",
     "text": [
      "\r",
      " 18%|████████████████████▉                                                                                             | 1210/6576 [14:45<1:04:43,  1.38it/s]"
     ]
    },
    {
     "name": "stdout",
     "output_type": "stream",
     "text": [
      "------------------------------------------------------------------------------ 1216\n",
      "tageri_170330_watarase_hirano.wma\n",
      "/home/wataru/code/b-com/b-com/crawling/タゲリ/鳴き交し\n",
      "https://www.bird-research.jp/1_shiryo/koe/tageri_170330_watarase_hirano.wma\n"
     ]
    },
    {
     "name": "stderr",
     "output_type": "stream",
     "text": [
      "\r",
      " 19%|█████████████████████                                                                                             | 1217/6576 [14:50<1:05:23,  1.37it/s]"
     ]
    },
    {
     "name": "stdout",
     "output_type": "stream",
     "text": [
      "------------------------------------------------------------------------------ 1223\n",
      "keri_120508_himeji_kuroda.wma\n",
      "/home/wataru/code/b-com/b-com/crawling/ケリ/警戒\n",
      "https://www.bird-research.jp/1_shiryo/koe/keri_120508_himeji_kuroda.wma\n"
     ]
    },
    {
     "name": "stderr",
     "output_type": "stream",
     "text": [
      "\r",
      " 19%|█████████████████████▏                                                                                            | 1224/6576 [14:55<1:05:26,  1.36it/s]"
     ]
    },
    {
     "name": "stdout",
     "output_type": "stream",
     "text": [
      "------------------------------------------------------------------------------ 1230\n",
      "keri_120508c_himeji_kuroda.wma\n",
      "/home/wataru/code/b-com/b-com/crawling/ケリ/攻撃\n",
      "https://www.bird-research.jp/1_shiryo/koe/keri_120508c_himeji_kuroda.wma\n"
     ]
    },
    {
     "name": "stderr",
     "output_type": "stream",
     "text": [
      "\r",
      " 19%|█████████████████████▎                                                                                            | 1231/6576 [15:00<1:05:26,  1.36it/s]"
     ]
    },
    {
     "name": "stdout",
     "output_type": "stream",
     "text": [
      "------------------------------------------------------------------------------ 1237\n",
      "keri_120508b_himeji_kuroda.wma\n",
      "/home/wataru/code/b-com/b-com/crawling/ケリ/特殊声\n",
      "https://www.bird-research.jp/1_shiryo/koe/keri_120508b_himeji_kuroda.wma\n"
     ]
    },
    {
     "name": "stderr",
     "output_type": "stream",
     "text": [
      "\r",
      " 19%|█████████████████████▍                                                                                            | 1238/6576 [15:05<1:05:26,  1.36it/s]"
     ]
    },
    {
     "name": "stdout",
     "output_type": "stream",
     "text": [
      "------------------------------------------------------------------------------ 1244\n",
      "munaguro111015_hyogo_kuroda.wma\n",
      "/home/wataru/code/b-com/b-com/crawling/ムナグロ/\n",
      "https://www.bird-research.jp/1_shiryo/koe/munaguro111015_hyogo_kuroda.wma\n"
     ]
    },
    {
     "name": "stderr",
     "output_type": "stream",
     "text": [
      "\r",
      " 19%|█████████████████████▌                                                                                            | 1245/6576 [15:11<1:05:43,  1.35it/s]"
     ]
    },
    {
     "name": "stdout",
     "output_type": "stream",
     "text": [
      "------------------------------------------------------------------------------ 1252\n",
      "munaguro_130826_hyogo_kuroda.wma\n",
      "/home/wataru/code/b-com/b-com/crawling/ムナグロ/\n",
      "https://www.bird-research.jp/1_shiryo/koe/munaguro_130826_hyogo_kuroda.wma\n"
     ]
    },
    {
     "name": "stderr",
     "output_type": "stream",
     "text": [
      "\r",
      " 19%|█████████████████████▋                                                                                            | 1253/6576 [15:16<1:03:06,  1.41it/s]"
     ]
    },
    {
     "name": "stdout",
     "output_type": "stream",
     "text": [
      "------------------------------------------------------------------------------ 1259\n",
      "munaguro_110419_hahajima_mju.wma\n",
      "/home/wataru/code/b-com/b-com/crawling/ムナグロ/\n",
      "https://www.bird-research.jp/1_shiryo/koe/munaguro_110419_hahajima_mju.wma\n"
     ]
    },
    {
     "name": "stderr",
     "output_type": "stream",
     "text": [
      "\r",
      " 19%|█████████████████████▊                                                                                            | 1260/6576 [15:21<1:03:56,  1.39it/s]"
     ]
    },
    {
     "name": "stdout",
     "output_type": "stream",
     "text": [
      "------------------------------------------------------------------------------ 1266\n",
      "daizen_211204_sanbanse_kuroda.wma\n",
      "/home/wataru/code/b-com/b-com/crawling/ダイゼン/\n",
      "https://www.bird-research.jp/1_shiryo/koe/daizen_211204_sanbanse_kuroda.wma\n"
     ]
    },
    {
     "name": "stderr",
     "output_type": "stream",
     "text": [
      "\r",
      " 19%|█████████████████████▉                                                                                            | 1267/6576 [15:26<1:04:36,  1.37it/s]"
     ]
    },
    {
     "name": "stdout",
     "output_type": "stream",
     "text": [
      "------------------------------------------------------------------------------ 1273\n",
      "ikaruchidori_100427_utsunomiya.wma\n",
      "/home/wataru/code/b-com/b-com/crawling/イカルチドリ/\n",
      "https://www.bird-research.jp/1_shiryo/koe/ikaruchidori_100427_utsunomiya.wma\n"
     ]
    },
    {
     "name": "stderr",
     "output_type": "stream",
     "text": [
      "\r",
      " 19%|██████████████████████                                                                                            | 1274/6576 [15:32<1:04:46,  1.36it/s]"
     ]
    },
    {
     "name": "stdout",
     "output_type": "stream",
     "text": [
      "------------------------------------------------------------------------------ 1280\n",
      "ikaruchidori_130618_nasushiobara_hirano.wma\n",
      "/home/wataru/code/b-com/b-com/crawling/イカルチドリ/警戒\n",
      "https://www.bird-research.jp/1_shiryo/koe/ikaruchidori_130618_nasushiobara_hirano.wma\n"
     ]
    },
    {
     "name": "stderr",
     "output_type": "stream",
     "text": [
      "\r",
      " 19%|██████████████████████▏                                                                                           | 1281/6576 [15:37<1:04:48,  1.36it/s]"
     ]
    },
    {
     "name": "stdout",
     "output_type": "stream",
     "text": [
      "------------------------------------------------------------------------------ 1287\n",
      "kochidori_100323_watarase.wma\n",
      "/home/wataru/code/b-com/b-com/crawling/コチドリ/\n",
      "https://www.bird-research.jp/1_shiryo/koe/kochidori_100323_watarase.wma\n"
     ]
    },
    {
     "name": "stderr",
     "output_type": "stream",
     "text": [
      "\r",
      " 20%|██████████████████████▎                                                                                           | 1288/6576 [15:42<1:06:02,  1.33it/s]"
     ]
    },
    {
     "name": "stdout",
     "output_type": "stream",
     "text": [
      "------------------------------------------------------------------------------ 1294\n",
      "kochidori2_10323_watarase.wma\n",
      "/home/wataru/code/b-com/b-com/crawling/コチドリ/\n",
      "https://www.bird-research.jp/1_shiryo/koe/kochidori2_10323_watarase.wma\n"
     ]
    },
    {
     "name": "stderr",
     "output_type": "stream",
     "text": [
      "\r",
      " 20%|██████████████████████▍                                                                                           | 1295/6576 [15:48<1:05:56,  1.33it/s]"
     ]
    },
    {
     "name": "stdout",
     "output_type": "stream",
     "text": [
      "------------------------------------------------------------------------------ 1301\n",
      "kochidori_140514_tasuno_kuroda.wma\n",
      "/home/wataru/code/b-com/b-com/crawling/コチドリ/モビング\n",
      "https://www.bird-research.jp/1_shiryo/koe/kochidori_140514_tasuno_kuroda.wma\n"
     ]
    },
    {
     "name": "stderr",
     "output_type": "stream",
     "text": [
      "\r",
      " 20%|██████████████████████▌                                                                                           | 1302/6576 [15:53<1:05:50,  1.34it/s]"
     ]
    },
    {
     "name": "stdout",
     "output_type": "stream",
     "text": [
      "------------------------------------------------------------------------------ 1308\n",
      "kochidori_150412_toyooka_kuroda.wma\n",
      "/home/wataru/code/b-com/b-com/crawling/コチドリ/求愛\n",
      "https://www.bird-research.jp/1_shiryo/koe/kochidori_150412_toyooka_kuroda.wma\n"
     ]
    },
    {
     "name": "stderr",
     "output_type": "stream",
     "text": [
      "\r",
      " 20%|██████████████████████▋                                                                                           | 1309/6576 [15:58<1:05:46,  1.33it/s]"
     ]
    },
    {
     "name": "stdout",
     "output_type": "stream",
     "text": [
      "------------------------------------------------------------------------------ 1315\n",
      "shirochidori_utsunomiya_100518.wma\n",
      "/home/wataru/code/b-com/b-com/crawling/シロチドリ/\n",
      "https://www.bird-research.jp/1_shiryo/koe/shirochidori_utsunomiya_100518.wma\n"
     ]
    },
    {
     "name": "stderr",
     "output_type": "stream",
     "text": [
      "\r",
      " 20%|██████████████████████▊                                                                                           | 1316/6576 [16:03<1:05:42,  1.33it/s]"
     ]
    },
    {
     "name": "stdout",
     "output_type": "stream",
     "text": [
      "------------------------------------------------------------------------------ 1323\n",
      "medaichidori_120503_tatsuno_kuroda.wma\n",
      "/home/wataru/code/b-com/b-com/crawling/メダイチドリ/\n",
      "https://www.bird-research.jp/1_shiryo/koe/medaichidori_120503_tatsuno_kuroda.wma\n"
     ]
    },
    {
     "name": "stderr",
     "output_type": "stream",
     "text": [
      "\r",
      " 20%|██████████████████████▉                                                                                           | 1324/6576 [16:08<1:02:35,  1.40it/s]"
     ]
    },
    {
     "name": "stdout",
     "output_type": "stream",
     "text": [
      "------------------------------------------------------------------------------ 1330\n",
      "miyakodori_130405_sanbanse_moriya.wma\n",
      "/home/wataru/code/b-com/b-com/crawling/ミヤコドリ/\n",
      "https://www.bird-research.jp/1_shiryo/koe/miyakodori_130405_sanbanse_moriya.wma\n"
     ]
    },
    {
     "name": "stderr",
     "output_type": "stream",
     "text": [
      "\r",
      " 20%|███████████████████████                                                                                           | 1331/6576 [16:14<1:03:22,  1.38it/s]"
     ]
    },
    {
     "name": "stdout",
     "output_type": "stream",
     "text": [
      "------------------------------------------------------------------------------ 1337\n",
      "miyakodori_120320_sanbanse_moriya.wma\n",
      "/home/wataru/code/b-com/b-com/crawling/ミヤコドリ/\n",
      "https://www.bird-research.jp/1_shiryo/koe/miyakodori_120320_sanbanse_moriya.wma\n"
     ]
    },
    {
     "name": "stderr",
     "output_type": "stream",
     "text": [
      "\r",
      " 20%|███████████████████████▏                                                                                          | 1338/6576 [16:19<1:03:41,  1.37it/s]"
     ]
    },
    {
     "name": "stdout",
     "output_type": "stream",
     "text": [
      "------------------------------------------------------------------------------ 1344\n",
      "seitaka_200701_hyogo_kuroda.wma\n",
      "/home/wataru/code/b-com/b-com/crawling/セイタカシギ/ヒナと雄\n",
      "https://www.bird-research.jp/1_shiryo/koe/seitaka_200701_hyogo_kuroda.wma\n"
     ]
    },
    {
     "name": "stderr",
     "output_type": "stream",
     "text": [
      "\r",
      " 20%|███████████████████████▎                                                                                          | 1345/6576 [16:25<1:06:05,  1.32it/s]"
     ]
    },
    {
     "name": "stdout",
     "output_type": "stream",
     "text": [
      "------------------------------------------------------------------------------ 1351\n",
      "seitaka_200704_hyogo_kuroda.wma\n",
      "/home/wataru/code/b-com/b-com/crawling/セイタカシギ/ヒナと雌\n",
      "https://www.bird-research.jp/1_shiryo/koe/seitaka_200704_hyogo_kuroda.wma\n"
     ]
    },
    {
     "name": "stderr",
     "output_type": "stream",
     "text": [
      "\r",
      " 21%|███████████████████████▍                                                                                          | 1352/6576 [16:30<1:05:37,  1.33it/s]"
     ]
    },
    {
     "name": "stdout",
     "output_type": "stream",
     "text": [
      "------------------------------------------------------------------------------ 1358\n",
      "seitaka_200702_hyogo_kuroda.wma\n",
      "/home/wataru/code/b-com/b-com/crawling/セイタカシギ/攻撃\n",
      "https://www.bird-research.jp/1_shiryo/koe/seitaka_200702_hyogo_kuroda.wma\n"
     ]
    },
    {
     "name": "stderr",
     "output_type": "stream",
     "text": [
      "\r",
      " 21%|███████████████████████▌                                                                                          | 1359/6576 [16:35<1:05:36,  1.33it/s]"
     ]
    },
    {
     "name": "stdout",
     "output_type": "stream",
     "text": [
      "------------------------------------------------------------------------------ 1365\n",
      "seitaka_200718_hyogo_kuroda.wma\n",
      "/home/wataru/code/b-com/b-com/crawling/セイタカシギ/雄\n",
      "https://www.bird-research.jp/1_shiryo/koe/seitaka_200718_hyogo_kuroda.wma\n"
     ]
    },
    {
     "name": "stderr",
     "output_type": "stream",
     "text": [
      "\r",
      " 21%|███████████████████████▋                                                                                          | 1366/6576 [16:40<1:05:29,  1.33it/s]"
     ]
    },
    {
     "name": "stdout",
     "output_type": "stream",
     "text": [
      "------------------------------------------------------------------------------ 1372\n",
      "sorisei_181221_sankaku_oshiro.wma\n",
      "/home/wataru/code/b-com/b-com/crawling/ソリハシセイタカシギ/地鳴き\n",
      "https://www.bird-research.jp/1_shiryo/koe/sorisei_181221_sankaku_oshiro.wma\n"
     ]
    },
    {
     "name": "stderr",
     "output_type": "stream",
     "text": [
      "\r",
      " 21%|███████████████████████▊                                                                                          | 1373/6576 [16:46<1:05:25,  1.33it/s]"
     ]
    },
    {
     "name": "stdout",
     "output_type": "stream",
     "text": [
      "------------------------------------------------------------------------------ 1379\n",
      "sorisei_211021_makabe_oshiro.wma\n",
      "/home/wataru/code/b-com/b-com/crawling/ソリハシセイタカシギ/地鳴き\n",
      "https://www.bird-research.jp/1_shiryo/koe/sorisei_211021_makabe_oshiro.wma\n"
     ]
    },
    {
     "name": "stderr",
     "output_type": "stream",
     "text": [
      "\r",
      " 21%|███████████████████████▉                                                                                          | 1380/6576 [16:51<1:05:19,  1.33it/s]"
     ]
    },
    {
     "name": "stdout",
     "output_type": "stream",
     "text": [
      "------------------------------------------------------------------------------ 1386\n",
      "sorisei_211022_makabe_oshiro.wma\n",
      "/home/wataru/code/b-com/b-com/crawling/ソリハシセイタカシギ/警戒\n",
      "https://www.bird-research.jp/1_shiryo/koe/sorisei_211022_makabe_oshiro.wma\n"
     ]
    },
    {
     "name": "stderr",
     "output_type": "stream",
     "text": [
      "\r",
      " 21%|████████████████████████                                                                                          | 1387/6576 [16:56<1:05:00,  1.33it/s]"
     ]
    },
    {
     "name": "stdout",
     "output_type": "stream",
     "text": [
      "------------------------------------------------------------------------------ 1393\n",
      "yamashigi_080704_doto_kuroda.wma\n",
      "/home/wataru/code/b-com/b-com/crawling/ヤマシギ/求愛\n",
      "https://www.bird-research.jp/1_shiryo/koe/yamashigi_080704_doto_kuroda.wma\n"
     ]
    },
    {
     "name": "stderr",
     "output_type": "stream",
     "text": [
      "\r",
      " 21%|████████████████████████▏                                                                                         | 1394/6576 [17:01<1:04:33,  1.34it/s]"
     ]
    },
    {
     "name": "stdout",
     "output_type": "stream",
     "text": [
      "------------------------------------------------------------------------------ 1400\n",
      "yamashigi_160505_furano_cyberforest.wma\n",
      "/home/wataru/code/b-com/b-com/crawling/ヤマシギ/\n",
      "https://www.bird-research.jp/1_shiryo/koe/yamashigi_160505_furano_cyberforest.wma\n"
     ]
    },
    {
     "name": "stderr",
     "output_type": "stream",
     "text": [
      "\r",
      " 21%|████████████████████████▎                                                                                         | 1401/6576 [17:07<1:04:39,  1.33it/s]"
     ]
    },
    {
     "name": "stdout",
     "output_type": "stream",
     "text": [
      "------------------------------------------------------------------------------ 1407\n",
      "amamiyamashigi_040312_kagoshima_kaji.wma\n",
      "/home/wataru/code/b-com/b-com/crawling/アマミヤマシギ/\n",
      "https://www.bird-research.jp/1_shiryo/koe/amamiyamashigi_040312_kagoshima_kaji.wma\n"
     ]
    },
    {
     "name": "stderr",
     "output_type": "stream",
     "text": [
      "\r",
      " 21%|████████████████████████▍                                                                                         | 1408/6576 [17:12<1:04:37,  1.33it/s]"
     ]
    },
    {
     "name": "stdout",
     "output_type": "stream",
     "text": [
      "------------------------------------------------------------------------------ 1414\n",
      "oojishigi2_070620_nagano_kaji.wma\n",
      "/home/wataru/code/b-com/b-com/crawling/オオジシギ/さえずり\n",
      "https://www.bird-research.jp/1_shiryo/koe/oojishigi2_070620_nagano_kaji.wma\n"
     ]
    },
    {
     "name": "stderr",
     "output_type": "stream",
     "text": [
      "\r",
      " 22%|████████████████████████▌                                                                                         | 1415/6576 [17:17<1:04:34,  1.33it/s]"
     ]
    },
    {
     "name": "stdout",
     "output_type": "stream",
     "text": [
      "------------------------------------------------------------------------------ 1421\n",
      "oojishigi1_070620_nagano_kaji.wma\n",
      "/home/wataru/code/b-com/b-com/crawling/オオジシギ/地上\n",
      "https://www.bird-research.jp/1_shiryo/koe/oojishigi1_070620_nagano_kaji.wma\n"
     ]
    },
    {
     "name": "stderr",
     "output_type": "stream",
     "text": [
      "\r",
      " 22%|████████████████████████▋                                                                                         | 1422/6576 [17:22<1:04:15,  1.34it/s]"
     ]
    },
    {
     "name": "stdout",
     "output_type": "stream",
     "text": [
      "------------------------------------------------------------------------------ 1428\n",
      "tashigi_111004_hyogo_kuroda.wma\n",
      "/home/wataru/code/b-com/b-com/crawling/タシギ/\n",
      "https://www.bird-research.jp/1_shiryo/koe/tashigi_111004_hyogo_kuroda.wma\n"
     ]
    },
    {
     "name": "stderr",
     "output_type": "stream",
     "text": [
      "\r",
      " 22%|████████████████████████▊                                                                                         | 1429/6576 [17:28<1:03:54,  1.34it/s]"
     ]
    },
    {
     "name": "stdout",
     "output_type": "stream",
     "text": [
      "------------------------------------------------------------------------------ 1435\n",
      "tashigi_121027_hyogo_kuroda.wma\n",
      "/home/wataru/code/b-com/b-com/crawling/タシギ/\n",
      "https://www.bird-research.jp/1_shiryo/koe/tashigi_121027_hyogo_kuroda.wma\n"
     ]
    },
    {
     "name": "stderr",
     "output_type": "stream",
     "text": [
      "\r",
      " 22%|████████████████████████▉                                                                                         | 1436/6576 [17:33<1:03:58,  1.34it/s]"
     ]
    },
    {
     "name": "stdout",
     "output_type": "stream",
     "text": [
      "------------------------------------------------------------------------------ 1442\n",
      "ohashishigi_140424_matsuzaka_miyagoe.wma\n",
      "/home/wataru/code/b-com/b-com/crawling/オオハシシギ/\n",
      "https://www.bird-research.jp/1_shiryo/koe/ohashishigi_140424_matsuzaka_miyagoe.wma\n"
     ]
    },
    {
     "name": "stderr",
     "output_type": "stream",
     "text": [
      "\r",
      " 22%|█████████████████████████                                                                                         | 1443/6576 [17:38<1:04:06,  1.33it/s]"
     ]
    },
    {
     "name": "stdout",
     "output_type": "stream",
     "text": [
      "------------------------------------------------------------------------------ 1449\n",
      "osorihashi_181028_sanbanse_kuroda.wma\n",
      "/home/wataru/code/b-com/b-com/crawling/オオソリハシシギ/地鳴き\n",
      "https://www.bird-research.jp/1_shiryo/koe/osorihashi_181028_sanbanse_kuroda.wma\n"
     ]
    },
    {
     "name": "stderr",
     "output_type": "stream",
     "text": [
      "\r",
      " 22%|█████████████████████████▏                                                                                        | 1450/6576 [17:43<1:03:53,  1.34it/s]"
     ]
    },
    {
     "name": "stdout",
     "output_type": "stream",
     "text": [
      "------------------------------------------------------------------------------ 1456\n",
      "chushakushyigi_120423_ishigaki_moriya.wma\n",
      "/home/wataru/code/b-com/b-com/crawling/チュウシャクシギ/\n",
      "https://www.bird-research.jp/1_shiryo/koe/chushakushyigi_120423_ishigaki_moriya.wma\n"
     ]
    },
    {
     "name": "stderr",
     "output_type": "stream",
     "text": [
      "\r",
      " 22%|█████████████████████████▎                                                                                        | 1457/6576 [17:48<1:03:35,  1.34it/s]"
     ]
    },
    {
     "name": "stdout",
     "output_type": "stream",
     "text": [
      "------------------------------------------------------------------------------ 1464\n",
      "chushaku_120430_tatsuno_kuroda.wma\n",
      "/home/wataru/code/b-com/b-com/crawling/チュウシャクシギ/飛行中\n",
      "https://www.bird-research.jp/1_shiryo/koe/chushaku_120430_tatsuno_kuroda.wma\n"
     ]
    },
    {
     "name": "stderr",
     "output_type": "stream",
     "text": [
      "\r",
      " 22%|█████████████████████████▍                                                                                        | 1465/6576 [17:54<1:00:59,  1.40it/s]"
     ]
    },
    {
     "name": "stdout",
     "output_type": "stream",
     "text": [
      "------------------------------------------------------------------------------ 1471\n",
      "chushaku1_120430_tatsuno_kuroda.wma\n",
      "/home/wataru/code/b-com/b-com/crawling/チュウシャクシギ/\n",
      "https://www.bird-research.jp/1_shiryo/koe/chushaku1_120430_tatsuno_kuroda.wma\n"
     ]
    },
    {
     "name": "stderr",
     "output_type": "stream",
     "text": [
      "\r",
      " 22%|█████████████████████████▌                                                                                        | 1472/6576 [17:59<1:01:43,  1.38it/s]"
     ]
    },
    {
     "name": "stdout",
     "output_type": "stream",
     "text": [
      "------------------------------------------------------------------------------ 1478\n",
      "daisyaku_181017_mie_kuroda.wma\n",
      "/home/wataru/code/b-com/b-com/crawling/ダイシャクシギ/\n",
      "https://www.bird-research.jp/1_shiryo/koe/daisyaku_181017_mie_kuroda.wma\n"
     ]
    },
    {
     "name": "stderr",
     "output_type": "stream",
     "text": [
      "\r",
      " 22%|█████████████████████████▋                                                                                        | 1479/6576 [18:04<1:02:22,  1.36it/s]"
     ]
    },
    {
     "name": "stdout",
     "output_type": "stream",
     "text": [
      "------------------------------------------------------------------------------ 1485\n",
      "horoku_090409_sanbanse_moriya.wma\n",
      "/home/wataru/code/b-com/b-com/crawling/ホウロクシギ/\n",
      "https://www.bird-research.jp/1_shiryo/koe/horoku_090409_sanbanse_moriya.wma\n"
     ]
    },
    {
     "name": "stderr",
     "output_type": "stream",
     "text": [
      "\r",
      " 23%|█████████████████████████▊                                                                                        | 1486/6576 [18:09<1:02:23,  1.36it/s]"
     ]
    },
    {
     "name": "stdout",
     "output_type": "stream",
     "text": [
      "------------------------------------------------------------------------------ 1492\n",
      "tsurushigi_110929_hyogo_kuroda.wma\n",
      "/home/wataru/code/b-com/b-com/crawling/ツルシギ/\n",
      "https://www.bird-research.jp/1_shiryo/koe/tsurushigi_110929_hyogo_kuroda.wma\n"
     ]
    },
    {
     "name": "stderr",
     "output_type": "stream",
     "text": [
      "\r",
      " 23%|█████████████████████████▉                                                                                        | 1493/6576 [18:15<1:02:24,  1.36it/s]"
     ]
    },
    {
     "name": "stdout",
     "output_type": "stream",
     "text": [
      "------------------------------------------------------------------------------ 1499\n",
      "tsurushigi_121014_hyogo_kuroda.wma\n",
      "/home/wataru/code/b-com/b-com/crawling/ツルシギ/\n",
      "https://www.bird-research.jp/1_shiryo/koe/tsurushigi_121014_hyogo_kuroda.wma\n"
     ]
    },
    {
     "name": "stderr",
     "output_type": "stream",
     "text": [
      "\r",
      " 23%|██████████████████████████                                                                                        | 1500/6576 [18:20<1:02:30,  1.35it/s]"
     ]
    },
    {
     "name": "stdout",
     "output_type": "stream",
     "text": [
      "------------------------------------------------------------------------------ 1506\n",
      "akaashishigi_111003_hyogo_kuroda.wma\n",
      "/home/wataru/code/b-com/b-com/crawling/アカアシシギ/\n",
      "https://www.bird-research.jp/1_shiryo/koe/akaashishigi_111003_hyogo_kuroda.wma\n"
     ]
    },
    {
     "name": "stderr",
     "output_type": "stream",
     "text": [
      "\r",
      " 23%|██████████████████████████▏                                                                                       | 1507/6576 [18:25<1:02:43,  1.35it/s]"
     ]
    },
    {
     "name": "stdout",
     "output_type": "stream",
     "text": [
      "------------------------------------------------------------------------------ 1513\n",
      "koaoashi_130428_saga_moriya.wma\n",
      "/home/wataru/code/b-com/b-com/crawling/コアオアシシギ/\n",
      "https://www.bird-research.jp/1_shiryo/koe/koaoashi_130428_saga_moriya.wma\n"
     ]
    },
    {
     "name": "stderr",
     "output_type": "stream",
     "text": [
      "\r",
      " 23%|██████████████████████████▏                                                                                       | 1514/6576 [18:30<1:02:50,  1.34it/s]"
     ]
    },
    {
     "name": "stdout",
     "output_type": "stream",
     "text": [
      "------------------------------------------------------------------------------ 1520\n",
      "aoashishigi_20150819_oyama_hirano.wma\n",
      "/home/wataru/code/b-com/b-com/crawling/アオアシシギ/\n",
      "https://www.bird-research.jp/1_shiryo/koe/aoashishigi_20150819_oyama_hirano.wma\n"
     ]
    },
    {
     "name": "stderr",
     "output_type": "stream",
     "text": [
      "\r",
      " 23%|██████████████████████████▎                                                                                       | 1521/6576 [18:36<1:02:55,  1.34it/s]"
     ]
    },
    {
     "name": "stdout",
     "output_type": "stream",
     "text": [
      "------------------------------------------------------------------------------ 1527\n",
      "koao_141024_tatsuno_kuroda.wma\n",
      "/home/wataru/code/b-com/b-com/crawling/コアオアシシギ/\n",
      "https://www.bird-research.jp/1_shiryo/koe/koao_141024_tatsuno_kuroda.wma\n"
     ]
    },
    {
     "name": "stderr",
     "output_type": "stream",
     "text": [
      "\r",
      " 23%|██████████████████████████▍                                                                                       | 1528/6576 [18:41<1:03:01,  1.33it/s]"
     ]
    },
    {
     "name": "stdout",
     "output_type": "stream",
     "text": [
      "------------------------------------------------------------------------------ 1534\n",
      "kusashigi_071107_watarase_hirano.wma\n",
      "/home/wataru/code/b-com/b-com/crawling/クサシギ/\n",
      "https://www.bird-research.jp/1_shiryo/koe/kusashigi_071107_watarase_hirano.wma\n"
     ]
    },
    {
     "name": "stderr",
     "output_type": "stream",
     "text": [
      "\r",
      " 23%|██████████████████████████▌                                                                                       | 1535/6576 [18:46<1:03:09,  1.33it/s]"
     ]
    },
    {
     "name": "stdout",
     "output_type": "stream",
     "text": [
      "------------------------------------------------------------------------------ 1541\n",
      "kusashigi_180109_watarase_hirano.wma\n",
      "/home/wataru/code/b-com/b-com/crawling/クサシギ/\n",
      "https://www.bird-research.jp/1_shiryo/koe/kusashigi_180109_watarase_hirano.wma\n"
     ]
    },
    {
     "name": "stderr",
     "output_type": "stream",
     "text": [
      "\r",
      " 23%|██████████████████████████▋                                                                                       | 1542/6576 [18:51<1:02:50,  1.34it/s]"
     ]
    },
    {
     "name": "stdout",
     "output_type": "stream",
     "text": [
      "------------------------------------------------------------------------------ 1548\n",
      "takabu_130428_saga_moriya.wma\n",
      "/home/wataru/code/b-com/b-com/crawling/タカブシギ/\n",
      "https://www.bird-research.jp/1_shiryo/koe/takabu_130428_saga_moriya.wma\n"
     ]
    },
    {
     "name": "stderr",
     "output_type": "stream",
     "text": [
      "\r",
      " 24%|██████████████████████████▊                                                                                       | 1549/6576 [18:57<1:02:30,  1.34it/s]"
     ]
    },
    {
     "name": "stdout",
     "output_type": "stream",
     "text": [
      "------------------------------------------------------------------------------ 1555\n",
      "takabu_140902_tatsuno_kuroda.wma\n",
      "/home/wataru/code/b-com/b-com/crawling/タカブシギ/\n",
      "https://www.bird-research.jp/1_shiryo/koe/takabu_140902_tatsuno_kuroda.wma\n"
     ]
    },
    {
     "name": "stderr",
     "output_type": "stream",
     "text": [
      "\r",
      " 24%|██████████████████████████▉                                                                                       | 1556/6576 [19:02<1:02:33,  1.34it/s]"
     ]
    },
    {
     "name": "stdout",
     "output_type": "stream",
     "text": [
      "------------------------------------------------------------------------------ 1562\n",
      "takabu2_140902_tatsuno_kuroda.wma\n",
      "/home/wataru/code/b-com/b-com/crawling/タカブシギ/\n",
      "https://www.bird-research.jp/1_shiryo/koe/takabu2_140902_tatsuno_kuroda.wma\n"
     ]
    },
    {
     "name": "stderr",
     "output_type": "stream",
     "text": [
      "\r",
      " 24%|███████████████████████████                                                                                       | 1563/6576 [19:07<1:02:15,  1.34it/s]"
     ]
    },
    {
     "name": "stdout",
     "output_type": "stream",
     "text": [
      "------------------------------------------------------------------------------ 1569\n",
      "kiashishigi_130829_hyogo_kuroda.wma\n",
      "/home/wataru/code/b-com/b-com/crawling/キアシシギ/\n",
      "https://www.bird-research.jp/1_shiryo/koe/kiashishigi_130829_hyogo_kuroda.wma\n"
     ]
    },
    {
     "name": "stderr",
     "output_type": "stream",
     "text": [
      "\r",
      " 24%|███████████████████████████▏                                                                                      | 1570/6576 [19:12<1:02:02,  1.34it/s]"
     ]
    },
    {
     "name": "stdout",
     "output_type": "stream",
     "text": [
      "------------------------------------------------------------------------------ 1577\n",
      "kiashi_140515_tatsuno_kuroda.wma\n",
      "/home/wataru/code/b-com/b-com/crawling/キアシシギ/警戒\n",
      "https://www.bird-research.jp/1_shiryo/koe/kiashi_140515_tatsuno_kuroda.wma\n"
     ]
    },
    {
     "name": "stderr",
     "output_type": "stream",
     "text": [
      "\r",
      " 24%|███████████████████████████▊                                                                                        | 1578/6576 [19:17<59:17,  1.41it/s]"
     ]
    },
    {
     "name": "stdout",
     "output_type": "stream",
     "text": [
      "------------------------------------------------------------------------------ 1584\n",
      "kiashishigi_140515_tatsuno_kuroda.wma\n",
      "/home/wataru/code/b-com/b-com/crawling/キアシシギ/追い払い\n",
      "https://www.bird-research.jp/1_shiryo/koe/kiashishigi_140515_tatsuno_kuroda.wma\n"
     ]
    },
    {
     "name": "stderr",
     "output_type": "stream",
     "text": [
      "\r",
      " 24%|███████████████████████████▉                                                                                        | 1585/6576 [19:22<59:47,  1.39it/s]"
     ]
    },
    {
     "name": "stdout",
     "output_type": "stream",
     "text": [
      "------------------------------------------------------------------------------ 1591\n",
      "kiashishigi_120503_tatsuno_kuroda.wma\n",
      "/home/wataru/code/b-com/b-com/crawling/キアシシギ/\n",
      "https://www.bird-research.jp/1_shiryo/koe/kiashishigi_120503_tatsuno_kuroda.wma\n"
     ]
    },
    {
     "name": "stderr",
     "output_type": "stream",
     "text": [
      "\r",
      " 24%|███████████████████████████▌                                                                                      | 1592/6576 [19:28<1:00:24,  1.38it/s]"
     ]
    },
    {
     "name": "stdout",
     "output_type": "stream",
     "text": [
      "------------------------------------------------------------------------------ 1598\n",
      "sorihashi_130825_hyogo_kuroda.wma\n",
      "/home/wataru/code/b-com/b-com/crawling/ソリハシシギ/\n",
      "https://www.bird-research.jp/1_shiryo/koe/sorihashi_130825_hyogo_kuroda.wma\n"
     ]
    },
    {
     "name": "stderr",
     "output_type": "stream",
     "text": [
      "\r",
      " 24%|███████████████████████████▋                                                                                      | 1599/6576 [19:33<1:00:53,  1.36it/s]"
     ]
    },
    {
     "name": "stdout",
     "output_type": "stream",
     "text": [
      "------------------------------------------------------------------------------ 1605\n",
      "isoshigi_060620_oketo_kaji.wma\n",
      "/home/wataru/code/b-com/b-com/crawling/イソシギ/\n",
      "https://www.bird-research.jp/1_shiryo/koe/isoshigi_060620_oketo_kaji.wma\n"
     ]
    },
    {
     "name": "stderr",
     "output_type": "stream",
     "text": [
      "\r",
      " 24%|███████████████████████████▊                                                                                      | 1606/6576 [19:38<1:00:58,  1.36it/s]"
     ]
    },
    {
     "name": "stdout",
     "output_type": "stream",
     "text": [
      "------------------------------------------------------------------------------ 1612\n",
      "isoshigi_110424_utsunomiya_hirano.wma\n",
      "/home/wataru/code/b-com/b-com/crawling/イソシギ/\n",
      "https://www.bird-research.jp/1_shiryo/koe/isoshigi_110424_utsunomiya_hirano.wma\n"
     ]
    },
    {
     "name": "stderr",
     "output_type": "stream",
     "text": [
      "\r",
      " 25%|███████████████████████████▉                                                                                      | 1613/6576 [19:43<1:01:16,  1.35it/s]"
     ]
    },
    {
     "name": "stdout",
     "output_type": "stream",
     "text": [
      "------------------------------------------------------------------------------ 1619\n",
      "isoshigi2_110424_utsunomiya_hirano.wma\n",
      "/home/wataru/code/b-com/b-com/crawling/イソシギ/\n",
      "https://www.bird-research.jp/1_shiryo/koe/isoshigi2_110424_utsunomiya_hirano.wma\n"
     ]
    },
    {
     "name": "stderr",
     "output_type": "stream",
     "text": [
      "\r",
      " 25%|████████████████████████████                                                                                      | 1620/6576 [19:49<1:01:11,  1.35it/s]"
     ]
    },
    {
     "name": "stdout",
     "output_type": "stream",
     "text": [
      "------------------------------------------------------------------------------ 1626\n",
      "hamashigi_130826_hyogo_kuroda.wma\n",
      "/home/wataru/code/b-com/b-com/crawling/ハマシギ/\n",
      "https://www.bird-research.jp/1_shiryo/koe/hamashigi_130826_hyogo_kuroda.wma\n"
     ]
    },
    {
     "name": "stderr",
     "output_type": "stream",
     "text": [
      "\r",
      " 25%|████████████████████████████▏                                                                                     | 1627/6576 [19:54<1:01:19,  1.35it/s]"
     ]
    },
    {
     "name": "stdout",
     "output_type": "stream",
     "text": [
      "------------------------------------------------------------------------------ 1633\n",
      "kyojoshigi_110419_hahajima_mju.wma\n",
      "/home/wataru/code/b-com/b-com/crawling/キョウジョシギ/\n",
      "https://www.bird-research.jp/1_shiryo/koe/kyojoshigi_110419_hahajima_mju.wma\n"
     ]
    },
    {
     "name": "stderr",
     "output_type": "stream",
     "text": [
      "\r",
      " 25%|████████████████████████████▎                                                                                     | 1634/6576 [19:59<1:01:11,  1.35it/s]"
     ]
    },
    {
     "name": "stdout",
     "output_type": "stream",
     "text": [
      "------------------------------------------------------------------------------ 1641\n",
      "miyubishigi_201228_sousa_nuka.wma\n",
      "/home/wataru/code/b-com/b-com/crawling/ミユビシギ/\n",
      "https://www.bird-research.jp/1_shiryo/koe/miyubishigi_201228_sousa_nuka.wma\n"
     ]
    },
    {
     "name": "stderr",
     "output_type": "stream",
     "text": [
      "\r",
      " 25%|████████████████████████████▉                                                                                       | 1642/6576 [20:04<58:50,  1.40it/s]"
     ]
    },
    {
     "name": "stdout",
     "output_type": "stream",
     "text": [
      "------------------------------------------------------------------------------ 1648\n",
      "tonen_130830hyogo_kuroda.wma\n",
      "/home/wataru/code/b-com/b-com/crawling/トウネン/\n",
      "https://www.bird-research.jp/1_shiryo/koe/tonen_130830hyogo_kuroda.wma\n"
     ]
    },
    {
     "name": "stderr",
     "output_type": "stream",
     "text": [
      "\r",
      " 25%|█████████████████████████████                                                                                       | 1649/6576 [20:09<59:26,  1.38it/s]"
     ]
    },
    {
     "name": "stdout",
     "output_type": "stream",
     "text": [
      "------------------------------------------------------------------------------ 1655\n",
      "tonen_120921_hyogo_kuroda.wma\n",
      "/home/wataru/code/b-com/b-com/crawling/トウネン/\n",
      "https://www.bird-research.jp/1_shiryo/koe/tonen_120921_hyogo_kuroda.wma\n"
     ]
    },
    {
     "name": "stderr",
     "output_type": "stream",
     "text": [
      "\r",
      " 25%|█████████████████████████████▏                                                                                      | 1656/6576 [20:15<59:54,  1.37it/s]"
     ]
    },
    {
     "name": "stdout",
     "output_type": "stream",
     "text": [
      "------------------------------------------------------------------------------ 1662\n",
      "saruhama_160910_himeji_kuroda.wma\n",
      "/home/wataru/code/b-com/b-com/crawling/サルハマシギ/\n",
      "https://www.bird-research.jp/1_shiryo/koe/saruhama_160910_himeji_kuroda.wma\n"
     ]
    },
    {
     "name": "stderr",
     "output_type": "stream",
     "text": [
      "\r",
      " 25%|████████████████████████████▊                                                                                     | 1663/6576 [20:20<1:00:20,  1.36it/s]"
     ]
    },
    {
     "name": "stdout",
     "output_type": "stream",
     "text": [
      "------------------------------------------------------------------------------ 1669\n",
      "hamashigi_121028_hyogo_kuroda.wma\n",
      "/home/wataru/code/b-com/b-com/crawling/ハマシギ/\n",
      "https://www.bird-research.jp/1_shiryo/koe/hamashigi_121028_hyogo_kuroda.wma\n"
     ]
    },
    {
     "name": "stderr",
     "output_type": "stream",
     "text": [
      "\r",
      " 25%|████████████████████████████▉                                                                                     | 1670/6576 [20:25<1:00:29,  1.35it/s]"
     ]
    },
    {
     "name": "stdout",
     "output_type": "stream",
     "text": [
      "------------------------------------------------------------------------------ 1676\n",
      "tamashigi_070623_hyogo_kuroda.wma\n",
      "/home/wataru/code/b-com/b-com/crawling/タマシギ/\n",
      "https://www.bird-research.jp/1_shiryo/koe/tamashigi_070623_hyogo_kuroda.wma\n"
     ]
    },
    {
     "name": "stderr",
     "output_type": "stream",
     "text": [
      "\r",
      " 26%|█████████████████████████████                                                                                     | 1677/6576 [20:30<1:00:26,  1.35it/s]"
     ]
    },
    {
     "name": "stdout",
     "output_type": "stream",
     "text": [
      "------------------------------------------------------------------------------ 1683\n",
      "mifuuzuraf_130519_kiyamu_oshiro.wma\n",
      "/home/wataru/code/b-com/b-com/crawling/ミフウズラ/雌\n",
      "https://www.bird-research.jp/1_shiryo/koe/mifuuzuraf_130519_kiyamu_oshiro.wma\n"
     ]
    },
    {
     "name": "stderr",
     "output_type": "stream",
     "text": [
      "\r",
      " 26%|█████████████████████████████▏                                                                                    | 1684/6576 [20:36<1:00:34,  1.35it/s]"
     ]
    },
    {
     "name": "stdout",
     "output_type": "stream",
     "text": [
      "------------------------------------------------------------------------------ 1690\n",
      "mifuuzura_130519_kiyamu_oshiro.wma\n",
      "/home/wataru/code/b-com/b-com/crawling/ミフウズラ/雄\n",
      "https://www.bird-research.jp/1_shiryo/koe/mifuuzura_130519_kiyamu_oshiro.wma\n"
     ]
    },
    {
     "name": "stderr",
     "output_type": "stream",
     "text": [
      "\r",
      " 26%|█████████████████████████████▎                                                                                    | 1691/6576 [20:41<1:00:33,  1.34it/s]"
     ]
    },
    {
     "name": "stdout",
     "output_type": "stream",
     "text": [
      "------------------------------------------------------------------------------ 1697\n",
      "mifuuzura_210828_itoman_oshiro.wma\n",
      "/home/wataru/code/b-com/b-com/crawling/ミフウズラ/ヒナ\n",
      "https://www.bird-research.jp/1_shiryo/koe/mifuuzura_210828_itoman_oshiro.wma\n"
     ]
    },
    {
     "name": "stderr",
     "output_type": "stream",
     "text": [
      "\r",
      " 26%|█████████████████████████████▍                                                                                    | 1698/6576 [20:46<1:00:28,  1.34it/s]"
     ]
    },
    {
     "name": "stdout",
     "output_type": "stream",
     "text": [
      "------------------------------------------------------------------------------ 1704\n",
      "tsubamechi_121009_hyogo_kuroda.wma\n",
      "/home/wataru/code/b-com/b-com/crawling/ツバメチドリ/\n",
      "https://www.bird-research.jp/1_shiryo/koe/tsubamechi_121009_hyogo_kuroda.wma\n"
     ]
    },
    {
     "name": "stderr",
     "output_type": "stream",
     "text": [
      "\r",
      " 26%|█████████████████████████████▌                                                                                    | 1705/6576 [20:51<1:00:08,  1.35it/s]"
     ]
    },
    {
     "name": "stdout",
     "output_type": "stream",
     "text": [
      "------------------------------------------------------------------------------ 1711\n",
      "yurikamome1_0512_hyogo_kaji.wma\n",
      "/home/wataru/code/b-com/b-com/crawling/ユリカモメ/\n",
      "https://www.bird-research.jp/1_shiryo/koe/yurikamome1_0512_hyogo_kaji.wma\n"
     ]
    },
    {
     "name": "stderr",
     "output_type": "stream",
     "text": [
      "\r",
      " 26%|█████████████████████████████▋                                                                                    | 1712/6576 [20:56<1:00:19,  1.34it/s]"
     ]
    },
    {
     "name": "stdout",
     "output_type": "stream",
     "text": [
      "------------------------------------------------------------------------------ 1718\n",
      "yurikamome2_0801_hyogo_kaji.wma\n",
      "/home/wataru/code/b-com/b-com/crawling/ユリカモメ/\n",
      "https://www.bird-research.jp/1_shiryo/koe/yurikamome2_0801_hyogo_kaji.wma\n"
     ]
    },
    {
     "name": "stderr",
     "output_type": "stream",
     "text": [
      "\r",
      " 26%|█████████████████████████████▊                                                                                    | 1719/6576 [21:02<1:00:09,  1.35it/s]"
     ]
    },
    {
     "name": "stdout",
     "output_type": "stream",
     "text": [
      "------------------------------------------------------------------------------ 1725\n",
      "zugurokamome_121122_hyogo_kuroda.wma\n",
      "/home/wataru/code/b-com/b-com/crawling/ズグロカモメ/\n",
      "https://www.bird-research.jp/1_shiryo/koe/zugurokamome_121122_hyogo_kuroda.wma\n"
     ]
    },
    {
     "name": "stderr",
     "output_type": "stream",
     "text": [
      "\r",
      " 26%|█████████████████████████████▉                                                                                    | 1726/6576 [21:08<1:05:14,  1.24it/s]"
     ]
    },
    {
     "name": "stdout",
     "output_type": "stream",
     "text": [
      "------------------------------------------------------------------------------ 1732\n",
      "zugurokamome_121123_hyogo_kuroda.wma\n",
      "/home/wataru/code/b-com/b-com/crawling/ズグロカモメ/\n",
      "https://www.bird-research.jp/1_shiryo/koe/zugurokamome_121123_hyogo_kuroda.wma\n"
     ]
    },
    {
     "name": "stderr",
     "output_type": "stream",
     "text": [
      "\r",
      " 26%|██████████████████████████████                                                                                    | 1733/6576 [21:14<1:03:44,  1.27it/s]"
     ]
    },
    {
     "name": "stdout",
     "output_type": "stream",
     "text": [
      "------------------------------------------------------------------------------ 1739\n",
      "umineko_100223_sado_mju.wma\n",
      "/home/wataru/code/b-com/b-com/crawling/ウミネコ/\n",
      "https://www.bird-research.jp/1_shiryo/koe/umineko_100223_sado_mju.wma\n"
     ]
    },
    {
     "name": "stderr",
     "output_type": "stream",
     "text": [
      "\r",
      " 26%|██████████████████████████████▏                                                                                   | 1740/6576 [21:19<1:02:26,  1.29it/s]"
     ]
    },
    {
     "name": "stdout",
     "output_type": "stream",
     "text": [
      "------------------------------------------------------------------------------ 1746\n",
      "washikamome_140122_nemuro_mju.wma\n",
      "/home/wataru/code/b-com/b-com/crawling/ワシカモメ/\n",
      "https://www.bird-research.jp/1_shiryo/koe/washikamome_140122_nemuro_mju.wma\n"
     ]
    },
    {
     "name": "stderr",
     "output_type": "stream",
     "text": [
      "\r",
      " 27%|██████████████████████████████▎                                                                                   | 1747/6576 [21:24<1:01:27,  1.31it/s]"
     ]
    },
    {
     "name": "stdout",
     "output_type": "stream",
     "text": [
      "------------------------------------------------------------------------------ 1753\n",
      "segurokamome_110208_sado_mju.wma\n",
      "/home/wataru/code/b-com/b-com/crawling/セグロカモメ/\n",
      "https://www.bird-research.jp/1_shiryo/koe/segurokamome_110208_sado_mju.wma\n"
     ]
    },
    {
     "name": "stderr",
     "output_type": "stream",
     "text": [
      "\r",
      " 27%|██████████████████████████████▍                                                                                   | 1754/6576 [21:29<1:00:46,  1.32it/s]"
     ]
    },
    {
     "name": "stdout",
     "output_type": "stream",
     "text": [
      "------------------------------------------------------------------------------ 1760\n",
      "oseguro_20110201_tomamae_mju.wma\n",
      "/home/wataru/code/b-com/b-com/crawling/オオセグロカモメ/\n",
      "https://www.bird-research.jp/1_shiryo/koe/oseguro_20110201_tomamae_mju.wma\n"
     ]
    },
    {
     "name": "stderr",
     "output_type": "stream",
     "text": [
      "\r",
      " 27%|██████████████████████████████▌                                                                                   | 1761/6576 [21:34<1:00:16,  1.33it/s]"
     ]
    },
    {
     "name": "stdout",
     "output_type": "stream",
     "text": [
      "------------------------------------------------------------------------------ 1767\n",
      "oseguro_110228_tomamae_mju.wma\n",
      "/home/wataru/code/b-com/b-com/crawling/オオセグロカモメ/\n",
      "https://www.bird-research.jp/1_shiryo/koe/oseguro_110228_tomamae_mju.wma\n"
     ]
    },
    {
     "name": "stderr",
     "output_type": "stream",
     "text": [
      "\r",
      " 27%|███████████████████████████████▏                                                                                    | 1768/6576 [21:39<59:58,  1.34it/s]"
     ]
    },
    {
     "name": "stdout",
     "output_type": "stream",
     "text": [
      "------------------------------------------------------------------------------ 1774\n",
      "koajisashi_110607_watarase_hirano.wma\n",
      "/home/wataru/code/b-com/b-com/crawling/コアジサシ/\n",
      "https://www.bird-research.jp/1_shiryo/koe/koajisashi_110607_watarase_hirano.wma\n"
     ]
    },
    {
     "name": "stderr",
     "output_type": "stream",
     "text": [
      "\r",
      " 27%|███████████████████████████████▎                                                                                    | 1775/6576 [21:45<59:42,  1.34it/s]"
     ]
    },
    {
     "name": "stdout",
     "output_type": "stream",
     "text": [
      "------------------------------------------------------------------------------ 1781\n",
      "amerikakoaji_140718_hikawahama_nuka.wma\n",
      "/home/wataru/code/b-com/b-com/crawling/アメリカコアジサシ/\n",
      "https://www.bird-research.jp/1_shiryo/koe/amerikakoaji_140718_hikawahama_nuka.wma\n"
     ]
    },
    {
     "name": "stderr",
     "output_type": "stream",
     "text": [
      "\r",
      " 27%|███████████████████████████████▍                                                                                    | 1782/6576 [21:50<59:41,  1.34it/s]"
     ]
    },
    {
     "name": "stdout",
     "output_type": "stream",
     "text": [
      "------------------------------------------------------------------------------ 1788\n",
      "kanmuriumisuzu_190406_tokushima_kuroda1.wma\n",
      "/home/wataru/code/b-com/b-com/crawling/カンムリウミスズメ/\n",
      "https://www.bird-research.jp/1_shiryo/koe/kanmuriumisuzu_190406_tokushima_kuroda1.wma\n"
     ]
    },
    {
     "name": "stderr",
     "output_type": "stream",
     "text": [
      "\r",
      " 27%|███████████████████████████████▌                                                                                    | 1789/6576 [21:55<59:49,  1.33it/s]"
     ]
    },
    {
     "name": "stdout",
     "output_type": "stream",
     "text": [
      "------------------------------------------------------------------------------ 1795\n",
      "kanmuriumisuzu_190406_tokushima_kuroda2.wma\n",
      "/home/wataru/code/b-com/b-com/crawling/カンムリウミスズメ/\n",
      "https://www.bird-research.jp/1_shiryo/koe/kanmuriumisuzu_190406_tokushima_kuroda2.wma\n"
     ]
    },
    {
     "name": "stderr",
     "output_type": "stream",
     "text": [
      "\r",
      " 27%|███████████████████████████████▋                                                                                    | 1796/6576 [22:01<59:54,  1.33it/s]"
     ]
    },
    {
     "name": "stdout",
     "output_type": "stream",
     "text": [
      "------------------------------------------------------------------------------ 1802\n",
      "kanmuriumisuzu_190406_tokushima_kuroda3.wma\n",
      "/home/wataru/code/b-com/b-com/crawling/カンムリウミスズメ/\n",
      "https://www.bird-research.jp/1_shiryo/koe/kanmuriumisuzu_190406_tokushima_kuroda3.wma\n"
     ]
    },
    {
     "name": "stderr",
     "output_type": "stream",
     "text": [
      "\r",
      " 27%|███████████████████████████████▊                                                                                    | 1803/6576 [22:06<59:33,  1.34it/s]"
     ]
    },
    {
     "name": "stdout",
     "output_type": "stream",
     "text": [
      "------------------------------------------------------------------------------ 1810\n",
      "misago_1008_aichi_kuroda.wma\n",
      "/home/wataru/code/b-com/b-com/crawling/ミサゴ/\n",
      "https://www.bird-research.jp/1_shiryo/koe/misago_1008_aichi_kuroda.wma\n"
     ]
    },
    {
     "name": "stderr",
     "output_type": "stream",
     "text": [
      "\r",
      " 28%|███████████████████████████████▉                                                                                    | 1811/6576 [22:11<57:05,  1.39it/s]"
     ]
    },
    {
     "name": "stdout",
     "output_type": "stream",
     "text": [
      "------------------------------------------------------------------------------ 1817\n",
      "misago_140722_himeji_kuroda2.wma\n",
      "/home/wataru/code/b-com/b-com/crawling/ミサゴ/\n",
      "https://www.bird-research.jp/1_shiryo/koe/misago_140722_himeji_kuroda2.wma\n"
     ]
    },
    {
     "name": "stderr",
     "output_type": "stream",
     "text": [
      "\r",
      " 28%|████████████████████████████████                                                                                    | 1818/6576 [22:16<57:30,  1.38it/s]"
     ]
    },
    {
     "name": "stdout",
     "output_type": "stream",
     "text": [
      "------------------------------------------------------------------------------ 1824\n",
      "misago_0609_hyogo_kaji.wma\n",
      "/home/wataru/code/b-com/b-com/crawling/ミサゴ/鳴き交し\n",
      "https://www.bird-research.jp/1_shiryo/koe/misago_0609_hyogo_kaji.wma\n"
     ]
    },
    {
     "name": "stderr",
     "output_type": "stream",
     "text": [
      "\r",
      " 28%|████████████████████████████████▏                                                                                   | 1825/6576 [22:21<57:50,  1.37it/s]"
     ]
    },
    {
     "name": "stdout",
     "output_type": "stream",
     "text": [
      "------------------------------------------------------------------------------ 1831\n",
      "misago_120412_hyogo_kuroda.wma\n",
      "/home/wataru/code/b-com/b-com/crawling/ミサゴ/\n",
      "https://www.bird-research.jp/1_shiryo/koe/misago_120412_hyogo_kuroda.wma\n"
     ]
    },
    {
     "name": "stderr",
     "output_type": "stream",
     "text": [
      "\r",
      " 28%|████████████████████████████████▎                                                                                   | 1832/6576 [22:27<57:55,  1.36it/s]"
     ]
    },
    {
     "name": "stdout",
     "output_type": "stream",
     "text": [
      "------------------------------------------------------------------------------ 1838\n",
      "hachikuma_140823_nikko_abe.wma\n",
      "/home/wataru/code/b-com/b-com/crawling/ハチクマ/\n",
      "https://www.bird-research.jp/1_shiryo/koe/hachikuma_140823_nikko_abe.wma\n"
     ]
    },
    {
     "name": "stderr",
     "output_type": "stream",
     "text": [
      "\r",
      " 28%|████████████████████████████████▍                                                                                   | 1839/6576 [22:32<58:13,  1.36it/s]"
     ]
    },
    {
     "name": "stdout",
     "output_type": "stream",
     "text": [
      "------------------------------------------------------------------------------ 1845\n",
      "hachikuma_200826_okayama_saiki.wma\n",
      "/home/wataru/code/b-com/b-com/crawling/ハチクマ/雄 威嚇?\n",
      "https://www.bird-research.jp/1_shiryo/koe/hachikuma_200826_okayama_saiki.wma\n"
     ]
    },
    {
     "name": "stderr",
     "output_type": "stream",
     "text": [
      "\r",
      " 28%|████████████████████████████████▌                                                                                   | 1846/6576 [22:37<58:28,  1.35it/s]"
     ]
    },
    {
     "name": "stdout",
     "output_type": "stream",
     "text": [
      "------------------------------------------------------------------------------ 1852\n",
      "tobi_110308_watarase_hirano.wma\n",
      "/home/wataru/code/b-com/b-com/crawling/トビ/\n",
      "https://www.bird-research.jp/1_shiryo/koe/tobi_110308_watarase_hirano.wma\n"
     ]
    },
    {
     "name": "stderr",
     "output_type": "stream",
     "text": [
      "\r",
      " 28%|████████████████████████████████▋                                                                                   | 1853/6576 [22:42<58:22,  1.35it/s]"
     ]
    },
    {
     "name": "stdout",
     "output_type": "stream",
     "text": [
      "------------------------------------------------------------------------------ 1859\n",
      "ojirowashi_130215_nemuro_mju.wma\n",
      "/home/wataru/code/b-com/b-com/crawling/オジロワシ/\n",
      "https://www.bird-research.jp/1_shiryo/koe/ojirowashi_130215_nemuro_mju.wma\n"
     ]
    },
    {
     "name": "stderr",
     "output_type": "stream",
     "text": [
      "\r",
      " 28%|████████████████████████████████▊                                                                                   | 1860/6576 [22:47<58:29,  1.34it/s]"
     ]
    },
    {
     "name": "stdout",
     "output_type": "stream",
     "text": [
      "------------------------------------------------------------------------------ 1866\n",
      "oowashi_110119_yakumo_mju.wma\n",
      "/home/wataru/code/b-com/b-com/crawling/オオワシ/\n",
      "https://www.bird-research.jp/1_shiryo/koe/oowashi_110119_yakumo_mju.wma\n"
     ]
    },
    {
     "name": "stderr",
     "output_type": "stream",
     "text": [
      "\r",
      " 28%|████████████████████████████████▉                                                                                   | 1867/6576 [22:53<58:31,  1.34it/s]"
     ]
    },
    {
     "name": "stdout",
     "output_type": "stream",
     "text": [
      "------------------------------------------------------------------------------ 1873\n",
      "kanmuriwashi_050409_okinawa_kaji.wma\n",
      "/home/wataru/code/b-com/b-com/crawling/カンムリワシ/\n",
      "https://www.bird-research.jp/1_shiryo/koe/kanmuriwashi_050409_okinawa_kaji.wma\n"
     ]
    },
    {
     "name": "stderr",
     "output_type": "stream",
     "text": [
      "\r",
      " 28%|█████████████████████████████████                                                                                   | 1874/6576 [22:58<58:18,  1.34it/s]"
     ]
    },
    {
     "name": "stdout",
     "output_type": "stream",
     "text": [
      "------------------------------------------------------------------------------ 1880\n",
      "kanmuriwashi_120423_ishigaki_moriya.wma\n",
      "/home/wataru/code/b-com/b-com/crawling/カンムリワシ/\n",
      "https://www.bird-research.jp/1_shiryo/koe/kanmuriwashi_120423_ishigaki_moriya.wma\n"
     ]
    },
    {
     "name": "stderr",
     "output_type": "stream",
     "text": [
      "\r",
      " 29%|█████████████████████████████████▏                                                                                  | 1881/6576 [23:03<58:04,  1.35it/s]"
     ]
    },
    {
     "name": "stdout",
     "output_type": "stream",
     "text": [
      "------------------------------------------------------------------------------ 1887\n",
      "chuhi_091124_watarase_hirano.wma\n",
      "/home/wataru/code/b-com/b-com/crawling/チュウヒ/\n",
      "https://www.bird-research.jp/1_shiryo/koe/chuhi_091124_watarase_hirano.wma\n"
     ]
    },
    {
     "name": "stderr",
     "output_type": "stream",
     "text": [
      "\r",
      " 29%|█████████████████████████████████▎                                                                                  | 1888/6576 [23:08<58:16,  1.34it/s]"
     ]
    },
    {
     "name": "stdout",
     "output_type": "stream",
     "text": [
      "------------------------------------------------------------------------------ 1894\n",
      "chuhi_080110_watarase_hirano.wma\n",
      "/home/wataru/code/b-com/b-com/crawling/チュウヒ/警戒\n",
      "https://www.bird-research.jp/1_shiryo/koe/chuhi_080110_watarase_hirano.wma\n"
     ]
    },
    {
     "name": "stderr",
     "output_type": "stream",
     "text": [
      "\r",
      " 29%|█████████████████████████████████▍                                                                                  | 1895/6576 [23:13<58:01,  1.34it/s]"
     ]
    },
    {
     "name": "stdout",
     "output_type": "stream",
     "text": [
      "------------------------------------------------------------------------------ 1901\n",
      "tyuhi_100406_watarase.wma\n",
      "/home/wataru/code/b-com/b-com/crawling/チュウヒ/ﾃﾞｨｽﾌﾟﾚｰ\n",
      "https://www.bird-research.jp/1_shiryo/koe/tyuhi_100406_watarase.wma\n"
     ]
    },
    {
     "name": "stderr",
     "output_type": "stream",
     "text": [
      "\r",
      " 29%|█████████████████████████████████▌                                                                                  | 1902/6576 [23:19<58:04,  1.34it/s]"
     ]
    },
    {
     "name": "stdout",
     "output_type": "stream",
     "text": [
      "------------------------------------------------------------------------------ 1908\n",
      "tsumi_090420_kokubunji_mju.wma\n",
      "/home/wataru/code/b-com/b-com/crawling/ツミ/雄\n",
      "https://www.bird-research.jp/1_shiryo/koe/tsumi_090420_kokubunji_mju.wma\n"
     ]
    },
    {
     "name": "stderr",
     "output_type": "stream",
     "text": [
      "\r",
      " 29%|█████████████████████████████████▋                                                                                  | 1909/6576 [23:24<57:53,  1.34it/s]"
     ]
    },
    {
     "name": "stdout",
     "output_type": "stream",
     "text": [
      "------------------------------------------------------------------------------ 1915\n",
      "tsumi_090317_utsunomiya_hirano.wma\n",
      "/home/wataru/code/b-com/b-com/crawling/ツミ/雌\n",
      "https://www.bird-research.jp/1_shiryo/koe/tsumi_090317_utsunomiya_hirano.wma\n"
     ]
    },
    {
     "name": "stderr",
     "output_type": "stream",
     "text": [
      "\r",
      " 29%|█████████████████████████████████▊                                                                                  | 1916/6576 [23:29<57:54,  1.34it/s]"
     ]
    },
    {
     "name": "stdout",
     "output_type": "stream",
     "text": [
      "------------------------------------------------------------------------------ 1922\n",
      "tsumi_10326_Utsunomiya_hirano.wma\n",
      "/home/wataru/code/b-com/b-com/crawling/ツミ/雌威嚇\n",
      "https://www.bird-research.jp/1_shiryo/koe/tsumi_10326_Utsunomiya_hirano.wma\n"
     ]
    },
    {
     "name": "stderr",
     "output_type": "stream",
     "text": [
      "\r",
      " 29%|█████████████████████████████████▉                                                                                  | 1923/6576 [23:34<57:57,  1.34it/s]"
     ]
    },
    {
     "name": "stdout",
     "output_type": "stream",
     "text": [
      "------------------------------------------------------------------------------ 1929\n",
      "tsumi_080412_utsunomiya_hirano.wma\n",
      "/home/wataru/code/b-com/b-com/crawling/ツミ/餌乞い\n",
      "https://www.bird-research.jp/1_shiryo/koe/tsumi_080412_utsunomiya_hirano.wma\n"
     ]
    },
    {
     "name": "stderr",
     "output_type": "stream",
     "text": [
      "\r",
      " 29%|██████████████████████████████████                                                                                  | 1930/6576 [23:40<57:41,  1.34it/s]"
     ]
    },
    {
     "name": "stdout",
     "output_type": "stream",
     "text": [
      "------------------------------------------------------------------------------ 1936\n",
      "tsumi_120405_utsunomiya_hirano.wma\n",
      "/home/wataru/code/b-com/b-com/crawling/ツミ/雄威嚇\n",
      "https://www.bird-research.jp/1_shiryo/koe/tsumi_120405_utsunomiya_hirano.wma\n"
     ]
    },
    {
     "name": "stderr",
     "output_type": "stream",
     "text": [
      "\r",
      " 29%|██████████████████████████████████▏                                                                                 | 1937/6576 [23:45<57:44,  1.34it/s]"
     ]
    },
    {
     "name": "stdout",
     "output_type": "stream",
     "text": [
      "------------------------------------------------------------------------------ 1943\n",
      "tumiyoutyou_100716_utsunomiya.wma\n",
      "/home/wataru/code/b-com/b-com/crawling/ツミ/幼餌乞い\n",
      "https://www.bird-research.jp/1_shiryo/koe/tumiyoutyou_100716_utsunomiya.wma\n"
     ]
    },
    {
     "name": "stderr",
     "output_type": "stream",
     "text": [
      "\r",
      " 30%|██████████████████████████████████▎                                                                                 | 1944/6576 [23:50<57:27,  1.34it/s]"
     ]
    },
    {
     "name": "stdout",
     "output_type": "stream",
     "text": [
      "------------------------------------------------------------------------------ 1950\n",
      "otaka_060606_fujioka_hirano.wma\n",
      "/home/wataru/code/b-com/b-com/crawling/オオタカ/警戒\n",
      "https://www.bird-research.jp/1_shiryo/koe/otaka_060606_fujioka_hirano.wma\n"
     ]
    },
    {
     "name": "stderr",
     "output_type": "stream",
     "text": [
      "\r",
      " 30%|██████████████████████████████████▍                                                                                 | 1951/6576 [23:55<57:15,  1.35it/s]"
     ]
    },
    {
     "name": "stdout",
     "output_type": "stream",
     "text": [
      "------------------------------------------------------------------------------ 1957\n",
      "otaka_120112_utsunomiya_hirano.wma\n",
      "/home/wataru/code/b-com/b-com/crawling/オオタカ/地鳴き\n",
      "https://www.bird-research.jp/1_shiryo/koe/otaka_120112_utsunomiya_hirano.wma\n"
     ]
    },
    {
     "name": "stderr",
     "output_type": "stream",
     "text": [
      "\r",
      " 30%|██████████████████████████████████▌                                                                                 | 1958/6576 [24:00<57:17,  1.34it/s]"
     ]
    },
    {
     "name": "stdout",
     "output_type": "stream",
     "text": [
      "------------------------------------------------------------------------------ 1964\n",
      "ootaka_060706_mooka_mju.wma\n",
      "/home/wataru/code/b-com/b-com/crawling/オオタカ/餌乞い\n",
      "https://www.bird-research.jp/1_shiryo/koe/ootaka_060706_mooka_mju.wma\n"
     ]
    },
    {
     "name": "stderr",
     "output_type": "stream",
     "text": [
      "\r",
      " 30%|██████████████████████████████████▋                                                                                 | 1965/6576 [24:06<57:07,  1.35it/s]"
     ]
    },
    {
     "name": "stdout",
     "output_type": "stream",
     "text": [
      "------------------------------------------------------------------------------ 1971\n",
      "ootaka_131223_tatsuno_kuroda.wma\n",
      "/home/wataru/code/b-com/b-com/crawling/オオタカ/幼鳥\n",
      "https://www.bird-research.jp/1_shiryo/koe/ootaka_131223_tatsuno_kuroda.wma\n"
     ]
    },
    {
     "name": "stderr",
     "output_type": "stream",
     "text": [
      "\r",
      " 30%|██████████████████████████████████▊                                                                                 | 1972/6576 [24:11<57:26,  1.34it/s]"
     ]
    },
    {
     "name": "stdout",
     "output_type": "stream",
     "text": [
      "------------------------------------------------------------------------------ 1978\n",
      "sashiba060722_ichikai_mju.wma\n",
      "/home/wataru/code/b-com/b-com/crawling/サシバ/\n",
      "https://www.bird-research.jp/1_shiryo/koe/sashiba060722_ichikai_mju.wma\n"
     ]
    },
    {
     "name": "stderr",
     "output_type": "stream",
     "text": [
      "\r",
      " 30%|██████████████████████████████████▉                                                                                 | 1979/6576 [24:17<58:24,  1.31it/s]"
     ]
    },
    {
     "name": "stdout",
     "output_type": "stream",
     "text": [
      "------------------------------------------------------------------------------ 1985\n",
      "sashiba_140708_utsunomiya_hirano.wma\n",
      "/home/wataru/code/b-com/b-com/crawling/サシバ/警戒？\n",
      "https://www.bird-research.jp/1_shiryo/koe/sashiba_140708_utsunomiya_hirano.wma\n"
     ]
    },
    {
     "name": "stderr",
     "output_type": "stream",
     "text": [
      "\r",
      " 30%|███████████████████████████████████                                                                                 | 1986/6576 [24:22<57:58,  1.32it/s]"
     ]
    },
    {
     "name": "stdout",
     "output_type": "stream",
     "text": [
      "------------------------------------------------------------------------------ 1992\n",
      "nosuri_091204_sano_hirano.wma\n",
      "/home/wataru/code/b-com/b-com/crawling/ノスリ/\n",
      "https://www.bird-research.jp/1_shiryo/koe/nosuri_091204_sano_hirano.wma\n"
     ]
    },
    {
     "name": "stderr",
     "output_type": "stream",
     "text": [
      "\r",
      " 30%|███████████████████████████████████▏                                                                                | 1993/6576 [24:27<57:27,  1.33it/s]"
     ]
    },
    {
     "name": "stdout",
     "output_type": "stream",
     "text": [
      "------------------------------------------------------------------------------ 1999\n",
      "nosuri_121227_tatsuno_kuroda.wma\n",
      "/home/wataru/code/b-com/b-com/crawling/ノスリ/\n",
      "https://www.bird-research.jp/1_shiryo/koe/nosuri_121227_tatsuno_kuroda.wma\n"
     ]
    },
    {
     "name": "stderr",
     "output_type": "stream",
     "text": [
      "\r",
      " 30%|███████████████████████████████████▎                                                                                | 2000/6576 [24:32<57:03,  1.34it/s]"
     ]
    },
    {
     "name": "stdout",
     "output_type": "stream",
     "text": [
      "------------------------------------------------------------------------------ 2006\n",
      "nosuri_130517_muroran_kros.wma\n",
      "/home/wataru/code/b-com/b-com/crawling/ノスリ/ディスプレー\n",
      "https://www.bird-research.jp/1_shiryo/koe/nosuri_130517_muroran_kros.wma\n"
     ]
    },
    {
     "name": "stderr",
     "output_type": "stream",
     "text": [
      "\r",
      " 31%|███████████████████████████████████▍                                                                                | 2007/6576 [24:37<56:45,  1.34it/s]"
     ]
    },
    {
     "name": "stdout",
     "output_type": "stream",
     "text": [
      "------------------------------------------------------------------------------ 2013\n",
      "nosuri_130402_aomori_kuroda.wma\n",
      "/home/wataru/code/b-com/b-com/crawling/ノスリ/ディスプレー\n",
      "https://www.bird-research.jp/1_shiryo/koe/nosuri_130402_aomori_kuroda.wma\n"
     ]
    },
    {
     "name": "stderr",
     "output_type": "stream",
     "text": [
      "\r",
      " 31%|███████████████████████████████████▌                                                                                | 2014/6576 [24:43<58:18,  1.30it/s]"
     ]
    },
    {
     "name": "stdout",
     "output_type": "stream",
     "text": [
      "------------------------------------------------------------------------------ 2020\n",
      "nosuri_130407_aomori_kuroda.wma\n",
      "/home/wataru/code/b-com/b-com/crawling/ノスリ/雄雌給餌\n",
      "https://www.bird-research.jp/1_shiryo/koe/nosuri_130407_aomori_kuroda.wma\n"
     ]
    },
    {
     "name": "stderr",
     "output_type": "stream",
     "text": [
      "\r",
      " 31%|███████████████████████████████████▋                                                                                | 2021/6576 [24:48<57:36,  1.32it/s]"
     ]
    },
    {
     "name": "stdout",
     "output_type": "stream",
     "text": [
      "------------------------------------------------------------------------------ 2027\n",
      "nosuri_210105_toda_oi.wma\n",
      "/home/wataru/code/b-com/b-com/crawling/ノスリ/モビングされる\n",
      "https://www.bird-research.jp/1_shiryo/koe/nosuri_210105_toda_oi.wma\n"
     ]
    },
    {
     "name": "stderr",
     "output_type": "stream",
     "text": [
      "\r",
      " 31%|███████████████████████████████████▊                                                                                | 2028/6576 [24:53<57:09,  1.33it/s]"
     ]
    },
    {
     "name": "stdout",
     "output_type": "stream",
     "text": [
      "------------------------------------------------------------------------------ 2034\n",
      "inuwashi_170905_hyogo_kuroda.wma\n",
      "/home/wataru/code/b-com/b-com/crawling/イヌワシ/威嚇\n",
      "https://www.bird-research.jp/1_shiryo/koe/inuwashi_170905_hyogo_kuroda.wma\n"
     ]
    },
    {
     "name": "stderr",
     "output_type": "stream",
     "text": [
      "\r",
      " 31%|███████████████████████████████████▉                                                                                | 2035/6576 [24:59<57:02,  1.33it/s]"
     ]
    },
    {
     "name": "stdout",
     "output_type": "stream",
     "text": [
      "------------------------------------------------------------------------------ 2041\n",
      "inuwashi2_170905_hyogo_kuroda.wma\n",
      "/home/wataru/code/b-com/b-com/crawling/イヌワシ/威嚇\n",
      "https://www.bird-research.jp/1_shiryo/koe/inuwashi2_170905_hyogo_kuroda.wma\n"
     ]
    },
    {
     "name": "stderr",
     "output_type": "stream",
     "text": [
      "\r",
      " 31%|████████████████████████████████████                                                                                | 2042/6576 [25:04<58:07,  1.30it/s]"
     ]
    },
    {
     "name": "stdout",
     "output_type": "stream",
     "text": [
      "------------------------------------------------------------------------------ 2048\n",
      "kumataka_130506_nikko_abe.wma\n",
      "/home/wataru/code/b-com/b-com/crawling/クマタカ/\n",
      "https://www.bird-research.jp/1_shiryo/koe/kumataka_130506_nikko_abe.wma\n"
     ]
    },
    {
     "name": "stderr",
     "output_type": "stream",
     "text": [
      "\r",
      " 31%|████████████████████████████████████▏                                                                               | 2049/6576 [25:09<57:22,  1.31it/s]"
     ]
    },
    {
     "name": "stdout",
     "output_type": "stream",
     "text": [
      "------------------------------------------------------------------------------ 2055\n",
      "kumataka_140211_tottori_kuroda.wma\n",
      "/home/wataru/code/b-com/b-com/crawling/クマタカ/\n",
      "https://www.bird-research.jp/1_shiryo/koe/kumataka_140211_tottori_kuroda.wma\n"
     ]
    },
    {
     "name": "stderr",
     "output_type": "stream",
     "text": [
      "\r",
      " 31%|████████████████████████████████████▎                                                                               | 2056/6576 [25:15<57:02,  1.32it/s]"
     ]
    },
    {
     "name": "stdout",
     "output_type": "stream",
     "text": [
      "------------------------------------------------------------------------------ 2062\n",
      "kumataka_081210_tottori_kuroda.wma\n",
      "/home/wataru/code/b-com/b-com/crawling/クマタカ/\n",
      "https://www.bird-research.jp/1_shiryo/koe/kumataka_081210_tottori_kuroda.wma\n"
     ]
    },
    {
     "name": "stderr",
     "output_type": "stream",
     "text": [
      "\r",
      " 31%|████████████████████████████████████▍                                                                               | 2063/6576 [25:20<56:33,  1.33it/s]"
     ]
    },
    {
     "name": "stdout",
     "output_type": "stream",
     "text": [
      "------------------------------------------------------------------------------ 2069\n",
      "kumataka120303_ishikawa_kuroda.wma\n",
      "/home/wataru/code/b-com/b-com/crawling/クマタカ/\n",
      "https://www.bird-research.jp/1_shiryo/koe/kumataka120303_ishikawa_kuroda.wma\n"
     ]
    },
    {
     "name": "stderr",
     "output_type": "stream",
     "text": [
      "\r",
      " 31%|████████████████████████████████████▌                                                                               | 2070/6576 [25:25<56:27,  1.33it/s]"
     ]
    },
    {
     "name": "stdout",
     "output_type": "stream",
     "text": [
      "------------------------------------------------------------------------------ 2077\n",
      "okonoha_090521_iwase_abe.wma\n",
      "/home/wataru/code/b-com/b-com/crawling/オオコノハズク/\n",
      "https://www.bird-research.jp/1_shiryo/koe/okonoha_090521_iwase_abe.wma\n"
     ]
    },
    {
     "name": "stderr",
     "output_type": "stream",
     "text": [
      "\r",
      " 32%|████████████████████████████████████▋                                                                               | 2078/6576 [25:30<53:46,  1.39it/s]"
     ]
    },
    {
     "name": "stdout",
     "output_type": "stream",
     "text": [
      "------------------------------------------------------------------------------ 2084\n",
      "okonoha_110509_nikko_abe.wma\n",
      "/home/wataru/code/b-com/b-com/crawling/オオコノハズク/雄？\n",
      "https://www.bird-research.jp/1_shiryo/koe/okonoha_110509_nikko_abe.wma\n"
     ]
    },
    {
     "name": "stderr",
     "output_type": "stream",
     "text": [
      "\r",
      " 32%|████████████████████████████████████▊                                                                               | 2085/6576 [25:36<54:20,  1.38it/s]"
     ]
    },
    {
     "name": "stdout",
     "output_type": "stream",
     "text": [
      "------------------------------------------------------------------------------ 2091\n",
      "okonoha_110518_nikko_abe.wma\n",
      "/home/wataru/code/b-com/b-com/crawling/オオコノハズク/雌？\n",
      "https://www.bird-research.jp/1_shiryo/koe/okonoha_110518_nikko_abe.wma\n"
     ]
    },
    {
     "name": "stderr",
     "output_type": "stream",
     "text": [
      "\r",
      " 32%|████████████████████████████████████▉                                                                               | 2092/6576 [25:41<54:45,  1.36it/s]"
     ]
    },
    {
     "name": "stdout",
     "output_type": "stream",
     "text": [
      "------------------------------------------------------------------------------ 2098\n",
      "okonoha_130505_nikko_abe.wma\n",
      "/home/wataru/code/b-com/b-com/crawling/オオコノハズク/雄？\n",
      "https://www.bird-research.jp/1_shiryo/koe/okonoha_130505_nikko_abe.wma\n"
     ]
    },
    {
     "name": "stderr",
     "output_type": "stream",
     "text": [
      "\r",
      " 32%|█████████████████████████████████████                                                                               | 2099/6576 [25:46<55:03,  1.36it/s]"
     ]
    },
    {
     "name": "stdout",
     "output_type": "stream",
     "text": [
      "------------------------------------------------------------------------------ 2105\n",
      "okonoha_140413_nikko_abe.wma\n",
      "/home/wataru/code/b-com/b-com/crawling/オオコノハズク/雄雌？\n",
      "https://www.bird-research.jp/1_shiryo/koe/okonoha_140413_nikko_abe.wma\n"
     ]
    },
    {
     "name": "stderr",
     "output_type": "stream",
     "text": [
      "\r",
      " 32%|█████████████████████████████████████▏                                                                              | 2106/6576 [25:51<55:01,  1.35it/s]"
     ]
    },
    {
     "name": "stdout",
     "output_type": "stream",
     "text": [
      "------------------------------------------------------------------------------ 2112\n",
      "konohazuku_hinoyama_0706_kuroda.wma\n",
      "/home/wataru/code/b-com/b-com/crawling/コノハズク/\n",
      "https://www.bird-research.jp/1_shiryo/koe/konohazuku_hinoyama_0706_kuroda.wma\n"
     ]
    },
    {
     "name": "stderr",
     "output_type": "stream",
     "text": [
      "\r",
      " 32%|█████████████████████████████████████▎                                                                              | 2113/6576 [25:56<55:14,  1.35it/s]"
     ]
    },
    {
     "name": "stdout",
     "output_type": "stream",
     "text": [
      "------------------------------------------------------------------------------ 2119\n",
      "konoha_120602_nikko_abe.wma\n",
      "/home/wataru/code/b-com/b-com/crawling/コノハズク/雄雌？\n",
      "https://www.bird-research.jp/1_shiryo/koe/konoha_120602_nikko_abe.wma\n"
     ]
    },
    {
     "name": "stderr",
     "output_type": "stream",
     "text": [
      "\r",
      " 32%|█████████████████████████████████████▍                                                                              | 2120/6576 [26:02<55:08,  1.35it/s]"
     ]
    },
    {
     "name": "stdout",
     "output_type": "stream",
     "text": [
      "------------------------------------------------------------------------------ 2126\n",
      "ryuukyuukonohazuku_060312_okinawa_kaji.wma\n",
      "/home/wataru/code/b-com/b-com/crawling/ﾘｭｳｷｭｳｺﾉﾊｽﾞｸ/\n",
      "https://www.bird-research.jp/1_shiryo/koe/ryuukyuukonohazuku_060312_okinawa_kaji.wma\n"
     ]
    },
    {
     "name": "stderr",
     "output_type": "stream",
     "text": [
      "\r",
      " 32%|█████████████████████████████████████▌                                                                              | 2127/6576 [26:07<55:03,  1.35it/s]"
     ]
    },
    {
     "name": "stdout",
     "output_type": "stream",
     "text": [
      "------------------------------------------------------------------------------ 2133\n",
      "rkonohazuku_120423_ishigaki_moriya.wma\n",
      "/home/wataru/code/b-com/b-com/crawling/ﾘｭｳｷｭｳｺﾉﾊｽﾞｸ/\n",
      "https://www.bird-research.jp/1_shiryo/koe/rkonohazuku_120423_ishigaki_moriya.wma\n"
     ]
    },
    {
     "name": "stderr",
     "output_type": "stream",
     "text": [
      "\r",
      " 32%|█████████████████████████████████████▋                                                                              | 2134/6576 [26:12<54:54,  1.35it/s]"
     ]
    },
    {
     "name": "stdout",
     "output_type": "stream",
     "text": [
      "------------------------------------------------------------------------------ 2140\n",
      "shimafukuro_160216_nemuro_mju.wma\n",
      "/home/wataru/code/b-com/b-com/crawling/シマフクロウ/\n",
      "https://www.bird-research.jp/1_shiryo/koe/shimafukuro_160216_nemuro_mju.wma\n"
     ]
    },
    {
     "name": "stderr",
     "output_type": "stream",
     "text": [
      "\r",
      " 33%|█████████████████████████████████████▊                                                                              | 2141/6576 [26:17<54:52,  1.35it/s]"
     ]
    },
    {
     "name": "stdout",
     "output_type": "stream",
     "text": [
      "------------------------------------------------------------------------------ 2147\n",
      "fukurou_070605_nasushiobara_hirano.wma\n",
      "/home/wataru/code/b-com/b-com/crawling/フクロウ/\n",
      "https://www.bird-research.jp/1_shiryo/koe/fukurou_070605_nasushiobara_hirano.wma\n"
     ]
    },
    {
     "name": "stderr",
     "output_type": "stream",
     "text": [
      "\r",
      " 33%|█████████████████████████████████████▉                                                                              | 2148/6576 [26:22<54:44,  1.35it/s]"
     ]
    },
    {
     "name": "stdout",
     "output_type": "stream",
     "text": [
      "------------------------------------------------------------------------------ 2154\n",
      "fukuro_140510_nikko_abe.wma\n",
      "/home/wataru/code/b-com/b-com/crawling/フクロウ/\n",
      "https://www.bird-research.jp/1_shiryo/koe/fukuro_140510_nikko_abe.wma\n"
     ]
    },
    {
     "name": "stderr",
     "output_type": "stream",
     "text": [
      "\r",
      " 33%|██████████████████████████████████████                                                                              | 2155/6576 [26:28<56:46,  1.30it/s]"
     ]
    },
    {
     "name": "stdout",
     "output_type": "stream",
     "text": [
      "------------------------------------------------------------------------------ 2161\n",
      "hukurou_100420_watarase.wma\n",
      "/home/wataru/code/b-com/b-com/crawling/フクロウ/地鳴き\n",
      "https://www.bird-research.jp/1_shiryo/koe/hukurou_100420_watarase.wma\n"
     ]
    },
    {
     "name": "stderr",
     "output_type": "stream",
     "text": [
      "\r",
      " 33%|██████████████████████████████████████▏                                                                             | 2162/6576 [26:33<56:00,  1.31it/s]"
     ]
    },
    {
     "name": "stdout",
     "output_type": "stream",
     "text": [
      "------------------------------------------------------------------------------ 2168\n",
      "fukuro_070514_tanzawa_mju.wma\n",
      "/home/wataru/code/b-com/b-com/crawling/フクロウ/地鳴き\n",
      "https://www.bird-research.jp/1_shiryo/koe/fukuro_070514_tanzawa_mju.wma\n"
     ]
    },
    {
     "name": "stderr",
     "output_type": "stream",
     "text": [
      "\r",
      " 33%|██████████████████████████████████████▎                                                                             | 2169/6576 [26:39<55:26,  1.32it/s]"
     ]
    },
    {
     "name": "stdout",
     "output_type": "stream",
     "text": [
      "------------------------------------------------------------------------------ 2175\n",
      "fukuro_210409_sukagawa_abes.wma\n",
      "/home/wataru/code/b-com/b-com/crawling/フクロウ/雌雄\n",
      "https://www.bird-research.jp/1_shiryo/koe/fukuro_210409_sukagawa_abes.wma\n"
     ]
    },
    {
     "name": "stderr",
     "output_type": "stream",
     "text": [
      "\r",
      " 33%|██████████████████████████████████████▍                                                                             | 2176/6576 [26:44<55:06,  1.33it/s]"
     ]
    },
    {
     "name": "stdout",
     "output_type": "stream",
     "text": [
      "------------------------------------------------------------------------------ 2182\n",
      "fukuro_110425_osaka_murahama.wma\n",
      "/home/wataru/code/b-com/b-com/crawling/フクロウ/警戒\n",
      "https://www.bird-research.jp/1_shiryo/koe/fukuro_110425_osaka_murahama.wma\n"
     ]
    },
    {
     "name": "stderr",
     "output_type": "stream",
     "text": [
      "\r",
      " 33%|██████████████████████████████████████▌                                                                             | 2183/6576 [26:49<55:03,  1.33it/s]"
     ]
    },
    {
     "name": "stdout",
     "output_type": "stream",
     "text": [
      "------------------------------------------------------------------------------ 2189\n",
      "fukuro_160417_osaka_murahama.wma\n",
      "/home/wataru/code/b-com/b-com/crawling/フクロウ/ヒナ餌乞\n",
      "https://www.bird-research.jp/1_shiryo/koe/fukuro_160417_osaka_murahama.wma\n"
     ]
    },
    {
     "name": "stderr",
     "output_type": "stream",
     "text": [
      "\r",
      " 33%|██████████████████████████████████████▋                                                                             | 2190/6576 [26:54<54:59,  1.33it/s]"
     ]
    },
    {
     "name": "stdout",
     "output_type": "stream",
     "text": [
      "------------------------------------------------------------------------------ 2196\n",
      "fukuro_130514_uryu_mju.wma\n",
      "/home/wataru/code/b-com/b-com/crawling/エゾフクロウ/亜種\n",
      "https://www.bird-research.jp/1_shiryo/koe/fukuro_130514_uryu_mju.wma\n"
     ]
    },
    {
     "name": "stderr",
     "output_type": "stream",
     "text": [
      "\r",
      " 33%|██████████████████████████████████████▊                                                                             | 2197/6576 [27:00<54:40,  1.33it/s]"
     ]
    },
    {
     "name": "stdout",
     "output_type": "stream",
     "text": [
      "------------------------------------------------------------------------------ 2203\n",
      "aobazuku_060606_utsunomiya_hirano.wma\n",
      "/home/wataru/code/b-com/b-com/crawling/アオバズク/\n",
      "https://www.bird-research.jp/1_shiryo/koe/aobazuku_060606_utsunomiya_hirano.wma\n"
     ]
    },
    {
     "name": "stderr",
     "output_type": "stream",
     "text": [
      "\r",
      " 34%|██████████████████████████████████████▉                                                                             | 2204/6576 [27:05<54:21,  1.34it/s]"
     ]
    },
    {
     "name": "stdout",
     "output_type": "stream",
     "text": [
      "------------------------------------------------------------------------------ 2211\n",
      "aobazuku_170509_miyake_kuroda.wma\n",
      "/home/wataru/code/b-com/b-com/crawling/アオバズク/\n",
      "https://www.bird-research.jp/1_shiryo/koe/aobazuku_170509_miyake_kuroda.wma\n"
     ]
    },
    {
     "name": "stderr",
     "output_type": "stream",
     "text": [
      "\r",
      " 34%|███████████████████████████████████████                                                                             | 2212/6576 [27:10<51:59,  1.40it/s]"
     ]
    },
    {
     "name": "stdout",
     "output_type": "stream",
     "text": [
      "------------------------------------------------------------------------------ 2218\n",
      "aobazuku_180602_izu_mju.wma\n",
      "/home/wataru/code/b-com/b-com/crawling/アオバズク/地鳴き\n",
      "https://www.bird-research.jp/1_shiryo/koe/aobazuku_180602_izu_mju.wma\n"
     ]
    },
    {
     "name": "stderr",
     "output_type": "stream",
     "text": [
      "\r",
      " 34%|███████████████████████████████████████▏                                                                            | 2219/6576 [27:15<52:45,  1.38it/s]"
     ]
    },
    {
     "name": "stdout",
     "output_type": "stream",
     "text": [
      "------------------------------------------------------------------------------ 2225\n",
      "aobazuku_170510_miyake_kuroda.wma\n",
      "/home/wataru/code/b-com/b-com/crawling/アオバズク/日中\n",
      "https://www.bird-research.jp/1_shiryo/koe/aobazuku_170510_miyake_kuroda.wma\n"
     ]
    },
    {
     "name": "stderr",
     "output_type": "stream",
     "text": [
      "\r",
      " 34%|███████████████████████████████████████▎                                                                            | 2226/6576 [27:20<53:02,  1.37it/s]"
     ]
    },
    {
     "name": "stdout",
     "output_type": "stream",
     "text": [
      "------------------------------------------------------------------------------ 2232\n",
      "aobazuku_060311_okinawa_kaji.wma\n",
      "/home/wataru/code/b-com/b-com/crawling/ﾘｭｳｷｭｳｱｵﾊﾞｽﾞｸ/亜種\n",
      "https://www.bird-research.jp/1_shiryo/koe/aobazuku_060311_okinawa_kaji.wma\n"
     ]
    },
    {
     "name": "stderr",
     "output_type": "stream",
     "text": [
      "\r",
      " 34%|███████████████████████████████████████▍                                                                            | 2233/6576 [27:26<53:20,  1.36it/s]"
     ]
    },
    {
     "name": "stdout",
     "output_type": "stream",
     "text": [
      "------------------------------------------------------------------------------ 2239\n",
      "torafu_080602_tochigi_hirano.wma\n",
      "/home/wataru/code/b-com/b-com/crawling/トラフズク/巣立ち雛\n",
      "https://www.bird-research.jp/1_shiryo/koe/torafu_080602_tochigi_hirano.wma\n"
     ]
    },
    {
     "name": "stderr",
     "output_type": "stream",
     "text": [
      "\r",
      " 34%|███████████████████████████████████████▌                                                                            | 2240/6576 [27:31<53:20,  1.35it/s]"
     ]
    },
    {
     "name": "stdout",
     "output_type": "stream",
     "text": [
      "------------------------------------------------------------------------------ 2246\n",
      "komimizuku_161203_akita_hara.wma\n",
      "/home/wataru/code/b-com/b-com/crawling/コミミズク/\n",
      "https://www.bird-research.jp/1_shiryo/koe/komimizuku_161203_akita_hara.wma\n"
     ]
    },
    {
     "name": "stderr",
     "output_type": "stream",
     "text": [
      "\r",
      " 34%|███████████████████████████████████████▋                                                                            | 2247/6576 [27:38<57:38,  1.25it/s]"
     ]
    },
    {
     "name": "stdout",
     "output_type": "stream",
     "text": [
      "------------------------------------------------------------------------------ 2254\n",
      "akashobin_150611_kosado_mju.wma\n",
      "/home/wataru/code/b-com/b-com/crawling/アカショウビン/さえずり\n",
      "https://www.bird-research.jp/1_shiryo/koe/akashobin_150611_kosado_mju.wma\n"
     ]
    },
    {
     "name": "stderr",
     "output_type": "stream",
     "text": [
      "\r",
      " 34%|███████████████████████████████████████▊                                                                            | 2255/6576 [27:43<53:58,  1.33it/s]"
     ]
    },
    {
     "name": "stdout",
     "output_type": "stream",
     "text": [
      "------------------------------------------------------------------------------ 2261\n",
      "akashobin_100512_shiiba_mju.wma\n",
      "/home/wataru/code/b-com/b-com/crawling/アカショウビン/さえずり\n",
      "https://www.bird-research.jp/1_shiryo/koe/akashobin_100512_shiiba_mju.wma\n"
     ]
    },
    {
     "name": "stderr",
     "output_type": "stream",
     "text": [
      "\r",
      " 34%|███████████████████████████████████████▉                                                                            | 2262/6576 [27:48<53:56,  1.33it/s]"
     ]
    },
    {
     "name": "stdout",
     "output_type": "stream",
     "text": [
      "------------------------------------------------------------------------------ 2268\n",
      "akashobin_150613_okutadami_abe.wma\n",
      "/home/wataru/code/b-com/b-com/crawling/アカショウビン/さえずり\n",
      "https://www.bird-research.jp/1_shiryo/koe/akashobin_150613_okutadami_abe.wma\n"
     ]
    },
    {
     "name": "stderr",
     "output_type": "stream",
     "text": [
      "\r",
      " 35%|████████████████████████████████████████                                                                            | 2269/6576 [27:53<53:46,  1.33it/s]"
     ]
    },
    {
     "name": "stdout",
     "output_type": "stream",
     "text": [
      "------------------------------------------------------------------------------ 2275\n",
      "akashobin_210602_osado_mju.wma\n",
      "/home/wataru/code/b-com/b-com/crawling/アカショウビン/さえずり\n",
      "https://www.bird-research.jp/1_shiryo/koe/akashobin_210602_osado_mju.wma\n"
     ]
    },
    {
     "name": "stderr",
     "output_type": "stream",
     "text": [
      "\r",
      " 35%|████████████████████████████████████████▏                                                                           | 2276/6576 [27:58<53:49,  1.33it/s]"
     ]
    },
    {
     "name": "stdout",
     "output_type": "stream",
     "text": [
      "------------------------------------------------------------------------------ 2282\n",
      "akashobin_200503_yanbaru_morishita.wma\n",
      "/home/wataru/code/b-com/b-com/crawling/アカショウビン/地鳴き\n",
      "https://www.bird-research.jp/1_shiryo/koe/akashobin_200503_yanbaru_morishita.wma\n"
     ]
    },
    {
     "name": "stderr",
     "output_type": "stream",
     "text": [
      "\r",
      " 35%|████████████████████████████████████████▎                                                                           | 2283/6576 [28:04<53:39,  1.33it/s]"
     ]
    },
    {
     "name": "stdout",
     "output_type": "stream",
     "text": [
      "------------------------------------------------------------------------------ 2289\n",
      "akashobin_150504_miyako_uemura.wma\n",
      "/home/wataru/code/b-com/b-com/crawling/ﾘｭｳｷｭｳｱｶｼｮｳﾋﾞﾝ/亜種\n",
      "    20150504\n",
      "沖縄県宮古島\n",
      "植村慎吾\n",
      "mp3\n",
      "\n",
      "https://www.bird-research.jp/1_shiryo/koe/akashobin_150504_miyako_uemura.wma\n"
     ]
    },
    {
     "name": "stderr",
     "output_type": "stream",
     "text": [
      "\r",
      " 35%|████████████████████████████████████████▍                                                                           | 2290/6576 [28:09<53:42,  1.33it/s]"
     ]
    },
    {
     "name": "stdout",
     "output_type": "stream",
     "text": [
      "------------------------------------------------------------------------------ 2296\n",
      "akashobin_150608_amami_uemura.wma\n",
      "/home/wataru/code/b-com/b-com/crawling/ﾘｭｳｷｭｳｱｶｼｮｳﾋﾞﾝ/亜種\n",
      "    20150608\n",
      "鹿児島県奄美\n",
      ">植村慎吾\n",
      "mp3\n",
      "\n",
      "https://www.bird-research.jp/1_shiryo/koe/akashobin_150608_amami_uemura.wma\n"
     ]
    },
    {
     "name": "stderr",
     "output_type": "stream",
     "text": [
      "\r",
      " 35%|████████████████████████████████████████▌                                                                           | 2297/6576 [28:14<53:27,  1.33it/s]"
     ]
    },
    {
     "name": "stdout",
     "output_type": "stream",
     "text": [
      "------------------------------------------------------------------------------ 2303\n",
      "ryuukyuuakashoubin_050409_okinawa_kaji.wma\n",
      "/home/wataru/code/b-com/b-com/crawling/ﾘｭｳｷｭｳｱｶｼｮｳﾋﾞﾝ/亜種\n",
      "    20050409\n",
      "沖縄県西表島\n",
      "梶本恭子\n",
      "mp3\n",
      "\n",
      "https://www.bird-research.jp/1_shiryo/koe/ryuukyuuakashoubin_050409_okinawa_kaji.wma\n"
     ]
    },
    {
     "name": "stderr",
     "output_type": "stream",
     "text": [
      "\r",
      " 35%|████████████████████████████████████████▋                                                                           | 2304/6576 [28:19<53:15,  1.34it/s]"
     ]
    },
    {
     "name": "stdout",
     "output_type": "stream",
     "text": [
      "------------------------------------------------------------------------------ 2310\n",
      "rakashobin_120419_yambaru_moriya.wma\n",
      "/home/wataru/code/b-com/b-com/crawling/ﾘｭｳｷｭｳｱｶｼｮｳﾋﾞﾝ/亜種\n",
      "    20120419\n",
      "沖縄県やんばる\n",
      "守屋年史\n",
      "mp3\n",
      "\n",
      "https://www.bird-research.jp/1_shiryo/koe/rakashobin_120419_yambaru_moriya.wma\n"
     ]
    },
    {
     "name": "stderr",
     "output_type": "stream",
     "text": [
      "\r",
      " 35%|████████████████████████████████████████▊                                                                           | 2311/6576 [28:25<52:59,  1.34it/s]"
     ]
    },
    {
     "name": "stdout",
     "output_type": "stream",
     "text": [
      "------------------------------------------------------------------------------ 2317\n",
      "akasho_9806_takara_anezaki.wma\n",
      "/home/wataru/code/b-com/b-com/crawling/ﾘｭｳｷｭｳｱｶｼｮｳﾋﾞﾝ/亜種\n",
      "    199806\n",
      "鹿児島県宝島\n",
      "姉崎悟\n",
      "mp3\n",
      "\n",
      "https://www.bird-research.jp/1_shiryo/koe/akasho_9806_takara_anezaki.wma\n"
     ]
    },
    {
     "name": "stderr",
     "output_type": "stream",
     "text": [
      "\r",
      " 35%|████████████████████████████████████████▉                                                                           | 2318/6576 [28:30<52:48,  1.34it/s]"
     ]
    },
    {
     "name": "stdout",
     "output_type": "stream",
     "text": [
      "------------------------------------------------------------------------------ 2324\n",
      "kawasemi_100223_watarase.wma\n",
      "/home/wataru/code/b-com/b-com/crawling/カワセミ/地鳴き\n",
      "https://www.bird-research.jp/1_shiryo/koe/kawasemi_100223_watarase.wma\n"
     ]
    },
    {
     "name": "stderr",
     "output_type": "stream",
     "text": [
      "\r",
      " 35%|█████████████████████████████████████████                                                                           | 2325/6576 [28:35<52:37,  1.35it/s]"
     ]
    },
    {
     "name": "stdout",
     "output_type": "stream",
     "text": [
      "------------------------------------------------------------------------------ 2331\n",
      "kawasemi_200427_saitama_oi.wma\n",
      "/home/wataru/code/b-com/b-com/crawling/カワセミ/地鳴き\n",
      "https://www.bird-research.jp/1_shiryo/koe/kawasemi_200427_saitama_oi.wma\n"
     ]
    },
    {
     "name": "stderr",
     "output_type": "stream",
     "text": [
      "\r",
      " 35%|█████████████████████████████████████████▏                                                                          | 2332/6576 [28:40<52:44,  1.34it/s]"
     ]
    },
    {
     "name": "stdout",
     "output_type": "stream",
     "text": [
      "------------------------------------------------------------------------------ 2338\n",
      "kawasemi_210824_saitama_oi.wma\n",
      "/home/wataru/code/b-com/b-com/crawling/カワセミ/地鳴き\n",
      "https://www.bird-research.jp/1_shiryo/koe/kawasemi_210824_saitama_oi.wma\n"
     ]
    },
    {
     "name": "stderr",
     "output_type": "stream",
     "text": [
      "\r",
      " 36%|█████████████████████████████████████████▎                                                                          | 2339/6576 [28:45<52:38,  1.34it/s]"
     ]
    },
    {
     "name": "stdout",
     "output_type": "stream",
     "text": [
      "------------------------------------------------------------------------------ 2345\n",
      "kawasemi_160529_oyama_hirano.wma\n",
      "/home/wataru/code/b-com/b-com/crawling/カワセミ/特殊声\n",
      "https://www.bird-research.jp/1_shiryo/koe/kawasemi_160529_oyama_hirano.wma\n"
     ]
    },
    {
     "name": "stderr",
     "output_type": "stream",
     "text": [
      "\r",
      " 36%|█████████████████████████████████████████▍                                                                          | 2346/6576 [28:51<52:43,  1.34it/s]"
     ]
    },
    {
     "name": "stdout",
     "output_type": "stream",
     "text": [
      "------------------------------------------------------------------------------ 2352\n",
      "yamasemi_050609_chikuma_kasa.wma\n",
      "/home/wataru/code/b-com/b-com/crawling/ヤマセミ/\n",
      "https://www.bird-research.jp/1_shiryo/koe/yamasemi_050609_chikuma_kasa.wma\n"
     ]
    },
    {
     "name": "stderr",
     "output_type": "stream",
     "text": [
      "\r",
      " 36%|█████████████████████████████████████████▌                                                                          | 2353/6576 [28:56<52:36,  1.34it/s]"
     ]
    },
    {
     "name": "stdout",
     "output_type": "stream",
     "text": [
      "------------------------------------------------------------------------------ 2359\n",
      "yamasemi_140506_hyogo_kuroda.wma\n",
      "/home/wataru/code/b-com/b-com/crawling/ヤマセミ/\n",
      "https://www.bird-research.jp/1_shiryo/koe/yamasemi_140506_hyogo_kuroda.wma\n"
     ]
    },
    {
     "name": "stderr",
     "output_type": "stream",
     "text": [
      "\r",
      " 36%|█████████████████████████████████████████▋                                                                          | 2360/6576 [29:01<52:30,  1.34it/s]"
     ]
    },
    {
     "name": "stdout",
     "output_type": "stream",
     "text": [
      "------------------------------------------------------------------------------ 2366\n",
      "yamasemi_180307_gifu_kuroda.wma\n",
      "/home/wataru/code/b-com/b-com/crawling/ヤマセミ/\n",
      "https://www.bird-research.jp/1_shiryo/koe/yamasemi_180307_gifu_kuroda.wma\n"
     ]
    },
    {
     "name": "stderr",
     "output_type": "stream",
     "text": [
      "\r",
      " 36%|█████████████████████████████████████████▊                                                                          | 2367/6576 [29:06<52:27,  1.34it/s]"
     ]
    },
    {
     "name": "stdout",
     "output_type": "stream",
     "text": [
      "------------------------------------------------------------------------------ 2373\n",
      "bupposo970803_tottori_kuroda.wma\n",
      "/home/wataru/code/b-com/b-com/crawling/ブッポウソウ/\n",
      "https://www.bird-research.jp/1_shiryo/koe/bupposo970803_tottori_kuroda.wma\n"
     ]
    },
    {
     "name": "stderr",
     "output_type": "stream",
     "text": [
      "\r",
      " 36%|█████████████████████████████████████████▉                                                                          | 2374/6576 [29:12<52:23,  1.34it/s]"
     ]
    },
    {
     "name": "stdout",
     "output_type": "stream",
     "text": [
      "------------------------------------------------------------------------------ 2380\n",
      "bupposo_110730_kibi_kuroda.wma\n",
      "/home/wataru/code/b-com/b-com/crawling/ブッポウソウ/\n",
      "https://www.bird-research.jp/1_shiryo/koe/bupposo_110730_kibi_kuroda.wma\n"
     ]
    },
    {
     "name": "stderr",
     "output_type": "stream",
     "text": [
      "\r",
      " 36%|██████████████████████████████████████████                                                                          | 2381/6576 [29:17<52:17,  1.34it/s]"
     ]
    },
    {
     "name": "stdout",
     "output_type": "stream",
     "text": [
      "------------------------------------------------------------------------------ 2388\n",
      "arisui_0610_hyogo_kaji.wma\n",
      "/home/wataru/code/b-com/b-com/crawling/アリスイ/\n",
      "https://www.bird-research.jp/1_shiryo/koe/arisui_0610_hyogo_kaji.wma\n"
     ]
    },
    {
     "name": "stderr",
     "output_type": "stream",
     "text": [
      "\r",
      " 36%|██████████████████████████████████████████▏                                                                         | 2389/6576 [29:22<50:08,  1.39it/s]"
     ]
    },
    {
     "name": "stdout",
     "output_type": "stream",
     "text": [
      "------------------------------------------------------------------------------ 2395\n",
      "kogera_130428_utsunomiya_hirano.wma\n",
      "/home/wataru/code/b-com/b-com/crawling/コゲラ/\n",
      "https://www.bird-research.jp/1_shiryo/koe/kogera_130428_utsunomiya_hirano.wma\n"
     ]
    },
    {
     "name": "stderr",
     "output_type": "stream",
     "text": [
      "\r",
      " 36%|██████████████████████████████████████████▎                                                                         | 2396/6576 [29:27<50:39,  1.38it/s]"
     ]
    },
    {
     "name": "stdout",
     "output_type": "stream",
     "text": [
      "------------------------------------------------------------------------------ 2402\n",
      "kogera_060706_mooka_mju.wma\n",
      "/home/wataru/code/b-com/b-com/crawling/コゲラ/\n",
      "https://www.bird-research.jp/1_shiryo/koe/kogera_060706_mooka_mju.wma\n"
     ]
    },
    {
     "name": "stderr",
     "output_type": "stream",
     "text": [
      "\r",
      " 37%|██████████████████████████████████████████▍                                                                         | 2403/6576 [29:33<51:01,  1.36it/s]"
     ]
    },
    {
     "name": "stdout",
     "output_type": "stream",
     "text": [
      "------------------------------------------------------------------------------ 2409\n",
      "kogera_210609_chichibu_ishida.wma\n",
      "/home/wataru/code/b-com/b-com/crawling/コゲラ/ﾄﾞﾗﾐﾝｸﾞ\n",
      "https://www.bird-research.jp/1_shiryo/koe/kogera_210609_chichibu_ishida.wma\n"
     ]
    },
    {
     "name": "stderr",
     "output_type": "stream",
     "text": [
      "\r",
      " 37%|██████████████████████████████████████████▌                                                                         | 2410/6576 [29:38<51:21,  1.35it/s]"
     ]
    },
    {
     "name": "stdout",
     "output_type": "stream",
     "text": [
      "------------------------------------------------------------------------------ 2416\n",
      "kogera_080516_utsunomiya_hirano.wma\n",
      "/home/wataru/code/b-com/b-com/crawling/コゲラ/ﾄﾞﾗﾐﾝｸﾞ\n",
      "https://www.bird-research.jp/1_shiryo/koe/kogera_080516_utsunomiya_hirano.wma\n"
     ]
    },
    {
     "name": "stderr",
     "output_type": "stream",
     "text": [
      "\r",
      " 37%|██████████████████████████████████████████▋                                                                         | 2417/6576 [29:43<51:24,  1.35it/s]"
     ]
    },
    {
     "name": "stdout",
     "output_type": "stream",
     "text": [
      "------------------------------------------------------------------------------ 2423\n",
      "kogera_0906_hyogo_kaji.wma\n",
      "/home/wataru/code/b-com/b-com/crawling/コゲラ/巣立ちビナ\n",
      "https://www.bird-research.jp/1_shiryo/koe/kogera_0906_hyogo_kaji.wma\n"
     ]
    },
    {
     "name": "stderr",
     "output_type": "stream",
     "text": [
      "\r",
      " 37%|██████████████████████████████████████████▊                                                                         | 2424/6576 [29:48<51:33,  1.34it/s]"
     ]
    },
    {
     "name": "stdout",
     "output_type": "stream",
     "text": [
      "------------------------------------------------------------------------------ 2430\n",
      "kogera_160701_miyake_kuroda.wma\n",
      "/home/wataru/code/b-com/b-com/crawling/ミヤケコゲラ/亜種\n",
      "https://www.bird-research.jp/1_shiryo/koe/kogera_160701_miyake_kuroda.wma\n"
     ]
    },
    {
     "name": "stderr",
     "output_type": "stream",
     "text": [
      "\r",
      " 37%|██████████████████████████████████████████▉                                                                         | 2431/6576 [29:54<51:25,  1.34it/s]"
     ]
    },
    {
     "name": "stdout",
     "output_type": "stream",
     "text": [
      "------------------------------------------------------------------------------ 2437\n",
      "kogera_150402_kunitachi_mju.wma\n",
      "/home/wataru/code/b-com/b-com/crawling/コゲラ/ﾄﾞﾗﾐﾝｸﾞ\n",
      "https://www.bird-research.jp/1_shiryo/koe/kogera_150402_kunitachi_mju.wma\n"
     ]
    },
    {
     "name": "stderr",
     "output_type": "stream",
     "text": [
      "\r",
      " 37%|███████████████████████████████████████████                                                                         | 2438/6576 [29:59<51:15,  1.35it/s]"
     ]
    },
    {
     "name": "stdout",
     "output_type": "stream",
     "text": [
      "------------------------------------------------------------------------------ 2444\n",
      "ooakagera_100512_shiiba_mju.wma\n",
      "/home/wataru/code/b-com/b-com/crawling/オオアカゲラ/地鳴き\n",
      "https://www.bird-research.jp/1_shiryo/koe/ooakagera_100512_shiiba_mju.wma\n"
     ]
    },
    {
     "name": "stderr",
     "output_type": "stream",
     "text": [
      "\r",
      " 37%|███████████████████████████████████████████▏                                                                        | 2445/6576 [30:04<51:06,  1.35it/s]"
     ]
    },
    {
     "name": "stdout",
     "output_type": "stream",
     "text": [
      "------------------------------------------------------------------------------ 2451\n",
      "oakagera_181223_kosado_mju.wma\n",
      "/home/wataru/code/b-com/b-com/crawling/オオアカゲラ/地鳴き\n",
      "https://www.bird-research.jp/1_shiryo/koe/oakagera_181223_kosado_mju.wma\n"
     ]
    },
    {
     "name": "stderr",
     "output_type": "stream",
     "text": [
      "\r",
      " 37%|███████████████████████████████████████████▎                                                                        | 2452/6576 [30:09<51:16,  1.34it/s]"
     ]
    },
    {
     "name": "stdout",
     "output_type": "stream",
     "text": [
      "------------------------------------------------------------------------------ 2458\n",
      "oakagera_140619_kosado_mju.wma\n",
      "/home/wataru/code/b-com/b-com/crawling/オオアカゲラ/地鳴き\n",
      "https://www.bird-research.jp/1_shiryo/koe/oakagera_140619_kosado_mju.wma\n"
     ]
    },
    {
     "name": "stderr",
     "output_type": "stream",
     "text": [
      "\r",
      " 37%|███████████████████████████████████████████▍                                                                        | 2459/6576 [30:14<51:11,  1.34it/s]"
     ]
    },
    {
     "name": "stdout",
     "output_type": "stream",
     "text": [
      "------------------------------------------------------------------------------ 2465\n",
      "oakagera_161225_kosado_mju.wma\n",
      "/home/wataru/code/b-com/b-com/crawling/オオアカゲラ/ﾄﾞﾗﾐﾝｸﾞ\n",
      "https://www.bird-research.jp/1_shiryo/koe/oakagera_161225_kosado_mju.wma\n"
     ]
    },
    {
     "name": "stderr",
     "output_type": "stream",
     "text": [
      "\r",
      " 38%|███████████████████████████████████████████▌                                                                        | 2466/6576 [30:20<51:21,  1.33it/s]"
     ]
    },
    {
     "name": "stdout",
     "output_type": "stream",
     "text": [
      "------------------------------------------------------------------------------ 2472\n",
      "oakagera_070525_nasushio_hirano.wma\n",
      "/home/wataru/code/b-com/b-com/crawling/オオアカゲラ/ﾄﾞﾗﾐﾝｸﾞ\n",
      "https://www.bird-research.jp/1_shiryo/koe/oakagera_070525_nasushio_hirano.wma\n"
     ]
    },
    {
     "name": "stderr",
     "output_type": "stream",
     "text": [
      "\r",
      " 38%|███████████████████████████████████████████▌                                                                        | 2473/6576 [30:25<52:18,  1.31it/s]"
     ]
    },
    {
     "name": "stdout",
     "output_type": "stream",
     "text": [
      "------------------------------------------------------------------------------ 2479\n",
      "oakageraj_140619_kosado_mju.wma\n",
      "/home/wataru/code/b-com/b-com/crawling/オオアカゲラ/巣立ちビナ\n",
      "https://www.bird-research.jp/1_shiryo/koe/oakageraj_140619_kosado_mju.wma\n"
     ]
    },
    {
     "name": "stderr",
     "output_type": "stream",
     "text": [
      "\r",
      " 38%|███████████████████████████████████████████▋                                                                        | 2480/6576 [30:31<51:55,  1.31it/s]"
     ]
    },
    {
     "name": "stdout",
     "output_type": "stream",
     "text": [
      "------------------------------------------------------------------------------ 2486\n",
      "ooakagera_200405_daisen_kuroda.wma\n",
      "/home/wataru/code/b-com/b-com/crawling/オオアカゲラ/地鳴き\n",
      "https://www.bird-research.jp/1_shiryo/koe/ooakagera_200405_daisen_kuroda.wma\n"
     ]
    },
    {
     "name": "stderr",
     "output_type": "stream",
     "text": [
      "\r",
      " 38%|███████████████████████████████████████████▊                                                                        | 2487/6576 [30:36<51:39,  1.32it/s]"
     ]
    },
    {
     "name": "stdout",
     "output_type": "stream",
     "text": [
      "------------------------------------------------------------------------------ 2493\n",
      "ostoaka_140307_amami_ishida.wma\n",
      "/home/wataru/code/b-com/b-com/crawling/ｵｰｽﾄﾝｵｵｱｶｹﾞﾗ/\n",
      "https://www.bird-research.jp/1_shiryo/koe/ostoaka_140307_amami_ishida.wma\n"
     ]
    },
    {
     "name": "stderr",
     "output_type": "stream",
     "text": [
      "\r",
      " 38%|███████████████████████████████████████████▉                                                                        | 2494/6576 [30:41<51:12,  1.33it/s]"
     ]
    },
    {
     "name": "stdout",
     "output_type": "stream",
     "text": [
      "------------------------------------------------------------------------------ 2500\n",
      "ostoaka2_140307_amami_ishida.wma\n",
      "/home/wataru/code/b-com/b-com/crawling/ｵｰｽﾄﾝｵｵｱｶｹﾞﾗ/威嚇？\n",
      "https://www.bird-research.jp/1_shiryo/koe/ostoaka2_140307_amami_ishida.wma\n"
     ]
    },
    {
     "name": "stderr",
     "output_type": "stream",
     "text": [
      "\r",
      " 38%|████████████████████████████████████████████                                                                        | 2501/6576 [30:46<51:03,  1.33it/s]"
     ]
    },
    {
     "name": "stdout",
     "output_type": "stream",
     "text": [
      "------------------------------------------------------------------------------ 2507\n",
      "ostoaka_140307d_amami_ishida.wma\n",
      "/home/wataru/code/b-com/b-com/crawling/ｵｰｽﾄﾝｵｵｱｶｹﾞﾗ/ドラミング\n",
      "https://www.bird-research.jp/1_shiryo/koe/ostoaka_140307d_amami_ishida.wma\n"
     ]
    },
    {
     "name": "stderr",
     "output_type": "stream",
     "text": [
      "\r",
      " 38%|████████████████████████████████████████████▏                                                                       | 2508/6576 [30:52<50:56,  1.33it/s]"
     ]
    },
    {
     "name": "stdout",
     "output_type": "stream",
     "text": [
      "------------------------------------------------------------------------------ 2514\n",
      "ostooaka090518_amami_isida.wma\n",
      "/home/wataru/code/b-com/b-com/crawling/ｵｰｽﾄﾝｵｵｱｶｹﾞﾗ/巣内ビナ\n",
      "https://www.bird-research.jp/1_shiryo/koe/ostooaka090518_amami_isida.wma\n"
     ]
    },
    {
     "name": "stderr",
     "output_type": "stream",
     "text": [
      "\r",
      " 38%|████████████████████████████████████████████▎                                                                       | 2515/6576 [30:57<50:34,  1.34it/s]"
     ]
    },
    {
     "name": "stdout",
     "output_type": "stream",
     "text": [
      "------------------------------------------------------------------------------ 2521\n",
      "oakagera_220203_chichibu_mju.wma\n",
      "/home/wataru/code/b-com/b-com/crawling/オオアカゲラ/つつき音\n",
      "https://www.bird-research.jp/1_shiryo/koe/oakagera_220203_chichibu_mju.wma\n"
     ]
    },
    {
     "name": "stderr",
     "output_type": "stream",
     "text": [
      "\r",
      " 38%|████████████████████████████████████████████▍                                                                       | 2522/6576 [31:02<50:31,  1.34it/s]"
     ]
    },
    {
     "name": "stdout",
     "output_type": "stream",
     "text": [
      "------------------------------------------------------------------------------ 2528\n",
      "akagera1_090619_osado_mju.wma\n",
      "/home/wataru/code/b-com/b-com/crawling/アカゲラ/\n",
      "https://www.bird-research.jp/1_shiryo/koe/akagera1_090619_osado_mju.wma\n"
     ]
    },
    {
     "name": "stderr",
     "output_type": "stream",
     "text": [
      "\r",
      " 38%|████████████████████████████████████████████▌                                                                       | 2529/6576 [31:07<50:20,  1.34it/s]"
     ]
    },
    {
     "name": "stdout",
     "output_type": "stream",
     "text": [
      "------------------------------------------------------------------------------ 2535\n",
      "akagera2_070516_mitake_mju.wma\n",
      "/home/wataru/code/b-com/b-com/crawling/アカゲラ/ﾄﾞﾗﾐﾝｸﾞ\n",
      "https://www.bird-research.jp/1_shiryo/koe/akagera2_070516_mitake_mju.wma\n"
     ]
    },
    {
     "name": "stderr",
     "output_type": "stream",
     "text": [
      "\r",
      " 39%|████████████████████████████████████████████▋                                                                       | 2536/6576 [31:12<50:12,  1.34it/s]"
     ]
    },
    {
     "name": "stdout",
     "output_type": "stream",
     "text": [
      "------------------------------------------------------------------------------ 2542\n",
      "akagera_110323_sapporo_namba.wma\n",
      "/home/wataru/code/b-com/b-com/crawling/アカゲラ/ﾄﾞﾗﾐﾝｸﾞ\n",
      "https://www.bird-research.jp/1_shiryo/koe/akagera_110323_sapporo_namba.wma\n"
     ]
    },
    {
     "name": "stderr",
     "output_type": "stream",
     "text": [
      "\r",
      " 39%|████████████████████████████████████████████▊                                                                       | 2543/6576 [31:18<50:15,  1.34it/s]"
     ]
    },
    {
     "name": "stdout",
     "output_type": "stream",
     "text": [
      "------------------------------------------------------------------------------ 2549\n",
      "akagera_110327_moiwa_namba.wma\n",
      "/home/wataru/code/b-com/b-com/crawling/アカゲラ/ﾄﾞﾗﾐﾝｸﾞ交\n",
      "https://www.bird-research.jp/1_shiryo/koe/akagera_110327_moiwa_namba.wma\n"
     ]
    },
    {
     "name": "stderr",
     "output_type": "stream",
     "text": [
      "\r",
      " 39%|████████████████████████████████████████████▉                                                                       | 2550/6576 [31:23<50:02,  1.34it/s]"
     ]
    },
    {
     "name": "stdout",
     "output_type": "stream",
     "text": [
      "------------------------------------------------------------------------------ 2556\n",
      "akagera_110620_sapporo_namba.wma\n",
      "/home/wataru/code/b-com/b-com/crawling/アカゲラ/ヒナ\n",
      "https://www.bird-research.jp/1_shiryo/koe/akagera_110620_sapporo_namba.wma\n"
     ]
    },
    {
     "name": "stderr",
     "output_type": "stream",
     "text": [
      "\r",
      " 39%|█████████████████████████████████████████████                                                                       | 2557/6576 [31:28<49:51,  1.34it/s]"
     ]
    },
    {
     "name": "stdout",
     "output_type": "stream",
     "text": [
      "------------------------------------------------------------------------------ 2563\n",
      "kumagera_060621_hokkaidou_kaji.wma\n",
      "/home/wataru/code/b-com/b-com/crawling/クマゲラ/\n",
      "https://www.bird-research.jp/1_shiryo/koe/kumagera_060621_hokkaidou_kaji.wma\n"
     ]
    },
    {
     "name": "stderr",
     "output_type": "stream",
     "text": [
      "\r",
      " 39%|█████████████████████████████████████████████▏                                                                      | 2564/6576 [31:33<49:53,  1.34it/s]"
     ]
    },
    {
     "name": "stdout",
     "output_type": "stream",
     "text": [
      "------------------------------------------------------------------------------ 2570\n",
      "kumagera_170427_uryu_mju.wma\n",
      "/home/wataru/code/b-com/b-com/crawling/クマゲラ/\n",
      "https://www.bird-research.jp/1_shiryo/koe/kumagera_170427_uryu_mju.wma\n"
     ]
    },
    {
     "name": "stderr",
     "output_type": "stream",
     "text": [
      "\r",
      " 39%|█████████████████████████████████████████████▎                                                                      | 2571/6576 [31:39<50:01,  1.33it/s]"
     ]
    },
    {
     "name": "stdout",
     "output_type": "stream",
     "text": [
      "------------------------------------------------------------------------------ 2577\n",
      "kumagera_210518_tomakomai_ic.wma\n",
      "/home/wataru/code/b-com/b-com/crawling/クマゲラ/ﾄﾞﾗﾐﾝｸﾞ\n",
      "https://www.bird-research.jp/1_shiryo/koe/kumagera_210518_tomakomai_ic.wma\n"
     ]
    },
    {
     "name": "stderr",
     "output_type": "stream",
     "text": [
      "\r",
      " 39%|█████████████████████████████████████████████▍                                                                      | 2578/6576 [31:44<50:04,  1.33it/s]"
     ]
    },
    {
     "name": "stdout",
     "output_type": "stream",
     "text": [
      "------------------------------------------------------------------------------ 2584\n",
      "kumagera_110326_tomakomai_namba.wma\n",
      "/home/wataru/code/b-com/b-com/crawling/クマゲラ/ﾄﾞﾗﾐﾝｸﾞ交\n",
      "https://www.bird-research.jp/1_shiryo/koe/kumagera_110326_tomakomai_namba.wma\n"
     ]
    },
    {
     "name": "stderr",
     "output_type": "stream",
     "text": [
      "\r",
      " 39%|█████████████████████████████████████████████▌                                                                      | 2585/6576 [31:49<50:00,  1.33it/s]"
     ]
    },
    {
     "name": "stdout",
     "output_type": "stream",
     "text": [
      "------------------------------------------------------------------------------ 2591\n",
      "kumagera_110326b_tomakomai_namba.wma\n",
      "/home/wataru/code/b-com/b-com/crawling/クマゲラ/ﾄﾞﾗﾐﾝｸﾞ交\n",
      "https://www.bird-research.jp/1_shiryo/koe/kumagera_110326b_tomakomai_namba.wma\n"
     ]
    },
    {
     "name": "stderr",
     "output_type": "stream",
     "text": [
      "\r",
      " 39%|█████████████████████████████████████████████▋                                                                      | 2592/6576 [31:54<49:56,  1.33it/s]"
     ]
    },
    {
     "name": "stdout",
     "output_type": "stream",
     "text": [
      "------------------------------------------------------------------------------ 2598\n",
      "aogera1_070421_kokubunji_mju.wma\n",
      "/home/wataru/code/b-com/b-com/crawling/アオゲラ/\n",
      "https://www.bird-research.jp/1_shiryo/koe/aogera1_070421_kokubunji_mju.wma\n"
     ]
    },
    {
     "name": "stderr",
     "output_type": "stream",
     "text": [
      "\r",
      " 40%|█████████████████████████████████████████████▊                                                                      | 2599/6576 [32:00<49:47,  1.33it/s]"
     ]
    },
    {
     "name": "stdout",
     "output_type": "stream",
     "text": [
      "------------------------------------------------------------------------------ 2605\n",
      "aogera_c_20091025_utsunomiya_hirano.wma\n",
      "/home/wataru/code/b-com/b-com/crawling/アオゲラ/地鳴き\n",
      "https://www.bird-research.jp/1_shiryo/koe/aogera_c_20091025_utsunomiya_hirano.wma\n"
     ]
    },
    {
     "name": "stderr",
     "output_type": "stream",
     "text": [
      "\r",
      " 40%|█████████████████████████████████████████████▉                                                                      | 2606/6576 [32:05<49:40,  1.33it/s]"
     ]
    },
    {
     "name": "stdout",
     "output_type": "stream",
     "text": [
      "------------------------------------------------------------------------------ 2612\n",
      "aogera_121016_nasushiobara_hirano.wma\n",
      "/home/wataru/code/b-com/b-com/crawling/アオゲラ/地鳴き\n",
      "https://www.bird-research.jp/1_shiryo/koe/aogera_121016_nasushiobara_hirano.wma\n"
     ]
    },
    {
     "name": "stderr",
     "output_type": "stream",
     "text": [
      "\r",
      " 40%|██████████████████████████████████████████████                                                                      | 2613/6576 [32:10<49:22,  1.34it/s]"
     ]
    },
    {
     "name": "stdout",
     "output_type": "stream",
     "text": [
      "------------------------------------------------------------------------------ 2619\n",
      "aogera2_070516_miyagase_mju.wma\n",
      "/home/wataru/code/b-com/b-com/crawling/アオゲラ/ﾄﾞﾗﾐﾝｸﾞ\n",
      "https://www.bird-research.jp/1_shiryo/koe/aogera2_070516_miyagase_mju.wma\n"
     ]
    },
    {
     "name": "stderr",
     "output_type": "stream",
     "text": [
      "\r",
      " 40%|██████████████████████████████████████████████▏                                                                     | 2620/6576 [32:15<49:19,  1.34it/s]"
     ]
    },
    {
     "name": "stdout",
     "output_type": "stream",
     "text": [
      "------------------------------------------------------------------------------ 2626\n",
      "aogera_1004_hyogo_kaji.wma\n",
      "/home/wataru/code/b-com/b-com/crawling/アオゲラ/特殊声\n",
      "https://www.bird-research.jp/1_shiryo/koe/aogera_1004_hyogo_kaji.wma\n"
     ]
    },
    {
     "name": "stderr",
     "output_type": "stream",
     "text": [
      "\r",
      " 40%|██████████████████████████████████████████████▎                                                                     | 2627/6576 [32:21<49:15,  1.34it/s]"
     ]
    },
    {
     "name": "stdout",
     "output_type": "stream",
     "text": [
      "------------------------------------------------------------------------------ 2633\n",
      "yamagera_130330_muroran_kuros.wma\n",
      "/home/wataru/code/b-com/b-com/crawling/ヤマゲラ/\n",
      "https://www.bird-research.jp/1_shiryo/koe/yamagera_130330_muroran_kuros.wma\n"
     ]
    },
    {
     "name": "stderr",
     "output_type": "stream",
     "text": [
      "\r",
      " 40%|██████████████████████████████████████████████▍                                                                     | 2634/6576 [32:26<49:11,  1.34it/s]"
     ]
    },
    {
     "name": "stdout",
     "output_type": "stream",
     "text": [
      "------------------------------------------------------------------------------ 2640\n",
      "yamagera_141025_nopporo_mju.wma\n",
      "/home/wataru/code/b-com/b-com/crawling/ヤマゲラ/地鳴き\n",
      "https://www.bird-research.jp/1_shiryo/koe/yamagera_141025_nopporo_mju.wma\n"
     ]
    },
    {
     "name": "stderr",
     "output_type": "stream",
     "text": [
      "\r",
      " 40%|██████████████████████████████████████████████▌                                                                     | 2641/6576 [32:31<49:13,  1.33it/s]"
     ]
    },
    {
     "name": "stdout",
     "output_type": "stream",
     "text": [
      "------------------------------------------------------------------------------ 2647\n",
      "yamagera_130422_muroran_kros.wma\n",
      "/home/wataru/code/b-com/b-com/crawling/ヤマゲラ/ドラミング\n",
      "https://www.bird-research.jp/1_shiryo/koe/yamagera_130422_muroran_kros.wma\n"
     ]
    },
    {
     "name": "stderr",
     "output_type": "stream",
     "text": [
      "\r",
      " 40%|██████████████████████████████████████████████▋                                                                     | 2648/6576 [32:36<49:08,  1.33it/s]"
     ]
    },
    {
     "name": "stdout",
     "output_type": "stream",
     "text": [
      "------------------------------------------------------------------------------ 2654\n",
      "noguchigera_120419_yambaru_moriya.wma\n",
      "/home/wataru/code/b-com/b-com/crawling/ノグチゲラ/\n",
      "https://www.bird-research.jp/1_shiryo/koe/noguchigera_120419_yambaru_moriya.wma\n"
     ]
    },
    {
     "name": "stderr",
     "output_type": "stream",
     "text": [
      "\r",
      " 40%|██████████████████████████████████████████████▊                                                                     | 2655/6576 [32:42<49:12,  1.33it/s]"
     ]
    },
    {
     "name": "stdout",
     "output_type": "stream",
     "text": [
      "------------------------------------------------------------------------------ 2662\n",
      "chogenbo_keikai_130303_utsunomiya_hirano.wma\n",
      "/home/wataru/code/b-com/b-com/crawling/チョウゲンボウ/警戒\n",
      "https://www.bird-research.jp/1_shiryo/koe/chogenbo_keikai_130303_utsunomiya_hirano.wma\n"
     ]
    },
    {
     "name": "stderr",
     "output_type": "stream",
     "text": [
      "\r",
      " 40%|██████████████████████████████████████████████▉                                                                     | 2663/6576 [32:47<47:00,  1.39it/s]"
     ]
    },
    {
     "name": "stdout",
     "output_type": "stream",
     "text": [
      "------------------------------------------------------------------------------ 2669\n",
      "chogenbo_141026_hyogo_kuroda.wma\n",
      "/home/wataru/code/b-com/b-com/crawling/チョウゲンボウ/\n",
      "https://www.bird-research.jp/1_shiryo/koe/chogenbo_141026_hyogo_kuroda.wma\n"
     ]
    },
    {
     "name": "stderr",
     "output_type": "stream",
     "text": [
      "\r",
      " 41%|███████████████████████████████████████████████                                                                     | 2670/6576 [32:52<47:28,  1.37it/s]"
     ]
    },
    {
     "name": "stdout",
     "output_type": "stream",
     "text": [
      "------------------------------------------------------------------------------ 2676\n",
      "chogenbo_210514_toyota_atsumi.wma\n",
      "/home/wataru/code/b-com/b-com/crawling/チョウゲンボウ/地鳴き\n",
      "https://www.bird-research.jp/1_shiryo/koe/chogenbo_210514_toyota_atsumi.wma\n"
     ]
    },
    {
     "name": "stderr",
     "output_type": "stream",
     "text": [
      "\r",
      " 41%|███████████████████████████████████████████████▏                                                                    | 2677/6576 [32:57<47:35,  1.37it/s]"
     ]
    },
    {
     "name": "stdout",
     "output_type": "stream",
     "text": [
      "------------------------------------------------------------------------------ 2683\n",
      "chogenbo_130219_utsunomiya_hirano.wma\n",
      "/home/wataru/code/b-com/b-com/crawling/チョウゲンボウ/交尾\n",
      "https://www.bird-research.jp/1_shiryo/koe/chogenbo_130219_utsunomiya_hirano.wma\n"
     ]
    },
    {
     "name": "stderr",
     "output_type": "stream",
     "text": [
      "\r",
      " 41%|███████████████████████████████████████████████▎                                                                    | 2684/6576 [33:03<48:14,  1.34it/s]"
     ]
    },
    {
     "name": "stdout",
     "output_type": "stream",
     "text": [
      "------------------------------------------------------------------------------ 2690\n",
      "chigohaya_110601_morioka_mikami.wma\n",
      "/home/wataru/code/b-com/b-com/crawling/チゴハヤブサ/\n",
      "https://www.bird-research.jp/1_shiryo/koe/chigohaya_110601_morioka_mikami.wma\n"
     ]
    },
    {
     "name": "stderr",
     "output_type": "stream",
     "text": [
      "\r",
      " 41%|███████████████████████████████████████████████▍                                                                    | 2691/6576 [33:08<48:20,  1.34it/s]"
     ]
    },
    {
     "name": "stdout",
     "output_type": "stream",
     "text": [
      "------------------------------------------------------------------------------ 2697\n",
      "hayabusa_130519_date_kuros.wma\n",
      "/home/wataru/code/b-com/b-com/crawling/ハヤブサ/\n",
      "https://www.bird-research.jp/1_shiryo/koe/hayabusa_130519_date_kuros.wma\n"
     ]
    },
    {
     "name": "stderr",
     "output_type": "stream",
     "text": [
      "\r",
      " 41%|███████████████████████████████████████████████▌                                                                    | 2698/6576 [33:13<48:18,  1.34it/s]"
     ]
    },
    {
     "name": "stdout",
     "output_type": "stream",
     "text": [
      "------------------------------------------------------------------------------ 2704\n",
      "hayabusay_130801_muroan_kros.wma\n",
      "/home/wataru/code/b-com/b-com/crawling/ハヤブサ/幼鳥\n",
      "https://www.bird-research.jp/1_shiryo/koe/hayabusay_130801_muroan_kros.wma\n"
     ]
    },
    {
     "name": "stderr",
     "output_type": "stream",
     "text": [
      "\r",
      " 41%|███████████████████████████████████████████████▋                                                                    | 2705/6576 [33:19<48:17,  1.34it/s]"
     ]
    },
    {
     "name": "stdout",
     "output_type": "stream",
     "text": [
      "------------------------------------------------------------------------------ 2711\n",
      "hayabusa_131211_tottori_kuroda.wma\n",
      "/home/wataru/code/b-com/b-com/crawling/ハヤブサ/幼鳥\n",
      "https://www.bird-research.jp/1_shiryo/koe/hayabusa_131211_tottori_kuroda.wma\n"
     ]
    },
    {
     "name": "stderr",
     "output_type": "stream",
     "text": [
      "\r",
      " 41%|███████████████████████████████████████████████▊                                                                    | 2712/6576 [33:24<48:10,  1.34it/s]"
     ]
    },
    {
     "name": "stdout",
     "output_type": "stream",
     "text": [
      "------------------------------------------------------------------------------ 2718\n",
      "hayabusa_160116_choshi_mju.wma\n",
      "/home/wataru/code/b-com/b-com/crawling/ハヤブサ/雌雄会話\n",
      "https://www.bird-research.jp/1_shiryo/koe/hayabusa_160116_choshi_mju.wma\n"
     ]
    },
    {
     "name": "stderr",
     "output_type": "stream",
     "text": [
      "\r",
      " 41%|███████████████████████████████████████████████▉                                                                    | 2719/6576 [33:29<48:09,  1.33it/s]"
     ]
    },
    {
     "name": "stdout",
     "output_type": "stream",
     "text": [
      "------------------------------------------------------------------------------ 2727\n",
      "yairocho_090602_nagano_uematsu.wma\n",
      "/home/wataru/code/b-com/b-com/crawling/ヤイロチョウ/さえずり\n",
      "https://www.bird-research.jp/1_shiryo/koe/yairocho_090602_nagano_uematsu.wma\n"
     ]
    },
    {
     "name": "stderr",
     "output_type": "stream",
     "text": [
      "\r",
      " 41%|████████████████████████████████████████████████                                                                    | 2728/6576 [33:34<44:05,  1.45it/s]"
     ]
    },
    {
     "name": "stdout",
     "output_type": "stream",
     "text": [
      "------------------------------------------------------------------------------ 2735\n",
      "sanshoukui_0905_hyogo_kaji.wma\n",
      "/home/wataru/code/b-com/b-com/crawling/サンショウクイ/\n",
      "https://www.bird-research.jp/1_shiryo/koe/sanshoukui_0905_hyogo_kaji.wma\n"
     ]
    },
    {
     "name": "stderr",
     "output_type": "stream",
     "text": [
      "\r",
      " 42%|████████████████████████████████████████████████▎                                                                   | 2736/6576 [33:39<43:25,  1.47it/s]"
     ]
    },
    {
     "name": "stdout",
     "output_type": "stream",
     "text": [
      "------------------------------------------------------------------------------ 2743\n",
      "rsanshoukui_060315_okinawa_kaji.wma\n",
      "/home/wataru/code/b-com/b-com/crawling/ﾘｭｳｷｭｳｻﾝｼｮｳｸｲ/\n",
      "https://www.bird-research.jp/1_shiryo/koe/rsanshoukui_060315_okinawa_kaji.wma\n"
     ]
    },
    {
     "name": "stderr",
     "output_type": "stream",
     "text": [
      "\r",
      " 42%|████████████████████████████████████████████████▍                                                                   | 2744/6576 [33:45<42:55,  1.49it/s]"
     ]
    },
    {
     "name": "stdout",
     "output_type": "stream",
     "text": [
      "------------------------------------------------------------------------------ 2751\n",
      "rsanshokui_120419_yambaru_moriya.wma\n",
      "/home/wataru/code/b-com/b-com/crawling/ﾘｭｳｷｭｳｻﾝｼｮｳｸｲ/\n",
      "https://www.bird-research.jp/1_shiryo/koe/rsanshokui_120419_yambaru_moriya.wma\n"
     ]
    },
    {
     "name": "stderr",
     "output_type": "stream",
     "text": [
      "\r",
      " 42%|████████████████████████████████████████████████▌                                                                   | 2752/6576 [33:50<42:31,  1.50it/s]"
     ]
    },
    {
     "name": "stdout",
     "output_type": "stream",
     "text": [
      "------------------------------------------------------------------------------ 2759\n",
      "kouraiuguisu_180519_tokyo.wma\n",
      "/home/wataru/code/b-com/b-com/crawling/コウライウグイス/さえずり\n",
      "https://www.bird-research.jp/1_shiryo/koe/kouraiuguisu_180519_tokyo.wma\n"
     ]
    },
    {
     "name": "stderr",
     "output_type": "stream",
     "text": [
      "\r",
      " 42%|████████████████████████████████████████████████▋                                                                   | 2760/6576 [33:55<42:16,  1.50it/s]"
     ]
    },
    {
     "name": "stdout",
     "output_type": "stream",
     "text": [
      "------------------------------------------------------------------------------ 2766\n",
      "kouraiuguisu2_180519_tokyo.wma\n",
      "/home/wataru/code/b-com/b-com/crawling/コウライウグイス/地鳴き\n",
      "https://www.bird-research.jp/1_shiryo/koe/kouraiuguisu2_180519_tokyo.wma\n"
     ]
    },
    {
     "name": "stderr",
     "output_type": "stream",
     "text": [
      "\r",
      " 42%|████████████████████████████████████████████████▊                                                                   | 2767/6576 [34:00<43:30,  1.46it/s]"
     ]
    },
    {
     "name": "stdout",
     "output_type": "stream",
     "text": [
      "------------------------------------------------------------------------------ 2774\n",
      "ochu_150524_tsushima_mju.wma\n",
      "/home/wataru/code/b-com/b-com/crawling/オウチュウ/ぐぜり？\n",
      "https://www.bird-research.jp/1_shiryo/koe/ochu_150524_tsushima_mju.wma\n"
     ]
    },
    {
     "name": "stderr",
     "output_type": "stream",
     "text": [
      "\r",
      " 42%|████████████████████████████████████████████████▉                                                                   | 2775/6576 [34:06<42:40,  1.48it/s]"
     ]
    },
    {
     "name": "stdout",
     "output_type": "stream",
     "text": [
      "------------------------------------------------------------------------------ 2781\n",
      "ochu2_150524_tsushima_mju.wma\n",
      "/home/wataru/code/b-com/b-com/crawling/オウチュウ/ぐぜり？\n",
      "https://www.bird-research.jp/1_shiryo/koe/ochu2_150524_tsushima_mju.wma\n"
     ]
    },
    {
     "name": "stderr",
     "output_type": "stream",
     "text": [
      "\r",
      " 42%|█████████████████████████████████████████████████                                                                   | 2782/6576 [34:11<43:56,  1.44it/s]"
     ]
    },
    {
     "name": "stdout",
     "output_type": "stream",
     "text": [
      "------------------------------------------------------------------------------ 2788\n",
      "ochu_180526_nagasaki_yoshigai.wma\n",
      "/home/wataru/code/b-com/b-com/crawling/オウチュウ/地鳴き\n",
      "https://www.bird-research.jp/1_shiryo/koe/ochu_180526_nagasaki_yoshigai.wma\n"
     ]
    },
    {
     "name": "stderr",
     "output_type": "stream",
     "text": [
      "\r",
      " 42%|█████████████████████████████████████████████████▏                                                                  | 2789/6576 [34:16<44:57,  1.40it/s]"
     ]
    },
    {
     "name": "stdout",
     "output_type": "stream",
     "text": [
      "------------------------------------------------------------------------------ 2795\n",
      "haiiroochu_180503_nagasaki_yoshigai.wma\n",
      "/home/wataru/code/b-com/b-com/crawling/ハイイロオウチュウ/地鳴き\n",
      "https://www.bird-research.jp/1_shiryo/koe/haiiroochu_180503_nagasaki_yoshigai.wma\n"
     ]
    },
    {
     "name": "stderr",
     "output_type": "stream",
     "text": [
      "\r",
      " 43%|█████████████████████████████████████████████████▎                                                                  | 2796/6576 [34:21<45:21,  1.39it/s]"
     ]
    },
    {
     "name": "stdout",
     "output_type": "stream",
     "text": [
      "------------------------------------------------------------------------------ 2803\n",
      "sankouchou_0806_hyogo_kaji.wma\n",
      "/home/wataru/code/b-com/b-com/crawling/サンコウチョウ/さえずり\n",
      "https://www.bird-research.jp/1_shiryo/koe/sankouchou_0806_hyogo_kaji.wma\n"
     ]
    },
    {
     "name": "stderr",
     "output_type": "stream",
     "text": [
      "\r",
      " 43%|█████████████████████████████████████████████████▍                                                                  | 2804/6576 [34:27<43:59,  1.43it/s]"
     ]
    },
    {
     "name": "stdout",
     "output_type": "stream",
     "text": [
      "------------------------------------------------------------------------------ 2810\n",
      "sankouchou_0906_hyogo_kaji.wma\n",
      "/home/wataru/code/b-com/b-com/crawling/サンコウチョウ/地鳴き\n",
      "https://www.bird-research.jp/1_shiryo/koe/sankouchou_0906_hyogo_kaji.wma\n"
     ]
    },
    {
     "name": "stderr",
     "output_type": "stream",
     "text": [
      "\r",
      " 43%|█████████████████████████████████████████████████▌                                                                  | 2811/6576 [34:32<44:51,  1.40it/s]"
     ]
    },
    {
     "name": "stdout",
     "output_type": "stream",
     "text": [
      "------------------------------------------------------------------------------ 2817\n",
      "sanko_9806_takara_anezaki.wma\n",
      "/home/wataru/code/b-com/b-com/crawling/ﾘｭｳｷｭｳｻﾝｺｳﾁｮｳ/亜種\n",
      "    199806\n",
      "鹿児島県宝島\n",
      "姉崎悟\n",
      "mp3\n",
      "\n",
      "https://www.bird-research.jp/1_shiryo/koe/sanko_9806_takara_anezaki.wma\n"
     ]
    },
    {
     "name": "stderr",
     "output_type": "stream",
     "text": [
      "\r",
      " 43%|█████████████████████████████████████████████████▋                                                                  | 2818/6576 [34:37<45:11,  1.39it/s]"
     ]
    },
    {
     "name": "stdout",
     "output_type": "stream",
     "text": [
      "------------------------------------------------------------------------------ 2825\n",
      "chigomozu_160520_yamagata_hara.wma\n",
      "/home/wataru/code/b-com/b-com/crawling/チゴモズ/\n",
      "https://www.bird-research.jp/1_shiryo/koe/chigomozu_160520_yamagata_hara.wma\n"
     ]
    },
    {
     "name": "stderr",
     "output_type": "stream",
     "text": [
      "\r",
      " 43%|█████████████████████████████████████████████████▊                                                                  | 2826/6576 [34:42<43:41,  1.43it/s]"
     ]
    },
    {
     "name": "stdout",
     "output_type": "stream",
     "text": [
      "------------------------------------------------------------------------------ 2832\n",
      "mozu_081014_watarase_hirano.wma\n",
      "/home/wataru/code/b-com/b-com/crawling/モズ/高鳴き\n",
      "https://www.bird-research.jp/1_shiryo/koe/mozu_081014_watarase_hirano.wma\n"
     ]
    },
    {
     "name": "stderr",
     "output_type": "stream",
     "text": [
      "\r",
      " 43%|█████████████████████████████████████████████████▉                                                                  | 2833/6576 [34:47<44:19,  1.41it/s]"
     ]
    },
    {
     "name": "stdout",
     "output_type": "stream",
     "text": [
      "------------------------------------------------------------------------------ 2840\n",
      "mozu_140505_utsunomiya_hirano.wma\n",
      "/home/wataru/code/b-com/b-com/crawling/モズ/警戒\n",
      "https://www.bird-research.jp/1_shiryo/koe/mozu_140505_utsunomiya_hirano.wma\n"
     ]
    },
    {
     "name": "stderr",
     "output_type": "stream",
     "text": [
      "\r",
      " 43%|██████████████████████████████████████████████████                                                                  | 2841/6576 [34:53<43:08,  1.44it/s]"
     ]
    },
    {
     "name": "stdout",
     "output_type": "stream",
     "text": [
      "------------------------------------------------------------------------------ 2847\n",
      "mozu_100331_watarase.wma\n",
      "/home/wataru/code/b-com/b-com/crawling/モズ/\n",
      "https://www.bird-research.jp/1_shiryo/koe/mozu_100331_watarase.wma\n"
     ]
    },
    {
     "name": "stderr",
     "output_type": "stream",
     "text": [
      "\r",
      " 43%|██████████████████████████████████████████████████▏                                                                 | 2848/6576 [35:00<50:36,  1.23it/s]"
     ]
    },
    {
     "name": "stdout",
     "output_type": "stream",
     "text": [
      "------------------------------------------------------------------------------ 2854\n",
      "mozu_1002_hyogo_kaji.wma\n",
      "/home/wataru/code/b-com/b-com/crawling/モズ/ぐぜり\n",
      "https://www.bird-research.jp/1_shiryo/koe/mozu_1002_hyogo_kaji.wma\n"
     ]
    },
    {
     "name": "stderr",
     "output_type": "stream",
     "text": [
      "\r",
      " 43%|██████████████████████████████████████████████████▎                                                                 | 2855/6576 [35:06<49:24,  1.26it/s]"
     ]
    },
    {
     "name": "stdout",
     "output_type": "stream",
     "text": [
      "------------------------------------------------------------------------------ 2861\n",
      "mozu_211002_oyama_yajima.wma\n",
      "/home/wataru/code/b-com/b-com/crawling/モズ/けんか\n",
      "https://www.bird-research.jp/1_shiryo/koe/mozu_211002_oyama_yajima.wma\n"
     ]
    },
    {
     "name": "stderr",
     "output_type": "stream",
     "text": [
      "\r",
      " 44%|██████████████████████████████████████████████████▍                                                                 | 2862/6576 [35:11<48:21,  1.28it/s]"
     ]
    },
    {
     "name": "stdout",
     "output_type": "stream",
     "text": [
      "------------------------------------------------------------------------------ 2868\n",
      "mozu_100610_nikkou.wma\n",
      "/home/wataru/code/b-com/b-com/crawling/モズ/鳴きまね\n",
      "https://www.bird-research.jp/1_shiryo/koe/mozu_100610_nikkou.wma\n"
     ]
    },
    {
     "name": "stderr",
     "output_type": "stream",
     "text": [
      "\r",
      " 44%|██████████████████████████████████████████████████▌                                                                 | 2869/6576 [35:16<47:31,  1.30it/s]"
     ]
    },
    {
     "name": "stdout",
     "output_type": "stream",
     "text": [
      "------------------------------------------------------------------------------ 2875\n",
      "mozu_200313_gifu_kuroda.wma\n",
      "/home/wataru/code/b-com/b-com/crawling/モズ/餌乞い\n",
      "https://www.bird-research.jp/1_shiryo/koe/mozu_200313_gifu_kuroda.wma\n"
     ]
    },
    {
     "name": "stderr",
     "output_type": "stream",
     "text": [
      "\r",
      " 44%|██████████████████████████████████████████████████▋                                                                 | 2876/6576 [35:21<47:01,  1.31it/s]"
     ]
    },
    {
     "name": "stdout",
     "output_type": "stream",
     "text": [
      "------------------------------------------------------------------------------ 2882\n",
      "mozu_070625_chikuma_kasahara.wma\n",
      "/home/wataru/code/b-com/b-com/crawling/モズ/ヒナ\n",
      "https://www.bird-research.jp/1_shiryo/koe/mozu_070625_chikuma_kasahara.wma\n"
     ]
    },
    {
     "name": "stderr",
     "output_type": "stream",
     "text": [
      "\r",
      " 44%|██████████████████████████████████████████████████▊                                                                 | 2883/6576 [35:27<46:34,  1.32it/s]"
     ]
    },
    {
     "name": "stdout",
     "output_type": "stream",
     "text": [
      "------------------------------------------------------------------------------ 2889\n",
      "akamozu_160522_nagano_hara.wma\n",
      "/home/wataru/code/b-com/b-com/crawling/アカモズ/\n",
      "https://www.bird-research.jp/1_shiryo/koe/akamozu_160522_nagano_hara.wma\n"
     ]
    },
    {
     "name": "stderr",
     "output_type": "stream",
     "text": [
      "\r",
      " 44%|██████████████████████████████████████████████████▉                                                                 | 2890/6576 [35:32<46:29,  1.32it/s]"
     ]
    },
    {
     "name": "stdout",
     "output_type": "stream",
     "text": [
      "------------------------------------------------------------------------------ 2897\n",
      "kakesu_080413_utsunomiya_hirano.wma\n",
      "/home/wataru/code/b-com/b-com/crawling/カケス/\n",
      "https://www.bird-research.jp/1_shiryo/koe/kakesu_080413_utsunomiya_hirano.wma\n"
     ]
    },
    {
     "name": "stderr",
     "output_type": "stream",
     "text": [
      "\r",
      " 44%|███████████████████████████████████████████████████                                                                 | 2898/6576 [35:37<44:20,  1.38it/s]"
     ]
    },
    {
     "name": "stdout",
     "output_type": "stream",
     "text": [
      "------------------------------------------------------------------------------ 2904\n",
      "kakesu_141027_wakayama_kuroda.wma\n",
      "/home/wataru/code/b-com/b-com/crawling/カケス/威嚇\n",
      "https://www.bird-research.jp/1_shiryo/koe/kakesu_141027_wakayama_kuroda.wma\n"
     ]
    },
    {
     "name": "stderr",
     "output_type": "stream",
     "text": [
      "\r",
      " 44%|███████████████████████████████████████████████████▏                                                                | 2905/6576 [35:42<44:33,  1.37it/s]"
     ]
    },
    {
     "name": "stdout",
     "output_type": "stream",
     "text": [
      "------------------------------------------------------------------------------ 2911\n",
      "kakesu_160624_chichibu_cyberforest.wma\n",
      "/home/wataru/code/b-com/b-com/crawling/カケス/\n",
      "https://www.bird-research.jp/1_shiryo/koe/kakesu_160624_chichibu_cyberforest.wma\n"
     ]
    },
    {
     "name": "stderr",
     "output_type": "stream",
     "text": [
      "\r",
      " 44%|███████████████████████████████████████████████████▎                                                                | 2912/6576 [35:47<44:41,  1.37it/s]"
     ]
    },
    {
     "name": "stdout",
     "output_type": "stream",
     "text": [
      "------------------------------------------------------------------------------ 2918\n",
      "kakesu_110227_utsunomiya_hirano.WMA\n",
      "/home/wataru/code/b-com/b-com/crawling/カケス/ぐぜり\n",
      "https://www.bird-research.jp/1_shiryo/koe/kakesu_110227_utsunomiya_hirano.WMA\n"
     ]
    },
    {
     "name": "stderr",
     "output_type": "stream",
     "text": [
      "\r",
      " 44%|███████████████████████████████████████████████████▍                                                                | 2919/6576 [35:53<44:45,  1.36it/s]"
     ]
    },
    {
     "name": "stdout",
     "output_type": "stream",
     "text": [
      "------------------------------------------------------------------------------ 2925\n",
      "kakesu_100503_utsunomiya.wma\n",
      "/home/wataru/code/b-com/b-com/crawling/カケス/鳴きまね\n",
      "https://www.bird-research.jp/1_shiryo/koe/kakesu_100503_utsunomiya.wma\n"
     ]
    },
    {
     "name": "stderr",
     "output_type": "stream",
     "text": [
      "\r",
      " 44%|███████████████████████████████████████████████████▌                                                                | 2926/6576 [35:58<44:57,  1.35it/s]"
     ]
    },
    {
     "name": "stdout",
     "output_type": "stream",
     "text": [
      "------------------------------------------------------------------------------ 2932\n",
      "kakesu_110329_utsunomiya_hirano.wma\n",
      "/home/wataru/code/b-com/b-com/crawling/カケス/鳴きまね\n",
      "https://www.bird-research.jp/1_shiryo/koe/kakesu_110329_utsunomiya_hirano.wma\n"
     ]
    },
    {
     "name": "stderr",
     "output_type": "stream",
     "text": [
      "\r",
      " 45%|███████████████████████████████████████████████████▋                                                                | 2933/6576 [36:03<45:06,  1.35it/s]"
     ]
    },
    {
     "name": "stdout",
     "output_type": "stream",
     "text": [
      "------------------------------------------------------------------------------ 2939\n",
      "kakesu_110429_utsunomiya_hirano.wma\n",
      "/home/wataru/code/b-com/b-com/crawling/カケス/鳴きまね\n",
      "https://www.bird-research.jp/1_shiryo/koe/kakesu_110429_utsunomiya_hirano.wma\n"
     ]
    },
    {
     "name": "stderr",
     "output_type": "stream",
     "text": [
      "\r",
      " 45%|███████████████████████████████████████████████████▊                                                                | 2940/6576 [36:08<45:08,  1.34it/s]"
     ]
    },
    {
     "name": "stdout",
     "output_type": "stream",
     "text": [
      "------------------------------------------------------------------------------ 2946\n",
      "kakesu_060317_fukuoka_kuroda.wma\n",
      "/home/wataru/code/b-com/b-com/crawling/カケス/鳴きまね\n",
      "https://www.bird-research.jp/1_shiryo/koe/kakesu_060317_fukuoka_kuroda.wma\n"
     ]
    },
    {
     "name": "stderr",
     "output_type": "stream",
     "text": [
      "\r",
      " 45%|███████████████████████████████████████████████████▉                                                                | 2947/6576 [36:14<45:18,  1.33it/s]"
     ]
    },
    {
     "name": "stdout",
     "output_type": "stream",
     "text": [
      "------------------------------------------------------------------------------ 2953\n",
      "kakesu_1103_hyogo_kaji.wma\n",
      "/home/wataru/code/b-com/b-com/crawling/カケス/鳴きまね\n",
      "https://www.bird-research.jp/1_shiryo/koe/kakesu_1103_hyogo_kaji.wma\n"
     ]
    },
    {
     "name": "stderr",
     "output_type": "stream",
     "text": [
      "\r",
      " 45%|████████████████████████████████████████████████████                                                                | 2954/6576 [36:19<45:05,  1.34it/s]"
     ]
    },
    {
     "name": "stdout",
     "output_type": "stream",
     "text": [
      "------------------------------------------------------------------------------ 2960\n",
      "kakesu_120210_nemuro_mju.wma\n",
      "/home/wataru/code/b-com/b-com/crawling/ミヤマカケス/亜種\n",
      "https://www.bird-research.jp/1_shiryo/koe/kakesu_120210_nemuro_mju.wma\n"
     ]
    },
    {
     "name": "stderr",
     "output_type": "stream",
     "text": [
      "\r",
      " 45%|████████████████████████████████████████████████████▏                                                               | 2961/6576 [36:24<45:43,  1.32it/s]"
     ]
    },
    {
     "name": "stdout",
     "output_type": "stream",
     "text": [
      "------------------------------------------------------------------------------ 2967\n",
      "sadokakesu_100223_sado_mju.wma\n",
      "/home/wataru/code/b-com/b-com/crawling/サドカケス/亜種\n",
      "https://www.bird-research.jp/1_shiryo/koe/sadokakesu_100223_sado_mju.wma\n"
     ]
    },
    {
     "name": "stderr",
     "output_type": "stream",
     "text": [
      "\r",
      " 45%|████████████████████████████████████████████████████▎                                                               | 2968/6576 [36:30<46:22,  1.30it/s]"
     ]
    },
    {
     "name": "stdout",
     "output_type": "stream",
     "text": [
      "------------------------------------------------------------------------------ 2974\n",
      "rurikakesu_0903_amami_ishida.wma\n",
      "/home/wataru/code/b-com/b-com/crawling/ルリカケス/\n",
      "https://www.bird-research.jp/1_shiryo/koe/rurikakesu_0903_amami_ishida.wma\n"
     ]
    },
    {
     "name": "stderr",
     "output_type": "stream",
     "text": [
      "\r",
      " 45%|████████████████████████████████████████████████████▍                                                               | 2975/6576 [36:35<45:40,  1.31it/s]"
     ]
    },
    {
     "name": "stdout",
     "output_type": "stream",
     "text": [
      "------------------------------------------------------------------------------ 2981\n",
      "rurikakesu_091224_amami_ishida.wma\n",
      "/home/wataru/code/b-com/b-com/crawling/ルリカケス/\n",
      "https://www.bird-research.jp/1_shiryo/koe/rurikakesu_091224_amami_ishida.wma\n"
     ]
    },
    {
     "name": "stderr",
     "output_type": "stream",
     "text": [
      "\r",
      " 45%|████████████████████████████████████████████████████▌                                                               | 2982/6576 [36:40<45:11,  1.33it/s]"
     ]
    },
    {
     "name": "stdout",
     "output_type": "stream",
     "text": [
      "------------------------------------------------------------------------------ 2988\n",
      "rurikakesu_j_amami_ishida.wma\n",
      "/home/wataru/code/b-com/b-com/crawling/ルリカケス/ヒナ警戒\n",
      "https://www.bird-research.jp/1_shiryo/koe/rurikakesu_j_amami_ishida.wma\n"
     ]
    },
    {
     "name": "stderr",
     "output_type": "stream",
     "text": [
      "\r",
      " 45%|████████████████████████████████████████████████████▋                                                               | 2989/6576 [36:46<44:46,  1.34it/s]"
     ]
    },
    {
     "name": "stdout",
     "output_type": "stream",
     "text": [
      "------------------------------------------------------------------------------ 2995\n",
      "onaga_070411_kokubunji_mju.wma\n",
      "/home/wataru/code/b-com/b-com/crawling/オナガ/\n",
      "https://www.bird-research.jp/1_shiryo/koe/onaga_070411_kokubunji_mju.wma\n"
     ]
    },
    {
     "name": "stderr",
     "output_type": "stream",
     "text": [
      "\r",
      " 46%|████████████████████████████████████████████████████▊                                                               | 2996/6576 [36:51<44:43,  1.33it/s]"
     ]
    },
    {
     "name": "stdout",
     "output_type": "stream",
     "text": [
      "------------------------------------------------------------------------------ 3002\n",
      "onaga_120506_kokubunji_mju.wma\n",
      "/home/wataru/code/b-com/b-com/crawling/オナガ/警戒\n",
      "https://www.bird-research.jp/1_shiryo/koe/onaga_120506_kokubunji_mju.wma\n"
     ]
    },
    {
     "name": "stderr",
     "output_type": "stream",
     "text": [
      "\r",
      " 46%|████████████████████████████████████████████████████▉                                                               | 3003/6576 [36:56<44:28,  1.34it/s]"
     ]
    },
    {
     "name": "stdout",
     "output_type": "stream",
     "text": [
      "------------------------------------------------------------------------------ 3009\n",
      "kasasagi_130603_muroran_kros.wma\n",
      "/home/wataru/code/b-com/b-com/crawling/カササギ/\n",
      "https://www.bird-research.jp/1_shiryo/koe/kasasagi_130603_muroran_kros.wma\n"
     ]
    },
    {
     "name": "stderr",
     "output_type": "stream",
     "text": [
      "\r",
      " 46%|█████████████████████████████████████████████████████                                                               | 3010/6576 [37:01<44:15,  1.34it/s]"
     ]
    },
    {
     "name": "stdout",
     "output_type": "stream",
     "text": [
      "------------------------------------------------------------------------------ 3016\n",
      "hoshigarasu_170607_osado_mju.wma\n",
      "/home/wataru/code/b-com/b-com/crawling/ホシガラス/\n",
      "https://www.bird-research.jp/1_shiryo/koe/hoshigarasu_170607_osado_mju.wma\n"
     ]
    },
    {
     "name": "stderr",
     "output_type": "stream",
     "text": [
      "\r",
      " 46%|█████████████████████████████████████████████████████▏                                                              | 3017/6576 [37:06<44:20,  1.34it/s]"
     ]
    },
    {
     "name": "stdout",
     "output_type": "stream",
     "text": [
      "------------------------------------------------------------------------------ 3023\n",
      "hoshigarasu_200824_norikura_kuroda.wma\n",
      "/home/wataru/code/b-com/b-com/crawling/ホシガラス/特殊声\n",
      "https://www.bird-research.jp/1_shiryo/koe/hoshigarasu_200824_norikura_kuroda.wma\n"
     ]
    },
    {
     "name": "stderr",
     "output_type": "stream",
     "text": [
      "\r",
      " 46%|█████████████████████████████████████████████████████▎                                                              | 3024/6576 [37:12<44:07,  1.34it/s]"
     ]
    },
    {
     "name": "stdout",
     "output_type": "stream",
     "text": [
      "------------------------------------------------------------------------------ 3030\n",
      "kokumaru_130410_aomori_kuroda.wma\n",
      "/home/wataru/code/b-com/b-com/crawling/コクマルガラス/\n",
      "https://www.bird-research.jp/1_shiryo/koe/kokumaru_130410_aomori_kuroda.wma\n"
     ]
    },
    {
     "name": "stderr",
     "output_type": "stream",
     "text": [
      "\r",
      " 46%|█████████████████████████████████████████████████████▍                                                              | 3031/6576 [37:17<44:09,  1.34it/s]"
     ]
    },
    {
     "name": "stdout",
     "output_type": "stream",
     "text": [
      "------------------------------------------------------------------------------ 3037\n",
      "miyamagarasu_071130_izumi_kaji.wma\n",
      "/home/wataru/code/b-com/b-com/crawling/ミヤマガラス/\n",
      "https://www.bird-research.jp/1_shiryo/koe/miyamagarasu_071130_izumi_kaji.wma\n"
     ]
    },
    {
     "name": "stderr",
     "output_type": "stream",
     "text": [
      "\r",
      " 46%|█████████████████████████████████████████████████████▌                                                              | 3038/6576 [37:22<43:55,  1.34it/s]"
     ]
    },
    {
     "name": "stdout",
     "output_type": "stream",
     "text": [
      "------------------------------------------------------------------------------ 3045\n",
      "bosogarasu_081021_watarase_hirano.wma\n",
      "/home/wataru/code/b-com/b-com/crawling/ハシボソガラス/\n",
      "https://www.bird-research.jp/1_shiryo/koe/bosogarasu_081021_watarase_hirano.wma\n"
     ]
    },
    {
     "name": "stderr",
     "output_type": "stream",
     "text": [
      "\r",
      " 46%|█████████████████████████████████████████████████████▋                                                              | 3046/6576 [37:27<42:11,  1.39it/s]"
     ]
    },
    {
     "name": "stdout",
     "output_type": "stream",
     "text": [
      "------------------------------------------------------------------------------ 3052\n",
      "hashiboso_090818_nemuro_mju.wma\n",
      "/home/wataru/code/b-com/b-com/crawling/ハシボソガラス/巣立ちビナ\n",
      "https://www.bird-research.jp/1_shiryo/koe/hashiboso_090818_nemuro_mju.wma\n"
     ]
    },
    {
     "name": "stderr",
     "output_type": "stream",
     "text": [
      "\r",
      " 46%|█████████████████████████████████████████████████████▊                                                              | 3053/6576 [37:32<42:29,  1.38it/s]"
     ]
    },
    {
     "name": "stdout",
     "output_type": "stream",
     "text": [
      "------------------------------------------------------------------------------ 3059\n",
      "hasiboso_130530_mihara_ito.wma\n",
      "/home/wataru/code/b-com/b-com/crawling/ハシボソガラス/\n",
      "https://www.bird-research.jp/1_shiryo/koe/hasiboso_130530_mihara_ito.wma\n"
     ]
    },
    {
     "name": "stderr",
     "output_type": "stream",
     "text": [
      "\r",
      " 47%|█████████████████████████████████████████████████████▉                                                              | 3060/6576 [37:38<42:36,  1.38it/s]"
     ]
    },
    {
     "name": "stdout",
     "output_type": "stream",
     "text": [
      "------------------------------------------------------------------------------ 3066\n",
      "hashibuto_060429_kokubunji_mju.wma\n",
      "/home/wataru/code/b-com/b-com/crawling/ハシブトガラス/\n",
      "https://www.bird-research.jp/1_shiryo/koe/hashibuto_060429_kokubunji_mju.wma\n"
     ]
    },
    {
     "name": "stderr",
     "output_type": "stream",
     "text": [
      "\r",
      " 47%|██████████████████████████████████████████████████████                                                              | 3067/6576 [37:43<42:44,  1.37it/s]"
     ]
    },
    {
     "name": "stdout",
     "output_type": "stream",
     "text": [
      "------------------------------------------------------------------------------ 3073\n",
      "hasibutogarasu_210524_atami_mju.wma\n",
      "/home/wataru/code/b-com/b-com/crawling/ハシブトガラス/威嚇\n",
      "https://www.bird-research.jp/1_shiryo/koe/hasibutogarasu_210524_atami_mju.wma\n"
     ]
    },
    {
     "name": "stderr",
     "output_type": "stream",
     "text": [
      "\r",
      " 47%|██████████████████████████████████████████████████████▏                                                             | 3074/6576 [37:48<43:04,  1.35it/s]"
     ]
    },
    {
     "name": "stdout",
     "output_type": "stream",
     "text": [
      "------------------------------------------------------------------------------ 3080\n",
      "hashibutogarasu_120526_utsunomiya_hirano.wma\n",
      "/home/wataru/code/b-com/b-com/crawling/ハシブトガラス/巣立ちビナ\n",
      "https://www.bird-research.jp/1_shiryo/koe/hashibutogarasu_120526_utsunomiya_hirano.wma\n"
     ]
    },
    {
     "name": "stderr",
     "output_type": "stream",
     "text": [
      "\r",
      " 47%|██████████████████████████████████████████████████████▎                                                             | 3081/6576 [37:53<43:17,  1.35it/s]"
     ]
    },
    {
     "name": "stdout",
     "output_type": "stream",
     "text": [
      "------------------------------------------------------------------------------ 3087\n",
      "hashibutogarasu_210917_saitama.wma\n",
      "/home/wataru/code/b-com/b-com/crawling/ハシブトガラス/巣立ちビナ\n",
      "https://www.bird-research.jp/1_shiryo/koe/hashibutogarasu_210917_saitama.wma\n"
     ]
    },
    {
     "name": "stderr",
     "output_type": "stream",
     "text": [
      "\r",
      " 47%|██████████████████████████████████████████████████████▍                                                             | 3088/6576 [37:59<43:29,  1.34it/s]"
     ]
    },
    {
     "name": "stdout",
     "output_type": "stream",
     "text": [
      "------------------------------------------------------------------------------ 3094\n",
      "hashibuto_190512_sapporo_kuros.wma\n",
      "/home/wataru/code/b-com/b-com/crawling/ハシブトガラス/独り言\n",
      "https://www.bird-research.jp/1_shiryo/koe/hashibuto_190512_sapporo_kuros.wma\n"
     ]
    },
    {
     "name": "stderr",
     "output_type": "stream",
     "text": [
      "\r",
      " 47%|██████████████████████████████████████████████████████▌                                                             | 3095/6576 [38:04<43:29,  1.33it/s]"
     ]
    },
    {
     "name": "stdout",
     "output_type": "stream",
     "text": [
      "------------------------------------------------------------------------------ 3101\n",
      "osahashibuto_120423_ishigaki_moriya.wma\n",
      "/home/wataru/code/b-com/b-com/crawling/オサハシブトガラス/亜種\n",
      "https://www.bird-research.jp/1_shiryo/koe/osahashibuto_120423_ishigaki_moriya.wma\n"
     ]
    },
    {
     "name": "stderr",
     "output_type": "stream",
     "text": [
      "\r",
      " 47%|██████████████████████████████████████████████████████▋                                                             | 3102/6576 [38:09<43:13,  1.34it/s]"
     ]
    },
    {
     "name": "stdout",
     "output_type": "stream",
     "text": [
      "------------------------------------------------------------------------------ 3108\n",
      "watari_1602220_nemuro_mju.wma\n",
      "/home/wataru/code/b-com/b-com/crawling/ワタリガラス/\n",
      "https://www.bird-research.jp/1_shiryo/koe/watari_1602220_nemuro_mju.wma\n"
     ]
    },
    {
     "name": "stderr",
     "output_type": "stream",
     "text": [
      "\r",
      " 47%|██████████████████████████████████████████████████████▊                                                             | 3109/6576 [38:14<43:02,  1.34it/s]"
     ]
    },
    {
     "name": "stdout",
     "output_type": "stream",
     "text": [
      "------------------------------------------------------------------------------ 3115\n",
      "watarigarasu_140213_nemuro_mju.wma\n",
      "/home/wataru/code/b-com/b-com/crawling/ワタリガラス/\n",
      "https://www.bird-research.jp/1_shiryo/koe/watarigarasu_140213_nemuro_mju.wma\n"
     ]
    },
    {
     "name": "stderr",
     "output_type": "stream",
     "text": [
      "\r",
      " 47%|██████████████████████████████████████████████████████▉                                                             | 3116/6576 [38:20<42:59,  1.34it/s]"
     ]
    },
    {
     "name": "stdout",
     "output_type": "stream",
     "text": [
      "------------------------------------------------------------------------------ 3123\n",
      "kikuitadaki_190408_furano_cf.wma\n",
      "/home/wataru/code/b-com/b-com/crawling/キクイタダキ/さえずり\n",
      "https://www.bird-research.jp/1_shiryo/koe/kikuitadaki_190408_furano_cf.wma\n"
     ]
    },
    {
     "name": "stderr",
     "output_type": "stream",
     "text": [
      "\r",
      " 48%|███████████████████████████████████████████████████████                                                             | 3124/6576 [38:25<41:11,  1.40it/s]"
     ]
    },
    {
     "name": "stdout",
     "output_type": "stream",
     "text": [
      "------------------------------------------------------------------------------ 3130\n",
      "kikuitadaki_100529_nasushiobara.wma\n",
      "/home/wataru/code/b-com/b-com/crawling/キクイタダキ/さえずり\n",
      "https://www.bird-research.jp/1_shiryo/koe/kikuitadaki_100529_nasushiobara.wma\n"
     ]
    },
    {
     "name": "stderr",
     "output_type": "stream",
     "text": [
      "\r",
      " 48%|███████████████████████████████████████████████████████▏                                                            | 3131/6576 [38:30<41:42,  1.38it/s]"
     ]
    },
    {
     "name": "stdout",
     "output_type": "stream",
     "text": [
      "------------------------------------------------------------------------------ 3137\n",
      "kikuitadaki_190130_kosado_mju.wma\n",
      "/home/wataru/code/b-com/b-com/crawling/キクイタダキ/地鳴き\n",
      "https://www.bird-research.jp/1_shiryo/koe/kikuitadaki_190130_kosado_mju.wma\n"
     ]
    },
    {
     "name": "stderr",
     "output_type": "stream",
     "text": [
      "\r",
      " 48%|███████████████████████████████████████████████████████▎                                                            | 3138/6576 [38:35<42:11,  1.36it/s]"
     ]
    },
    {
     "name": "stdout",
     "output_type": "stream",
     "text": [
      "------------------------------------------------------------------------------ 3144\n",
      "kikuitadaki_121109_kitakyu_mju.wma\n",
      "/home/wataru/code/b-com/b-com/crawling/キクイタダキ/地鳴き\n",
      "https://www.bird-research.jp/1_shiryo/koe/kikuitadaki_121109_kitakyu_mju.wma\n"
     ]
    },
    {
     "name": "stderr",
     "output_type": "stream",
     "text": [
      "\r",
      " 48%|███████████████████████████████████████████████████████▍                                                            | 3145/6576 [38:41<42:19,  1.35it/s]"
     ]
    },
    {
     "name": "stdout",
     "output_type": "stream",
     "text": [
      "------------------------------------------------------------------------------ 3151\n",
      "kukuitadaki_081028_nasushio_hirano.wma\n",
      "/home/wataru/code/b-com/b-com/crawling/キクイタダキ/地鳴き\n",
      "https://www.bird-research.jp/1_shiryo/koe/kukuitadaki_081028_nasushio_hirano.wma\n"
     ]
    },
    {
     "name": "stderr",
     "output_type": "stream",
     "text": [
      "\r",
      " 48%|███████████████████████████████████████████████████████▌                                                            | 3152/6576 [38:46<42:24,  1.35it/s]"
     ]
    },
    {
     "name": "stdout",
     "output_type": "stream",
     "text": [
      "------------------------------------------------------------------------------ 3158\n",
      "kikuitadaki_110402_maruyama_namba.wma\n",
      "/home/wataru/code/b-com/b-com/crawling/キクイタダキ/地鳴き\n",
      "https://www.bird-research.jp/1_shiryo/koe/kikuitadaki_110402_maruyama_namba.wma\n"
     ]
    },
    {
     "name": "stderr",
     "output_type": "stream",
     "text": [
      "\r",
      " 48%|███████████████████████████████████████████████████████▋                                                            | 3159/6576 [38:51<42:25,  1.34it/s]"
     ]
    },
    {
     "name": "stdout",
     "output_type": "stream",
     "text": [
      "------------------------------------------------------------------------------ 3165\n",
      "kikuitadaki_0803_hyogo_kaji.wma\n",
      "/home/wataru/code/b-com/b-com/crawling/キクイタダキ/ぐぜり\n",
      "https://www.bird-research.jp/1_shiryo/koe/kikuitadaki_0803_hyogo_kaji.wma\n"
     ]
    },
    {
     "name": "stderr",
     "output_type": "stream",
     "text": [
      "\r",
      " 48%|███████████████████████████████████████████████████████▊                                                            | 3166/6576 [38:56<42:18,  1.34it/s]"
     ]
    },
    {
     "name": "stdout",
     "output_type": "stream",
     "text": [
      "------------------------------------------------------------------------------ 3172\n",
      "kikuitadaki100831_marunuma_hirano.wma\n",
      "/home/wataru/code/b-com/b-com/crawling/キクイタダキ/巣内ヒナ\n",
      "https://www.bird-research.jp/1_shiryo/koe/kikuitadaki100831_marunuma_hirano.wma\n"
     ]
    },
    {
     "name": "stderr",
     "output_type": "stream",
     "text": [
      "\r",
      " 48%|███████████████████████████████████████████████████████▉                                                            | 3173/6576 [39:02<42:18,  1.34it/s]"
     ]
    },
    {
     "name": "stdout",
     "output_type": "stream",
     "text": [
      "------------------------------------------------------------------------------ 3180\n",
      "hashibutogara_110320_nopporo_namba.wma\n",
      "/home/wataru/code/b-com/b-com/crawling/ハシブトガラ/さえずり\n",
      "https://www.bird-research.jp/1_shiryo/koe/hashibutogara_110320_nopporo_namba.wma\n"
     ]
    },
    {
     "name": "stderr",
     "output_type": "stream",
     "text": [
      "\r",
      " 48%|████████████████████████████████████████████████████████                                                            | 3181/6576 [39:07<40:32,  1.40it/s]"
     ]
    },
    {
     "name": "stdout",
     "output_type": "stream",
     "text": [
      "------------------------------------------------------------------------------ 3187\n",
      "hashibutogara_100511_tomakomai_mju.wma\n",
      "/home/wataru/code/b-com/b-com/crawling/ハシブトガラ/さえずり\n",
      "https://www.bird-research.jp/1_shiryo/koe/hashibutogara_100511_tomakomai_mju.wma\n"
     ]
    },
    {
     "name": "stderr",
     "output_type": "stream",
     "text": [
      "\r",
      " 48%|████████████████████████████████████████████████████████▏                                                           | 3188/6576 [39:14<45:16,  1.25it/s]"
     ]
    },
    {
     "name": "stdout",
     "output_type": "stream",
     "text": [
      "------------------------------------------------------------------------------ 3194\n",
      "butogara_111021_asahikawa_mju.wma\n",
      "/home/wataru/code/b-com/b-com/crawling/ハシブトガラ/地鳴き\n",
      "https://www.bird-research.jp/1_shiryo/koe/butogara_111021_asahikawa_mju.wma\n"
     ]
    },
    {
     "name": "stderr",
     "output_type": "stream",
     "text": [
      "\r",
      " 49%|████████████████████████████████████████████████████████▎                                                           | 3195/6576 [39:19<44:11,  1.28it/s]"
     ]
    },
    {
     "name": "stdout",
     "output_type": "stream",
     "text": [
      "------------------------------------------------------------------------------ 3201\n",
      "hasibutogara_130218_muroran_kros.wma\n",
      "/home/wataru/code/b-com/b-com/crawling/ハシブトガラ/\n",
      "https://www.bird-research.jp/1_shiryo/koe/hasibutogara_130218_muroran_kros.wma\n"
     ]
    },
    {
     "name": "stderr",
     "output_type": "stream",
     "text": [
      "\r",
      " 49%|████████████████████████████████████████████████████████▍                                                           | 3202/6576 [39:24<43:31,  1.29it/s]"
     ]
    },
    {
     "name": "stdout",
     "output_type": "stream",
     "text": [
      "------------------------------------------------------------------------------ 3208\n",
      "kogara_200424_shiga_cyf.wma\n",
      "/home/wataru/code/b-com/b-com/crawling/コガラ/さえずり\n",
      "https://www.bird-research.jp/1_shiryo/koe/kogara_200424_shiga_cyf.wma\n"
     ]
    },
    {
     "name": "stderr",
     "output_type": "stream",
     "text": [
      "\r",
      " 49%|████████████████████████████████████████████████████████▌                                                           | 3209/6576 [39:30<43:06,  1.30it/s]"
     ]
    },
    {
     "name": "stdout",
     "output_type": "stream",
     "text": [
      "------------------------------------------------------------------------------ 3215\n",
      "kogara_190409_furano_cf.wma\n",
      "/home/wataru/code/b-com/b-com/crawling/コガラ/さえずり\n",
      "https://www.bird-research.jp/1_shiryo/koe/kogara_190409_furano_cf.wma\n"
     ]
    },
    {
     "name": "stderr",
     "output_type": "stream",
     "text": [
      "\r",
      " 49%|████████████████████████████████████████████████████████▋                                                           | 3216/6576 [39:35<42:48,  1.31it/s]"
     ]
    },
    {
     "name": "stdout",
     "output_type": "stream",
     "text": [
      "------------------------------------------------------------------------------ 3222\n",
      "kogara_170909_shirakaba_mju.wma\n",
      "/home/wataru/code/b-com/b-com/crawling/コガラ/地鳴き\n",
      "https://www.bird-research.jp/1_shiryo/koe/kogara_170909_shirakaba_mju.wma\n"
     ]
    },
    {
     "name": "stderr",
     "output_type": "stream",
     "text": [
      "\r",
      " 49%|████████████████████████████████████████████████████████▊                                                           | 3223/6576 [39:40<42:33,  1.31it/s]"
     ]
    },
    {
     "name": "stdout",
     "output_type": "stream",
     "text": [
      "------------------------------------------------------------------------------ 3229\n",
      "kogara_060605_yaita_hirano.wma\n",
      "/home/wataru/code/b-com/b-com/crawling/コガラ/地鳴き\n",
      "https://www.bird-research.jp/1_shiryo/koe/kogara_060605_yaita_hirano.wma\n"
     ]
    },
    {
     "name": "stderr",
     "output_type": "stream",
     "text": [
      "\r",
      " 49%|████████████████████████████████████████████████████████▉                                                           | 3230/6576 [39:45<42:15,  1.32it/s]"
     ]
    },
    {
     "name": "stdout",
     "output_type": "stream",
     "text": [
      "------------------------------------------------------------------------------ 3236\n",
      "kogara_121128_shinoyama_kaji.wma\n",
      "/home/wataru/code/b-com/b-com/crawling/コガラ/地鳴き\n",
      "https://www.bird-research.jp/1_shiryo/koe/kogara_121128_shinoyama_kaji.wma\n"
     ]
    },
    {
     "name": "stderr",
     "output_type": "stream",
     "text": [
      "\r",
      " 49%|█████████████████████████████████████████████████████████                                                           | 3237/6576 [39:51<43:51,  1.27it/s]"
     ]
    },
    {
     "name": "stdout",
     "output_type": "stream",
     "text": [
      "------------------------------------------------------------------------------ 3243\n",
      "kogara_nasushiobara_150331_hirano.wma\n",
      "/home/wataru/code/b-com/b-com/crawling/コガラ/争い\n",
      "https://www.bird-research.jp/1_shiryo/koe/kogara_nasushiobara_150331_hirano.wma\n"
     ]
    },
    {
     "name": "stderr",
     "output_type": "stream",
     "text": [
      "\r",
      " 49%|█████████████████████████████████████████████████████████▏                                                          | 3244/6576 [39:57<42:57,  1.29it/s]"
     ]
    },
    {
     "name": "stdout",
     "output_type": "stream",
     "text": [
      "------------------------------------------------------------------------------ 3250\n",
      "kogara_070523_nikko_mju.wma\n",
      "/home/wataru/code/b-com/b-com/crawling/コガラ/さえずり\n",
      "https://www.bird-research.jp/1_shiryo/koe/kogara_070523_nikko_mju.wma\n"
     ]
    },
    {
     "name": "stderr",
     "output_type": "stream",
     "text": [
      "\r",
      " 49%|█████████████████████████████████████████████████████████▎                                                          | 3251/6576 [40:02<42:19,  1.31it/s]"
     ]
    },
    {
     "name": "stdout",
     "output_type": "stream",
     "text": [
      "------------------------------------------------------------------------------ 3257\n",
      "kogara_210609_kobe_kaji.wma\n",
      "/home/wataru/code/b-com/b-com/crawling/コガラ/ぐぜり\n",
      "https://www.bird-research.jp/1_shiryo/koe/kogara_210609_kobe_kaji.wma\n"
     ]
    },
    {
     "name": "stderr",
     "output_type": "stream",
     "text": [
      "\r",
      " 50%|█████████████████████████████████████████████████████████▍                                                          | 3258/6576 [40:07<42:07,  1.31it/s]"
     ]
    },
    {
     "name": "stdout",
     "output_type": "stream",
     "text": [
      "------------------------------------------------------------------------------ 3264\n",
      "kogara2_hyogo_090628_kaji.wma\n",
      "/home/wataru/code/b-com/b-com/crawling/コガラ/巣立ちビナ\n",
      "https://www.bird-research.jp/1_shiryo/koe/kogara2_hyogo_090628_kaji.wma\n"
     ]
    },
    {
     "name": "stderr",
     "output_type": "stream",
     "text": [
      "\r",
      " 50%|█████████████████████████████████████████████████████████▌                                                          | 3265/6576 [40:12<41:42,  1.32it/s]"
     ]
    },
    {
     "name": "stdout",
     "output_type": "stream",
     "text": [
      "------------------------------------------------------------------------------ 3271\n",
      "yamagara_070327_kodaira_mju.wma\n",
      "/home/wataru/code/b-com/b-com/crawling/ヤマガラ/さえずり\n",
      "https://www.bird-research.jp/1_shiryo/koe/yamagara_070327_kodaira_mju.wma\n"
     ]
    },
    {
     "name": "stderr",
     "output_type": "stream",
     "text": [
      "\r",
      " 50%|█████████████████████████████████████████████████████████▋                                                          | 3272/6576 [40:18<41:33,  1.33it/s]"
     ]
    },
    {
     "name": "stdout",
     "output_type": "stream",
     "text": [
      "------------------------------------------------------------------------------ 3278\n",
      "yamagara_201002_chichibu_cf.wma\n",
      "/home/wataru/code/b-com/b-com/crawling/ヤマガラ/地鳴き\n",
      "https://www.bird-research.jp/1_shiryo/koe/yamagara_201002_chichibu_cf.wma\n"
     ]
    },
    {
     "name": "stderr",
     "output_type": "stream",
     "text": [
      "\r",
      " 50%|█████████████████████████████████████████████████████████▊                                                          | 3279/6576 [40:23<41:28,  1.32it/s]"
     ]
    },
    {
     "name": "stdout",
     "output_type": "stream",
     "text": [
      "------------------------------------------------------------------------------ 3285\n",
      "yamagara_0902_hyogo_kaji.wma\n",
      "/home/wataru/code/b-com/b-com/crawling/ヤマガラ/地鳴き2\n",
      "https://www.bird-research.jp/1_shiryo/koe/yamagara_0902_hyogo_kaji.wma\n"
     ]
    },
    {
     "name": "stderr",
     "output_type": "stream",
     "text": [
      "\r",
      " 50%|█████████████████████████████████████████████████████████▉                                                          | 3286/6576 [40:28<41:21,  1.33it/s]"
     ]
    },
    {
     "name": "stdout",
     "output_type": "stream",
     "text": [
      "------------------------------------------------------------------------------ 3292\n",
      "yamagara_150203_sado_mju.wma\n",
      "/home/wataru/code/b-com/b-com/crawling/ヤマガラ/地鳴き3\n",
      "https://www.bird-research.jp/1_shiryo/koe/yamagara_150203_sado_mju.wma\n"
     ]
    },
    {
     "name": "stderr",
     "output_type": "stream",
     "text": [
      "\r",
      " 50%|██████████████████████████████████████████████████████████                                                          | 3293/6576 [40:33<41:11,  1.33it/s]"
     ]
    },
    {
     "name": "stdout",
     "output_type": "stream",
     "text": [
      "------------------------------------------------------------------------------ 3299\n",
      "yamagara_0903_hyogo_kaji.wma\n",
      "/home/wataru/code/b-com/b-com/crawling/ヤマガラ/地鳴き4\n",
      "https://www.bird-research.jp/1_shiryo/koe/yamagara_0903_hyogo_kaji.wma\n"
     ]
    },
    {
     "name": "stderr",
     "output_type": "stream",
     "text": [
      "\r",
      " 50%|██████████████████████████████████████████████████████████▏                                                         | 3300/6576 [40:39<41:02,  1.33it/s]"
     ]
    },
    {
     "name": "stdout",
     "output_type": "stream",
     "text": [
      "------------------------------------------------------------------------------ 3306\n",
      "yamagara_0904_hyogo_kaji.wma\n",
      "/home/wataru/code/b-com/b-com/crawling/ヤマガラ/地鳴き5\n",
      "https://www.bird-research.jp/1_shiryo/koe/yamagara_0904_hyogo_kaji.wma\n"
     ]
    },
    {
     "name": "stderr",
     "output_type": "stream",
     "text": [
      "\r",
      " 50%|██████████████████████████████████████████████████████████▎                                                         | 3307/6576 [40:44<41:00,  1.33it/s]"
     ]
    },
    {
     "name": "stdout",
     "output_type": "stream",
     "text": [
      "------------------------------------------------------------------------------ 3313\n",
      "yamagara_1106_hyogo_kaji.wma\n",
      "/home/wataru/code/b-com/b-com/crawling/ヤマガラ/地鳴き6\n",
      "https://www.bird-research.jp/1_shiryo/koe/yamagara_1106_hyogo_kaji.wma\n"
     ]
    },
    {
     "name": "stderr",
     "output_type": "stream",
     "text": [
      "\r",
      " 50%|██████████████████████████████████████████████████████████▍                                                         | 3314/6576 [40:49<40:55,  1.33it/s]"
     ]
    },
    {
     "name": "stdout",
     "output_type": "stream",
     "text": [
      "------------------------------------------------------------------------------ 3320\n",
      "yamagara_1005_hyogo_kaji.wma\n",
      "/home/wataru/code/b-com/b-com/crawling/ヤマガラ/求愛\n",
      "https://www.bird-research.jp/1_shiryo/koe/yamagara_1005_hyogo_kaji.wma\n"
     ]
    },
    {
     "name": "stderr",
     "output_type": "stream",
     "text": [
      "\r",
      " 51%|██████████████████████████████████████████████████████████▌                                                         | 3321/6576 [40:54<40:39,  1.33it/s]"
     ]
    },
    {
     "name": "stdout",
     "output_type": "stream",
     "text": [
      "------------------------------------------------------------------------------ 3327\n",
      "yamagara_0905_hyogo_kaji.wma\n",
      "/home/wataru/code/b-com/b-com/crawling/ヤマガラ/巣立ちビナ\n",
      "https://www.bird-research.jp/1_shiryo/koe/yamagara_0905_hyogo_kaji.wma\n"
     ]
    },
    {
     "name": "stderr",
     "output_type": "stream",
     "text": [
      "\r",
      " 51%|██████████████████████████████████████████████████████████▋                                                         | 3328/6576 [41:00<40:36,  1.33it/s]"
     ]
    },
    {
     "name": "stdout",
     "output_type": "stream",
     "text": [
      "------------------------------------------------------------------------------ 3334\n",
      "yamagaraj_150602_chichibu_mju.wma\n",
      "/home/wataru/code/b-com/b-com/crawling/ヤマガラ/巣内ビナ\n",
      "https://www.bird-research.jp/1_shiryo/koe/yamagaraj_150602_chichibu_mju.wma\n"
     ]
    },
    {
     "name": "stderr",
     "output_type": "stream",
     "text": [
      "\r",
      " 51%|██████████████████████████████████████████████████████████▊                                                         | 3335/6576 [41:05<40:24,  1.34it/s]"
     ]
    },
    {
     "name": "stdout",
     "output_type": "stream",
     "text": [
      "------------------------------------------------------------------------------ 3341\n",
      "yamagara_170508_miyake_kuroda.wma\n",
      "/home/wataru/code/b-com/b-com/crawling/オーストンヤマガラ/亜種\n",
      "https://www.bird-research.jp/1_shiryo/koe/yamagara_170508_miyake_kuroda.wma\n"
     ]
    },
    {
     "name": "stderr",
     "output_type": "stream",
     "text": [
      "\r",
      " 51%|██████████████████████████████████████████████████████████▉                                                         | 3342/6576 [41:10<40:18,  1.34it/s]"
     ]
    },
    {
     "name": "stdout",
     "output_type": "stream",
     "text": [
      "------------------------------------------------------------------------------ 3348\n",
      "yamagara_170508_miyake_kuroda2.wma\n",
      "/home/wataru/code/b-com/b-com/crawling/オーストンヤマガラ/亜種\n",
      "https://www.bird-research.jp/1_shiryo/koe/yamagara_170508_miyake_kuroda2.wma\n"
     ]
    },
    {
     "name": "stderr",
     "output_type": "stream",
     "text": [
      "\r",
      " 51%|███████████████████████████████████████████████████████████                                                         | 3349/6576 [41:15<40:10,  1.34it/s]"
     ]
    },
    {
     "name": "stdout",
     "output_type": "stream",
     "text": [
      "------------------------------------------------------------------------------ 3355\n",
      "higara_090528_chichibu_mju.wma\n",
      "/home/wataru/code/b-com/b-com/crawling/ヒガラ/さえずり\n",
      "https://www.bird-research.jp/1_shiryo/koe/higara_090528_chichibu_mju.wma\n"
     ]
    },
    {
     "name": "stderr",
     "output_type": "stream",
     "text": [
      "\r",
      " 51%|███████████████████████████████████████████████████████████▏                                                        | 3356/6576 [41:20<39:57,  1.34it/s]"
     ]
    },
    {
     "name": "stdout",
     "output_type": "stream",
     "text": [
      "------------------------------------------------------------------------------ 3362\n",
      "higara_okayama_111027_kaji.wma\n",
      "/home/wataru/code/b-com/b-com/crawling/ヒガラ/さえずり\n",
      "https://www.bird-research.jp/1_shiryo/koe/higara_okayama_111027_kaji.wma\n"
     ]
    },
    {
     "name": "stderr",
     "output_type": "stream",
     "text": [
      "\r",
      " 51%|███████████████████████████████████████████████████████████▎                                                        | 3363/6576 [41:26<39:49,  1.34it/s]"
     ]
    },
    {
     "name": "stdout",
     "output_type": "stream",
     "text": [
      "------------------------------------------------------------------------------ 3369\n",
      "higara_200126_chichibu_cf.wma\n",
      "/home/wataru/code/b-com/b-com/crawling/ヒガラ/地鳴き\n",
      "https://www.bird-research.jp/1_shiryo/koe/higara_200126_chichibu_cf.wma\n"
     ]
    },
    {
     "name": "stderr",
     "output_type": "stream",
     "text": [
      "\r",
      " 51%|███████████████████████████████████████████████████████████▍                                                        | 3370/6576 [41:31<39:45,  1.34it/s]"
     ]
    },
    {
     "name": "stdout",
     "output_type": "stream",
     "text": [
      "------------------------------------------------------------------------------ 3376\n",
      "higara_120111_chichibu_mju.wma\n",
      "/home/wataru/code/b-com/b-com/crawling/ヒガラ/地鳴き\n",
      "https://www.bird-research.jp/1_shiryo/koe/higara_120111_chichibu_mju.wma\n"
     ]
    },
    {
     "name": "stderr",
     "output_type": "stream",
     "text": [
      "\r",
      " 51%|███████████████████████████████████████████████████████████▌                                                        | 3377/6576 [41:36<39:46,  1.34it/s]"
     ]
    },
    {
     "name": "stdout",
     "output_type": "stream",
     "text": [
      "------------------------------------------------------------------------------ 3383\n",
      "higara_110313_utsunomiya_hirano.wma\n",
      "/home/wataru/code/b-com/b-com/crawling/ヒガラ/地鳴き\n",
      "https://www.bird-research.jp/1_shiryo/koe/higara_110313_utsunomiya_hirano.wma\n"
     ]
    },
    {
     "name": "stderr",
     "output_type": "stream",
     "text": [
      "\r",
      " 51%|███████████████████████████████████████████████████████████▋                                                        | 3384/6576 [41:42<40:34,  1.31it/s]"
     ]
    },
    {
     "name": "stdout",
     "output_type": "stream",
     "text": [
      "------------------------------------------------------------------------------ 3390\n",
      "higara_100112_utsunomiya_hirano.wma\n",
      "/home/wataru/code/b-com/b-com/crawling/ヒガラ/地鳴き\n",
      "https://www.bird-research.jp/1_shiryo/koe/higara_100112_utsunomiya_hirano.wma\n"
     ]
    },
    {
     "name": "stderr",
     "output_type": "stream",
     "text": [
      "\r",
      " 52%|███████████████████████████████████████████████████████████▊                                                        | 3391/6576 [41:47<40:06,  1.32it/s]"
     ]
    },
    {
     "name": "stdout",
     "output_type": "stream",
     "text": [
      "------------------------------------------------------------------------------ 3397\n",
      "higara_110319_sapporo_namba.wma\n",
      "/home/wataru/code/b-com/b-com/crawling/ヒガラ/地鳴き\n",
      "https://www.bird-research.jp/1_shiryo/koe/higara_110319_sapporo_namba.wma\n"
     ]
    },
    {
     "name": "stderr",
     "output_type": "stream",
     "text": [
      "\r",
      " 52%|███████████████████████████████████████████████████████████▉                                                        | 3398/6576 [41:52<39:48,  1.33it/s]"
     ]
    },
    {
     "name": "stdout",
     "output_type": "stream",
     "text": [
      "------------------------------------------------------------------------------ 3404\n",
      "hirara_110327_Utsunomiya_hirano.wma\n",
      "/home/wataru/code/b-com/b-com/crawling/ヒガラ/警戒\n",
      "https://www.bird-research.jp/1_shiryo/koe/hirara_110327_Utsunomiya_hirano.wma\n"
     ]
    },
    {
     "name": "stderr",
     "output_type": "stream",
     "text": [
      "\r",
      " 52%|████████████████████████████████████████████████████████████                                                        | 3405/6576 [41:57<39:33,  1.34it/s]"
     ]
    },
    {
     "name": "stdout",
     "output_type": "stream",
     "text": [
      "------------------------------------------------------------------------------ 3411\n",
      "higara_okayama_160518_kaji.wma\n",
      "/home/wataru/code/b-com/b-com/crawling/ヒガラ/求愛\n",
      "https://www.bird-research.jp/1_shiryo/koe/higara_okayama_160518_kaji.wma\n"
     ]
    },
    {
     "name": "stderr",
     "output_type": "stream",
     "text": [
      "\r",
      " 52%|████████████████████████████████████████████████████████████▏                                                       | 3412/6576 [42:03<39:31,  1.33it/s]"
     ]
    },
    {
     "name": "stdout",
     "output_type": "stream",
     "text": [
      "------------------------------------------------------------------------------ 3418\n",
      "higaraj_14061810_osado_mju.wma\n",
      "/home/wataru/code/b-com/b-com/crawling/ヒガラ/巣立ちビナ\n",
      "https://www.bird-research.jp/1_shiryo/koe/higaraj_14061810_osado_mju.wma\n"
     ]
    },
    {
     "name": "stderr",
     "output_type": "stream",
     "text": [
      "\r",
      " 52%|████████████████████████████████████████████████████████████▎                                                       | 3419/6576 [42:08<39:18,  1.34it/s]"
     ]
    },
    {
     "name": "stdout",
     "output_type": "stream",
     "text": [
      "------------------------------------------------------------------------------ 3425\n",
      "shijukara_070324_kunitachi_mju.wma\n",
      "/home/wataru/code/b-com/b-com/crawling/シジュウカラ/さえずり\n",
      "https://www.bird-research.jp/1_shiryo/koe/shijukara_070324_kunitachi_mju.wma\n"
     ]
    },
    {
     "name": "stderr",
     "output_type": "stream",
     "text": [
      "\r",
      " 52%|████████████████████████████████████████████████████████████▍                                                       | 3426/6576 [42:13<39:19,  1.33it/s]"
     ]
    },
    {
     "name": "stdout",
     "output_type": "stream",
     "text": [
      "------------------------------------------------------------------------------ 3432\n",
      "shijukara_120530_osado_mju.wma\n",
      "/home/wataru/code/b-com/b-com/crawling/シジュウカラ/特殊囀り\n",
      "https://www.bird-research.jp/1_shiryo/koe/shijukara_120530_osado_mju.wma\n"
     ]
    },
    {
     "name": "stderr",
     "output_type": "stream",
     "text": [
      "\r",
      " 52%|████████████████████████████████████████████████████████████▌                                                       | 3433/6576 [42:18<39:14,  1.33it/s]"
     ]
    },
    {
     "name": "stdout",
     "output_type": "stream",
     "text": [
      "------------------------------------------------------------------------------ 3439\n",
      "sijukara_060422_kokubunji_mju.wma\n",
      "/home/wataru/code/b-com/b-com/crawling/シジュウカラ/地鳴き1\n",
      "https://www.bird-research.jp/1_shiryo/koe/sijukara_060422_kokubunji_mju.wma\n"
     ]
    },
    {
     "name": "stderr",
     "output_type": "stream",
     "text": [
      "\r",
      " 52%|████████████████████████████████████████████████████████████▋                                                       | 3440/6576 [42:23<38:59,  1.34it/s]"
     ]
    },
    {
     "name": "stdout",
     "output_type": "stream",
     "text": [
      "------------------------------------------------------------------------------ 3446\n",
      "shijukara_100223_sado_mju.wma\n",
      "/home/wataru/code/b-com/b-com/crawling/シジュウカラ/地鳴き2\n",
      "https://www.bird-research.jp/1_shiryo/koe/shijukara_100223_sado_mju.wma\n"
     ]
    },
    {
     "name": "stderr",
     "output_type": "stream",
     "text": [
      "\r",
      " 52%|████████████████████████████████████████████████████████████▊                                                       | 3447/6576 [42:29<38:59,  1.34it/s]"
     ]
    },
    {
     "name": "stdout",
     "output_type": "stream",
     "text": [
      "------------------------------------------------------------------------------ 3453\n",
      "sijuukara2_0710_hyogo_kaji.wma\n",
      "/home/wataru/code/b-com/b-com/crawling/シジュウカラ/地鳴き3\n",
      "https://www.bird-research.jp/1_shiryo/koe/sijuukara2_0710_hyogo_kaji.wma\n"
     ]
    },
    {
     "name": "stderr",
     "output_type": "stream",
     "text": [
      "\r",
      " 53%|████████████████████████████████████████████████████████████▉                                                       | 3454/6576 [42:34<38:49,  1.34it/s]"
     ]
    },
    {
     "name": "stdout",
     "output_type": "stream",
     "text": [
      "------------------------------------------------------------------------------ 3460\n",
      "sijuukara2_0710_hyogo_kaji.wma\n",
      "/home/wataru/code/b-com/b-com/crawling/シジュウカラ/地鳴き4\n",
      "https://www.bird-research.jp/1_shiryo/koe/sijuukara2_0710_hyogo_kaji.wma\n"
     ]
    },
    {
     "name": "stderr",
     "output_type": "stream",
     "text": [
      "\r",
      " 53%|█████████████████████████████████████████████████████████████                                                       | 3461/6576 [42:39<38:39,  1.34it/s]"
     ]
    },
    {
     "name": "stdout",
     "output_type": "stream",
     "text": [
      "------------------------------------------------------------------------------ 3467\n",
      "sijuukara4_0803_hyogo_kaji.wma\n",
      "/home/wataru/code/b-com/b-com/crawling/シジュウカラ/地鳴き5\n",
      "https://www.bird-research.jp/1_shiryo/koe/sijuukara4_0803_hyogo_kaji.wma\n"
     ]
    },
    {
     "name": "stderr",
     "output_type": "stream",
     "text": [
      "\r",
      " 53%|█████████████████████████████████████████████████████████████▏                                                      | 3468/6576 [42:44<38:29,  1.35it/s]"
     ]
    },
    {
     "name": "stdout",
     "output_type": "stream",
     "text": [
      "------------------------------------------------------------------------------ 3474\n",
      "sijuukara5_0803_hyogo_kaji.wma\n",
      "/home/wataru/code/b-com/b-com/crawling/シジュウカラ/地鳴き6\n",
      "https://www.bird-research.jp/1_shiryo/koe/sijuukara5_0803_hyogo_kaji.wma\n"
     ]
    },
    {
     "name": "stderr",
     "output_type": "stream",
     "text": [
      "\r",
      " 53%|█████████████████████████████████████████████████████████████▎                                                      | 3475/6576 [42:50<38:34,  1.34it/s]"
     ]
    },
    {
     "name": "stdout",
     "output_type": "stream",
     "text": [
      "------------------------------------------------------------------------------ 3481\n",
      "sijuukara6_0803_hyogo_kaji.wma\n",
      "/home/wataru/code/b-com/b-com/crawling/シジュウカラ/地鳴き7\n",
      "https://www.bird-research.jp/1_shiryo/koe/sijuukara6_0803_hyogo_kaji.wma\n"
     ]
    },
    {
     "name": "stderr",
     "output_type": "stream",
     "text": [
      "\r",
      " 53%|█████████████████████████████████████████████████████████████▍                                                      | 3482/6576 [42:55<38:25,  1.34it/s]"
     ]
    },
    {
     "name": "stdout",
     "output_type": "stream",
     "text": [
      "------------------------------------------------------------------------------ 3488\n",
      "sijuukara7_0902_hyogo_kaji.wma\n",
      "/home/wataru/code/b-com/b-com/crawling/シジュウカラ/地鳴き8\n",
      "https://www.bird-research.jp/1_shiryo/koe/sijuukara7_0902_hyogo_kaji.wma\n"
     ]
    },
    {
     "name": "stderr",
     "output_type": "stream",
     "text": [
      "\r",
      " 53%|█████████████████████████████████████████████████████████████▌                                                      | 3489/6576 [43:00<38:13,  1.35it/s]"
     ]
    },
    {
     "name": "stdout",
     "output_type": "stream",
     "text": [
      "------------------------------------------------------------------------------ 3495\n",
      "sijuukara8_0903_hyogo_kaji.wma\n",
      "/home/wataru/code/b-com/b-com/crawling/シジュウカラ/地鳴き9\n",
      "https://www.bird-research.jp/1_shiryo/koe/sijuukara8_0903_hyogo_kaji.wma\n"
     ]
    },
    {
     "name": "stderr",
     "output_type": "stream",
     "text": [
      "\r",
      " 53%|█████████████████████████████████████████████████████████████▋                                                      | 3496/6576 [43:05<38:18,  1.34it/s]"
     ]
    },
    {
     "name": "stdout",
     "output_type": "stream",
     "text": [
      "------------------------------------------------------------------------------ 3502\n",
      "sijuukara9_1006_hyogo_kaji.wma\n",
      "/home/wataru/code/b-com/b-com/crawling/シジュウカラ/地鳴き10\n",
      "https://www.bird-research.jp/1_shiryo/koe/sijuukara9_1006_hyogo_kaji.wma\n"
     ]
    },
    {
     "name": "stderr",
     "output_type": "stream",
     "text": [
      "\r",
      " 53%|█████████████████████████████████████████████████████████████▊                                                      | 3503/6576 [43:10<38:18,  1.34it/s]"
     ]
    },
    {
     "name": "stdout",
     "output_type": "stream",
     "text": [
      "------------------------------------------------------------------------------ 3509\n",
      "shijuukara_110429_utsunomiya_hirano.wma\n",
      "/home/wataru/code/b-com/b-com/crawling/シジュウカラ/地鳴き11\n",
      "https://www.bird-research.jp/1_shiryo/koe/shijuukara_110429_utsunomiya_hirano.wma\n"
     ]
    },
    {
     "name": "stderr",
     "output_type": "stream",
     "text": [
      "\r",
      " 53%|█████████████████████████████████████████████████████████████▉                                                      | 3510/6576 [43:16<38:16,  1.33it/s]"
     ]
    },
    {
     "name": "stdout",
     "output_type": "stream",
     "text": [
      "------------------------------------------------------------------------------ 3516\n",
      "shijuukara_0806_hyogo_kaji.wma\n",
      "/home/wataru/code/b-com/b-com/crawling/シジュウカラ/巣立ちビナ\n",
      "https://www.bird-research.jp/1_shiryo/koe/shijuukara_0806_hyogo_kaji.wma\n"
     ]
    },
    {
     "name": "stderr",
     "output_type": "stream",
     "text": [
      "\r",
      " 53%|██████████████████████████████████████████████████████████████                                                      | 3517/6576 [43:21<38:15,  1.33it/s]"
     ]
    },
    {
     "name": "stdout",
     "output_type": "stream",
     "text": [
      "------------------------------------------------------------------------------ 3523\n",
      "sijyukara_110703_utsunomiya_hirano.wma\n",
      "/home/wataru/code/b-com/b-com/crawling/シジュウカラ/巣立ちビナ\n",
      "https://www.bird-research.jp/1_shiryo/koe/sijyukara_110703_utsunomiya_hirano.wma\n"
     ]
    },
    {
     "name": "stderr",
     "output_type": "stream",
     "text": [
      "\r",
      " 54%|██████████████████████████████████████████████████████████████▏                                                     | 3524/6576 [43:26<38:09,  1.33it/s]"
     ]
    },
    {
     "name": "stdout",
     "output_type": "stream",
     "text": [
      "------------------------------------------------------------------------------ 3530\n",
      "shijukara_150607_kokubunji_mju.wma\n",
      "/home/wataru/code/b-com/b-com/crawling/シジュウカラ/巣内ビナ\n",
      "https://www.bird-research.jp/1_shiryo/koe/shijukara_150607_kokubunji_mju.wma\n"
     ]
    },
    {
     "name": "stderr",
     "output_type": "stream",
     "text": [
      "\r",
      " 54%|██████████████████████████████████████████████████████████████▎                                                     | 3531/6576 [43:31<38:06,  1.33it/s]"
     ]
    },
    {
     "name": "stdout",
     "output_type": "stream",
     "text": [
      "------------------------------------------------------------------------------ 3537\n",
      "sijuukara10_1006_hyogo_kaji.wma\n",
      "/home/wataru/code/b-com/b-com/crawling/シジュウカラ/若さえずり\n",
      "https://www.bird-research.jp/1_shiryo/koe/sijuukara10_1006_hyogo_kaji.wma\n"
     ]
    },
    {
     "name": "stderr",
     "output_type": "stream",
     "text": [
      "\r",
      " 54%|██████████████████████████████████████████████████████████████▍                                                     | 3538/6576 [43:37<38:34,  1.31it/s]"
     ]
    },
    {
     "name": "stdout",
     "output_type": "stream",
     "text": [
      "------------------------------------------------------------------------------ 3544\n",
      "sijukara_190412_fukuoka_kuroda.wma\n",
      "/home/wataru/code/b-com/b-com/crawling/シジュウカラ/巣威嚇\n",
      "https://www.bird-research.jp/1_shiryo/koe/sijukara_190412_fukuoka_kuroda.wma\n"
     ]
    },
    {
     "name": "stderr",
     "output_type": "stream",
     "text": [
      "\r",
      " 54%|██████████████████████████████████████████████████████████████▌                                                     | 3545/6576 [43:42<38:16,  1.32it/s]"
     ]
    },
    {
     "name": "stdout",
     "output_type": "stream",
     "text": [
      "------------------------------------------------------------------------------ 3551\n",
      "sijuukara1_060311_okinawa_kaji.wma\n",
      "/home/wataru/code/b-com/b-com/crawling/ｲｼｶﾞｷｼｼﾞｭｳｶﾗ/亜種\n",
      "https://www.bird-research.jp/1_shiryo/koe/sijuukara1_060311_okinawa_kaji.wma\n"
     ]
    },
    {
     "name": "stderr",
     "output_type": "stream",
     "text": [
      "\r",
      " 54%|██████████████████████████████████████████████████████████████▋                                                     | 3552/6576 [43:47<37:58,  1.33it/s]"
     ]
    },
    {
     "name": "stdout",
     "output_type": "stream",
     "text": [
      "------------------------------------------------------------------------------ 3558\n",
      "ishigakishiju_120423_ishigaki_moriya.wma\n",
      "/home/wataru/code/b-com/b-com/crawling/ｲｼｶﾞｷｼｼﾞｭｳｶﾗ/亜種\n",
      "https://www.bird-research.jp/1_shiryo/koe/ishigakishiju_120423_ishigaki_moriya.wma\n"
     ]
    },
    {
     "name": "stderr",
     "output_type": "stream",
     "text": [
      "\r",
      " 54%|██████████████████████████████████████████████████████████████▊                                                     | 3559/6576 [43:53<37:40,  1.33it/s]"
     ]
    },
    {
     "name": "stdout",
     "output_type": "stream",
     "text": [
      "------------------------------------------------------------------------------ 3566\n",
      "hibari_060621_mooka_mju.wma\n",
      "/home/wataru/code/b-com/b-com/crawling/ヒバリ/さえずり\n",
      "https://www.bird-research.jp/1_shiryo/koe/hibari_060621_mooka_mju.wma\n"
     ]
    },
    {
     "name": "stderr",
     "output_type": "stream",
     "text": [
      "\r",
      " 54%|██████████████████████████████████████████████████████████████▉                                                     | 3567/6576 [43:58<35:53,  1.40it/s]"
     ]
    },
    {
     "name": "stdout",
     "output_type": "stream",
     "text": [
      "------------------------------------------------------------------------------ 3573\n",
      "hibari_100528_nasumachi.wma\n",
      "/home/wataru/code/b-com/b-com/crawling/ヒバリ/地鳴き\n",
      "https://www.bird-research.jp/1_shiryo/koe/hibari_100528_nasumachi.wma\n"
     ]
    },
    {
     "name": "stderr",
     "output_type": "stream",
     "text": [
      "\r",
      " 54%|███████████████████████████████████████████████████████████████                                                     | 3574/6576 [44:03<36:18,  1.38it/s]"
     ]
    },
    {
     "name": "stdout",
     "output_type": "stream",
     "text": [
      "------------------------------------------------------------------------------ 3580\n",
      "hibari_210520_mie_kuroda.wma\n",
      "/home/wataru/code/b-com/b-com/crawling/ヒバリ/ダンス\n",
      "https://www.bird-research.jp/1_shiryo/koe/hibari_210520_mie_kuroda.wma\n"
     ]
    },
    {
     "name": "stderr",
     "output_type": "stream",
     "text": [
      "\r",
      " 54%|███████████████████████████████████████████████████████████████▏                                                    | 3581/6576 [44:08<36:38,  1.36it/s]"
     ]
    },
    {
     "name": "stdout",
     "output_type": "stream",
     "text": [
      "------------------------------------------------------------------------------ 3588\n",
      "tsubame_060530_kokubunji_mju.wma\n",
      "/home/wataru/code/b-com/b-com/crawling/ツバメ/\n",
      "https://www.bird-research.jp/1_shiryo/koe/tsubame_060530_kokubunji_mju.wma\n"
     ]
    },
    {
     "name": "stderr",
     "output_type": "stream",
     "text": [
      "\r",
      " 55%|███████████████████████████████████████████████████████████████▎                                                    | 3589/6576 [44:14<35:09,  1.42it/s]"
     ]
    },
    {
     "name": "stdout",
     "output_type": "stream",
     "text": [
      "------------------------------------------------------------------------------ 3596\n",
      "tsubame_110705_fuchu_mju.wma\n",
      "/home/wataru/code/b-com/b-com/crawling/ツバメ/ねぐら\n",
      "https://www.bird-research.jp/1_shiryo/koe/tsubame_110705_fuchu_mju.wma\n"
     ]
    },
    {
     "name": "stderr",
     "output_type": "stream",
     "text": [
      "\r",
      " 55%|███████████████████████████████████████████████████████████████▍                                                    | 3597/6576 [44:19<34:17,  1.45it/s]"
     ]
    },
    {
     "name": "stdout",
     "output_type": "stream",
     "text": [
      "------------------------------------------------------------------------------ 3603\n",
      "tsubame_1005_hyogo_kaji.wma\n",
      "/home/wataru/code/b-com/b-com/crawling/ツバメ/巣立ちヒナ\n",
      "https://www.bird-research.jp/1_shiryo/koe/tsubame_1005_hyogo_kaji.wma\n"
     ]
    },
    {
     "name": "stderr",
     "output_type": "stream",
     "text": [
      "\r",
      " 55%|███████████████████████████████████████████████████████████████▌                                                    | 3604/6576 [44:24<34:56,  1.42it/s]"
     ]
    },
    {
     "name": "stdout",
     "output_type": "stream",
     "text": [
      "------------------------------------------------------------------------------ 3610\n",
      "rtsubame_120419_yona_moriya.wma\n",
      "/home/wataru/code/b-com/b-com/crawling/ﾘｭｳｷｭｳﾂﾊﾞﾒ/\n",
      "https://www.bird-research.jp/1_shiryo/koe/rtsubame_120419_yona_moriya.wma\n"
     ]
    },
    {
     "name": "stderr",
     "output_type": "stream",
     "text": [
      "\r",
      " 55%|███████████████████████████████████████████████████████████████▋                                                    | 3611/6576 [44:29<35:20,  1.40it/s]"
     ]
    },
    {
     "name": "stdout",
     "output_type": "stream",
     "text": [
      "------------------------------------------------------------------------------ 3617\n",
      "koshiakastubame_0809_hyogo_kaji.wma\n",
      "/home/wataru/code/b-com/b-com/crawling/コシアカツバメ/\n",
      "https://www.bird-research.jp/1_shiryo/koe/koshiakastubame_0809_hyogo_kaji.wma\n"
     ]
    },
    {
     "name": "stderr",
     "output_type": "stream",
     "text": [
      "\r",
      " 55%|███████████████████████████████████████████████████████████████▊                                                    | 3618/6576 [44:34<35:47,  1.38it/s]"
     ]
    },
    {
     "name": "stdout",
     "output_type": "stream",
     "text": [
      "------------------------------------------------------------------------------ 3624\n",
      "koshiakatsubame_1006_hyogo_kaji.wma\n",
      "/home/wataru/code/b-com/b-com/crawling/コシアカツバメ/さえずり\n",
      "https://www.bird-research.jp/1_shiryo/koe/koshiakatsubame_1006_hyogo_kaji.wma\n"
     ]
    },
    {
     "name": "stderr",
     "output_type": "stream",
     "text": [
      "\r",
      " 55%|███████████████████████████████████████████████████████████████▉                                                    | 3625/6576 [44:40<35:58,  1.37it/s]"
     ]
    },
    {
     "name": "stdout",
     "output_type": "stream",
     "text": [
      "------------------------------------------------------------------------------ 3631\n",
      "koshiaka_160505_mooka_hirano.wma\n",
      "/home/wataru/code/b-com/b-com/crawling/コシアカツバメ/さえずり\n",
      "https://www.bird-research.jp/1_shiryo/koe/koshiaka_160505_mooka_hirano.wma\n"
     ]
    },
    {
     "name": "stderr",
     "output_type": "stream",
     "text": [
      "\r",
      " 55%|████████████████████████████████████████████████████████████████                                                    | 3632/6576 [44:45<36:13,  1.35it/s]"
     ]
    },
    {
     "name": "stdout",
     "output_type": "stream",
     "text": [
      "------------------------------------------------------------------------------ 3638\n",
      "koshiaka_200525_izu_mju.wma\n",
      "/home/wataru/code/b-com/b-com/crawling/コシアカツバメ/求愛\n",
      "https://www.bird-research.jp/1_shiryo/koe/koshiaka_200525_izu_mju.wma\n"
     ]
    },
    {
     "name": "stderr",
     "output_type": "stream",
     "text": [
      "\r",
      " 55%|████████████████████████████████████████████████████████████████▏                                                   | 3639/6576 [44:50<36:26,  1.34it/s]"
     ]
    },
    {
     "name": "stdout",
     "output_type": "stream",
     "text": [
      "------------------------------------------------------------------------------ 3645\n",
      "iwatsubame_040506_fuchu_mju.wma\n",
      "/home/wataru/code/b-com/b-com/crawling/イワツバメ/\n",
      "https://www.bird-research.jp/1_shiryo/koe/iwatsubame_040506_fuchu_mju.wma\n"
     ]
    },
    {
     "name": "stderr",
     "output_type": "stream",
     "text": [
      "\r",
      " 55%|████████████████████████████████████████████████████████████████▎                                                   | 3646/6576 [44:55<36:23,  1.34it/s]"
     ]
    },
    {
     "name": "stdout",
     "output_type": "stream",
     "text": [
      "------------------------------------------------------------------------------ 3653\n",
      "shirogashira_181125_okinawa_mju.wma\n",
      "/home/wataru/code/b-com/b-com/crawling/シロガシラ/地鳴き\n",
      "https://www.bird-research.jp/1_shiryo/koe/shirogashira_181125_okinawa_mju.wma\n"
     ]
    },
    {
     "name": "stderr",
     "output_type": "stream",
     "text": [
      "\r",
      " 56%|████████████████████████████████████████████████████████████████▍                                                   | 3654/6576 [45:01<34:56,  1.39it/s]"
     ]
    },
    {
     "name": "stdout",
     "output_type": "stream",
     "text": [
      "------------------------------------------------------------------------------ 3660\n",
      "shirogashirac_181125_okinawa_mju.wma\n",
      "/home/wataru/code/b-com/b-com/crawling/シロガシラ/地鳴き\n",
      "https://www.bird-research.jp/1_shiryo/koe/shirogashirac_181125_okinawa_mju.wma\n"
     ]
    },
    {
     "name": "stderr",
     "output_type": "stream",
     "text": [
      "\r",
      " 56%|████████████████████████████████████████████████████████████████▌                                                   | 3661/6576 [45:06<35:41,  1.36it/s]"
     ]
    },
    {
     "name": "stdout",
     "output_type": "stream",
     "text": [
      "------------------------------------------------------------------------------ 3667\n",
      "shirogashira_160318_honkon_mju.wma\n",
      "/home/wataru/code/b-com/b-com/crawling/シロガシラ/\n",
      "https://www.bird-research.jp/1_shiryo/koe/shirogashira_160318_honkon_mju.wma\n"
     ]
    },
    {
     "name": "stderr",
     "output_type": "stream",
     "text": [
      "\r",
      " 56%|████████████████████████████████████████████████████████████████▋                                                   | 3668/6576 [45:11<35:58,  1.35it/s]"
     ]
    },
    {
     "name": "stdout",
     "output_type": "stream",
     "text": [
      "------------------------------------------------------------------------------ 3674\n",
      "hiyodori_060511_kokubunji_mju.wma\n",
      "/home/wataru/code/b-com/b-com/crawling/ヒヨドリ/\n",
      "https://www.bird-research.jp/1_shiryo/koe/hiyodori_060511_kokubunji_mju.wma\n"
     ]
    },
    {
     "name": "stderr",
     "output_type": "stream",
     "text": [
      "\r",
      " 56%|████████████████████████████████████████████████████████████████▊                                                   | 3675/6576 [45:17<35:48,  1.35it/s]"
     ]
    },
    {
     "name": "stdout",
     "output_type": "stream",
     "text": [
      "------------------------------------------------------------------------------ 3682\n",
      "hiyodori_110323_sapporo_namba.wma\n",
      "/home/wataru/code/b-com/b-com/crawling/ヒヨドリ/\n",
      "https://www.bird-research.jp/1_shiryo/koe/hiyodori_110323_sapporo_namba.wma\n"
     ]
    },
    {
     "name": "stderr",
     "output_type": "stream",
     "text": [
      "\r",
      " 56%|████████████████████████████████████████████████████████████████▉                                                   | 3683/6576 [45:22<34:25,  1.40it/s]"
     ]
    },
    {
     "name": "stdout",
     "output_type": "stream",
     "text": [
      "------------------------------------------------------------------------------ 3689\n",
      "hiyodori_110724_kokubunji_mju.wma\n",
      "/home/wataru/code/b-com/b-com/crawling/ヒヨドリ/巣立ビナ\n",
      "https://www.bird-research.jp/1_shiryo/koe/hiyodori_110724_kokubunji_mju.wma\n"
     ]
    },
    {
     "name": "stderr",
     "output_type": "stream",
     "text": [
      "\r",
      " 56%|█████████████████████████████████████████████████████████████████                                                   | 3690/6576 [45:27<34:53,  1.38it/s]"
     ]
    },
    {
     "name": "stdout",
     "output_type": "stream",
     "text": [
      "------------------------------------------------------------------------------ 3696\n",
      "hiyodorihina_140607_hyogo_kaji.wma\n",
      "/home/wataru/code/b-com/b-com/crawling/ヒヨドリ/巣立ビナ\n",
      "https://www.bird-research.jp/1_shiryo/koe/hiyodorihina_140607_hyogo_kaji.wma\n"
     ]
    },
    {
     "name": "stderr",
     "output_type": "stream",
     "text": [
      "\r",
      " 56%|█████████████████████████████████████████████████████████████████▏                                                  | 3697/6576 [45:32<35:11,  1.36it/s]"
     ]
    },
    {
     "name": "stdout",
     "output_type": "stream",
     "text": [
      "------------------------------------------------------------------------------ 3703\n",
      "hiyodori_110417_hahajima_mju.wma\n",
      "/home/wataru/code/b-com/b-com/crawling/オガサワラヒヨドリ/\n",
      "https://www.bird-research.jp/1_shiryo/koe/hiyodori_110417_hahajima_mju.wma\n"
     ]
    },
    {
     "name": "stderr",
     "output_type": "stream",
     "text": [
      "\r",
      " 56%|█████████████████████████████████████████████████████████████████▎                                                  | 3704/6576 [45:38<35:22,  1.35it/s]"
     ]
    },
    {
     "name": "stdout",
     "output_type": "stream",
     "text": [
      "------------------------------------------------------------------------------ 3711\n",
      "uguisu_040421_kokubunji_mju.wma\n",
      "/home/wataru/code/b-com/b-com/crawling/ウグイス/さえずり\n",
      "https://www.bird-research.jp/1_shiryo/koe/uguisu_040421_kokubunji_mju.wma\n"
     ]
    },
    {
     "name": "stderr",
     "output_type": "stream",
     "text": [
      "\r",
      " 56%|█████████████████████████████████████████████████████████████████▍                                                  | 3712/6576 [45:43<33:53,  1.41it/s]"
     ]
    },
    {
     "name": "stdout",
     "output_type": "stream",
     "text": [
      "------------------------------------------------------------------------------ 3719\n",
      "uguisu_0812_hyogo_kaji.wma\n",
      "/home/wataru/code/b-com/b-com/crawling/ウグイス/地鳴き\n",
      "https://www.bird-research.jp/1_shiryo/koe/uguisu_0812_hyogo_kaji.wma\n"
     ]
    },
    {
     "name": "stderr",
     "output_type": "stream",
     "text": [
      "\r",
      " 57%|█████████████████████████████████████████████████████████████████▌                                                  | 3720/6576 [45:48<33:01,  1.44it/s]"
     ]
    },
    {
     "name": "stdout",
     "output_type": "stream",
     "text": [
      "------------------------------------------------------------------------------ 3726\n",
      "uguisu_150510_shiga_cf.wma\n",
      "/home/wataru/code/b-com/b-com/crawling/ウグイス/谷渡り\n",
      "https://www.bird-research.jp/1_shiryo/koe/uguisu_150510_shiga_cf.wma\n"
     ]
    },
    {
     "name": "stderr",
     "output_type": "stream",
     "text": [
      "\r",
      " 57%|█████████████████████████████████████████████████████████████████▋                                                  | 3727/6576 [45:54<33:49,  1.40it/s]"
     ]
    },
    {
     "name": "stdout",
     "output_type": "stream",
     "text": [
      "------------------------------------------------------------------------------ 3733\n",
      "uguisu_090318_hyogo_kaji.wma\n",
      "/home/wataru/code/b-com/b-com/crawling/ウグイス/ぐぜり\n",
      "https://www.bird-research.jp/1_shiryo/koe/uguisu_090318_hyogo_kaji.wma\n"
     ]
    },
    {
     "name": "stderr",
     "output_type": "stream",
     "text": [
      "\r",
      " 57%|█████████████████████████████████████████████████████████████████▊                                                  | 3734/6576 [45:59<34:14,  1.38it/s]"
     ]
    },
    {
     "name": "stdout",
     "output_type": "stream",
     "text": [
      "------------------------------------------------------------------------------ 3740\n",
      "uguisu_101125_watarase_hirano.wma\n",
      "/home/wataru/code/b-com/b-com/crawling/ウグイス/けんか\n",
      "https://www.bird-research.jp/1_shiryo/koe/uguisu_101125_watarase_hirano.wma\n"
     ]
    },
    {
     "name": "stderr",
     "output_type": "stream",
     "text": [
      "\r",
      " 57%|█████████████████████████████████████████████████████████████████▉                                                  | 3741/6576 [46:04<34:33,  1.37it/s]"
     ]
    },
    {
     "name": "stdout",
     "output_type": "stream",
     "text": [
      "------------------------------------------------------------------------------ 3747\n",
      "uguisu_080524_nasushiobara.wma\n",
      "/home/wataru/code/b-com/b-com/crawling/ウグイス/特殊声\n",
      "https://www.bird-research.jp/1_shiryo/koe/uguisu_080524_nasushiobara.wma\n"
     ]
    },
    {
     "name": "stderr",
     "output_type": "stream",
     "text": [
      "\r",
      " 57%|██████████████████████████████████████████████████████████████████                                                  | 3748/6576 [46:09<34:43,  1.36it/s]"
     ]
    },
    {
     "name": "stdout",
     "output_type": "stream",
     "text": [
      "------------------------------------------------------------------------------ 3754\n",
      "uguisu_110417_hahajima_mju.wma\n",
      "/home/wataru/code/b-com/b-com/crawling/ハシナガウグイス/亜種\n",
      "https://www.bird-research.jp/1_shiryo/koe/uguisu_110417_hahajima_mju.wma\n"
     ]
    },
    {
     "name": "stderr",
     "output_type": "stream",
     "text": [
      "\r",
      " 57%|██████████████████████████████████████████████████████████████████▏                                                 | 3755/6576 [46:15<34:51,  1.35it/s]"
     ]
    },
    {
     "name": "stdout",
     "output_type": "stream",
     "text": [
      "------------------------------------------------------------------------------ 3761\n",
      "yabusame_060526_tanzawa_mju.wma\n",
      "/home/wataru/code/b-com/b-com/crawling/ヤブサメ/さえずり\n",
      "https://www.bird-research.jp/1_shiryo/koe/yabusame_060526_tanzawa_mju.wma\n"
     ]
    },
    {
     "name": "stderr",
     "output_type": "stream",
     "text": [
      "\r",
      " 57%|██████████████████████████████████████████████████████████████████▎                                                 | 3762/6576 [46:20<34:56,  1.34it/s]"
     ]
    },
    {
     "name": "stdout",
     "output_type": "stream",
     "text": [
      "------------------------------------------------------------------------------ 3768\n",
      "yabusame_100508_yahaba_mikami.wma\n",
      "/home/wataru/code/b-com/b-com/crawling/ヤブサメ/さえずり2\n",
      "https://www.bird-research.jp/1_shiryo/koe/yabusame_100508_yahaba_mikami.wma\n"
     ]
    },
    {
     "name": "stderr",
     "output_type": "stream",
     "text": [
      "\r",
      " 57%|██████████████████████████████████████████████████████████████████▍                                                 | 3769/6576 [46:25<34:53,  1.34it/s]"
     ]
    },
    {
     "name": "stdout",
     "output_type": "stream",
     "text": [
      "------------------------------------------------------------------------------ 3775\n",
      "yabusame_080407_ehime_kuroda.wma\n",
      "/home/wataru/code/b-com/b-com/crawling/ヤブサメ/夜鳴き\n",
      "https://www.bird-research.jp/1_shiryo/koe/yabusame_080407_ehime_kuroda.wma\n"
     ]
    },
    {
     "name": "stderr",
     "output_type": "stream",
     "text": [
      "\r",
      " 57%|██████████████████████████████████████████████████████████████████▌                                                 | 3776/6576 [46:30<34:54,  1.34it/s]"
     ]
    },
    {
     "name": "stdout",
     "output_type": "stream",
     "text": [
      "------------------------------------------------------------------------------ 3782\n",
      "yabusame_0709_hyogo_kaji.wma\n",
      "/home/wataru/code/b-com/b-com/crawling/ヤブサメ/地鳴き1\n",
      "https://www.bird-research.jp/1_shiryo/koe/yabusame_0709_hyogo_kaji.wma\n"
     ]
    },
    {
     "name": "stderr",
     "output_type": "stream",
     "text": [
      "\r",
      " 58%|██████████████████████████████████████████████████████████████████▋                                                 | 3783/6576 [46:36<34:52,  1.33it/s]"
     ]
    },
    {
     "name": "stdout",
     "output_type": "stream",
     "text": [
      "------------------------------------------------------------------------------ 3789\n",
      "yabusame_0804_hyogo_kaji.wma\n",
      "/home/wataru/code/b-com/b-com/crawling/ヤブサメ/地鳴き2\n",
      "https://www.bird-research.jp/1_shiryo/koe/yabusame_0804_hyogo_kaji.wma\n"
     ]
    },
    {
     "name": "stderr",
     "output_type": "stream",
     "text": [
      "\r",
      " 58%|██████████████████████████████████████████████████████████████████▊                                                 | 3790/6576 [46:41<34:49,  1.33it/s]"
     ]
    },
    {
     "name": "stdout",
     "output_type": "stream",
     "text": [
      "------------------------------------------------------------------------------ 3796\n",
      "yabusame_0906_hyogo_kaji.wma\n",
      "/home/wataru/code/b-com/b-com/crawling/ヤブサメ/警戒1\n",
      "https://www.bird-research.jp/1_shiryo/koe/yabusame_0906_hyogo_kaji.wma\n"
     ]
    },
    {
     "name": "stderr",
     "output_type": "stream",
     "text": [
      "\r",
      " 58%|██████████████████████████████████████████████████████████████████▉                                                 | 3797/6576 [46:46<34:45,  1.33it/s]"
     ]
    },
    {
     "name": "stdout",
     "output_type": "stream",
     "text": [
      "------------------------------------------------------------------------------ 3803\n",
      "yabusame_0905_hyogo_kaji.wma\n",
      "/home/wataru/code/b-com/b-com/crawling/ヤブサメ/警戒2\n",
      "https://www.bird-research.jp/1_shiryo/koe/yabusame_0905_hyogo_kaji.wma\n"
     ]
    },
    {
     "name": "stderr",
     "output_type": "stream",
     "text": [
      "\r",
      " 58%|███████████████████████████████████████████████████████████████████                                                 | 3804/6576 [46:51<34:38,  1.33it/s]"
     ]
    },
    {
     "name": "stdout",
     "output_type": "stream",
     "text": [
      "------------------------------------------------------------------------------ 3810\n",
      "yabusame_160501_hyogo_kaji.wma\n",
      "/home/wataru/code/b-com/b-com/crawling/ヤブサメ/求愛\n",
      "https://www.bird-research.jp/1_shiryo/koe/yabusame_160501_hyogo_kaji.wma\n"
     ]
    },
    {
     "name": "stderr",
     "output_type": "stream",
     "text": [
      "\r",
      " 58%|███████████████████████████████████████████████████████████████████▏                                                | 3811/6576 [46:57<34:36,  1.33it/s]"
     ]
    },
    {
     "name": "stdout",
     "output_type": "stream",
     "text": [
      "------------------------------------------------------------------------------ 3817\n",
      "yabusame_120628_sapporo_kawaji.wma\n",
      "/home/wataru/code/b-com/b-com/crawling/ヤブサメ/巣立ちビナ\n",
      "https://www.bird-research.jp/1_shiryo/koe/yabusame_120628_sapporo_kawaji.wma\n"
     ]
    },
    {
     "name": "stderr",
     "output_type": "stream",
     "text": [
      "\r",
      " 58%|███████████████████████████████████████████████████████████████████▎                                                | 3818/6576 [47:02<34:32,  1.33it/s]"
     ]
    },
    {
     "name": "stdout",
     "output_type": "stream",
     "text": [
      "------------------------------------------------------------------------------ 3824\n",
      "yabusame_080618_nara_kuroda.wma\n",
      "/home/wataru/code/b-com/b-com/crawling/ヤブサメ/巣立ちビナ\n",
      "https://www.bird-research.jp/1_shiryo/koe/yabusame_080618_nara_kuroda.wma\n"
     ]
    },
    {
     "name": "stderr",
     "output_type": "stream",
     "text": [
      "\r",
      " 58%|███████████████████████████████████████████████████████████████████▍                                                | 3825/6576 [47:07<34:26,  1.33it/s]"
     ]
    },
    {
     "name": "stdout",
     "output_type": "stream",
     "text": [
      "------------------------------------------------------------------------------ 3832\n",
      "enaga_040429_kokubunji_mju.wma\n",
      "/home/wataru/code/b-com/b-com/crawling/エナガ/地鳴き\n",
      "https://www.bird-research.jp/1_shiryo/koe/enaga_040429_kokubunji_mju.wma\n"
     ]
    },
    {
     "name": "stderr",
     "output_type": "stream",
     "text": [
      "\r",
      " 58%|███████████████████████████████████████████████████████████████████▌                                                | 3833/6576 [47:12<33:00,  1.38it/s]"
     ]
    },
    {
     "name": "stdout",
     "output_type": "stream",
     "text": [
      "------------------------------------------------------------------------------ 3839\n",
      "enaga_0703_hyogo_kaji.wma\n",
      "/home/wataru/code/b-com/b-com/crawling/エナガ/地鳴き\n",
      "https://www.bird-research.jp/1_shiryo/koe/enaga_0703_hyogo_kaji.wma\n"
     ]
    },
    {
     "name": "stderr",
     "output_type": "stream",
     "text": [
      "\r",
      " 58%|███████████████████████████████████████████████████████████████████▋                                                | 3840/6576 [47:18<33:17,  1.37it/s]"
     ]
    },
    {
     "name": "stdout",
     "output_type": "stream",
     "text": [
      "------------------------------------------------------------------------------ 3846\n",
      "enaga_1002_hyogo_kaji.wma\n",
      "/home/wataru/code/b-com/b-com/crawling/エナガ/地鳴き\n",
      "https://www.bird-research.jp/1_shiryo/koe/enaga_1002_hyogo_kaji.wma\n"
     ]
    },
    {
     "name": "stderr",
     "output_type": "stream",
     "text": [
      "\r",
      " 59%|███████████████████████████████████████████████████████████████████▊                                                | 3847/6576 [47:23<33:29,  1.36it/s]"
     ]
    },
    {
     "name": "stdout",
     "output_type": "stream",
     "text": [
      "------------------------------------------------------------------------------ 3853\n",
      "enaga_hyogo_101005_kaji.wma\n",
      "/home/wataru/code/b-com/b-com/crawling/エナガ/地鳴き\n",
      "https://www.bird-research.jp/1_shiryo/koe/enaga_hyogo_101005_kaji.wma\n",
      "Not Found\n"
     ]
    },
    {
     "name": "stderr",
     "output_type": "stream",
     "text": [
      "\r",
      " 59%|███████████████████████████████████████████████████████████████████▉                                                | 3854/6576 [47:28<33:19,  1.36it/s]"
     ]
    },
    {
     "name": "stdout",
     "output_type": "stream",
     "text": [
      "------------------------------------------------------------------------------ 3860\n",
      "enaga_0905_hyogo_kaji.wma\n",
      "/home/wataru/code/b-com/b-com/crawling/エナガ/幼鳥\n",
      "https://www.bird-research.jp/1_shiryo/koe/enaga_0905_hyogo_kaji.wma\n"
     ]
    },
    {
     "name": "stderr",
     "output_type": "stream",
     "text": [
      "\r",
      " 59%|████████████████████████████████████████████████████████████████████                                                | 3861/6576 [47:33<33:26,  1.35it/s]"
     ]
    },
    {
     "name": "stdout",
     "output_type": "stream",
     "text": [
      "------------------------------------------------------------------------------ 3867\n",
      "shimaenaga_110228_tomamae_mju.wma\n",
      "/home/wataru/code/b-com/b-com/crawling/シマエナガ/亜種\n",
      "https://www.bird-research.jp/1_shiryo/koe/shimaenaga_110228_tomamae_mju.wma\n"
     ]
    },
    {
     "name": "stderr",
     "output_type": "stream",
     "text": [
      "\r",
      " 59%|████████████████████████████████████████████████████████████████████▏                                               | 3868/6576 [47:38<33:21,  1.35it/s]"
     ]
    },
    {
     "name": "stdout",
     "output_type": "stream",
     "text": [
      "------------------------------------------------------------------------------ 3874\n",
      "shimaenaga_110319_sapporo_namba.wma\n",
      "/home/wataru/code/b-com/b-com/crawling/シマエナガ/亜種\n",
      "https://www.bird-research.jp/1_shiryo/koe/shimaenaga_110319_sapporo_namba.wma\n"
     ]
    },
    {
     "name": "stderr",
     "output_type": "stream",
     "text": [
      "\r",
      " 59%|████████████████████████████████████████████████████████████████████▎                                               | 3875/6576 [47:44<33:14,  1.35it/s]"
     ]
    },
    {
     "name": "stdout",
     "output_type": "stream",
     "text": [
      "------------------------------------------------------------------------------ 3882\n",
      "chifuchafu_150124_nishinomiya_okamoto.wma\n",
      "/home/wataru/code/b-com/b-com/crawling/チフチャフ/地鳴き\n",
      "https://www.bird-research.jp/1_shiryo/koe/chifuchafu_150124_nishinomiya_okamoto.wma\n"
     ]
    },
    {
     "name": "stderr",
     "output_type": "stream",
     "text": [
      "\r",
      " 59%|████████████████████████████████████████████████████████████████████▍                                               | 3883/6576 [47:49<31:56,  1.41it/s]"
     ]
    },
    {
     "name": "stdout",
     "output_type": "stream",
     "text": [
      "------------------------------------------------------------------------------ 3889\n",
      "mujisekka_140423_biwako_murao.wma\n",
      "/home/wataru/code/b-com/b-com/crawling/ムジセッカ/さえずり\n",
      "https://www.bird-research.jp/1_shiryo/koe/mujisekka_140423_biwako_murao.wma\n"
     ]
    },
    {
     "name": "stderr",
     "output_type": "stream",
     "text": [
      "\r",
      " 59%|████████████████████████████████████████████████████████████████████▌                                               | 3890/6576 [47:54<32:29,  1.38it/s]"
     ]
    },
    {
     "name": "stdout",
     "output_type": "stream",
     "text": [
      "------------------------------------------------------------------------------ 3896\n",
      "mujisekka_160317_watarase_hirano.wma\n",
      "/home/wataru/code/b-com/b-com/crawling/ムジセッカ/地鳴き\n",
      "https://www.bird-research.jp/1_shiryo/koe/mujisekka_160317_watarase_hirano.wma\n"
     ]
    },
    {
     "name": "stderr",
     "output_type": "stream",
     "text": [
      "\r",
      " 59%|████████████████████████████████████████████████████████████████████▋                                               | 3897/6576 [47:59<32:47,  1.36it/s]"
     ]
    },
    {
     "name": "stdout",
     "output_type": "stream",
     "text": [
      "------------------------------------------------------------------------------ 3903\n",
      "karafutomuji_140514_tobishima_mima.wma\n",
      "/home/wataru/code/b-com/b-com/crawling/カラフトムジセッカ/さえずり\n",
      "https://www.bird-research.jp/1_shiryo/koe/karafutomuji_140514_tobishima_mima.wma\n"
     ]
    },
    {
     "name": "stderr",
     "output_type": "stream",
     "text": [
      "\r",
      " 59%|████████████████████████████████████████████████████████████████████▊                                               | 3904/6576 [48:05<32:55,  1.35it/s]"
     ]
    },
    {
     "name": "stdout",
     "output_type": "stream",
     "text": [
      "------------------------------------------------------------------------------ 3910\n",
      "karafutomushikui_200429_nagasaki_kuroda.wma\n",
      "/home/wataru/code/b-com/b-com/crawling/カラフトムシクイ/さえずり\n",
      "https://www.bird-research.jp/1_shiryo/koe/karafutomushikui_200429_nagasaki_kuroda.wma\n"
     ]
    },
    {
     "name": "stderr",
     "output_type": "stream",
     "text": [
      "\r",
      " 59%|████████████████████████████████████████████████████████████████████▉                                               | 3911/6576 [48:10<32:52,  1.35it/s]"
     ]
    },
    {
     "name": "stdout",
     "output_type": "stream",
     "text": [
      "------------------------------------------------------------------------------ 3917\n",
      "karafutomushi_210503_nagasaki_kuroda.wma\n",
      "/home/wataru/code/b-com/b-com/crawling/カラフトムシクイ/地鳴き\n",
      "https://www.bird-research.jp/1_shiryo/koe/karafutomushi_210503_nagasaki_kuroda.wma\n"
     ]
    },
    {
     "name": "stderr",
     "output_type": "stream",
     "text": [
      "\r",
      " 60%|█████████████████████████████████████████████████████████████████████                                               | 3918/6576 [48:15<33:01,  1.34it/s]"
     ]
    },
    {
     "name": "stdout",
     "output_type": "stream",
     "text": [
      "------------------------------------------------------------------------------ 3924\n",
      "karafutomushi_210504_nagasaki_kuroda.wma\n",
      "/home/wataru/code/b-com/b-com/crawling/カラフトムシクイ/地鳴き\n",
      "https://www.bird-research.jp/1_shiryo/koe/karafutomushi_210504_nagasaki_kuroda.wma\n"
     ]
    },
    {
     "name": "stderr",
     "output_type": "stream",
     "text": [
      "\r",
      " 60%|█████████████████████████████████████████████████████████████████████▏                                              | 3925/6576 [48:20<32:59,  1.34it/s]"
     ]
    },
    {
     "name": "stdout",
     "output_type": "stream",
     "text": [
      "------------------------------------------------------------------------------ 3931\n",
      "kimayumushikui_130428_mishima_okamoto.wma\n",
      "/home/wataru/code/b-com/b-com/crawling/キマユムシクイ/さえずり\n",
      "https://www.bird-research.jp/1_shiryo/koe/kimayumushikui_130428_mishima_okamoto.wma\n"
     ]
    },
    {
     "name": "stderr",
     "output_type": "stream",
     "text": [
      "\r",
      " 60%|█████████████████████████████████████████████████████████████████████▎                                              | 3932/6576 [48:26<33:01,  1.33it/s]"
     ]
    },
    {
     "name": "stdout",
     "output_type": "stream",
     "text": [
      "------------------------------------------------------------------------------ 3938\n",
      "kimayu_151014_fukuoka_kuroda.wma\n",
      "/home/wataru/code/b-com/b-com/crawling/キマユムシクイ/地鳴き\n",
      "https://www.bird-research.jp/1_shiryo/koe/kimayu_151014_fukuoka_kuroda.wma\n"
     ]
    },
    {
     "name": "stderr",
     "output_type": "stream",
     "text": [
      "\r",
      " 60%|█████████████████████████████████████████████████████████████████████▍                                              | 3939/6576 [48:31<32:48,  1.34it/s]"
     ]
    },
    {
     "name": "stdout",
     "output_type": "stream",
     "text": [
      "------------------------------------------------------------------------------ 3945\n",
      "komushikui_070627_magadan_saito.wma\n",
      "/home/wataru/code/b-com/b-com/crawling/コムシクイ/さえずり\n",
      "https://www.bird-research.jp/1_shiryo/koe/komushikui_070627_magadan_saito.wma\n"
     ]
    },
    {
     "name": "stderr",
     "output_type": "stream",
     "text": [
      "\r",
      " 60%|█████████████████████████████████████████████████████████████████████▌                                              | 3946/6576 [48:36<32:42,  1.34it/s]"
     ]
    },
    {
     "name": "stdout",
     "output_type": "stream",
     "text": [
      "------------------------------------------------------------------------------ 3952\n",
      "komushikui_160922_nagasaki_yoshigai.wma\n",
      "/home/wataru/code/b-com/b-com/crawling/コムシクイ/地鳴き\n",
      "https://www.bird-research.jp/1_shiryo/koe/komushikui_160922_nagasaki_yoshigai.wma\n"
     ]
    },
    {
     "name": "stderr",
     "output_type": "stream",
     "text": [
      "\r",
      " 60%|█████████████████████████████████████████████████████████████████████▋                                              | 3953/6576 [48:41<32:35,  1.34it/s]"
     ]
    },
    {
     "name": "stdout",
     "output_type": "stream",
     "text": [
      "------------------------------------------------------------------------------ 3959\n",
      "mebosomushikui2_1005_hyogo_kaji.wma\n",
      "/home/wataru/code/b-com/b-com/crawling/オオムシクイ/\n",
      "https://www.bird-research.jp/1_shiryo/koe/mebosomushikui2_1005_hyogo_kaji.wma\n"
     ]
    },
    {
     "name": "stderr",
     "output_type": "stream",
     "text": [
      "\r",
      " 60%|█████████████████████████████████████████████████████████████████████▊                                              | 3960/6576 [48:47<32:28,  1.34it/s]"
     ]
    },
    {
     "name": "stdout",
     "output_type": "stream",
     "text": [
      "------------------------------------------------------------------------------ 3966\n",
      "oomushikui_110610_sapporo_namba.wma\n",
      "/home/wataru/code/b-com/b-com/crawling/オオムシクイ/\n",
      "https://www.bird-research.jp/1_shiryo/koe/oomushikui_110610_sapporo_namba.wma\n"
     ]
    },
    {
     "name": "stderr",
     "output_type": "stream",
     "text": [
      "\r",
      " 60%|█████████████████████████████████████████████████████████████████████▉                                              | 3967/6576 [48:52<32:21,  1.34it/s]"
     ]
    },
    {
     "name": "stdout",
     "output_type": "stream",
     "text": [
      "------------------------------------------------------------------------------ 3973\n",
      "omushikui_150529_fukuoka_kuroda.wma\n",
      "/home/wataru/code/b-com/b-com/crawling/オオムシクイ/\n",
      "https://www.bird-research.jp/1_shiryo/koe/omushikui_150529_fukuoka_kuroda.wma\n"
     ]
    },
    {
     "name": "stderr",
     "output_type": "stream",
     "text": [
      "\r",
      " 60%|██████████████████████████████████████████████████████████████████████                                              | 3974/6576 [48:57<32:11,  1.35it/s]"
     ]
    },
    {
     "name": "stdout",
     "output_type": "stream",
     "text": [
      "------------------------------------------------------------------------------ 3980\n",
      "meboso_060722_marunuma_hirano.wma\n",
      "/home/wataru/code/b-com/b-com/crawling/メボソムシクイ/さえずり\n",
      "https://www.bird-research.jp/1_shiryo/koe/meboso_060722_marunuma_hirano.wma\n"
     ]
    },
    {
     "name": "stderr",
     "output_type": "stream",
     "text": [
      "\r",
      " 61%|██████████████████████████████████████████████████████████████████████▏                                             | 3981/6576 [49:02<32:11,  1.34it/s]"
     ]
    },
    {
     "name": "stdout",
     "output_type": "stream",
     "text": [
      "------------------------------------------------------------------------------ 3987\n",
      "meboso_100531_hayachine_mikami.wma\n",
      "/home/wataru/code/b-com/b-com/crawling/メボソムシクイ/さえずり\n",
      "https://www.bird-research.jp/1_shiryo/koe/meboso_100531_hayachine_mikami.wma\n"
     ]
    },
    {
     "name": "stderr",
     "output_type": "stream",
     "text": [
      "\r",
      " 61%|██████████████████████████████████████████████████████████████████████▎                                             | 3988/6576 [49:07<32:03,  1.35it/s]"
     ]
    },
    {
     "name": "stdout",
     "output_type": "stream",
     "text": [
      "------------------------------------------------------------------------------ 3994\n",
      "meboso_110619_hachimantai_mikami.wma\n",
      "/home/wataru/code/b-com/b-com/crawling/メボソムシクイ/さえずり\n",
      "https://www.bird-research.jp/1_shiryo/koe/meboso_110619_hachimantai_mikami.wma\n"
     ]
    },
    {
     "name": "stderr",
     "output_type": "stream",
     "text": [
      "\r",
      " 61%|██████████████████████████████████████████████████████████████████████▍                                             | 3995/6576 [49:13<31:54,  1.35it/s]"
     ]
    },
    {
     "name": "stdout",
     "output_type": "stream",
     "text": [
      "------------------------------------------------------------------------------ 4001\n",
      "mebosomushikui_1005_hyogo_kaji.wma\n",
      "/home/wataru/code/b-com/b-com/crawling/メボソムシクイ/地鳴き\n",
      "https://www.bird-research.jp/1_shiryo/koe/mebosomushikui_1005_hyogo_kaji.wma\n"
     ]
    },
    {
     "name": "stderr",
     "output_type": "stream",
     "text": [
      "\r",
      " 61%|██████████████████████████████████████████████████████████████████████▌                                             | 4002/6576 [49:18<31:48,  1.35it/s]"
     ]
    },
    {
     "name": "stdout",
     "output_type": "stream",
     "text": [
      "------------------------------------------------------------------------------ 4008\n",
      "ezomushikui_040528_kokubunji_mju.wma\n",
      "/home/wataru/code/b-com/b-com/crawling/エゾムシクイ/さえずり\n",
      "https://www.bird-research.jp/1_shiryo/koe/ezomushikui_040528_kokubunji_mju.wma\n"
     ]
    },
    {
     "name": "stderr",
     "output_type": "stream",
     "text": [
      "\r",
      " 61%|██████████████████████████████████████████████████████████████████████▋                                             | 4009/6576 [49:23<31:47,  1.35it/s]"
     ]
    },
    {
     "name": "stdout",
     "output_type": "stream",
     "text": [
      "------------------------------------------------------------------------------ 4015\n",
      "ezomushikui_110518_chichibu_mju.wma\n",
      "/home/wataru/code/b-com/b-com/crawling/エゾムシクイ/地鳴き\n",
      "https://www.bird-research.jp/1_shiryo/koe/ezomushikui_110518_chichibu_mju.wma\n"
     ]
    },
    {
     "name": "stderr",
     "output_type": "stream",
     "text": [
      "\r",
      " 61%|██████████████████████████████████████████████████████████████████████▊                                             | 4016/6576 [49:28<31:48,  1.34it/s]"
     ]
    },
    {
     "name": "stdout",
     "output_type": "stream",
     "text": [
      "------------------------------------------------------------------------------ 4022\n",
      "ezomushikui_160502_fukuoka_kuroda.wma\n",
      "/home/wataru/code/b-com/b-com/crawling/エゾムシクイ/地鳴き\n",
      "https://www.bird-research.jp/1_shiryo/koe/ezomushikui_160502_fukuoka_kuroda.wma\n"
     ]
    },
    {
     "name": "stderr",
     "output_type": "stream",
     "text": [
      "\r",
      " 61%|██████████████████████████████████████████████████████████████████████▉                                             | 4023/6576 [49:33<31:48,  1.34it/s]"
     ]
    },
    {
     "name": "stdout",
     "output_type": "stream",
     "text": [
      "------------------------------------------------------------------------------ 4029\n",
      "sendai_200514_chichibu_mju.wma\n",
      "/home/wataru/code/b-com/b-com/crawling/センダイムシクイ/さえずり\n",
      "https://www.bird-research.jp/1_shiryo/koe/sendai_200514_chichibu_mju.wma\n"
     ]
    },
    {
     "name": "stderr",
     "output_type": "stream",
     "text": [
      "\r",
      " 61%|███████████████████████████████████████████████████████████████████████                                             | 4030/6576 [49:39<31:51,  1.33it/s]"
     ]
    },
    {
     "name": "stdout",
     "output_type": "stream",
     "text": [
      "------------------------------------------------------------------------------ 4036\n",
      "sendai_150605_oshu_mikami.wma\n",
      "/home/wataru/code/b-com/b-com/crawling/センダイムシクイ/さえずり\n",
      "https://www.bird-research.jp/1_shiryo/koe/sendai_150605_oshu_mikami.wma\n"
     ]
    },
    {
     "name": "stderr",
     "output_type": "stream",
     "text": [
      "\r",
      " 61%|███████████████████████████████████████████████████████████████████████▏                                            | 4037/6576 [49:44<31:39,  1.34it/s]"
     ]
    },
    {
     "name": "stdout",
     "output_type": "stream",
     "text": [
      "------------------------------------------------------------------------------ 4043\n",
      "sendaimushikui_1005_hyogo_kaji.wma\n",
      "/home/wataru/code/b-com/b-com/crawling/センダイムシクイ/地鳴き\n",
      "https://www.bird-research.jp/1_shiryo/koe/sendaimushikui_1005_hyogo_kaji.wma\n"
     ]
    },
    {
     "name": "stderr",
     "output_type": "stream",
     "text": [
      "\r",
      " 61%|███████████████████████████████████████████████████████████████████████▎                                            | 4044/6576 [49:49<31:37,  1.33it/s]"
     ]
    },
    {
     "name": "stdout",
     "output_type": "stream",
     "text": [
      "------------------------------------------------------------------------------ 4050\n",
      "sendai_180625_uryu_kuros.wma\n",
      "/home/wataru/code/b-com/b-com/crawling/センダイムシクイ/警戒\n",
      "https://www.bird-research.jp/1_shiryo/koe/sendai_180625_uryu_kuros.wma\n"
     ]
    },
    {
     "name": "stderr",
     "output_type": "stream",
     "text": [
      "\r",
      " 62%|███████████████████████████████████████████████████████████████████████▍                                            | 4051/6576 [49:55<31:33,  1.33it/s]"
     ]
    },
    {
     "name": "stdout",
     "output_type": "stream",
     "text": [
      "------------------------------------------------------------------------------ 4057\n",
      "sendai_180625_uryu_kuros.wma\n",
      "/home/wataru/code/b-com/b-com/crawling/センダイムシクイ/警戒\n",
      "https://www.bird-research.jp/1_shiryo/koe/sendai_180625_uryu_kuros.wma\n"
     ]
    },
    {
     "name": "stderr",
     "output_type": "stream",
     "text": [
      "\r",
      " 62%|███████████████████████████████████████████████████████████████████████▌                                            | 4058/6576 [50:00<31:20,  1.34it/s]"
     ]
    },
    {
     "name": "stdout",
     "output_type": "stream",
     "text": [
      "------------------------------------------------------------------------------ 4064\n",
      "sendai_20210524_sapporo_kuroda.wma\n",
      "/home/wataru/code/b-com/b-com/crawling/センダイムシクイ/警戒\n",
      "https://www.bird-research.jp/1_shiryo/koe/sendai_20210524_sapporo_kuroda.wma\n"
     ]
    },
    {
     "name": "stderr",
     "output_type": "stream",
     "text": [
      "\r",
      " 62%|███████████████████████████████████████████████████████████████████████▋                                            | 4065/6576 [50:05<31:21,  1.33it/s]"
     ]
    },
    {
     "name": "stdout",
     "output_type": "stream",
     "text": [
      "------------------------------------------------------------------------------ 4071\n",
      "sendaimushikui_0905_hyogo_kaji.wma\n",
      "/home/wataru/code/b-com/b-com/crawling/センダイムシクイ/高い声\n",
      "https://www.bird-research.jp/1_shiryo/koe/sendaimushikui_0905_hyogo_kaji.wma\n"
     ]
    },
    {
     "name": "stderr",
     "output_type": "stream",
     "text": [
      "\r",
      " 62%|███████████████████████████████████████████████████████████████████████▊                                            | 4072/6576 [50:10<31:19,  1.33it/s]"
     ]
    },
    {
     "name": "stdout",
     "output_type": "stream",
     "text": [
      "------------------------------------------------------------------------------ 4078\n",
      "sendai_040503_kokubunji_mju.wma\n",
      "/home/wataru/code/b-com/b-com/crawling/センダイムシクイ/さえずり\n",
      "https://www.bird-research.jp/1_shiryo/koe/sendai_040503_kokubunji_mju.wma\n"
     ]
    },
    {
     "name": "stderr",
     "output_type": "stream",
     "text": [
      "\r",
      " 62%|███████████████████████████████████████████████████████████████████████▉                                            | 4079/6576 [50:16<31:15,  1.33it/s]"
     ]
    },
    {
     "name": "stdout",
     "output_type": "stream",
     "text": [
      "------------------------------------------------------------------------------ 4085\n",
      "iijima_160515_miyake_kuroda.wma\n",
      "/home/wataru/code/b-com/b-com/crawling/イイジマムシクイ/さえずり\n",
      "https://www.bird-research.jp/1_shiryo/koe/iijima_160515_miyake_kuroda.wma\n"
     ]
    },
    {
     "name": "stderr",
     "output_type": "stream",
     "text": [
      "\r",
      " 62%|████████████████████████████████████████████████████████████████████████                                            | 4086/6576 [50:21<31:15,  1.33it/s]"
     ]
    },
    {
     "name": "stdout",
     "output_type": "stream",
     "text": [
      "------------------------------------------------------------------------------ 4092\n",
      "iijima_160516_miyake_kuroda.wma\n",
      "/home/wataru/code/b-com/b-com/crawling/イイジマムシクイ/さえずり\n",
      "https://www.bird-research.jp/1_shiryo/koe/iijima_160516_miyake_kuroda.wma\n"
     ]
    },
    {
     "name": "stderr",
     "output_type": "stream",
     "text": [
      "\r",
      " 62%|████████████████████████████████████████████████████████████████████████▏                                           | 4093/6576 [50:26<31:13,  1.33it/s]"
     ]
    },
    {
     "name": "stdout",
     "output_type": "stream",
     "text": [
      "------------------------------------------------------------------------------ 4099\n",
      "iijimac_160515_miyake_kuroda.wma\n",
      "/home/wataru/code/b-com/b-com/crawling/イイジマムシクイ/地鳴き\n",
      "https://www.bird-research.jp/1_shiryo/koe/iijimac_160515_miyake_kuroda.wma\n"
     ]
    },
    {
     "name": "stderr",
     "output_type": "stream",
     "text": [
      "\r",
      " 62%|████████████████████████████████████████████████████████████████████████▎                                           | 4100/6576 [50:31<30:59,  1.33it/s]"
     ]
    },
    {
     "name": "stdout",
     "output_type": "stream",
     "text": [
      "------------------------------------------------------------------------------ 4106\n",
      "amurumusikui_160502_hyogo_kaji.wma\n",
      "/home/wataru/code/b-com/b-com/crawling/アムールムシクイ/さえずり\n",
      "https://www.bird-research.jp/1_shiryo/koe/amurumusikui_160502_hyogo_kaji.wma\n"
     ]
    },
    {
     "name": "stderr",
     "output_type": "stream",
     "text": [
      "\r",
      " 62%|████████████████████████████████████████████████████████████████████████▍                                           | 4107/6576 [50:37<30:58,  1.33it/s]"
     ]
    },
    {
     "name": "stdout",
     "output_type": "stream",
     "text": [
      "------------------------------------------------------------------------------ 4114\n",
      "meguro_110416_hahajima_mju.wma\n",
      "/home/wataru/code/b-com/b-com/crawling/メグロ/地鳴き\n",
      "https://www.bird-research.jp/1_shiryo/koe/meguro_110416_hahajima_mju.wma\n"
     ]
    },
    {
     "name": "stderr",
     "output_type": "stream",
     "text": [
      "\r",
      " 63%|████████████████████████████████████████████████████████████████████████▌                                           | 4115/6576 [50:42<29:28,  1.39it/s]"
     ]
    },
    {
     "name": "stdout",
     "output_type": "stream",
     "text": [
      "------------------------------------------------------------------------------ 4121\n",
      "meguro_110417_hahajima_mju.wma\n",
      "/home/wataru/code/b-com/b-com/crawling/メグロ/地鳴き\n",
      "https://www.bird-research.jp/1_shiryo/koe/meguro_110417_hahajima_mju.wma\n"
     ]
    },
    {
     "name": "stderr",
     "output_type": "stream",
     "text": [
      "\r",
      " 63%|████████████████████████████████████████████████████████████████████████▋                                           | 4122/6576 [50:47<29:38,  1.38it/s]"
     ]
    },
    {
     "name": "stdout",
     "output_type": "stream",
     "text": [
      "------------------------------------------------------------------------------ 4128\n",
      "mejiro_040504_kokubunji_mju.wma\n",
      "/home/wataru/code/b-com/b-com/crawling/メジロ/さえずり\n",
      "https://www.bird-research.jp/1_shiryo/koe/mejiro_040504_kokubunji_mju.wma\n"
     ]
    },
    {
     "name": "stderr",
     "output_type": "stream",
     "text": [
      "\r",
      " 63%|████████████████████████████████████████████████████████████████████████▊                                           | 4129/6576 [50:52<29:56,  1.36it/s]"
     ]
    },
    {
     "name": "stdout",
     "output_type": "stream",
     "text": [
      "------------------------------------------------------------------------------ 4136\n",
      "mejiro_100112_utsunomiya_hirano.wma\n",
      "/home/wataru/code/b-com/b-com/crawling/メジロ/地鳴き1\n",
      "https://www.bird-research.jp/1_shiryo/koe/mejiro_100112_utsunomiya_hirano.wma\n"
     ]
    },
    {
     "name": "stderr",
     "output_type": "stream",
     "text": [
      "\r",
      " 63%|████████████████████████████████████████████████████████████████████████▉                                           | 4137/6576 [50:58<28:48,  1.41it/s]"
     ]
    },
    {
     "name": "stdout",
     "output_type": "stream",
     "text": [
      "------------------------------------------------------------------------------ 4143\n",
      "mejiro_0910_hyogo_kaji.wma\n",
      "/home/wataru/code/b-com/b-com/crawling/メジロ/地鳴き2\n",
      "https://www.bird-research.jp/1_shiryo/koe/mejiro_0910_hyogo_kaji.wma\n"
     ]
    },
    {
     "name": "stderr",
     "output_type": "stream",
     "text": [
      "\r",
      " 63%|█████████████████████████████████████████████████████████████████████████                                           | 4144/6576 [51:03<29:13,  1.39it/s]"
     ]
    },
    {
     "name": "stdout",
     "output_type": "stream",
     "text": [
      "------------------------------------------------------------------------------ 4150\n",
      "mejiro_0703_hyogo_kaji.wma\n",
      "/home/wataru/code/b-com/b-com/crawling/メジロ/ぐぜり\n",
      "https://www.bird-research.jp/1_shiryo/koe/mejiro_0703_hyogo_kaji.wma\n"
     ]
    },
    {
     "name": "stderr",
     "output_type": "stream",
     "text": [
      "\r",
      " 63%|█████████████████████████████████████████████████████████████████████████▏                                          | 4151/6576 [51:08<29:48,  1.36it/s]"
     ]
    },
    {
     "name": "stdout",
     "output_type": "stream",
     "text": [
      "------------------------------------------------------------------------------ 4157\n",
      "mejiro_150507_fukuoka_kuroda.wma\n",
      "/home/wataru/code/b-com/b-com/crawling/メジロ/威嚇\n",
      "https://www.bird-research.jp/1_shiryo/koe/mejiro_150507_fukuoka_kuroda.wma\n"
     ]
    },
    {
     "name": "stderr",
     "output_type": "stream",
     "text": [
      "\r",
      " 63%|█████████████████████████████████████████████████████████████████████████▎                                          | 4158/6576 [51:13<29:51,  1.35it/s]"
     ]
    },
    {
     "name": "stdout",
     "output_type": "stream",
     "text": [
      "------------------------------------------------------------------------------ 4164\n",
      "mejiro_150620_utsunomiya_hirano.wma\n",
      "/home/wataru/code/b-com/b-com/crawling/メジロ/鳴きまね？\n",
      "https://www.bird-research.jp/1_shiryo/koe/mejiro_150620_utsunomiya_hirano.wma\n"
     ]
    },
    {
     "name": "stderr",
     "output_type": "stream",
     "text": [
      "\r",
      " 63%|█████████████████████████████████████████████████████████████████████████▍                                          | 4165/6576 [51:19<29:44,  1.35it/s]"
     ]
    },
    {
     "name": "stdout",
     "output_type": "stream",
     "text": [
      "------------------------------------------------------------------------------ 4171\n",
      "mejiro_160516_miyake_kuroda.wma\n",
      "/home/wataru/code/b-com/b-com/crawling/シチトウメジロ/亜種\n",
      "https://www.bird-research.jp/1_shiryo/koe/mejiro_160516_miyake_kuroda.wma\n"
     ]
    },
    {
     "name": "stderr",
     "output_type": "stream",
     "text": [
      "\r",
      " 63%|█████████████████████████████████████████████████████████████████████████▌                                          | 4172/6576 [51:24<29:53,  1.34it/s]"
     ]
    },
    {
     "name": "stdout",
     "output_type": "stream",
     "text": [
      "------------------------------------------------------------------------------ 4178\n",
      "mejiroc_160516_miyake_kuroda.wma\n",
      "/home/wataru/code/b-com/b-com/crawling/シチトウメジロ/亜種\n",
      "https://www.bird-research.jp/1_shiryo/koe/mejiroc_160516_miyake_kuroda.wma\n"
     ]
    },
    {
     "name": "stderr",
     "output_type": "stream",
     "text": [
      "\r",
      " 64%|█████████████████████████████████████████████████████████████████████████▋                                          | 4179/6576 [51:29<29:51,  1.34it/s]"
     ]
    },
    {
     "name": "stdout",
     "output_type": "stream",
     "text": [
      "------------------------------------------------------------------------------ 4185\n",
      "mejiro_110416_hahajima_mju.wma\n",
      "/home/wataru/code/b-com/b-com/crawling/イオウジマメジロ/亜種\n",
      "https://www.bird-research.jp/1_shiryo/koe/mejiro_110416_hahajima_mju.wma\n"
     ]
    },
    {
     "name": "stderr",
     "output_type": "stream",
     "text": [
      "\r",
      " 64%|█████████████████████████████████████████████████████████████████████████▊                                          | 4186/6576 [51:34<29:48,  1.34it/s]"
     ]
    },
    {
     "name": "stdout",
     "output_type": "stream",
     "text": [
      "------------------------------------------------------------------------------ 4193\n",
      "makinosennyuu_040708_hokkaidou_kaji.wma\n",
      "/home/wataru/code/b-com/b-com/crawling/マキノセンニュウ/さえずり\n",
      "https://www.bird-research.jp/1_shiryo/koe/makinosennyuu_040708_hokkaidou_kaji.wma\n"
     ]
    },
    {
     "name": "stderr",
     "output_type": "stream",
     "text": [
      "\r",
      " 64%|█████████████████████████████████████████████████████████████████████████▉                                          | 4194/6576 [51:40<28:24,  1.40it/s]"
     ]
    },
    {
     "name": "stdout",
     "output_type": "stream",
     "text": [
      "------------------------------------------------------------------------------ 4200\n",
      "makino_110702_sarobetsu_namba.wma\n",
      "/home/wataru/code/b-com/b-com/crawling/マキノセンニュウ/さえずり\n",
      "https://www.bird-research.jp/1_shiryo/koe/makino_110702_sarobetsu_namba.wma\n"
     ]
    },
    {
     "name": "stderr",
     "output_type": "stream",
     "text": [
      "\r",
      " 64%|██████████████████████████████████████████████████████████████████████████                                          | 4201/6576 [51:45<28:45,  1.38it/s]"
     ]
    },
    {
     "name": "stdout",
     "output_type": "stream",
     "text": [
      "------------------------------------------------------------------------------ 4207\n",
      "shimasennyuu_050622_rishiricyou_kaji.wma\n",
      "/home/wataru/code/b-com/b-com/crawling/シマセンニュウ/さえずり\n",
      "https://www.bird-research.jp/1_shiryo/koe/shimasennyuu_050622_rishiricyou_kaji.wma\n"
     ]
    },
    {
     "name": "stderr",
     "output_type": "stream",
     "text": [
      "\r",
      " 64%|██████████████████████████████████████████████████████████████████████████▏                                         | 4208/6576 [51:50<28:58,  1.36it/s]"
     ]
    },
    {
     "name": "stdout",
     "output_type": "stream",
     "text": [
      "------------------------------------------------------------------------------ 4214\n",
      "uchiyama_090627_kashima_kuroda.wma\n",
      "/home/wataru/code/b-com/b-com/crawling/ウチヤマセンニュウ/さえずり\n",
      "https://www.bird-research.jp/1_shiryo/koe/uchiyama_090627_kashima_kuroda.wma\n"
     ]
    },
    {
     "name": "stderr",
     "output_type": "stream",
     "text": [
      "\r",
      " 64%|██████████████████████████████████████████████████████████████████████████▎                                         | 4215/6576 [51:55<29:05,  1.35it/s]"
     ]
    },
    {
     "name": "stdout",
     "output_type": "stream",
     "text": [
      "------------------------------------------------------------------------------ 4221\n",
      "uchiyama_c1_090627_kashima_kuroda.wma\n",
      "/home/wataru/code/b-com/b-com/crawling/ウチヤマセンニュウ/地鳴き1\n",
      "https://www.bird-research.jp/1_shiryo/koe/uchiyama_c1_090627_kashima_kuroda.wma\n"
     ]
    },
    {
     "name": "stderr",
     "output_type": "stream",
     "text": [
      "\r",
      " 64%|██████████████████████████████████████████████████████████████████████████▍                                         | 4222/6576 [52:01<29:04,  1.35it/s]"
     ]
    },
    {
     "name": "stdout",
     "output_type": "stream",
     "text": [
      "------------------------------------------------------------------------------ 4228\n",
      "uchiyama_c2_090627_kashima_kuroda.wma\n",
      "/home/wataru/code/b-com/b-com/crawling/ウチヤマセンニュウ/地鳴き2\n",
      "https://www.bird-research.jp/1_shiryo/koe/uchiyama_c2_090627_kashima_kuroda.wma\n"
     ]
    },
    {
     "name": "stderr",
     "output_type": "stream",
     "text": [
      "\r",
      " 64%|██████████████████████████████████████████████████████████████████████████▌                                         | 4229/6576 [52:06<29:07,  1.34it/s]"
     ]
    },
    {
     "name": "stdout",
     "output_type": "stream",
     "text": [
      "------------------------------------------------------------------------------ 4235\n",
      "uchiyama_090612_koshima_kuroda.wma\n",
      "/home/wataru/code/b-com/b-com/crawling/ウチヤマセンニュウ/巣立ちビナ\n",
      "https://www.bird-research.jp/1_shiryo/koe/uchiyama_090612_koshima_kuroda.wma\n"
     ]
    },
    {
     "name": "stderr",
     "output_type": "stream",
     "text": [
      "\r",
      " 64%|██████████████████████████████████████████████████████████████████████████▋                                         | 4236/6576 [52:11<28:58,  1.35it/s]"
     ]
    },
    {
     "name": "stdout",
     "output_type": "stream",
     "text": [
      "------------------------------------------------------------------------------ 4242\n",
      "uchiyama_150703_fukuoka_kuroda.wma\n",
      "/home/wataru/code/b-com/b-com/crawling/ウチヤマセンニュウ/巣立ちビナ\n",
      "https://www.bird-research.jp/1_shiryo/koe/uchiyama_150703_fukuoka_kuroda.wma\n"
     ]
    },
    {
     "name": "stderr",
     "output_type": "stream",
     "text": [
      "\r",
      " 65%|██████████████████████████████████████████████████████████████████████████▊                                         | 4243/6576 [52:16<28:57,  1.34it/s]"
     ]
    },
    {
     "name": "stdout",
     "output_type": "stream",
     "text": [
      "------------------------------------------------------------------------------ 4249\n",
      "oosekka_070424_watarase_hirano.wma\n",
      "/home/wataru/code/b-com/b-com/crawling/オオセッカ/さえずり\n",
      "https://www.bird-research.jp/1_shiryo/koe/oosekka_070424_watarase_hirano.wma\n"
     ]
    },
    {
     "name": "stderr",
     "output_type": "stream",
     "text": [
      "\r",
      " 65%|██████████████████████████████████████████████████████████████████████████▉                                         | 4250/6576 [52:22<28:54,  1.34it/s]"
     ]
    },
    {
     "name": "stdout",
     "output_type": "stream",
     "text": [
      "------------------------------------------------------------------------------ 4256\n",
      "oosekka_081216_watarase_hirano.wma\n",
      "/home/wataru/code/b-com/b-com/crawling/オオセッカ/地鳴き\n",
      "https://www.bird-research.jp/1_shiryo/koe/oosekka_081216_watarase_hirano.wma\n"
     ]
    },
    {
     "name": "stderr",
     "output_type": "stream",
     "text": [
      "\r",
      " 65%|███████████████████████████████████████████████████████████████████████████                                         | 4257/6576 [52:27<28:51,  1.34it/s]"
     ]
    },
    {
     "name": "stdout",
     "output_type": "stream",
     "text": [
      "------------------------------------------------------------------------------ 4263\n",
      "osekka_091215_watarase_hirano.wma\n",
      "/home/wataru/code/b-com/b-com/crawling/オオセッカ/威嚇\n",
      "https://www.bird-research.jp/1_shiryo/koe/osekka_091215_watarase_hirano.wma\n"
     ]
    },
    {
     "name": "stderr",
     "output_type": "stream",
     "text": [
      "\r",
      " 65%|███████████████████████████████████████████████████████████████████████████▏                                        | 4264/6576 [52:32<28:50,  1.34it/s]"
     ]
    },
    {
     "name": "stdout",
     "output_type": "stream",
     "text": [
      "------------------------------------------------------------------------------ 4270\n",
      "osekka_120703_watarase_hirano.wma\n",
      "/home/wataru/code/b-com/b-com/crawling/オオセッカ/警戒\n",
      "https://www.bird-research.jp/1_shiryo/koe/osekka_120703_watarase_hirano.wma\n"
     ]
    },
    {
     "name": "stderr",
     "output_type": "stream",
     "text": [
      "\r",
      " 65%|███████████████████████████████████████████████████████████████████████████▎                                        | 4271/6576 [52:37<28:39,  1.34it/s]"
     ]
    },
    {
     "name": "stdout",
     "output_type": "stream",
     "text": [
      "------------------------------------------------------------------------------ 4277\n",
      "ezosen_090819_nemuro_mju.wma\n",
      "/home/wataru/code/b-com/b-com/crawling/エゾセンニュウ/さえずり\n",
      "https://www.bird-research.jp/1_shiryo/koe/ezosen_090819_nemuro_mju.wma\n"
     ]
    },
    {
     "name": "stderr",
     "output_type": "stream",
     "text": [
      "\r",
      " 65%|███████████████████████████████████████████████████████████████████████████▍                                        | 4278/6576 [52:43<28:38,  1.34it/s]"
     ]
    },
    {
     "name": "stdout",
     "output_type": "stream",
     "text": [
      "------------------------------------------------------------------------------ 4284\n",
      "ezosen_130603_muroran_kuros.wma\n",
      "/home/wataru/code/b-com/b-com/crawling/エゾセンニュウ/さえずり\n",
      "https://www.bird-research.jp/1_shiryo/koe/ezosen_130603_muroran_kuros.wma\n"
     ]
    },
    {
     "name": "stderr",
     "output_type": "stream",
     "text": [
      "\r",
      " 65%|███████████████████████████████████████████████████████████████████████████▌                                        | 4285/6576 [52:48<28:34,  1.34it/s]"
     ]
    },
    {
     "name": "stdout",
     "output_type": "stream",
     "text": [
      "------------------------------------------------------------------------------ 4292\n",
      "ooyoshikiri_060704_watarase_hirano.wma\n",
      "/home/wataru/code/b-com/b-com/crawling/オオヨシキリ/さえずり\n",
      "https://www.bird-research.jp/1_shiryo/koe/ooyoshikiri_060704_watarase_hirano.wma\n"
     ]
    },
    {
     "name": "stderr",
     "output_type": "stream",
     "text": [
      "\r",
      " 65%|███████████████████████████████████████████████████████████████████████████▋                                        | 4293/6576 [52:53<27:20,  1.39it/s]"
     ]
    },
    {
     "name": "stdout",
     "output_type": "stream",
     "text": [
      "------------------------------------------------------------------------------ 4300\n",
      "ohyoshikiri_100617_watarase.wma\n",
      "/home/wataru/code/b-com/b-com/crawling/オオヨシキリ/地鳴き\n",
      "https://www.bird-research.jp/1_shiryo/koe/ohyoshikiri_100617_watarase.wma\n"
     ]
    },
    {
     "name": "stderr",
     "output_type": "stream",
     "text": [
      "\r",
      " 65%|███████████████████████████████████████████████████████████████████████████▊                                        | 4301/6576 [52:58<26:29,  1.43it/s]"
     ]
    },
    {
     "name": "stdout",
     "output_type": "stream",
     "text": [
      "------------------------------------------------------------------------------ 4307\n",
      "oyoshikiri_140727_chikuma_kasahara.wma\n",
      "/home/wataru/code/b-com/b-com/crawling/オオヨシキリ/警戒\n",
      "https://www.bird-research.jp/1_shiryo/koe/oyoshikiri_140727_chikuma_kasahara.wma\n"
     ]
    },
    {
     "name": "stderr",
     "output_type": "stream",
     "text": [
      "\r",
      " 66%|███████████████████████████████████████████████████████████████████████████▉                                        | 4308/6576 [53:04<26:51,  1.41it/s]"
     ]
    },
    {
     "name": "stdout",
     "output_type": "stream",
     "text": [
      "------------------------------------------------------------------------------ 4314\n",
      "koyoshikiri_060704_watarase_hirano.wma\n",
      "/home/wataru/code/b-com/b-com/crawling/コヨシキリ/さえずり\n",
      "https://www.bird-research.jp/1_shiryo/koe/koyoshikiri_060704_watarase_hirano.wma\n"
     ]
    },
    {
     "name": "stderr",
     "output_type": "stream",
     "text": [
      "\r",
      " 66%|████████████████████████████████████████████████████████████████████████████                                        | 4315/6576 [53:09<27:06,  1.39it/s]"
     ]
    },
    {
     "name": "stdout",
     "output_type": "stream",
     "text": [
      "------------------------------------------------------------------------------ 4321\n",
      "koyoshikiri_090722_watarase_hirano.wma\n",
      "/home/wataru/code/b-com/b-com/crawling/コヨシキリ/地鳴き\n",
      "https://www.bird-research.jp/1_shiryo/koe/koyoshikiri_090722_watarase_hirano.wma\n"
     ]
    },
    {
     "name": "stderr",
     "output_type": "stream",
     "text": [
      "\r",
      " 66%|████████████████████████████████████████████████████████████████████████████▏                                       | 4322/6576 [53:15<28:42,  1.31it/s]"
     ]
    },
    {
     "name": "stdout",
     "output_type": "stream",
     "text": [
      "------------------------------------------------------------------------------ 4329\n",
      "sekka_090805_watarase_hirano.wma\n",
      "/home/wataru/code/b-com/b-com/crawling/セッカ/さえずり\n",
      "https://www.bird-research.jp/1_shiryo/koe/sekka_090805_watarase_hirano.wma\n"
     ]
    },
    {
     "name": "stderr",
     "output_type": "stream",
     "text": [
      "\r",
      " 66%|████████████████████████████████████████████████████████████████████████████▍                                       | 4330/6576 [53:20<27:17,  1.37it/s]"
     ]
    },
    {
     "name": "stdout",
     "output_type": "stream",
     "text": [
      "------------------------------------------------------------------------------ 4336\n",
      "sekka_20101125_watarase_hirano.wma\n",
      "/home/wataru/code/b-com/b-com/crawling/セッカ/地鳴き\n",
      "https://www.bird-research.jp/1_shiryo/koe/sekka_20101125_watarase_hirano.wma\n"
     ]
    },
    {
     "name": "stderr",
     "output_type": "stream",
     "text": [
      "\r",
      " 66%|████████████████████████████████████████████████████████████████████████████▌                                       | 4337/6576 [53:25<27:25,  1.36it/s]"
     ]
    },
    {
     "name": "stdout",
     "output_type": "stream",
     "text": [
      "------------------------------------------------------------------------------ 4343\n",
      "sekka_111017_hyogo_kuroda.wma\n",
      "/home/wataru/code/b-com/b-com/crawling/セッカ/地鳴き\n",
      "https://www.bird-research.jp/1_shiryo/koe/sekka_111017_hyogo_kuroda.wma\n"
     ]
    },
    {
     "name": "stderr",
     "output_type": "stream",
     "text": [
      "\r",
      " 66%|████████████████████████████████████████████████████████████████████████████▋                                       | 4344/6576 [53:31<27:31,  1.35it/s]"
     ]
    },
    {
     "name": "stdout",
     "output_type": "stream",
     "text": [
      "------------------------------------------------------------------------------ 4351\n",
      "kirenjaku_150302_setana_mju.wma\n",
      "/home/wataru/code/b-com/b-com/crawling/キレンジャク/地鳴き\n",
      "https://www.bird-research.jp/1_shiryo/koe/kirenjaku_150302_setana_mju.wma\n"
     ]
    },
    {
     "name": "stderr",
     "output_type": "stream",
     "text": [
      "\r",
      " 66%|████████████████████████████████████████████████████████████████████████████▊                                       | 4352/6576 [53:36<26:24,  1.40it/s]"
     ]
    },
    {
     "name": "stdout",
     "output_type": "stream",
     "text": [
      "------------------------------------------------------------------------------ 4358\n",
      "hirenjaku_131211_tottori_kuroda.wma\n",
      "/home/wataru/code/b-com/b-com/crawling/ヒレンジャク/地鳴き\n",
      "https://www.bird-research.jp/1_shiryo/koe/hirenjaku_131211_tottori_kuroda.wma\n"
     ]
    },
    {
     "name": "stderr",
     "output_type": "stream",
     "text": [
      "\r",
      " 66%|████████████████████████████████████████████████████████████████████████████▉                                       | 4359/6576 [53:41<26:44,  1.38it/s]"
     ]
    },
    {
     "name": "stdout",
     "output_type": "stream",
     "text": [
      "------------------------------------------------------------------------------ 4365\n",
      "hirenjaku_101207_nasu_hirano.wma\n",
      "/home/wataru/code/b-com/b-com/crawling/ヒレンジャク/地鳴き\n",
      "https://www.bird-research.jp/1_shiryo/koe/hirenjaku_101207_nasu_hirano.wma\n"
     ]
    },
    {
     "name": "stderr",
     "output_type": "stream",
     "text": [
      "\r",
      " 66%|█████████████████████████████████████████████████████████████████████████████                                       | 4366/6576 [53:46<26:57,  1.37it/s]"
     ]
    },
    {
     "name": "stdout",
     "output_type": "stream",
     "text": [
      "------------------------------------------------------------------------------ 4373\n",
      "gojyukara_140425_nasushiobara_hirano.wma\n",
      "/home/wataru/code/b-com/b-com/crawling/ゴジュウカラ/さえずり\n",
      "https://www.bird-research.jp/1_shiryo/koe/gojyukara_140425_nasushiobara_hirano.wma\n"
     ]
    },
    {
     "name": "stderr",
     "output_type": "stream",
     "text": [
      "\r",
      " 67%|█████████████████████████████████████████████████████████████████████████████▏                                      | 4374/6576 [53:52<26:03,  1.41it/s]"
     ]
    },
    {
     "name": "stdout",
     "output_type": "stream",
     "text": [
      "------------------------------------------------------------------------------ 4380\n",
      "gojukara_090509_shioya_hirano.wma\n",
      "/home/wataru/code/b-com/b-com/crawling/ゴジュウカラ/さえずり\n",
      "https://www.bird-research.jp/1_shiryo/koe/gojukara_090509_shioya_hirano.wma\n"
     ]
    },
    {
     "name": "stderr",
     "output_type": "stream",
     "text": [
      "\r",
      " 67%|█████████████████████████████████████████████████████████████████████████████▎                                      | 4381/6576 [53:57<26:24,  1.39it/s]"
     ]
    },
    {
     "name": "stdout",
     "output_type": "stream",
     "text": [
      "------------------------------------------------------------------------------ 4387\n",
      "gojukara_200126_chihcibu_cf.wma\n",
      "/home/wataru/code/b-com/b-com/crawling/ゴジュウカラ/地鳴き\n",
      "https://www.bird-research.jp/1_shiryo/koe/gojukara_200126_chihcibu_cf.wma\n"
     ]
    },
    {
     "name": "stderr",
     "output_type": "stream",
     "text": [
      "\r",
      " 67%|█████████████████████████████████████████████████████████████████████████████▍                                      | 4388/6576 [54:02<26:40,  1.37it/s]"
     ]
    },
    {
     "name": "stdout",
     "output_type": "stream",
     "text": [
      "------------------------------------------------------------------------------ 4394\n",
      "gojukara_070928_nasushio_hirano.wma\n",
      "/home/wataru/code/b-com/b-com/crawling/ゴジュウカラ/地鳴き\n",
      "https://www.bird-research.jp/1_shiryo/koe/gojukara_070928_nasushio_hirano.wma\n"
     ]
    },
    {
     "name": "stderr",
     "output_type": "stream",
     "text": [
      "\r",
      " 67%|█████████████████████████████████████████████████████████████████████████████▌                                      | 4395/6576 [54:07<26:47,  1.36it/s]"
     ]
    },
    {
     "name": "stdout",
     "output_type": "stream",
     "text": [
      "------------------------------------------------------------------------------ 4401\n",
      "gojyuukara_111206_nasu_hirano.wma\n",
      "/home/wataru/code/b-com/b-com/crawling/ゴジュウカラ/地鳴き\n",
      "https://www.bird-research.jp/1_shiryo/koe/gojyuukara_111206_nasu_hirano.wma\n"
     ]
    },
    {
     "name": "stderr",
     "output_type": "stream",
     "text": [
      "\r",
      " 67%|█████████████████████████████████████████████████████████████████████████████▋                                      | 4402/6576 [54:13<26:49,  1.35it/s]"
     ]
    },
    {
     "name": "stdout",
     "output_type": "stream",
     "text": [
      "------------------------------------------------------------------------------ 4408\n",
      "gojukarahina_140514_kyoto_kaji.wma\n",
      "/home/wataru/code/b-com/b-com/crawling/ゴジュウカラ/巣立ちビナ\n",
      "https://www.bird-research.jp/1_shiryo/koe/gojukarahina_140514_kyoto_kaji.wma\n"
     ]
    },
    {
     "name": "stderr",
     "output_type": "stream",
     "text": [
      "\r",
      " 67%|█████████████████████████████████████████████████████████████████████████████▊                                      | 4409/6576 [54:18<26:51,  1.34it/s]"
     ]
    },
    {
     "name": "stdout",
     "output_type": "stream",
     "text": [
      "------------------------------------------------------------------------------ 4415\n",
      "gojukara_110402_maruyama_namba.wma\n",
      "/home/wataru/code/b-com/b-com/crawling/ｼﾛﾊﾗｺﾞｼﾞｭｳｶﾗ/亜種\n",
      "https://www.bird-research.jp/1_shiryo/koe/gojukara_110402_maruyama_namba.wma\n"
     ]
    },
    {
     "name": "stderr",
     "output_type": "stream",
     "text": [
      "\r",
      " 67%|█████████████████████████████████████████████████████████████████████████████▉                                      | 4416/6576 [54:23<26:51,  1.34it/s]"
     ]
    },
    {
     "name": "stdout",
     "output_type": "stream",
     "text": [
      "------------------------------------------------------------------------------ 4423\n",
      "kibashiri_060605_yaitahirano.wma\n",
      "/home/wataru/code/b-com/b-com/crawling/キバシリ/さえずり\n",
      "https://www.bird-research.jp/1_shiryo/koe/kibashiri_060605_yaitahirano.wma\n"
     ]
    },
    {
     "name": "stderr",
     "output_type": "stream",
     "text": [
      "\r",
      " 67%|██████████████████████████████████████████████████████████████████████████████                                      | 4424/6576 [54:28<25:40,  1.40it/s]"
     ]
    },
    {
     "name": "stdout",
     "output_type": "stream",
     "text": [
      "------------------------------------------------------------------------------ 4430\n",
      "kibashiri_110223_chichibu_mju.wma\n",
      "/home/wataru/code/b-com/b-com/crawling/キバシリ/さえずり\n",
      "https://www.bird-research.jp/1_shiryo/koe/kibashiri_110223_chichibu_mju.wma\n"
     ]
    },
    {
     "name": "stderr",
     "output_type": "stream",
     "text": [
      "\r",
      " 67%|██████████████████████████████████████████████████████████████████████████████▏                                     | 4431/6576 [54:34<25:57,  1.38it/s]"
     ]
    },
    {
     "name": "stdout",
     "output_type": "stream",
     "text": [
      "------------------------------------------------------------------------------ 4437\n",
      "kikuitadaki_190408_furano_cf.wma\n",
      "/home/wataru/code/b-com/b-com/crawling/キバシリ/地鳴き\n",
      "https://www.bird-research.jp/1_shiryo/koe/kikuitadaki_190408_furano_cf.wma\n"
     ]
    },
    {
     "name": "stderr",
     "output_type": "stream",
     "text": [
      "\r",
      " 67%|██████████████████████████████████████████████████████████████████████████████▎                                     | 4438/6576 [54:39<26:06,  1.37it/s]"
     ]
    },
    {
     "name": "stdout",
     "output_type": "stream",
     "text": [
      "------------------------------------------------------------------------------ 4444\n",
      "kibashiri_100529_nasushiobara.wma\n",
      "/home/wataru/code/b-com/b-com/crawling/キバシリ/地鳴き\n",
      "https://www.bird-research.jp/1_shiryo/koe/kibashiri_100529_nasushiobara.wma\n"
     ]
    },
    {
     "name": "stderr",
     "output_type": "stream",
     "text": [
      "\r",
      " 68%|██████████████████████████████████████████████████████████████████████████████▍                                     | 4445/6576 [54:44<26:10,  1.36it/s]"
     ]
    },
    {
     "name": "stdout",
     "output_type": "stream",
     "text": [
      "------------------------------------------------------------------------------ 4451\n",
      "kibashiri_111021_asahikawa_mju.wma\n",
      "/home/wataru/code/b-com/b-com/crawling/キバシリ/地鳴き\n",
      "https://www.bird-research.jp/1_shiryo/koe/kibashiri_111021_asahikawa_mju.wma\n"
     ]
    },
    {
     "name": "stderr",
     "output_type": "stream",
     "text": [
      "\r",
      " 68%|██████████████████████████████████████████████████████████████████████████████▌                                     | 4452/6576 [54:49<26:11,  1.35it/s]"
     ]
    },
    {
     "name": "stdout",
     "output_type": "stream",
     "text": [
      "------------------------------------------------------------------------------ 4458\n",
      "kibasiri_210825_chichibu_ishida.wma\n",
      "/home/wataru/code/b-com/b-com/crawling/キバシリ/地鳴き\n",
      "https://www.bird-research.jp/1_shiryo/koe/kibasiri_210825_chichibu_ishida.wma\n"
     ]
    },
    {
     "name": "stderr",
     "output_type": "stream",
     "text": [
      "\r",
      " 68%|██████████████████████████████████████████████████████████████████████████████▋                                     | 4459/6576 [54:55<26:08,  1.35it/s]"
     ]
    },
    {
     "name": "stdout",
     "output_type": "stream",
     "text": [
      "------------------------------------------------------------------------------ 4465\n",
      "kibasiri_210825_chichibu_ishida2.wma\n",
      "/home/wataru/code/b-com/b-com/crawling/キバシリ/地鳴き\n",
      "https://www.bird-research.jp/1_shiryo/koe/kibasiri_210825_chichibu_ishida2.wma\n"
     ]
    },
    {
     "name": "stderr",
     "output_type": "stream",
     "text": [
      "\r",
      " 68%|██████████████████████████████████████████████████████████████████████████████▊                                     | 4466/6576 [55:00<26:08,  1.35it/s]"
     ]
    },
    {
     "name": "stdout",
     "output_type": "stream",
     "text": [
      "------------------------------------------------------------------------------ 4473\n",
      "sadoforest.wma\n",
      "/home/wataru/code/b-com/b-com/crawling/ミソサザイ/さえずり\n",
      "https://www.bird-research.jp/1_shiryo/koe/sadoforest.wma\n"
     ]
    },
    {
     "name": "stderr",
     "output_type": "stream",
     "text": [
      "\r",
      " 68%|██████████████████████████████████████████████████████████████████████████████▉                                     | 4474/6576 [55:05<25:02,  1.40it/s]"
     ]
    },
    {
     "name": "stdout",
     "output_type": "stream",
     "text": [
      "------------------------------------------------------------------------------ 4480\n",
      "misosazai_180115chichibu_mju.wma\n",
      "/home/wataru/code/b-com/b-com/crawling/ミソサザイ/地鳴き\n",
      "https://www.bird-research.jp/1_shiryo/koe/misosazai_180115chichibu_mju.wma\n"
     ]
    },
    {
     "name": "stderr",
     "output_type": "stream",
     "text": [
      "\r",
      " 68%|███████████████████████████████████████████████████████████████████████████████                                     | 4481/6576 [55:10<25:20,  1.38it/s]"
     ]
    },
    {
     "name": "stdout",
     "output_type": "stream",
     "text": [
      "------------------------------------------------------------------------------ 4487\n",
      "misosazai-c_091204_sano_hirano.wma\n",
      "/home/wataru/code/b-com/b-com/crawling/ミソサザイ/地鳴き\n",
      "https://www.bird-research.jp/1_shiryo/koe/misosazai-c_091204_sano_hirano.wma\n"
     ]
    },
    {
     "name": "stderr",
     "output_type": "stream",
     "text": [
      "\r",
      " 68%|███████████████████████████████████████████████████████████████████████████████▏                                    | 4488/6576 [55:16<25:22,  1.37it/s]"
     ]
    },
    {
     "name": "stdout",
     "output_type": "stream",
     "text": [
      "------------------------------------------------------------------------------ 4494\n",
      "misosazai_060619_hokkaidou_kaji.wma\n",
      "/home/wataru/code/b-com/b-com/crawling/ミソサザイ/警戒\n",
      "https://www.bird-research.jp/1_shiryo/koe/misosazai_060619_hokkaidou_kaji.wma\n"
     ]
    },
    {
     "name": "stderr",
     "output_type": "stream",
     "text": [
      "\r",
      " 68%|███████████████████████████████████████████████████████████████████████████████▎                                    | 4495/6576 [55:21<25:29,  1.36it/s]"
     ]
    },
    {
     "name": "stdout",
     "output_type": "stream",
     "text": [
      "------------------------------------------------------------------------------ 4501\n",
      "mosuke_160516_miyake_kuroda.wma\n",
      "/home/wataru/code/b-com/b-com/crawling/モスケミソサザイ/亜種\n",
      "https://www.bird-research.jp/1_shiryo/koe/mosuke_160516_miyake_kuroda.wma\n"
     ]
    },
    {
     "name": "stderr",
     "output_type": "stream",
     "text": [
      "\r",
      " 68%|███████████████████████████████████████████████████████████████████████████████▍                                    | 4502/6576 [55:26<25:36,  1.35it/s]"
     ]
    },
    {
     "name": "stdout",
     "output_type": "stream",
     "text": [
      "------------------------------------------------------------------------------ 4508\n",
      "mosukemiso_160701_miyake_kuroda.wma\n",
      "/home/wataru/code/b-com/b-com/crawling/モスケミソサザイ/亜種\n",
      "https://www.bird-research.jp/1_shiryo/koe/mosukemiso_160701_miyake_kuroda.wma\n"
     ]
    },
    {
     "name": "stderr",
     "output_type": "stream",
     "text": [
      "\r",
      " 69%|███████████████████████████████████████████████████████████████████████████████▌                                    | 4509/6576 [55:31<25:38,  1.34it/s]"
     ]
    },
    {
     "name": "stdout",
     "output_type": "stream",
     "text": [
      "------------------------------------------------------------------------------ 4516\n",
      "ginmuku_150326_cheju_mju.wma\n",
      "/home/wataru/code/b-com/b-com/crawling/ギンムクドリ/\n",
      "https://www.bird-research.jp/1_shiryo/koe/ginmuku_150326_cheju_mju.wma\n"
     ]
    },
    {
     "name": "stderr",
     "output_type": "stream",
     "text": [
      "\r",
      " 69%|███████████████████████████████████████████████████████████████████████████████▋                                    | 4517/6576 [55:37<24:32,  1.40it/s]"
     ]
    },
    {
     "name": "stdout",
     "output_type": "stream",
     "text": [
      "------------------------------------------------------------------------------ 4523\n",
      "mukudori_040529_fuchu_mju.wma\n",
      "/home/wataru/code/b-com/b-com/crawling/ムクドリ/\n",
      "https://www.bird-research.jp/1_shiryo/koe/mukudori_040529_fuchu_mju.wma\n"
     ]
    },
    {
     "name": "stderr",
     "output_type": "stream",
     "text": [
      "\r",
      " 69%|███████████████████████████████████████████████████████████████████████████████▊                                    | 4524/6576 [55:42<24:51,  1.38it/s]"
     ]
    },
    {
     "name": "stdout",
     "output_type": "stream",
     "text": [
      "------------------------------------------------------------------------------ 4530\n",
      "mukudori_150528_kokubunji_mju.wma\n",
      "/home/wataru/code/b-com/b-com/crawling/ムクドリ/巣内ビナ\n",
      "https://www.bird-research.jp/1_shiryo/koe/mukudori_150528_kokubunji_mju.wma\n"
     ]
    },
    {
     "name": "stderr",
     "output_type": "stream",
     "text": [
      "\r",
      " 69%|███████████████████████████████████████████████████████████████████████████████▉                                    | 4531/6576 [55:47<24:59,  1.36it/s]"
     ]
    },
    {
     "name": "stdout",
     "output_type": "stream",
     "text": [
      "------------------------------------------------------------------------------ 4537\n",
      "mukudori_210526_sankaku_oshiro.wma\n",
      "/home/wataru/code/b-com/b-com/crawling/ムクドリ/家族\n",
      "https://www.bird-research.jp/1_shiryo/koe/mukudori_210526_sankaku_oshiro.wma\n"
     ]
    },
    {
     "name": "stderr",
     "output_type": "stream",
     "text": [
      "\r",
      " 69%|████████████████████████████████████████████████████████████████████████████████                                    | 4538/6576 [55:52<25:06,  1.35it/s]"
     ]
    },
    {
     "name": "stdout",
     "output_type": "stream",
     "text": [
      "------------------------------------------------------------------------------ 4544\n",
      "komukudori_100610_nikkou.wma\n",
      "/home/wataru/code/b-com/b-com/crawling/コムクドリ/\n",
      "https://www.bird-research.jp/1_shiryo/koe/komukudori_100610_nikkou.wma\n"
     ]
    },
    {
     "name": "stderr",
     "output_type": "stream",
     "text": [
      "\r",
      " 69%|████████████████████████████████████████████████████████████████████████████████▏                                   | 4545/6576 [55:58<25:01,  1.35it/s]"
     ]
    },
    {
     "name": "stdout",
     "output_type": "stream",
     "text": [
      "------------------------------------------------------------------------------ 4551\n",
      "komukudori_150525_muroran_kuros.wma\n",
      "/home/wataru/code/b-com/b-com/crawling/コムクドリ/\n",
      "https://www.bird-research.jp/1_shiryo/koe/komukudori_150525_muroran_kuros.wma\n"
     ]
    },
    {
     "name": "stderr",
     "output_type": "stream",
     "text": [
      "\r",
      " 69%|████████████████████████████████████████████████████████████████████████████████▎                                   | 4552/6576 [56:03<25:02,  1.35it/s]"
     ]
    },
    {
     "name": "stdout",
     "output_type": "stream",
     "text": [
      "------------------------------------------------------------------------------ 4558\n",
      "komukudori_150523_muroran_kuros.wma\n",
      "/home/wataru/code/b-com/b-com/crawling/コムクドリ/\n",
      "https://www.bird-research.jp/1_shiryo/koe/komukudori_150523_muroran_kuros.wma\n"
     ]
    },
    {
     "name": "stderr",
     "output_type": "stream",
     "text": [
      "\r",
      " 69%|████████████████████████████████████████████████████████████████████████████████▍                                   | 4559/6576 [56:08<24:55,  1.35it/s]"
     ]
    },
    {
     "name": "stdout",
     "output_type": "stream",
     "text": [
      "------------------------------------------------------------------------------ 4565\n",
      "komukudori_210518_sapporo_kuros.wma\n",
      "/home/wataru/code/b-com/b-com/crawling/コムクドリ/\n",
      "https://www.bird-research.jp/1_shiryo/koe/komukudori_210518_sapporo_kuros.wma\n"
     ]
    },
    {
     "name": "stderr",
     "output_type": "stream",
     "text": [
      "\r",
      " 69%|████████████████████████████████████████████████████████████████████████████████▌                                   | 4566/6576 [56:13<24:58,  1.34it/s]"
     ]
    },
    {
     "name": "stdout",
     "output_type": "stream",
     "text": [
      "------------------------------------------------------------------------------ 4573\n",
      "kawagarasu_hyogo_151106_kaji.wma\n",
      "/home/wataru/code/b-com/b-com/crawling/カワガラス/地鳴き\n",
      "https://www.bird-research.jp/1_shiryo/koe/kawagarasu_hyogo_151106_kaji.wma\n"
     ]
    },
    {
     "name": "stderr",
     "output_type": "stream",
     "text": [
      "\r",
      " 70%|████████████████████████████████████████████████████████████████████████████████▋                                   | 4574/6576 [56:18<23:53,  1.40it/s]"
     ]
    },
    {
     "name": "stdout",
     "output_type": "stream",
     "text": [
      "------------------------------------------------------------------------------ 4580\n",
      "kawagarasu_131015_nikko_hirano.wma\n",
      "/home/wataru/code/b-com/b-com/crawling/カワガラス/地鳴き\n",
      "https://www.bird-research.jp/1_shiryo/koe/kawagarasu_131015_nikko_hirano.wma\n"
     ]
    },
    {
     "name": "stderr",
     "output_type": "stream",
     "text": [
      "\r",
      " 70%|████████████████████████████████████████████████████████████████████████████████▊                                   | 4581/6576 [56:24<24:08,  1.38it/s]"
     ]
    },
    {
     "name": "stdout",
     "output_type": "stream",
     "text": [
      "------------------------------------------------------------------------------ 4587\n",
      "kawagarasu2_131015_nikko_hirano.wma\n",
      "/home/wataru/code/b-com/b-com/crawling/カワガラス/さえずり\n",
      "https://www.bird-research.jp/1_shiryo/koe/kawagarasu2_131015_nikko_hirano.wma\n"
     ]
    },
    {
     "name": "stderr",
     "output_type": "stream",
     "text": [
      "\r",
      " 70%|████████████████████████████████████████████████████████████████████████████████▉                                   | 4588/6576 [56:29<24:10,  1.37it/s]"
     ]
    },
    {
     "name": "stdout",
     "output_type": "stream",
     "text": [
      "------------------------------------------------------------------------------ 4595\n",
      "mamijiro_070522_kanuma_hirano.wma\n",
      "/home/wataru/code/b-com/b-com/crawling/マミジロ/さえずり\n",
      "https://www.bird-research.jp/1_shiryo/koe/mamijiro_070522_kanuma_hirano.wma\n"
     ]
    },
    {
     "name": "stderr",
     "output_type": "stream",
     "text": [
      "\r",
      " 70%|█████████████████████████████████████████████████████████████████████████████████                                   | 4596/6576 [56:34<23:17,  1.42it/s]"
     ]
    },
    {
     "name": "stdout",
     "output_type": "stream",
     "text": [
      "------------------------------------------------------------------------------ 4602\n",
      "toratsugumi_070516_mitake_mju.wma\n",
      "/home/wataru/code/b-com/b-com/crawling/トラツグミ/さえずり\n",
      "https://www.bird-research.jp/1_shiryo/koe/toratsugumi_070516_mitake_mju.wma\n"
     ]
    },
    {
     "name": "stderr",
     "output_type": "stream",
     "text": [
      "\r",
      " 70%|█████████████████████████████████████████████████████████████████████████████████▏                                  | 4603/6576 [56:39<23:37,  1.39it/s]"
     ]
    },
    {
     "name": "stdout",
     "output_type": "stream",
     "text": [
      "------------------------------------------------------------------------------ 4609\n",
      "toratsugumi_110416_hahajima_mju.wma\n",
      "/home/wataru/code/b-com/b-com/crawling/トラツグミ/さえずり\n",
      "https://www.bird-research.jp/1_shiryo/koe/toratsugumi_110416_hahajima_mju.wma\n"
     ]
    },
    {
     "name": "stderr",
     "output_type": "stream",
     "text": [
      "\r",
      " 70%|█████████████████████████████████████████████████████████████████████████████████▎                                  | 4610/6576 [56:45<23:52,  1.37it/s]"
     ]
    },
    {
     "name": "stdout",
     "output_type": "stream",
     "text": [
      "------------------------------------------------------------------------------ 4616\n",
      "toratsugumi_141231_utsunomiya_hirano.wma\n",
      "/home/wataru/code/b-com/b-com/crawling/トラツグミ/地鳴き\n",
      "https://www.bird-research.jp/1_shiryo/koe/toratsugumi_141231_utsunomiya_hirano.wma\n"
     ]
    },
    {
     "name": "stderr",
     "output_type": "stream",
     "text": [
      "\r",
      " 70%|█████████████████████████████████████████████████████████████████████████████████▍                                  | 4617/6576 [56:50<23:52,  1.37it/s]"
     ]
    },
    {
     "name": "stdout",
     "output_type": "stream",
     "text": [
      "------------------------------------------------------------------------------ 4623\n",
      "toratsugumi_210526_chichibu_ishida.wma\n",
      "/home/wataru/code/b-com/b-com/crawling/トラツグミ/悲鳴\n",
      "https://www.bird-research.jp/1_shiryo/koe/toratsugumi_210526_chichibu_ishida.wma\n"
     ]
    },
    {
     "name": "stderr",
     "output_type": "stream",
     "text": [
      "\r",
      " 70%|█████████████████████████████████████████████████████████████████████████████████▌                                  | 4624/6576 [56:55<23:54,  1.36it/s]"
     ]
    },
    {
     "name": "stdout",
     "output_type": "stream",
     "text": [
      "------------------------------------------------------------------------------ 4630\n",
      "otora_160303_kinsakubaru_ishida.wma\n",
      "/home/wataru/code/b-com/b-com/crawling/オオトラツグミ/さえずり\n",
      "https://www.bird-research.jp/1_shiryo/koe/otora_160303_kinsakubaru_ishida.wma\n"
     ]
    },
    {
     "name": "stderr",
     "output_type": "stream",
     "text": [
      "\r",
      " 70%|█████████████████████████████████████████████████████████████████████████████████▋                                  | 4631/6576 [57:00<23:56,  1.35it/s]"
     ]
    },
    {
     "name": "stdout",
     "output_type": "stream",
     "text": [
      "------------------------------------------------------------------------------ 4637\n",
      "otoratugumi_100325_amami-anengachi_ik.wma\n",
      "/home/wataru/code/b-com/b-com/crawling/オオトラツグミ/さえずり\n",
      "https://www.bird-research.jp/1_shiryo/koe/otoratugumi_100325_amami-anengachi_ik.wma\n"
     ]
    },
    {
     "name": "stderr",
     "output_type": "stream",
     "text": [
      "\r",
      " 71%|█████████████████████████████████████████████████████████████████████████████████▊                                  | 4638/6576 [57:06<23:57,  1.35it/s]"
     ]
    },
    {
     "name": "stdout",
     "output_type": "stream",
     "text": [
      "------------------------------------------------------------------------------ 4644\n",
      "karaakahara 200429_nagasaki_kuroda.wma\n",
      "/home/wataru/code/b-com/b-com/crawling/カラアカハラ/さえずり\n",
      "https://www.bird-research.jp/1_shiryo/koe/karaakahara%20200429_nagasaki_kuroda.wma\n"
     ]
    },
    {
     "name": "stderr",
     "output_type": "stream",
     "text": [
      "\r",
      " 71%|█████████████████████████████████████████████████████████████████████████████████▉                                  | 4645/6576 [57:11<23:55,  1.34it/s]"
     ]
    },
    {
     "name": "stdout",
     "output_type": "stream",
     "text": [
      "------------------------------------------------------------------------------ 4651\n",
      "kurotsugumi_060604_okutadami_mju.wma\n",
      "/home/wataru/code/b-com/b-com/crawling/クロツグミ/さえずり\n",
      "https://www.bird-research.jp/1_shiryo/koe/kurotsugumi_060604_okutadami_mju.wma\n"
     ]
    },
    {
     "name": "stderr",
     "output_type": "stream",
     "text": [
      "\r",
      " 71%|██████████████████████████████████████████████████████████████████████████████████                                  | 4652/6576 [57:16<23:55,  1.34it/s]"
     ]
    },
    {
     "name": "stdout",
     "output_type": "stream",
     "text": [
      "------------------------------------------------------------------------------ 4658\n",
      "kurotsugumi_0804_hyogo_kaji.wma\n",
      "/home/wataru/code/b-com/b-com/crawling/クロツグミ/地鳴き\n",
      "https://www.bird-research.jp/1_shiryo/koe/kurotsugumi_0804_hyogo_kaji.wma\n"
     ]
    },
    {
     "name": "stderr",
     "output_type": "stream",
     "text": [
      "\r",
      " 71%|██████████████████████████████████████████████████████████████████████████████████▏                                 | 4659/6576 [57:21<23:55,  1.34it/s]"
     ]
    },
    {
     "name": "stdout",
     "output_type": "stream",
     "text": [
      "------------------------------------------------------------------------------ 4665\n",
      "kurotsugumi_nasushiobara_160624_hirano.wma\n",
      "/home/wataru/code/b-com/b-com/crawling/クロツグミ/警戒\n",
      "https://www.bird-research.jp/1_shiryo/koe/kurotsugumi_nasushiobara_160624_hirano.wma\n"
     ]
    },
    {
     "name": "stderr",
     "output_type": "stream",
     "text": [
      "\r",
      " 71%|██████████████████████████████████████████████████████████████████████████████████▎                                 | 4666/6576 [57:26<23:46,  1.34it/s]"
     ]
    },
    {
     "name": "stdout",
     "output_type": "stream",
     "text": [
      "------------------------------------------------------------------------------ 4672\n",
      "kurotsugumi_150423_nara_kuroda.wma\n",
      "/home/wataru/code/b-com/b-com/crawling/クロツグミ/鳴きまね\n",
      "https://www.bird-research.jp/1_shiryo/koe/kurotsugumi_150423_nara_kuroda.wma\n"
     ]
    },
    {
     "name": "stderr",
     "output_type": "stream",
     "text": [
      "\r",
      " 71%|██████████████████████████████████████████████████████████████████████████████████▍                                 | 4673/6576 [57:32<23:37,  1.34it/s]"
     ]
    },
    {
     "name": "stdout",
     "output_type": "stream",
     "text": [
      "------------------------------------------------------------------------------ 4679\n",
      "kuroutadori_161104_koshu.wma\n",
      "/home/wataru/code/b-com/b-com/crawling/クロウタドリ/地鳴き\n",
      "https://www.bird-research.jp/1_shiryo/koe/kuroutadori_161104_koshu.wma\n"
     ]
    },
    {
     "name": "stderr",
     "output_type": "stream",
     "text": [
      "\r",
      " 71%|██████████████████████████████████████████████████████████████████████████████████▌                                 | 4680/6576 [57:37<23:37,  1.34it/s]"
     ]
    },
    {
     "name": "stdout",
     "output_type": "stream",
     "text": [
      "------------------------------------------------------------------------------ 4686\n",
      "mamichajinai_121013_utsunomiya_hirano.wma\n",
      "/home/wataru/code/b-com/b-com/crawling/マミチャジナイ/地鳴き\n",
      "https://www.bird-research.jp/1_shiryo/koe/mamichajinai_121013_utsunomiya_hirano.wma\n"
     ]
    },
    {
     "name": "stderr",
     "output_type": "stream",
     "text": [
      "\r",
      " 71%|██████████████████████████████████████████████████████████████████████████████████▋                                 | 4687/6576 [57:42<23:34,  1.34it/s]"
     ]
    },
    {
     "name": "stdout",
     "output_type": "stream",
     "text": [
      "------------------------------------------------------------------------------ 4693\n",
      "mamichajinai_hyogo_111127_kaji.wma\n",
      "/home/wataru/code/b-com/b-com/crawling/マミチャジナイ/地鳴き\n",
      "https://www.bird-research.jp/1_shiryo/koe/mamichajinai_hyogo_111127_kaji.wma\n"
     ]
    },
    {
     "name": "stderr",
     "output_type": "stream",
     "text": [
      "\r",
      " 71%|██████████████████████████████████████████████████████████████████████████████████▊                                 | 4694/6576 [57:47<23:30,  1.33it/s]"
     ]
    },
    {
     "name": "stdout",
     "output_type": "stream",
     "text": [
      "------------------------------------------------------------------------------ 4700\n",
      "mamichajinai1_0604_hyogo_kaji.wma\n",
      "/home/wataru/code/b-com/b-com/crawling/マミチャジナイ/さえずり\n",
      "https://www.bird-research.jp/1_shiryo/koe/mamichajinai1_0604_hyogo_kaji.wma\n"
     ]
    },
    {
     "name": "stderr",
     "output_type": "stream",
     "text": [
      "\r",
      " 71%|██████████████████████████████████████████████████████████████████████████████████▉                                 | 4701/6576 [57:53<23:26,  1.33it/s]"
     ]
    },
    {
     "name": "stdout",
     "output_type": "stream",
     "text": [
      "------------------------------------------------------------------------------ 4707\n",
      "mamichajinai2_0605_hyogo_kaji.wma\n",
      "/home/wataru/code/b-com/b-com/crawling/マミチャジナイ/さえずり\n",
      "https://www.bird-research.jp/1_shiryo/koe/mamichajinai2_0605_hyogo_kaji.wma\n"
     ]
    },
    {
     "name": "stderr",
     "output_type": "stream",
     "text": [
      "\r",
      " 72%|███████████████████████████████████████████████████████████████████████████████████                                 | 4708/6576 [57:58<23:16,  1.34it/s]"
     ]
    },
    {
     "name": "stdout",
     "output_type": "stream",
     "text": [
      "------------------------------------------------------------------------------ 4714\n",
      "shirohara_1002_hyogo_kaji.wma\n",
      "/home/wataru/code/b-com/b-com/crawling/シロハラ/地鳴き\n",
      "https://www.bird-research.jp/1_shiryo/koe/shirohara_1002_hyogo_kaji.wma\n"
     ]
    },
    {
     "name": "stderr",
     "output_type": "stream",
     "text": [
      "\r",
      " 72%|███████████████████████████████████████████████████████████████████████████████████▏                                | 4715/6576 [58:03<23:13,  1.34it/s]"
     ]
    },
    {
     "name": "stdout",
     "output_type": "stream",
     "text": [
      "------------------------------------------------------------------------------ 4721\n",
      "sirohara_1102_hyogo_kaji.wma\n",
      "/home/wataru/code/b-com/b-com/crawling/シロハラ/地鳴き\n",
      "https://www.bird-research.jp/1_shiryo/koe/sirohara_1102_hyogo_kaji.wma\n"
     ]
    },
    {
     "name": "stderr",
     "output_type": "stream",
     "text": [
      "\r",
      " 72%|███████████████████████████████████████████████████████████████████████████████████▎                                | 4722/6576 [58:08<23:08,  1.33it/s]"
     ]
    },
    {
     "name": "stdout",
     "output_type": "stream",
     "text": [
      "------------------------------------------------------------------------------ 4728\n",
      "shirohara_110410_utsunomiya_hirano.wma\n",
      "/home/wataru/code/b-com/b-com/crawling/シロハラ/地鳴き\n",
      "https://www.bird-research.jp/1_shiryo/koe/shirohara_110410_utsunomiya_hirano.wma\n"
     ]
    },
    {
     "name": "stderr",
     "output_type": "stream",
     "text": [
      "\r",
      " 72%|███████████████████████████████████████████████████████████████████████████████████▍                                | 4729/6576 [58:14<22:58,  1.34it/s]"
     ]
    },
    {
     "name": "stdout",
     "output_type": "stream",
     "text": [
      "------------------------------------------------------------------------------ 4735\n",
      "shirohara_090412_utsunomiya_hirano.wma\n",
      "/home/wataru/code/b-com/b-com/crawling/シロハラ/さえずり\n",
      "https://www.bird-research.jp/1_shiryo/koe/shirohara_090412_utsunomiya_hirano.wma\n"
     ]
    },
    {
     "name": "stderr",
     "output_type": "stream",
     "text": [
      "\r",
      " 72%|███████████████████████████████████████████████████████████████████████████████████▌                                | 4736/6576 [58:19<22:50,  1.34it/s]"
     ]
    },
    {
     "name": "stdout",
     "output_type": "stream",
     "text": [
      "------------------------------------------------------------------------------ 4742\n",
      "akahara_10626_nikkou_hirano.wma\n",
      "/home/wataru/code/b-com/b-com/crawling/アカハラ/さえずり\n",
      "https://www.bird-research.jp/1_shiryo/koe/akahara_10626_nikkou_hirano.wma\n"
     ]
    },
    {
     "name": "stderr",
     "output_type": "stream",
     "text": [
      "\r",
      " 72%|███████████████████████████████████████████████████████████████████████████████████▋                                | 4743/6576 [58:24<22:49,  1.34it/s]"
     ]
    },
    {
     "name": "stdout",
     "output_type": "stream",
     "text": [
      "------------------------------------------------------------------------------ 4749\n",
      "akahara_210722_yaita_oi.wma\n",
      "/home/wataru/code/b-com/b-com/crawling/アカハラ/さえずり\n",
      "https://www.bird-research.jp/1_shiryo/koe/akahara_210722_yaita_oi.wma\n"
     ]
    },
    {
     "name": "stderr",
     "output_type": "stream",
     "text": [
      "\r",
      " 72%|███████████████████████████████████████████████████████████████████████████████████▊                                | 4750/6576 [58:29<22:49,  1.33it/s]"
     ]
    },
    {
     "name": "stdout",
     "output_type": "stream",
     "text": [
      "------------------------------------------------------------------------------ 4756\n",
      "akahara_040527_kunitachi_mju.wma\n",
      "/home/wataru/code/b-com/b-com/crawling/アカハラ/さえずり\n",
      "https://www.bird-research.jp/1_shiryo/koe/akahara_040527_kunitachi_mju.wma\n"
     ]
    },
    {
     "name": "stderr",
     "output_type": "stream",
     "text": [
      "\r",
      " 72%|███████████████████████████████████████████████████████████████████████████████████▉                                | 4757/6576 [58:35<22:46,  1.33it/s]"
     ]
    },
    {
     "name": "stdout",
     "output_type": "stream",
     "text": [
      "------------------------------------------------------------------------------ 4763\n",
      "akahara_c_07517_yaitashi_hirano.wma\n",
      "/home/wataru/code/b-com/b-com/crawling/アカハラ/地鳴き\n",
      "https://www.bird-research.jp/1_shiryo/koe/akahara_c_07517_yaitashi_hirano.wma\n"
     ]
    },
    {
     "name": "stderr",
     "output_type": "stream",
     "text": [
      "\r",
      " 72%|████████████████████████████████████████████████████████████████████████████████████                                | 4764/6576 [58:40<22:40,  1.33it/s]"
     ]
    },
    {
     "name": "stdout",
     "output_type": "stream",
     "text": [
      "------------------------------------------------------------------------------ 4770\n",
      "akahara_100420_watarase.wma\n",
      "/home/wataru/code/b-com/b-com/crawling/アカハラ/地鳴き\n",
      "https://www.bird-research.jp/1_shiryo/koe/akahara_100420_watarase.wma\n"
     ]
    },
    {
     "name": "stderr",
     "output_type": "stream",
     "text": [
      "\r",
      " 73%|████████████████████████████████████████████████████████████████████████████████████▏                               | 4771/6576 [58:45<22:28,  1.34it/s]"
     ]
    },
    {
     "name": "stdout",
     "output_type": "stream",
     "text": [
      "------------------------------------------------------------------------------ 4777\n",
      "akahara_110610_nikko_hirano.wma\n",
      "/home/wataru/code/b-com/b-com/crawling/アカハラ/地鳴き\n",
      "https://www.bird-research.jp/1_shiryo/koe/akahara_110610_nikko_hirano.wma\n"
     ]
    },
    {
     "name": "stderr",
     "output_type": "stream",
     "text": [
      "\r",
      " 73%|████████████████████████████████████████████████████████████████████████████████████▎                               | 4778/6576 [58:50<22:25,  1.34it/s]"
     ]
    },
    {
     "name": "stdout",
     "output_type": "stream",
     "text": [
      "------------------------------------------------------------------------------ 4784\n",
      "akakokko_160515_miyake_kuroda.wma\n",
      "/home/wataru/code/b-com/b-com/crawling/アカコッコ/さえずり\n",
      "https://www.bird-research.jp/1_shiryo/koe/akakokko_160515_miyake_kuroda.wma\n"
     ]
    },
    {
     "name": "stderr",
     "output_type": "stream",
     "text": [
      "\r",
      " 73%|████████████████████████████████████████████████████████████████████████████████████▍                               | 4785/6576 [58:56<22:23,  1.33it/s]"
     ]
    },
    {
     "name": "stdout",
     "output_type": "stream",
     "text": [
      "------------------------------------------------------------------------------ 4791\n",
      "akakokko_170508_miyake_kuroda.wma\n",
      "/home/wataru/code/b-com/b-com/crawling/アカコッコ/地鳴き\n",
      "https://www.bird-research.jp/1_shiryo/koe/akakokko_170508_miyake_kuroda.wma\n"
     ]
    },
    {
     "name": "stderr",
     "output_type": "stream",
     "text": [
      "\r",
      " 73%|████████████████████████████████████████████████████████████████████████████████████▌                               | 4792/6576 [59:01<22:18,  1.33it/s]"
     ]
    },
    {
     "name": "stdout",
     "output_type": "stream",
     "text": [
      "------------------------------------------------------------------------------ 4798\n",
      "akakokko_160701_miyake_kuroda.wma\n",
      "/home/wataru/code/b-com/b-com/crawling/アカコッコ/地鳴き\n",
      "https://www.bird-research.jp/1_shiryo/koe/akakokko_160701_miyake_kuroda.wma\n"
     ]
    },
    {
     "name": "stderr",
     "output_type": "stream",
     "text": [
      "\r",
      " 73%|████████████████████████████████████████████████████████████████████████████████████▋                               | 4799/6576 [59:06<22:15,  1.33it/s]"
     ]
    },
    {
     "name": "stdout",
     "output_type": "stream",
     "text": [
      "------------------------------------------------------------------------------ 4805\n",
      "tsugumi_091110_nikko_hirano.wma\n",
      "/home/wataru/code/b-com/b-com/crawling/ツグミ/地鳴き\n",
      "https://www.bird-research.jp/1_shiryo/koe/tsugumi_091110_nikko_hirano.wma\n"
     ]
    },
    {
     "name": "stderr",
     "output_type": "stream",
     "text": [
      "\r",
      " 73%|████████████████████████████████████████████████████████████████████████████████████▊                               | 4806/6576 [59:11<22:07,  1.33it/s]"
     ]
    },
    {
     "name": "stdout",
     "output_type": "stream",
     "text": [
      "------------------------------------------------------------------------------ 4813\n",
      "tsugumi_200329_toyota_atsumi.wma\n",
      "/home/wataru/code/b-com/b-com/crawling/ツグミ/地鳴き\n",
      "https://www.bird-research.jp/1_shiryo/koe/tsugumi_200329_toyota_atsumi.wma\n"
     ]
    },
    {
     "name": "stderr",
     "output_type": "stream",
     "text": [
      "\r",
      " 73%|████████████████████████████████████████████████████████████████████████████████████▉                               | 4814/6576 [59:17<21:10,  1.39it/s]"
     ]
    },
    {
     "name": "stdout",
     "output_type": "stream",
     "text": [
      "------------------------------------------------------------------------------ 4820\n",
      "tsugumi_110429_utsunomiya_hirano.wma\n",
      "/home/wataru/code/b-com/b-com/crawling/ツグミ/ぐぜり\n",
      "https://www.bird-research.jp/1_shiryo/koe/tsugumi_110429_utsunomiya_hirano.wma\n"
     ]
    },
    {
     "name": "stderr",
     "output_type": "stream",
     "text": [
      "\r",
      " 73%|█████████████████████████████████████████████████████████████████████████████████████                               | 4821/6576 [59:22<21:19,  1.37it/s]"
     ]
    },
    {
     "name": "stdout",
     "output_type": "stream",
     "text": [
      "------------------------------------------------------------------------------ 4827\n",
      "tsugumi_220203_chichibu_mju.wma\n",
      "/home/wataru/code/b-com/b-com/crawling/ツグミ/地鳴き\n",
      "https://www.bird-research.jp/1_shiryo/koe/tsugumi_220203_chichibu_mju.wma\n"
     ]
    },
    {
     "name": "stderr",
     "output_type": "stream",
     "text": [
      "\r",
      " 73%|█████████████████████████████████████████████████████████████████████████████████████▏                              | 4828/6576 [59:27<21:23,  1.36it/s]"
     ]
    },
    {
     "name": "stdout",
     "output_type": "stream",
     "text": [
      "------------------------------------------------------------------------------ 4834\n",
      "tsugumi_210410_saitama_oi.wma\n",
      "/home/wataru/code/b-com/b-com/crawling/ツグミ/ぐぜり\n",
      "https://www.bird-research.jp/1_shiryo/koe/tsugumi_210410_saitama_oi.wma\n"
     ]
    },
    {
     "name": "stderr",
     "output_type": "stream",
     "text": [
      "\r",
      " 74%|█████████████████████████████████████████████████████████████████████████████████████▎                              | 4835/6576 [59:32<21:24,  1.36it/s]"
     ]
    },
    {
     "name": "stdout",
     "output_type": "stream",
     "text": [
      "------------------------------------------------------------------------------ 4841\n",
      "komadori_060605_yaita_hirano.wma\n",
      "/home/wataru/code/b-com/b-com/crawling/コマドリ/さえずり\n",
      "https://www.bird-research.jp/1_shiryo/koe/komadori_060605_yaita_hirano.wma\n"
     ]
    },
    {
     "name": "stderr",
     "output_type": "stream",
     "text": [
      "\r",
      " 74%|█████████████████████████████████████████████████████████████████████████████████████▍                              | 4842/6576 [59:38<21:25,  1.35it/s]"
     ]
    },
    {
     "name": "stdout",
     "output_type": "stream",
     "text": [
      "------------------------------------------------------------------------------ 4848\n",
      "komadori_0804_hyogo_kaji.wma\n",
      "/home/wataru/code/b-com/b-com/crawling/コマドリ/地鳴き\n",
      "https://www.bird-research.jp/1_shiryo/koe/komadori_0804_hyogo_kaji.wma\n"
     ]
    },
    {
     "name": "stderr",
     "output_type": "stream",
     "text": [
      "\r",
      " 74%|█████████████████████████████████████████████████████████████████████████████████████▌                              | 4849/6576 [59:43<21:25,  1.34it/s]"
     ]
    },
    {
     "name": "stdout",
     "output_type": "stream",
     "text": [
      "------------------------------------------------------------------------------ 4855\n",
      "tanekoma_160516_miyake_kuroda.wma\n",
      "/home/wataru/code/b-com/b-com/crawling/タネコマドリ/亜種\n",
      "https://www.bird-research.jp/1_shiryo/koe/tanekoma_160516_miyake_kuroda.wma\n"
     ]
    },
    {
     "name": "stderr",
     "output_type": "stream",
     "text": [
      "\r",
      " 74%|█████████████████████████████████████████████████████████████████████████████████████▋                              | 4856/6576 [59:48<21:27,  1.34it/s]"
     ]
    },
    {
     "name": "stdout",
     "output_type": "stream",
     "text": [
      "------------------------------------------------------------------------------ 4862\n",
      "akahige_090721_tokara_seki.wma\n",
      "/home/wataru/code/b-com/b-com/crawling/アカヒゲ/さえずり\n",
      "https://www.bird-research.jp/1_shiryo/koe/akahige_090721_tokara_seki.wma\n"
     ]
    },
    {
     "name": "stderr",
     "output_type": "stream",
     "text": [
      "\r",
      " 74%|█████████████████████████████████████████████████████████████████████████████████████▊                              | 4863/6576 [59:53<21:24,  1.33it/s]"
     ]
    },
    {
     "name": "stdout",
     "output_type": "stream",
     "text": [
      "------------------------------------------------------------------------------ 4869\n",
      "akahige_120419_yanbaru_moriya.wma\n",
      "/home/wataru/code/b-com/b-com/crawling/アカヒゲ/さえずり\n",
      "https://www.bird-research.jp/1_shiryo/koe/akahige_120419_yanbaru_moriya.wma\n"
     ]
    },
    {
     "name": "stderr",
     "output_type": "stream",
     "text": [
      "\r",
      " 74%|█████████████████████████████████████████████████████████████████████████████████████▉                              | 4870/6576 [59:59<21:19,  1.33it/s]"
     ]
    },
    {
     "name": "stdout",
     "output_type": "stream",
     "text": [
      "------------------------------------------------------------------------------ 4876\n",
      "Akahige_060204a_ishigaki_seki.wma\n",
      "/home/wataru/code/b-com/b-com/crawling/アカヒゲ/地鳴き\n",
      "https://www.bird-research.jp/1_shiryo/koe/Akahige_060204a_ishigaki_seki.wma\n"
     ]
    },
    {
     "name": "stderr",
     "output_type": "stream",
     "text": [
      "\r",
      " 74%|████████████████████████████████████████████████████████████████████████████████████▌                             | 4877/6576 [1:00:04<21:16,  1.33it/s]"
     ]
    },
    {
     "name": "stdout",
     "output_type": "stream",
     "text": [
      "------------------------------------------------------------------------------ 4883\n",
      "Akahige_160204_ishigaki_seki.wma\n",
      "/home/wataru/code/b-com/b-com/crawling/アカヒゲ/地鳴き\n",
      "https://www.bird-research.jp/1_shiryo/koe/Akahige_160204_ishigaki_seki.wma\n"
     ]
    },
    {
     "name": "stderr",
     "output_type": "stream",
     "text": [
      "\r",
      " 74%|████████████████████████████████████████████████████████████████████████████████████▋                             | 4884/6576 [1:00:09<21:10,  1.33it/s]"
     ]
    },
    {
     "name": "stdout",
     "output_type": "stream",
     "text": [
      "------------------------------------------------------------------------------ 4890\n",
      "akahige_170920_yanbaru_morishita.wma\n",
      "/home/wataru/code/b-com/b-com/crawling/アカヒゲ/地鳴き\n",
      "https://www.bird-research.jp/1_shiryo/koe/akahige_170920_yanbaru_morishita.wma\n"
     ]
    },
    {
     "name": "stderr",
     "output_type": "stream",
     "text": [
      "\r",
      " 74%|████████████████████████████████████████████████████████████████████████████████████▊                             | 4891/6576 [1:00:14<21:06,  1.33it/s]"
     ]
    },
    {
     "name": "stdout",
     "output_type": "stream",
     "text": [
      "------------------------------------------------------------------------------ 4897\n",
      "akahige_120211_amami_ishida.wma\n",
      "/home/wataru/code/b-com/b-com/crawling/アカヒゲ/ぐぜり\n",
      "https://www.bird-research.jp/1_shiryo/koe/akahige_120211_amami_ishida.wma\n"
     ]
    },
    {
     "name": "stderr",
     "output_type": "stream",
     "text": [
      "\r",
      " 74%|████████████████████████████████████████████████████████████████████████████████████▉                             | 4898/6576 [1:00:20<21:00,  1.33it/s]"
     ]
    },
    {
     "name": "stdout",
     "output_type": "stream",
     "text": [
      "------------------------------------------------------------------------------ 4904\n",
      "nogoma_050624_hokkaidou_kaji.wma\n",
      "/home/wataru/code/b-com/b-com/crawling/ノゴマ/さえずり\n",
      "https://www.bird-research.jp/1_shiryo/koe/nogoma_050624_hokkaidou_kaji.wma\n"
     ]
    },
    {
     "name": "stderr",
     "output_type": "stream",
     "text": [
      "\r",
      " 75%|█████████████████████████████████████████████████████████████████████████████████████                             | 4905/6576 [1:00:25<20:56,  1.33it/s]"
     ]
    },
    {
     "name": "stdout",
     "output_type": "stream",
     "text": [
      "------------------------------------------------------------------------------ 4911\n",
      "nogoma_091013_watarase_hirano.wma\n",
      "/home/wataru/code/b-com/b-com/crawling/ノゴマ/地鳴き\n",
      "https://www.bird-research.jp/1_shiryo/koe/nogoma_091013_watarase_hirano.wma\n"
     ]
    },
    {
     "name": "stderr",
     "output_type": "stream",
     "text": [
      "\r",
      " 75%|█████████████████████████████████████████████████████████████████████████████████████▏                            | 4912/6576 [1:00:30<20:49,  1.33it/s]"
     ]
    },
    {
     "name": "stdout",
     "output_type": "stream",
     "text": [
      "------------------------------------------------------------------------------ 4918\n",
      "nogoma_160518_watarase_hirano.wma\n",
      "/home/wataru/code/b-com/b-com/crawling/ノゴマ/ぐぜり\n",
      "https://www.bird-research.jp/1_shiryo/koe/nogoma_160518_watarase_hirano.wma\n"
     ]
    },
    {
     "name": "stderr",
     "output_type": "stream",
     "text": [
      "\r",
      " 75%|█████████████████████████████████████████████████████████████████████████████████████▎                            | 4919/6576 [1:00:35<20:40,  1.34it/s]"
     ]
    },
    {
     "name": "stdout",
     "output_type": "stream",
     "text": [
      "------------------------------------------------------------------------------ 4925\n",
      "koruri_090620_osado_mju.wma\n",
      "/home/wataru/code/b-com/b-com/crawling/コルリ/さえずり\n",
      "https://www.bird-research.jp/1_shiryo/koe/koruri_090620_osado_mju.wma\n"
     ]
    },
    {
     "name": "stderr",
     "output_type": "stream",
     "text": [
      "\r",
      " 75%|█████████████████████████████████████████████████████████████████████████████████████▍                            | 4926/6576 [1:00:41<20:33,  1.34it/s]"
     ]
    },
    {
     "name": "stdout",
     "output_type": "stream",
     "text": [
      "------------------------------------------------------------------------------ 4932\n",
      "koruric_200430_nagasaki_kuroda.wma\n",
      "/home/wataru/code/b-com/b-com/crawling/コルリ/地鳴き\n",
      "https://www.bird-research.jp/1_shiryo/koe/koruric_200430_nagasaki_kuroda.wma\n"
     ]
    },
    {
     "name": "stderr",
     "output_type": "stream",
     "text": [
      "\r",
      " 75%|█████████████████████████████████████████████████████████████████████████████████████▌                            | 4933/6576 [1:00:46<20:31,  1.33it/s]"
     ]
    },
    {
     "name": "stdout",
     "output_type": "stream",
     "text": [
      "------------------------------------------------------------------------------ 4939\n",
      "koruri_200430_nagasaki_kuroda.wma\n",
      "/home/wataru/code/b-com/b-com/crawling/コルリ/ぐぜり\n",
      "https://www.bird-research.jp/1_shiryo/koe/koruri_200430_nagasaki_kuroda.wma\n"
     ]
    },
    {
     "name": "stderr",
     "output_type": "stream",
     "text": [
      "\r",
      " 75%|█████████████████████████████████████████████████████████████████████████████████████▋                            | 4940/6576 [1:00:51<20:30,  1.33it/s]"
     ]
    },
    {
     "name": "stdout",
     "output_type": "stream",
     "text": [
      "------------------------------------------------------------------------------ 4946\n",
      "korurig_200430_nagasaki_kuroda.wma\n",
      "/home/wataru/code/b-com/b-com/crawling/コルリ/ぐぜり\n",
      "https://www.bird-research.jp/1_shiryo/koe/korurig_200430_nagasaki_kuroda.wma\n"
     ]
    },
    {
     "name": "stderr",
     "output_type": "stream",
     "text": [
      "\r",
      " 75%|█████████████████████████████████████████████████████████████████████████████████████▊                            | 4947/6576 [1:00:57<20:27,  1.33it/s]"
     ]
    },
    {
     "name": "stdout",
     "output_type": "stream",
     "text": [
      "------------------------------------------------------------------------------ 4953\n",
      "shimagoma_160511_tobishima_mima.wma\n",
      "/home/wataru/code/b-com/b-com/crawling/シマゴマ/さえずり\n",
      "https://www.bird-research.jp/1_shiryo/koe/shimagoma_160511_tobishima_mima.wma\n"
     ]
    },
    {
     "name": "stderr",
     "output_type": "stream",
     "text": [
      "\r",
      " 75%|█████████████████████████████████████████████████████████████████████████████████████▉                            | 4954/6576 [1:01:02<20:18,  1.33it/s]"
     ]
    },
    {
     "name": "stdout",
     "output_type": "stream",
     "text": [
      "------------------------------------------------------------------------------ 4960\n",
      "shimagoma200505_nagasaki_yoshigai.wma\n",
      "/home/wataru/code/b-com/b-com/crawling/シマゴマ/さえずり\n",
      "https://www.bird-research.jp/1_shiryo/koe/shimagoma200505_nagasaki_yoshigai.wma\n"
     ]
    },
    {
     "name": "stderr",
     "output_type": "stream",
     "text": [
      "\r",
      " 75%|██████████████████████████████████████████████████████████████████████████████████████                            | 4961/6576 [1:01:07<20:16,  1.33it/s]"
     ]
    },
    {
     "name": "stdout",
     "output_type": "stream",
     "text": [
      "------------------------------------------------------------------------------ 4967\n",
      "shimagoma_210504_nagasaki_kuroda.wma\n",
      "/home/wataru/code/b-com/b-com/crawling/シマゴマ/さえずり/地鳴き\n",
      "https://www.bird-research.jp/1_shiryo/koe/shimagoma_210504_nagasaki_kuroda.wma\n"
     ]
    },
    {
     "name": "stderr",
     "output_type": "stream",
     "text": [
      "\r",
      " 76%|██████████████████████████████████████████████████████████████████████████████████████                            | 4968/6576 [1:01:12<20:10,  1.33it/s]"
     ]
    },
    {
     "name": "stdout",
     "output_type": "stream",
     "text": [
      "------------------------------------------------------------------------------ 4974\n",
      "ruribitaki_110624_fuji_mju.wma\n",
      "/home/wataru/code/b-com/b-com/crawling/ルリビタキ/さえずり\n",
      "https://www.bird-research.jp/1_shiryo/koe/ruribitaki_110624_fuji_mju.wma\n"
     ]
    },
    {
     "name": "stderr",
     "output_type": "stream",
     "text": [
      "\r",
      " 76%|██████████████████████████████████████████████████████████████████████████████████████▏                           | 4975/6576 [1:01:18<20:05,  1.33it/s]"
     ]
    },
    {
     "name": "stdout",
     "output_type": "stream",
     "text": [
      "------------------------------------------------------------------------------ 4981\n",
      "ruribitaki_060722_marunuma_hirano.wma\n",
      "/home/wataru/code/b-com/b-com/crawling/ルリビタキ/さえずり\n",
      "https://www.bird-research.jp/1_shiryo/koe/ruribitaki_060722_marunuma_hirano.wma\n"
     ]
    },
    {
     "name": "stderr",
     "output_type": "stream",
     "text": [
      "\r",
      " 76%|██████████████████████████████████████████████████████████████████████████████████████▎                           | 4982/6576 [1:01:23<19:57,  1.33it/s]"
     ]
    },
    {
     "name": "stdout",
     "output_type": "stream",
     "text": [
      "------------------------------------------------------------------------------ 4988\n",
      "ruribitaki_120521_hayachine_mikami.wma\n",
      "/home/wataru/code/b-com/b-com/crawling/ルリビタキ/さえずり\n",
      "https://www.bird-research.jp/1_shiryo/koe/ruribitaki_120521_hayachine_mikami.wma\n"
     ]
    },
    {
     "name": "stderr",
     "output_type": "stream",
     "text": [
      "\r",
      " 76%|██████████████████████████████████████████████████████████████████████████████████████▍                           | 4989/6576 [1:01:28<19:46,  1.34it/s]"
     ]
    },
    {
     "name": "stdout",
     "output_type": "stream",
     "text": [
      "------------------------------------------------------------------------------ 4995\n",
      "ruribi_210625_memuro_tsuchiya.wma\n",
      "/home/wataru/code/b-com/b-com/crawling/ルリビタキ/地鳴き\n",
      "https://www.bird-research.jp/1_shiryo/koe/ruribi_210625_memuro_tsuchiya.wma\n"
     ]
    },
    {
     "name": "stderr",
     "output_type": "stream",
     "text": [
      "\r",
      " 76%|██████████████████████████████████████████████████████████████████████████████████████▌                           | 4996/6576 [1:01:33<19:44,  1.33it/s]"
     ]
    },
    {
     "name": "stdout",
     "output_type": "stream",
     "text": [
      "------------------------------------------------------------------------------ 5002\n",
      "ruribitaki_0902_hyogo_kaji.wma\n",
      "/home/wataru/code/b-com/b-com/crawling/ルリビタキ/地鳴き\n",
      "https://www.bird-research.jp/1_shiryo/koe/ruribitaki_0902_hyogo_kaji.wma\n"
     ]
    },
    {
     "name": "stderr",
     "output_type": "stream",
     "text": [
      "\r",
      " 76%|██████████████████████████████████████████████████████████████████████████████████████▋                           | 5003/6576 [1:01:39<19:40,  1.33it/s]"
     ]
    },
    {
     "name": "stdout",
     "output_type": "stream",
     "text": [
      "------------------------------------------------------------------------------ 5009\n",
      "ruribitaki_0811_hyogo_kaji.wma\n",
      "/home/wataru/code/b-com/b-com/crawling/ルリビタキ/地鳴き\n",
      "https://www.bird-research.jp/1_shiryo/koe/ruribitaki_0811_hyogo_kaji.wma\n"
     ]
    },
    {
     "name": "stderr",
     "output_type": "stream",
     "text": [
      "\r",
      " 76%|██████████████████████████████████████████████████████████████████████████████████████▊                           | 5010/6576 [1:01:44<19:35,  1.33it/s]"
     ]
    },
    {
     "name": "stdout",
     "output_type": "stream",
     "text": [
      "------------------------------------------------------------------------------ 5016\n",
      "ruribitaki_180116_chichibu_mju.wma\n",
      "/home/wataru/code/b-com/b-com/crawling/ルリビタキ/地鳴き\n",
      "https://www.bird-research.jp/1_shiryo/koe/ruribitaki_180116_chichibu_mju.wma\n"
     ]
    },
    {
     "name": "stderr",
     "output_type": "stream",
     "text": [
      "\r",
      " 76%|██████████████████████████████████████████████████████████████████████████████████████▉                           | 5017/6576 [1:01:49<19:32,  1.33it/s]"
     ]
    },
    {
     "name": "stdout",
     "output_type": "stream",
     "text": [
      "------------------------------------------------------------------------------ 5023\n",
      "ruribitaki_160427_shiga_cyberforest.wma\n",
      "/home/wataru/code/b-com/b-com/crawling/ルリビタキ/威嚇\n",
      "https://www.bird-research.jp/1_shiryo/koe/ruribitaki_160427_shiga_cyberforest.wma\n"
     ]
    },
    {
     "name": "stderr",
     "output_type": "stream",
     "text": [
      "\r",
      " 76%|███████████████████████████████████████████████████████████████████████████████████████                           | 5024/6576 [1:01:54<19:27,  1.33it/s]"
     ]
    },
    {
     "name": "stdout",
     "output_type": "stream",
     "text": [
      "------------------------------------------------------------------------------ 5030\n",
      "ruribitaki_0903_hyogo_kaji.wma\n",
      "/home/wataru/code/b-com/b-com/crawling/ルリビタキ/特殊声\n",
      "https://www.bird-research.jp/1_shiryo/koe/ruribitaki_0903_hyogo_kaji.wma\n"
     ]
    },
    {
     "name": "stderr",
     "output_type": "stream",
     "text": [
      "\r",
      " 77%|███████████████████████████████████████████████████████████████████████████████████████▏                          | 5031/6576 [1:02:00<19:20,  1.33it/s]"
     ]
    },
    {
     "name": "stdout",
     "output_type": "stream",
     "text": [
      "------------------------------------------------------------------------------ 5037\n",
      "jobitaki_071107_watarase_hirano.wma\n",
      "/home/wataru/code/b-com/b-com/crawling/ジョウビタキ/地鳴き\n",
      "https://www.bird-research.jp/1_shiryo/koe/jobitaki_071107_watarase_hirano.wma\n"
     ]
    },
    {
     "name": "stderr",
     "output_type": "stream",
     "text": [
      "\r",
      " 77%|███████████████████████████████████████████████████████████████████████████████████████▎                          | 5038/6576 [1:02:05<19:13,  1.33it/s]"
     ]
    },
    {
     "name": "stdout",
     "output_type": "stream",
     "text": [
      "------------------------------------------------------------------------------ 5045\n",
      "jobitaki_211102_kunitachi_mju.wma\n",
      "/home/wataru/code/b-com/b-com/crawling/ジョウビタキ/地鳴き\n",
      "https://www.bird-research.jp/1_shiryo/koe/jobitaki_211102_kunitachi_mju.wma\n"
     ]
    },
    {
     "name": "stderr",
     "output_type": "stream",
     "text": [
      "\r",
      " 77%|███████████████████████████████████████████████████████████████████████████████████████▍                          | 5046/6576 [1:02:10<18:18,  1.39it/s]"
     ]
    },
    {
     "name": "stdout",
     "output_type": "stream",
     "text": [
      "------------------------------------------------------------------------------ 5052\n",
      "jobitaki_141021_hyogo_kuroda.wma\n",
      "/home/wataru/code/b-com/b-com/crawling/ジョウビタキ/地鳴き\n",
      "https://www.bird-research.jp/1_shiryo/koe/jobitaki_141021_hyogo_kuroda.wma\n"
     ]
    },
    {
     "name": "stderr",
     "output_type": "stream",
     "text": [
      "\r",
      " 77%|███████████████████████████████████████████████████████████████████████████████████████▌                          | 5053/6576 [1:02:15<18:23,  1.38it/s]"
     ]
    },
    {
     "name": "stdout",
     "output_type": "stream",
     "text": [
      "------------------------------------------------------------------------------ 5059\n",
      "jobitaki_150503_shiga.wma\n",
      "/home/wataru/code/b-com/b-com/crawling/ジョウビタキ/さえずり\n",
      "https://www.bird-research.jp/1_shiryo/koe/jobitaki_150503_shiga.wma\n"
     ]
    },
    {
     "name": "stderr",
     "output_type": "stream",
     "text": [
      "\r",
      " 77%|███████████████████████████████████████████████████████████████████████████████████████▋                          | 5060/6576 [1:02:21<18:29,  1.37it/s]"
     ]
    },
    {
     "name": "stdout",
     "output_type": "stream",
     "text": [
      "------------------------------------------------------------------------------ 5066\n",
      "jobitaki_140523_hyogo_kuroda.wma\n",
      "/home/wataru/code/b-com/b-com/crawling/ジョウビタキ/さえずり\n",
      "https://www.bird-research.jp/1_shiryo/koe/jobitaki_140523_hyogo_kuroda.wma\n"
     ]
    },
    {
     "name": "stderr",
     "output_type": "stream",
     "text": [
      "\r",
      " 77%|███████████████████████████████████████████████████████████████████████████████████████▊                          | 5067/6576 [1:02:26<18:32,  1.36it/s]"
     ]
    },
    {
     "name": "stdout",
     "output_type": "stream",
     "text": [
      "------------------------------------------------------------------------------ 5073\n",
      "jobitakic_160808_hyogo_kuroda.wma\n",
      "/home/wataru/code/b-com/b-com/crawling/ジョウビタキ/警戒\n",
      "https://www.bird-research.jp/1_shiryo/koe/jobitakic_160808_hyogo_kuroda.wma\n"
     ]
    },
    {
     "name": "stderr",
     "output_type": "stream",
     "text": [
      "\r",
      " 77%|███████████████████████████████████████████████████████████████████████████████████████▉                          | 5074/6576 [1:02:31<18:35,  1.35it/s]"
     ]
    },
    {
     "name": "stdout",
     "output_type": "stream",
     "text": [
      "------------------------------------------------------------------------------ 5080\n",
      "jyoubitaki_121112_utsunomiya_hirano.wma\n",
      "/home/wataru/code/b-com/b-com/crawling/ジョウビタキ/ぐぜり\n",
      "https://www.bird-research.jp/1_shiryo/koe/jyoubitaki_121112_utsunomiya_hirano.wma\n"
     ]
    },
    {
     "name": "stderr",
     "output_type": "stream",
     "text": [
      "\r",
      " 77%|████████████████████████████████████████████████████████████████████████████████████████                          | 5081/6576 [1:02:36<18:32,  1.34it/s]"
     ]
    },
    {
     "name": "stdout",
     "output_type": "stream",
     "text": [
      "------------------------------------------------------------------------------ 5087\n",
      "jobitaki_130820_syobyou_murahama.wma\n",
      "/home/wataru/code/b-com/b-com/crawling/ジョウビタキ/ぐぜり\n",
      "https://www.bird-research.jp/1_shiryo/koe/jobitaki_130820_syobyou_murahama.wma\n"
     ]
    },
    {
     "name": "stderr",
     "output_type": "stream",
     "text": [
      "\r",
      " 77%|████████████████████████████████████████████████████████████████████████████████████████▏                         | 5088/6576 [1:02:42<18:30,  1.34it/s]"
     ]
    },
    {
     "name": "stdout",
     "output_type": "stream",
     "text": [
      "------------------------------------------------------------------------------ 5094\n",
      "jobitaki_160808_hyogo_kuroda.wma\n",
      "/home/wataru/code/b-com/b-com/crawling/ジョウビタキ/巣立ちビナ\n",
      "https://www.bird-research.jp/1_shiryo/koe/jobitaki_160808_hyogo_kuroda.wma\n"
     ]
    },
    {
     "name": "stderr",
     "output_type": "stream",
     "text": [
      "\r",
      " 77%|████████████████████████████████████████████████████████████████████████████████████████▎                         | 5095/6576 [1:02:47<18:23,  1.34it/s]"
     ]
    },
    {
     "name": "stdout",
     "output_type": "stream",
     "text": [
      "------------------------------------------------------------------------------ 5101\n",
      "jobitaki_121027_hyogo_kuroda.wma\n",
      "/home/wataru/code/b-com/b-com/crawling/ジョウビタキ/地鳴き\n",
      "https://www.bird-research.jp/1_shiryo/koe/jobitaki_121027_hyogo_kuroda.wma\n"
     ]
    },
    {
     "name": "stderr",
     "output_type": "stream",
     "text": [
      "\r",
      " 78%|████████████████████████████████████████████████████████████████████████████████████████▍                         | 5102/6576 [1:02:52<18:14,  1.35it/s]"
     ]
    },
    {
     "name": "stdout",
     "output_type": "stream",
     "text": [
      "------------------------------------------------------------------------------ 5108\n",
      "nobitaki1_070620_nagano_kaji.wma\n",
      "/home/wataru/code/b-com/b-com/crawling/ノビタキ/さえずり\n",
      "https://www.bird-research.jp/1_shiryo/koe/nobitaki1_070620_nagano_kaji.wma\n"
     ]
    },
    {
     "name": "stderr",
     "output_type": "stream",
     "text": [
      "\r",
      " 78%|████████████████████████████████████████████████████████████████████████████████████████▌                         | 5109/6576 [1:02:57<18:13,  1.34it/s]"
     ]
    },
    {
     "name": "stdout",
     "output_type": "stream",
     "text": [
      "------------------------------------------------------------------------------ 5115\n",
      "nobitaki_120607_senjyougahara_hirano.wma\n",
      "/home/wataru/code/b-com/b-com/crawling/ノビタキ/威嚇\n",
      "https://www.bird-research.jp/1_shiryo/koe/nobitaki_120607_senjyougahara_hirano.wma\n"
     ]
    },
    {
     "name": "stderr",
     "output_type": "stream",
     "text": [
      "\r",
      " 78%|████████████████████████████████████████████████████████████████████████████████████████▋                         | 5116/6576 [1:03:02<18:10,  1.34it/s]"
     ]
    },
    {
     "name": "stdout",
     "output_type": "stream",
     "text": [
      "------------------------------------------------------------------------------ 5122\n",
      "nobitaki2_070620_nagano_kaji.wma\n",
      "/home/wataru/code/b-com/b-com/crawling/ノビタキ/地鳴き\n",
      "https://www.bird-research.jp/1_shiryo/koe/nobitaki2_070620_nagano_kaji.wma\n"
     ]
    },
    {
     "name": "stderr",
     "output_type": "stream",
     "text": [
      "\r",
      " 78%|████████████████████████████████████████████████████████████████████████████████████████▊                         | 5123/6576 [1:03:08<18:07,  1.34it/s]"
     ]
    },
    {
     "name": "stdout",
     "output_type": "stream",
     "text": [
      "------------------------------------------------------------------------------ 5129\n",
      "isohiyodori_0606_hyogo_kaji.wma\n",
      "/home/wataru/code/b-com/b-com/crawling/イソヒヨドリ/さえずり\n",
      "https://www.bird-research.jp/1_shiryo/koe/isohiyodori_0606_hyogo_kaji.wma\n"
     ]
    },
    {
     "name": "stderr",
     "output_type": "stream",
     "text": [
      "\r",
      " 78%|████████████████████████████████████████████████████████████████████████████████████████▉                         | 5130/6576 [1:03:13<18:18,  1.32it/s]"
     ]
    },
    {
     "name": "stdout",
     "output_type": "stream",
     "text": [
      "------------------------------------------------------------------------------ 5136\n",
      "isohiyo_110419_hahajima_mju.wma\n",
      "/home/wataru/code/b-com/b-com/crawling/イソヒヨドリ/地鳴き\n",
      "https://www.bird-research.jp/1_shiryo/koe/isohiyo_110419_hahajima_mju.wma\n"
     ]
    },
    {
     "name": "stderr",
     "output_type": "stream",
     "text": [
      "\r",
      " 78%|█████████████████████████████████████████████████████████████████████████████████████████                         | 5137/6576 [1:03:18<18:05,  1.33it/s]"
     ]
    },
    {
     "name": "stdout",
     "output_type": "stream",
     "text": [
      "------------------------------------------------------------------------------ 5143\n",
      "isohiyo_140602_nara_mju.wma\n",
      "/home/wataru/code/b-com/b-com/crawling/イソヒヨドリ/地鳴き\n",
      "https://www.bird-research.jp/1_shiryo/koe/isohiyo_140602_nara_mju.wma\n"
     ]
    },
    {
     "name": "stderr",
     "output_type": "stream",
     "text": [
      "\r",
      " 78%|█████████████████████████████████████████████████████████████████████████████████████████▏                        | 5144/6576 [1:03:24<17:58,  1.33it/s]"
     ]
    },
    {
     "name": "stdout",
     "output_type": "stream",
     "text": [
      "------------------------------------------------------------------------------ 5150\n",
      "isohiyo_200525_izu_mju.wma\n",
      "/home/wataru/code/b-com/b-com/crawling/イソヒヨドリ/地鳴き\n",
      "https://www.bird-research.jp/1_shiryo/koe/isohiyo_200525_izu_mju.wma\n"
     ]
    },
    {
     "name": "stderr",
     "output_type": "stream",
     "text": [
      "\r",
      " 78%|█████████████████████████████████████████████████████████████████████████████████████████▎                        | 5151/6576 [1:03:29<17:53,  1.33it/s]"
     ]
    },
    {
     "name": "stdout",
     "output_type": "stream",
     "text": [
      "------------------------------------------------------------------------------ 5157\n",
      "ezobitaki_051005_nasuhio_hirano.wma\n",
      "/home/wataru/code/b-com/b-com/crawling/エゾビタキ/地鳴き\n",
      "https://www.bird-research.jp/1_shiryo/koe/ezobitaki_051005_nasuhio_hirano.wma\n"
     ]
    },
    {
     "name": "stderr",
     "output_type": "stream",
     "text": [
      "\r",
      " 78%|█████████████████████████████████████████████████████████████████████████████████████████▍                        | 5158/6576 [1:03:34<17:46,  1.33it/s]"
     ]
    },
    {
     "name": "stdout",
     "output_type": "stream",
     "text": [
      "------------------------------------------------------------------------------ 5164\n",
      "ezobitaki1_1009_hyogo_kaji.wma\n",
      "/home/wataru/code/b-com/b-com/crawling/エゾビタキ/地鳴き\n",
      "https://www.bird-research.jp/1_shiryo/koe/ezobitaki1_1009_hyogo_kaji.wma\n"
     ]
    },
    {
     "name": "stderr",
     "output_type": "stream",
     "text": [
      "\r",
      " 79%|█████████████████████████████████████████████████████████████████████████████████████████▌                        | 5165/6576 [1:03:39<17:40,  1.33it/s]"
     ]
    },
    {
     "name": "stdout",
     "output_type": "stream",
     "text": [
      "------------------------------------------------------------------------------ 5171\n",
      "ezobitaki2_1010_hyogo_kaji.wma\n",
      "/home/wataru/code/b-com/b-com/crawling/エゾビタキ/地鳴き\n",
      "https://www.bird-research.jp/1_shiryo/koe/ezobitaki2_1010_hyogo_kaji.wma\n"
     ]
    },
    {
     "name": "stderr",
     "output_type": "stream",
     "text": [
      "\r",
      " 79%|█████████████████████████████████████████████████████████████████████████████████████████▋                        | 5172/6576 [1:03:45<17:43,  1.32it/s]"
     ]
    },
    {
     "name": "stdout",
     "output_type": "stream",
     "text": [
      "------------------------------------------------------------------------------ 5178\n",
      "samebitaki_140530_nikko_hirano.wma\n",
      "/home/wataru/code/b-com/b-com/crawling/サメビタキ/さえずり\n",
      "https://www.bird-research.jp/1_shiryo/koe/samebitaki_140530_nikko_hirano.wma\n"
     ]
    },
    {
     "name": "stderr",
     "output_type": "stream",
     "text": [
      "\r",
      " 79%|█████████████████████████████████████████████████████████████████████████████████████████▊                        | 5179/6576 [1:03:50<17:31,  1.33it/s]"
     ]
    },
    {
     "name": "stdout",
     "output_type": "stream",
     "text": [
      "------------------------------------------------------------------------------ 5185\n",
      "samebitaki_080704_doto_kuroda.wma\n",
      "/home/wataru/code/b-com/b-com/crawling/サメビタキ/地鳴き\n",
      "https://www.bird-research.jp/1_shiryo/koe/samebitaki_080704_doto_kuroda.wma\n"
     ]
    },
    {
     "name": "stderr",
     "output_type": "stream",
     "text": [
      "\r",
      " 79%|█████████████████████████████████████████████████████████████████████████████████████████▉                        | 5186/6576 [1:03:55<17:22,  1.33it/s]"
     ]
    },
    {
     "name": "stdout",
     "output_type": "stream",
     "text": [
      "------------------------------------------------------------------------------ 5192\n",
      "kosame_080523_nasushio_hirano.wma\n",
      "/home/wataru/code/b-com/b-com/crawling/コサメビタキ/さえずり\n",
      "https://www.bird-research.jp/1_shiryo/koe/kosame_080523_nasushio_hirano.wma\n"
     ]
    },
    {
     "name": "stderr",
     "output_type": "stream",
     "text": [
      "\r",
      " 79%|██████████████████████████████████████████████████████████████████████████████████████████                        | 5193/6576 [1:04:00<17:17,  1.33it/s]"
     ]
    },
    {
     "name": "stdout",
     "output_type": "stream",
     "text": [
      "------------------------------------------------------------------------------ 5199\n",
      "kosamebitaki_130418_hyogo_kaji.wma\n",
      "/home/wataru/code/b-com/b-com/crawling/コサメビタキ/さえずり\n",
      "https://www.bird-research.jp/1_shiryo/koe/kosamebitaki_130418_hyogo_kaji.wma\n"
     ]
    },
    {
     "name": "stderr",
     "output_type": "stream",
     "text": [
      "\r",
      " 79%|██████████████████████████████████████████████████████████████████████████████████████████▏                       | 5200/6576 [1:04:06<17:11,  1.33it/s]"
     ]
    },
    {
     "name": "stdout",
     "output_type": "stream",
     "text": [
      "------------------------------------------------------------------------------ 5206\n",
      "kosamebitaki_100529_nasushiobara.wma\n",
      "/home/wataru/code/b-com/b-com/crawling/コサメビタキ/地鳴き\n",
      "https://www.bird-research.jp/1_shiryo/koe/kosamebitaki_100529_nasushiobara.wma\n"
     ]
    },
    {
     "name": "stderr",
     "output_type": "stream",
     "text": [
      "\r",
      " 79%|██████████████████████████████████████████████████████████████████████████████████████████▎                       | 5207/6576 [1:04:11<17:02,  1.34it/s]"
     ]
    },
    {
     "name": "stdout",
     "output_type": "stream",
     "text": [
      "------------------------------------------------------------------------------ 5213\n",
      "kosamebitaki_100900_hyogo_kaji.wma\n",
      "/home/wataru/code/b-com/b-com/crawling/コサメビタキ/地鳴き\n",
      "https://www.bird-research.jp/1_shiryo/koe/kosamebitaki_100900_hyogo_kaji.wma\n"
     ]
    },
    {
     "name": "stderr",
     "output_type": "stream",
     "text": [
      "\r",
      " 79%|██████████████████████████████████████████████████████████████████████████████████████████▍                       | 5214/6576 [1:04:16<16:59,  1.34it/s]"
     ]
    },
    {
     "name": "stdout",
     "output_type": "stream",
     "text": [
      "------------------------------------------------------------------------------ 5220\n",
      "kosamebitaki_100606_nasusiobara.wma\n",
      "/home/wataru/code/b-com/b-com/crawling/コサメビタキ/警戒\n",
      "https://www.bird-research.jp/1_shiryo/koe/kosamebitaki_100606_nasusiobara.wma\n"
     ]
    },
    {
     "name": "stderr",
     "output_type": "stream",
     "text": [
      "\r",
      " 79%|██████████████████████████████████████████████████████████████████████████████████████████▌                       | 5221/6576 [1:04:21<16:50,  1.34it/s]"
     ]
    },
    {
     "name": "stdout",
     "output_type": "stream",
     "text": [
      "------------------------------------------------------------------------------ 5227\n",
      "kosame_130514_nasushio_hirano.wma\n",
      "/home/wataru/code/b-com/b-com/crawling/コサメビタキ/鳴きまね\n",
      "https://www.bird-research.jp/1_shiryo/koe/kosame_130514_nasushio_hirano.wma\n"
     ]
    },
    {
     "name": "stderr",
     "output_type": "stream",
     "text": [
      "\r",
      " 80%|██████████████████████████████████████████████████████████████████████████████████████████▋                       | 5228/6576 [1:04:27<16:46,  1.34it/s]"
     ]
    },
    {
     "name": "stdout",
     "output_type": "stream",
     "text": [
      "------------------------------------------------------------------------------ 5234\n",
      "kibitaki_090620_kosado_mju.wma\n",
      "/home/wataru/code/b-com/b-com/crawling/キビタキ/さえずり\n",
      "https://www.bird-research.jp/1_shiryo/koe/kibitaki_090620_kosado_mju.wma\n"
     ]
    },
    {
     "name": "stderr",
     "output_type": "stream",
     "text": [
      "\r",
      " 80%|██████████████████████████████████████████████████████████████████████████████████████████▊                       | 5235/6576 [1:04:32<16:44,  1.33it/s]"
     ]
    },
    {
     "name": "stdout",
     "output_type": "stream",
     "text": [
      "------------------------------------------------------------------------------ 5242\n",
      "kibitaki_210723_yaita_o.wma\n",
      "/home/wataru/code/b-com/b-com/crawling/キビタキ/さえずり\n",
      "https://www.bird-research.jp/1_shiryo/koe/kibitaki_210723_yaita_o.wma\n",
      "Not Found\n"
     ]
    },
    {
     "name": "stderr",
     "output_type": "stream",
     "text": [
      "\r",
      " 80%|██████████████████████████████████████████████████████████████████████████████████████████▉                       | 5243/6576 [1:04:37<15:50,  1.40it/s]"
     ]
    },
    {
     "name": "stdout",
     "output_type": "stream",
     "text": [
      "------------------------------------------------------------------------------ 5249\n",
      "kibitaki_150610_sado_mju.wma\n",
      "/home/wataru/code/b-com/b-com/crawling/キビタキ/地鳴き\n",
      "https://www.bird-research.jp/1_shiryo/koe/kibitaki_150610_sado_mju.wma\n"
     ]
    },
    {
     "name": "stderr",
     "output_type": "stream",
     "text": [
      "\r",
      " 80%|███████████████████████████████████████████████████████████████████████████████████████████                       | 5250/6576 [1:04:42<16:00,  1.38it/s]"
     ]
    },
    {
     "name": "stdout",
     "output_type": "stream",
     "text": [
      "------------------------------------------------------------------------------ 5256\n",
      "kibitaki1_0904_hyogo_kaji.wma\n",
      "/home/wataru/code/b-com/b-com/crawling/キビタキ/特殊声\n",
      "https://www.bird-research.jp/1_shiryo/koe/kibitaki1_0904_hyogo_kaji.wma\n"
     ]
    },
    {
     "name": "stderr",
     "output_type": "stream",
     "text": [
      "\r",
      " 80%|███████████████████████████████████████████████████████████████████████████████████████████▏                      | 5257/6576 [1:04:47<16:06,  1.37it/s]"
     ]
    },
    {
     "name": "stdout",
     "output_type": "stream",
     "text": [
      "------------------------------------------------------------------------------ 5263\n",
      "kibitaki2_0904_hyogo_kaji.wma\n",
      "/home/wataru/code/b-com/b-com/crawling/キビタキ/特殊声\n",
      "https://www.bird-research.jp/1_shiryo/koe/kibitaki2_0904_hyogo_kaji.wma\n"
     ]
    },
    {
     "name": "stderr",
     "output_type": "stream",
     "text": [
      "\r",
      " 80%|███████████████████████████████████████████████████████████████████████████████████████████▎                      | 5264/6576 [1:04:53<16:04,  1.36it/s]"
     ]
    },
    {
     "name": "stdout",
     "output_type": "stream",
     "text": [
      "------------------------------------------------------------------------------ 5270\n",
      "kibitaki_0906_hyogo_kaji.wma\n",
      "/home/wataru/code/b-com/b-com/crawling/キビタキ/巣立ちビナ\n",
      "https://www.bird-research.jp/1_shiryo/koe/kibitaki_0906_hyogo_kaji.wma\n"
     ]
    },
    {
     "name": "stderr",
     "output_type": "stream",
     "text": [
      "\r",
      " 80%|███████████████████████████████████████████████████████████████████████████████████████████▍                      | 5271/6576 [1:04:58<16:06,  1.35it/s]"
     ]
    },
    {
     "name": "stdout",
     "output_type": "stream",
     "text": [
      "------------------------------------------------------------------------------ 5277\n",
      "kibitaki_130531_sasayama_kaji.wma\n",
      "/home/wataru/code/b-com/b-com/crawling/キビタキ/喧嘩\n",
      "https://www.bird-research.jp/1_shiryo/koe/kibitaki_130531_sasayama_kaji.wma\n"
     ]
    },
    {
     "name": "stderr",
     "output_type": "stream",
     "text": [
      "\r",
      " 80%|███████████████████████████████████████████████████████████████████████████████████████████▍                      | 5278/6576 [1:05:03<16:04,  1.35it/s]"
     ]
    },
    {
     "name": "stdout",
     "output_type": "stream",
     "text": [
      "------------------------------------------------------------------------------ 5284\n",
      "ryuukyuukibitaki_060312_okinawa_kaji.wma\n",
      "/home/wataru/code/b-com/b-com/crawling/ﾘｭｳｷｭｳｷﾋﾞﾀｷ/亜種\n",
      "https://www.bird-research.jp/1_shiryo/koe/ryuukyuukibitaki_060312_okinawa_kaji.wma\n"
     ]
    },
    {
     "name": "stderr",
     "output_type": "stream",
     "text": [
      "\r",
      " 80%|███████████████████████████████████████████████████████████████████████████████████████████▌                      | 5285/6576 [1:05:08<16:03,  1.34it/s]"
     ]
    },
    {
     "name": "stdout",
     "output_type": "stream",
     "text": [
      "------------------------------------------------------------------------------ 5291\n",
      "rkibitaki_120423_ishigaki_moriya.wma\n",
      "/home/wataru/code/b-com/b-com/crawling/ﾘｭｳｷｭｳｷﾋﾞﾀｷ/亜種\n",
      "https://www.bird-research.jp/1_shiryo/koe/rkibitaki_120423_ishigaki_moriya.wma\n"
     ]
    },
    {
     "name": "stderr",
     "output_type": "stream",
     "text": [
      "\r",
      " 80%|███████████████████████████████████████████████████████████████████████████████████████████▋                      | 5292/6576 [1:05:14<15:59,  1.34it/s]"
     ]
    },
    {
     "name": "stdout",
     "output_type": "stream",
     "text": [
      "------------------------------------------------------------------------------ 5298\n",
      "mugimaki_120505_hyogo_kaji.wma\n",
      "/home/wataru/code/b-com/b-com/crawling/ムギマキ/さえずり\n",
      "https://www.bird-research.jp/1_shiryo/koe/mugimaki_120505_hyogo_kaji.wma\n"
     ]
    },
    {
     "name": "stderr",
     "output_type": "stream",
     "text": [
      "\r",
      " 81%|███████████████████████████████████████████████████████████████████████████████████████████▊                      | 5299/6576 [1:05:19<15:55,  1.34it/s]"
     ]
    },
    {
     "name": "stdout",
     "output_type": "stream",
     "text": [
      "------------------------------------------------------------------------------ 5305\n",
      "mugimaki_0905_hyogo_kaji.wma\n",
      "/home/wataru/code/b-com/b-com/crawling/ムギマキ/ぐぜり\n",
      "https://www.bird-research.jp/1_shiryo/koe/mugimaki_0905_hyogo_kaji.wma\n"
     ]
    },
    {
     "name": "stderr",
     "output_type": "stream",
     "text": [
      "\r",
      " 81%|███████████████████████████████████████████████████████████████████████████████████████████▉                      | 5306/6576 [1:05:24<15:48,  1.34it/s]"
     ]
    },
    {
     "name": "stdout",
     "output_type": "stream",
     "text": [
      "------------------------------------------------------------------------------ 5312\n",
      "mugimaki_150511_hyogo_kaji.wma\n",
      "/home/wataru/code/b-com/b-com/crawling/ムギマキ/地鳴き\n",
      "https://www.bird-research.jp/1_shiryo/koe/mugimaki_150511_hyogo_kaji.wma\n"
     ]
    },
    {
     "name": "stderr",
     "output_type": "stream",
     "text": [
      "\r",
      " 81%|████████████████████████████████████████████████████████████████████████████████████████████                      | 5313/6576 [1:05:29<15:40,  1.34it/s]"
     ]
    },
    {
     "name": "stdout",
     "output_type": "stream",
     "text": [
      "------------------------------------------------------------------------------ 5319\n",
      "ojirobitaki_111204_utsunomiya_hirano.wma\n",
      "/home/wataru/code/b-com/b-com/crawling/ニシオジロビタキ/地鳴き\n",
      "https://www.bird-research.jp/1_shiryo/koe/ojirobitaki_111204_utsunomiya_hirano.wma\n"
     ]
    },
    {
     "name": "stderr",
     "output_type": "stream",
     "text": [
      "\r",
      " 81%|████████████████████████████████████████████████████████████████████████████████████████████▏                     | 5320/6576 [1:05:35<15:38,  1.34it/s]"
     ]
    },
    {
     "name": "stdout",
     "output_type": "stream",
     "text": [
      "------------------------------------------------------------------------------ 5326\n",
      "nishiojiro_150109_kato_okamoto.wma\n",
      "/home/wataru/code/b-com/b-com/crawling/ニシオジロビタキ/地鳴き\n",
      "https://www.bird-research.jp/1_shiryo/koe/nishiojiro_150109_kato_okamoto.wma\n"
     ]
    },
    {
     "name": "stderr",
     "output_type": "stream",
     "text": [
      "\r",
      " 81%|████████████████████████████████████████████████████████████████████████████████████████████▎                     | 5327/6576 [1:05:40<15:32,  1.34it/s]"
     ]
    },
    {
     "name": "stdout",
     "output_type": "stream",
     "text": [
      "------------------------------------------------------------------------------ 5333\n",
      "ooruri_060526_tanzawa_mju.wma\n",
      "/home/wataru/code/b-com/b-com/crawling/オオルリ/さえずり\n",
      "https://www.bird-research.jp/1_shiryo/koe/ooruri_060526_tanzawa_mju.wma\n"
     ]
    },
    {
     "name": "stderr",
     "output_type": "stream",
     "text": [
      "\r",
      " 81%|████████████████████████████████████████████████████████████████████████████████████████████▍                     | 5334/6576 [1:05:45<15:29,  1.34it/s]"
     ]
    },
    {
     "name": "stdout",
     "output_type": "stream",
     "text": [
      "------------------------------------------------------------------------------ 5341\n",
      "ooruri_0905_hyogo_kaji.wma\n",
      "/home/wataru/code/b-com/b-com/crawling/オオルリ/地鳴き\n",
      "https://www.bird-research.jp/1_shiryo/koe/ooruri_0905_hyogo_kaji.wma\n"
     ]
    },
    {
     "name": "stderr",
     "output_type": "stream",
     "text": [
      "\r",
      " 81%|████████████████████████████████████████████████████████████████████████████████████████████▌                     | 5342/6576 [1:05:50<14:46,  1.39it/s]"
     ]
    },
    {
     "name": "stdout",
     "output_type": "stream",
     "text": [
      "------------------------------------------------------------------------------ 5348\n",
      "ooruri_0907_hyogo_kaji.wma\n",
      "/home/wataru/code/b-com/b-com/crawling/オオルリ/雌囀り\n",
      "https://www.bird-research.jp/1_shiryo/koe/ooruri_0907_hyogo_kaji.wma\n"
     ]
    },
    {
     "name": "stderr",
     "output_type": "stream",
     "text": [
      "\r",
      " 81%|████████████████████████████████████████████████████████████████████████████████████████████▋                     | 5349/6576 [1:05:56<14:54,  1.37it/s]"
     ]
    },
    {
     "name": "stdout",
     "output_type": "stream",
     "text": [
      "------------------------------------------------------------------------------ 5355\n",
      "ooruri_170516_chichibu_mju.wma\n",
      "/home/wataru/code/b-com/b-com/crawling/オオルリ/雄警戒？\n",
      "https://www.bird-research.jp/1_shiryo/koe/ooruri_170516_chichibu_mju.wma\n"
     ]
    },
    {
     "name": "stderr",
     "output_type": "stream",
     "text": [
      "\r",
      " 81%|████████████████████████████████████████████████████████████████████████████████████████████▊                     | 5356/6576 [1:06:01<14:56,  1.36it/s]"
     ]
    },
    {
     "name": "stdout",
     "output_type": "stream",
     "text": [
      "------------------------------------------------------------------------------ 5362\n",
      "oruri_210530_kosado_mju.wma\n",
      "/home/wataru/code/b-com/b-com/crawling/オオルリ/クロジ真似\n",
      "https://www.bird-research.jp/1_shiryo/koe/oruri_210530_kosado_mju.wma\n"
     ]
    },
    {
     "name": "stderr",
     "output_type": "stream",
     "text": [
      "\r",
      " 82%|████████████████████████████████████████████████████████████████████████████████████████████▉                     | 5363/6576 [1:06:06<14:54,  1.36it/s]"
     ]
    },
    {
     "name": "stdout",
     "output_type": "stream",
     "text": [
      "------------------------------------------------------------------------------ 5369\n",
      "oruri_210611_hinohara_mju.wma\n",
      "/home/wataru/code/b-com/b-com/crawling/オオルリ/ジュウイチ真似\n",
      "https://www.bird-research.jp/1_shiryo/koe/oruri_210611_hinohara_mju.wma\n"
     ]
    },
    {
     "name": "stderr",
     "output_type": "stream",
     "text": [
      "\r",
      " 82%|█████████████████████████████████████████████████████████████████████████████████████████████                     | 5370/6576 [1:06:11<14:54,  1.35it/s]"
     ]
    },
    {
     "name": "stdout",
     "output_type": "stream",
     "text": [
      "------------------------------------------------------------------------------ 5377\n",
      "iwahibari_170614_fuji_takagi.wma\n",
      "/home/wataru/code/b-com/b-com/crawling/イワヒバリ/さえずり\n",
      "https://www.bird-research.jp/1_shiryo/koe/iwahibari_170614_fuji_takagi.wma\n"
     ]
    },
    {
     "name": "stderr",
     "output_type": "stream",
     "text": [
      "\r",
      " 82%|█████████████████████████████████████████████████████████████████████████████████████████████▏                    | 5378/6576 [1:06:17<14:16,  1.40it/s]"
     ]
    },
    {
     "name": "stdout",
     "output_type": "stream",
     "text": [
      "------------------------------------------------------------------------------ 5384\n",
      "iwahibari-fly_170614_fuji_takagi.wma\n",
      "/home/wataru/code/b-com/b-com/crawling/イワヒバリ/さえずり飛\n",
      "https://www.bird-research.jp/1_shiryo/koe/iwahibari-fly_170614_fuji_takagi.wma\n"
     ]
    },
    {
     "name": "stderr",
     "output_type": "stream",
     "text": [
      "\r",
      " 82%|█████████████████████████████████████████████████████████████████████████████████████████████▎                    | 5385/6576 [1:06:22<14:23,  1.38it/s]"
     ]
    },
    {
     "name": "stdout",
     "output_type": "stream",
     "text": [
      "------------------------------------------------------------------------------ 5391\n",
      "iwahibari_210824_norikura_kuroda.wma\n",
      "/home/wataru/code/b-com/b-com/crawling/イワヒバリ/さえずり\n",
      "https://www.bird-research.jp/1_shiryo/koe/iwahibari_210824_norikura_kuroda.wma\n"
     ]
    },
    {
     "name": "stderr",
     "output_type": "stream",
     "text": [
      "\r",
      " 82%|█████████████████████████████████████████████████████████████████████████████████████████████▍                    | 5392/6576 [1:06:27<14:45,  1.34it/s]"
     ]
    },
    {
     "name": "stdout",
     "output_type": "stream",
     "text": [
      "------------------------------------------------------------------------------ 5398\n",
      "iwahibari2_210824_norikura_kuroda.wma\n",
      "/home/wataru/code/b-com/b-com/crawling/イワヒバリ/さえずり\n",
      "https://www.bird-research.jp/1_shiryo/koe/iwahibari2_210824_norikura_kuroda.wma\n"
     ]
    },
    {
     "name": "stderr",
     "output_type": "stream",
     "text": [
      "\r",
      " 82%|█████████████████████████████████████████████████████████████████████████████████████████████▌                    | 5399/6576 [1:06:33<14:42,  1.33it/s]"
     ]
    },
    {
     "name": "stdout",
     "output_type": "stream",
     "text": [
      "------------------------------------------------------------------------------ 5405\n",
      "iwahibaric_210824_norikura_kuroda.wma\n",
      "/home/wataru/code/b-com/b-com/crawling/イワヒバリ/巣内ビナ\n",
      "https://www.bird-research.jp/1_shiryo/koe/iwahibaric_210824_norikura_kuroda.wma\n"
     ]
    },
    {
     "name": "stderr",
     "output_type": "stream",
     "text": [
      "\r",
      " 82%|█████████████████████████████████████████████████████████████████████████████████████████████▋                    | 5406/6576 [1:06:38<14:39,  1.33it/s]"
     ]
    },
    {
     "name": "stdout",
     "output_type": "stream",
     "text": [
      "------------------------------------------------------------------------------ 5412\n",
      "iwahibarin_210824_norikura_kuroda.wma\n",
      "/home/wataru/code/b-com/b-com/crawling/イワヒバリ/巣内ビナ\n",
      "https://www.bird-research.jp/1_shiryo/koe/iwahibarin_210824_norikura_kuroda.wma\n"
     ]
    },
    {
     "name": "stderr",
     "output_type": "stream",
     "text": [
      "\r",
      " 82%|█████████████████████████████████████████████████████████████████████████████████████████████▊                    | 5413/6576 [1:06:43<14:36,  1.33it/s]"
     ]
    },
    {
     "name": "stdout",
     "output_type": "stream",
     "text": [
      "------------------------------------------------------------------------------ 5419\n",
      "kayakuguri_181225_chichibu_mju.wma\n",
      "/home/wataru/code/b-com/b-com/crawling/カヤクグリ/地鳴き\n",
      "https://www.bird-research.jp/1_shiryo/koe/kayakuguri_181225_chichibu_mju.wma\n"
     ]
    },
    {
     "name": "stderr",
     "output_type": "stream",
     "text": [
      "\r",
      " 82%|█████████████████████████████████████████████████████████████████████████████████████████████▉                    | 5420/6576 [1:06:49<14:31,  1.33it/s]"
     ]
    },
    {
     "name": "stdout",
     "output_type": "stream",
     "text": [
      "------------------------------------------------------------------------------ 5426\n",
      "kayakuguri_0811_hyogo_kaji.wma\n",
      "/home/wataru/code/b-com/b-com/crawling/カヤクグリ/地鳴き\n",
      "https://www.bird-research.jp/1_shiryo/koe/kayakuguri_0811_hyogo_kaji.wma\n"
     ]
    },
    {
     "name": "stderr",
     "output_type": "stream",
     "text": [
      "\r",
      " 83%|██████████████████████████████████████████████████████████████████████████████████████████████                    | 5427/6576 [1:06:54<14:25,  1.33it/s]"
     ]
    },
    {
     "name": "stdout",
     "output_type": "stream",
     "text": [
      "------------------------------------------------------------------------------ 5433\n",
      "kayakuguri_100528_norikura_hotta.wma\n",
      "/home/wataru/code/b-com/b-com/crawling/カヤクグリ/さえずり\n",
      "https://www.bird-research.jp/1_shiryo/koe/kayakuguri_100528_norikura_hotta.wma\n"
     ]
    },
    {
     "name": "stderr",
     "output_type": "stream",
     "text": [
      "\r",
      " 83%|██████████████████████████████████████████████████████████████████████████████████████████████▏                   | 5434/6576 [1:06:59<14:21,  1.33it/s]"
     ]
    },
    {
     "name": "stdout",
     "output_type": "stream",
     "text": [
      "------------------------------------------------------------------------------ 5440\n",
      "kayakuguri_100529_norikura_hotta.wma\n",
      "/home/wataru/code/b-com/b-com/crawling/カヤクグリ/さえずり\n",
      "https://www.bird-research.jp/1_shiryo/koe/kayakuguri_100529_norikura_hotta.wma\n"
     ]
    },
    {
     "name": "stderr",
     "output_type": "stream",
     "text": [
      "\r",
      " 83%|██████████████████████████████████████████████████████████████████████████████████████████████▎                   | 5441/6576 [1:07:04<14:11,  1.33it/s]"
     ]
    },
    {
     "name": "stdout",
     "output_type": "stream",
     "text": [
      "------------------------------------------------------------------------------ 5448\n",
      "nyuunai_180711_obihiro_mju.wma\n",
      "/home/wataru/code/b-com/b-com/crawling/ニュウナイスズメ/\n",
      "https://www.bird-research.jp/1_shiryo/koe/nyuunai_180711_obihiro_mju.wma\n"
     ]
    },
    {
     "name": "stderr",
     "output_type": "stream",
     "text": [
      "\r",
      " 83%|██████████████████████████████████████████████████████████████████████████████████████████████▍                   | 5449/6576 [1:07:10<13:32,  1.39it/s]"
     ]
    },
    {
     "name": "stdout",
     "output_type": "stream",
     "text": [
      "------------------------------------------------------------------------------ 5455\n",
      "newnai_210420_hyogo_kaji.wma\n",
      "/home/wataru/code/b-com/b-com/crawling/ニュウナイスズメ/時鳴き\n",
      "https://www.bird-research.jp/1_shiryo/koe/newnai_210420_hyogo_kaji.wma\n"
     ]
    },
    {
     "name": "stderr",
     "output_type": "stream",
     "text": [
      "\r",
      " 83%|██████████████████████████████████████████████████████████████████████████████████████████████▌                   | 5456/6576 [1:07:15<13:38,  1.37it/s]"
     ]
    },
    {
     "name": "stdout",
     "output_type": "stream",
     "text": [
      "------------------------------------------------------------------------------ 5462\n",
      "nyuunaisuzume_110809_nikko_hirano.wma\n",
      "/home/wataru/code/b-com/b-com/crawling/ニュウナイスズメ/\n",
      "https://www.bird-research.jp/1_shiryo/koe/nyuunaisuzume_110809_nikko_hirano.wma\n"
     ]
    },
    {
     "name": "stderr",
     "output_type": "stream",
     "text": [
      "\r",
      " 83%|██████████████████████████████████████████████████████████████████████████████████████████████▋                   | 5463/6576 [1:07:20<13:39,  1.36it/s]"
     ]
    },
    {
     "name": "stdout",
     "output_type": "stream",
     "text": [
      "------------------------------------------------------------------------------ 5469\n",
      "nyunai_080614_nikko_hirano.wma\n",
      "/home/wataru/code/b-com/b-com/crawling/ニュウナイスズメ/\n",
      "https://www.bird-research.jp/1_shiryo/koe/nyunai_080614_nikko_hirano.wma\n"
     ]
    },
    {
     "name": "stderr",
     "output_type": "stream",
     "text": [
      "\r",
      " 83%|██████████████████████████████████████████████████████████████████████████████████████████████▊                   | 5470/6576 [1:07:25<13:38,  1.35it/s]"
     ]
    },
    {
     "name": "stdout",
     "output_type": "stream",
     "text": [
      "------------------------------------------------------------------------------ 5476\n",
      "suzume_040504_kokubunji_mju.wma\n",
      "/home/wataru/code/b-com/b-com/crawling/スズメ/地鳴き\n",
      "https://www.bird-research.jp/1_shiryo/koe/suzume_040504_kokubunji_mju.wma\n"
     ]
    },
    {
     "name": "stderr",
     "output_type": "stream",
     "text": [
      "\r",
      " 83%|██████████████████████████████████████████████████████████████████████████████████████████████▉                   | 5477/6576 [1:07:31<13:36,  1.35it/s]"
     ]
    },
    {
     "name": "stdout",
     "output_type": "stream",
     "text": [
      "------------------------------------------------------------------------------ 5483\n",
      "suzume_190814_hino_koyama.wma\n",
      "/home/wataru/code/b-com/b-com/crawling/スズメ/地鳴き\n",
      "https://www.bird-research.jp/1_shiryo/koe/suzume_190814_hino_koyama.wma\n"
     ]
    },
    {
     "name": "stderr",
     "output_type": "stream",
     "text": [
      "\r",
      " 83%|███████████████████████████████████████████████████████████████████████████████████████████████                   | 5484/6576 [1:07:36<13:34,  1.34it/s]"
     ]
    },
    {
     "name": "stdout",
     "output_type": "stream",
     "text": [
      "------------------------------------------------------------------------------ 5490\n",
      "suzume_120210_nemuro_mju.wma\n",
      "/home/wataru/code/b-com/b-com/crawling/スズメ/地鳴き\n",
      "https://www.bird-research.jp/1_shiryo/koe/suzume_120210_nemuro_mju.wma\n"
     ]
    },
    {
     "name": "stderr",
     "output_type": "stream",
     "text": [
      "\r",
      " 84%|███████████████████████████████████████████████████████████████████████████████████████████████▏                  | 5491/6576 [1:07:41<13:30,  1.34it/s]"
     ]
    },
    {
     "name": "stdout",
     "output_type": "stream",
     "text": [
      "------------------------------------------------------------------------------ 5497\n",
      "suzume_100525_utsunomiya.wma\n",
      "/home/wataru/code/b-com/b-com/crawling/スズメ/地鳴き\n",
      "https://www.bird-research.jp/1_shiryo/koe/suzume_100525_utsunomiya.wma\n"
     ]
    },
    {
     "name": "stderr",
     "output_type": "stream",
     "text": [
      "\r",
      " 84%|███████████████████████████████████████████████████████████████████████████████████████████████▎                  | 5498/6576 [1:07:47<13:32,  1.33it/s]"
     ]
    },
    {
     "name": "stdout",
     "output_type": "stream",
     "text": [
      "------------------------------------------------------------------------------ 5505\n",
      "tsumenagasekirei_050621_hokkaidou_kaji.wma\n",
      "/home/wataru/code/b-com/b-com/crawling/ツメナガセキレイ/地鳴き\n",
      "https://www.bird-research.jp/1_shiryo/koe/tsumenagasekirei_050621_hokkaidou_kaji.wma\n"
     ]
    },
    {
     "name": "stderr",
     "output_type": "stream",
     "text": [
      "\r",
      " 84%|███████████████████████████████████████████████████████████████████████████████████████████████▍                  | 5506/6576 [1:07:52<12:52,  1.38it/s]"
     ]
    },
    {
     "name": "stdout",
     "output_type": "stream",
     "text": [
      "------------------------------------------------------------------------------ 5512\n",
      "kisekirei_060526_tanzawa_mju.wma\n",
      "/home/wataru/code/b-com/b-com/crawling/キセキレイ/さえずり\n",
      "https://www.bird-research.jp/1_shiryo/koe/kisekirei_060526_tanzawa_mju.wma\n"
     ]
    },
    {
     "name": "stderr",
     "output_type": "stream",
     "text": [
      "\r",
      " 84%|███████████████████████████████████████████████████████████████████████████████████████████████▌                  | 5513/6576 [1:07:57<12:57,  1.37it/s]"
     ]
    },
    {
     "name": "stdout",
     "output_type": "stream",
     "text": [
      "------------------------------------------------------------------------------ 5519\n",
      "kisekirei_101209_watarase_hirano.wma\n",
      "/home/wataru/code/b-com/b-com/crawling/キセキレイ/地鳴き\n",
      "https://www.bird-research.jp/1_shiryo/koe/kisekirei_101209_watarase_hirano.wma\n"
     ]
    },
    {
     "name": "stderr",
     "output_type": "stream",
     "text": [
      "\r",
      " 84%|███████████████████████████████████████████████████████████████████████████████████████████████▋                  | 5520/6576 [1:08:02<12:57,  1.36it/s]"
     ]
    },
    {
     "name": "stdout",
     "output_type": "stream",
     "text": [
      "------------------------------------------------------------------------------ 5526\n",
      "kisekirei_160601_chichibu_mju.wma\n",
      "/home/wataru/code/b-com/b-com/crawling/キセキレイ/地鳴き\n",
      "https://www.bird-research.jp/1_shiryo/koe/kisekirei_160601_chichibu_mju.wma\n"
     ]
    },
    {
     "name": "stderr",
     "output_type": "stream",
     "text": [
      "\r",
      " 84%|███████████████████████████████████████████████████████████████████████████████████████████████▊                  | 5527/6576 [1:08:08<12:58,  1.35it/s]"
     ]
    },
    {
     "name": "stdout",
     "output_type": "stream",
     "text": [
      "------------------------------------------------------------------------------ 5533\n",
      "hakuseki_211024_nagoya_yasuda.wma\n",
      "/home/wataru/code/b-com/b-com/crawling/ハクセキレイ/地鳴き\n",
      "https://www.bird-research.jp/1_shiryo/koe/hakuseki_211024_nagoya_yasuda.wma\n",
      "Not Found\n"
     ]
    },
    {
     "name": "stderr",
     "output_type": "stream",
     "text": [
      "\r",
      " 84%|███████████████████████████████████████████████████████████████████████████████████████████████▉                  | 5534/6576 [1:08:13<12:49,  1.35it/s]"
     ]
    },
    {
     "name": "stdout",
     "output_type": "stream",
     "text": [
      "------------------------------------------------------------------------------ 5540\n",
      "hakuseki_090318b_hitachi_hirano.wma\n",
      "/home/wataru/code/b-com/b-com/crawling/ハクセキレイ/地鳴き\n",
      "https://www.bird-research.jp/1_shiryo/koe/hakuseki_090318b_hitachi_hirano.wma\n"
     ]
    },
    {
     "name": "stderr",
     "output_type": "stream",
     "text": [
      "\r",
      " 84%|████████████████████████████████████████████████████████████████████████████████████████████████                  | 5541/6576 [1:08:18<12:47,  1.35it/s]"
     ]
    },
    {
     "name": "stdout",
     "output_type": "stream",
     "text": [
      "------------------------------------------------------------------------------ 5547\n",
      "hakuseki_090318_hitachi_hirano.wma\n",
      "/home/wataru/code/b-com/b-com/crawling/ハクセキレイ/地鳴き\n",
      "https://www.bird-research.jp/1_shiryo/koe/hakuseki_090318_hitachi_hirano.wma\n"
     ]
    },
    {
     "name": "stderr",
     "output_type": "stream",
     "text": [
      "\r",
      " 84%|████████████████████████████████████████████████████████████████████████████████████████████████▏                 | 5548/6576 [1:08:23<12:44,  1.34it/s]"
     ]
    },
    {
     "name": "stdout",
     "output_type": "stream",
     "text": [
      "------------------------------------------------------------------------------ 5554\n",
      "hakuseki_140427_utsunomiya_hirano.wma\n",
      "/home/wataru/code/b-com/b-com/crawling/ハクセキレイ/さえずり\n",
      "https://www.bird-research.jp/1_shiryo/koe/hakuseki_140427_utsunomiya_hirano.wma\n"
     ]
    },
    {
     "name": "stderr",
     "output_type": "stream",
     "text": [
      "\r",
      " 84%|████████████████████████████████████████████████████████████████████████████████████████████████▎                 | 5555/6576 [1:08:28<12:38,  1.35it/s]"
     ]
    },
    {
     "name": "stdout",
     "output_type": "stream",
     "text": [
      "------------------------------------------------------------------------------ 5561\n",
      "hakusekirei_100316_utsunomiya.wma\n",
      "/home/wataru/code/b-com/b-com/crawling/ハクセキレイ/ぐぜり\n",
      "https://www.bird-research.jp/1_shiryo/koe/hakusekirei_100316_utsunomiya.wma\n"
     ]
    },
    {
     "name": "stderr",
     "output_type": "stream",
     "text": [
      "\r",
      " 85%|████████████████████████████████████████████████████████████████████████████████████████████████▍                 | 5562/6576 [1:08:34<12:31,  1.35it/s]"
     ]
    },
    {
     "name": "stdout",
     "output_type": "stream",
     "text": [
      "------------------------------------------------------------------------------ 5568\n",
      "seguroseki_090312_nasu_hirano.wma\n",
      "/home/wataru/code/b-com/b-com/crawling/セグロセキレイ/さえずり\n",
      "https://www.bird-research.jp/1_shiryo/koe/seguroseki_090312_nasu_hirano.wma\n"
     ]
    },
    {
     "name": "stderr",
     "output_type": "stream",
     "text": [
      "\r",
      " 85%|████████████████████████████████████████████████████████████████████████████████████████████████▌                 | 5569/6576 [1:08:39<12:28,  1.34it/s]"
     ]
    },
    {
     "name": "stdout",
     "output_type": "stream",
     "text": [
      "------------------------------------------------------------------------------ 5575\n",
      "seguroseki_090102_utsunomiya_hirano.wma\n",
      "/home/wataru/code/b-com/b-com/crawling/セグロセキレイ/地鳴き\n",
      "https://www.bird-research.jp/1_shiryo/koe/seguroseki_090102_utsunomiya_hirano.wma\n"
     ]
    },
    {
     "name": "stderr",
     "output_type": "stream",
     "text": [
      "\r",
      " 85%|████████████████████████████████████████████████████████████████████████████████████████████████▋                 | 5576/6576 [1:08:44<12:21,  1.35it/s]"
     ]
    },
    {
     "name": "stdout",
     "output_type": "stream",
     "text": [
      "------------------------------------------------------------------------------ 5582\n",
      "segurosekirei_100316_utsunomiya.wma\n",
      "/home/wataru/code/b-com/b-com/crawling/セグロセキレイ/警戒\n",
      "https://www.bird-research.jp/1_shiryo/koe/segurosekirei_100316_utsunomiya.wma\n"
     ]
    },
    {
     "name": "stderr",
     "output_type": "stream",
     "text": [
      "\r",
      " 85%|████████████████████████████████████████████████████████████████████████████████████████████████▊                 | 5583/6576 [1:08:49<12:19,  1.34it/s]"
     ]
    },
    {
     "name": "stdout",
     "output_type": "stream",
     "text": [
      "------------------------------------------------------------------------------ 5589\n",
      "mamitahi_121109_kitakyu_moriya.wma\n",
      "/home/wataru/code/b-com/b-com/crawling/マミジロタヒバリ/地鳴き\n",
      "https://www.bird-research.jp/1_shiryo/koe/mamitahi_121109_kitakyu_moriya.wma\n"
     ]
    },
    {
     "name": "stderr",
     "output_type": "stream",
     "text": [
      "\r",
      " 85%|████████████████████████████████████████████████████████████████████████████████████████████████▉                 | 5590/6576 [1:08:55<12:14,  1.34it/s]"
     ]
    },
    {
     "name": "stdout",
     "output_type": "stream",
     "text": [
      "------------------------------------------------------------------------------ 5596\n",
      "binzui_090519_kiso_mju.wma\n",
      "/home/wataru/code/b-com/b-com/crawling/ビンズイ/さえずり\n",
      "https://www.bird-research.jp/1_shiryo/koe/binzui_090519_kiso_mju.wma\n"
     ]
    },
    {
     "name": "stderr",
     "output_type": "stream",
     "text": [
      "\r",
      " 85%|█████████████████████████████████████████████████████████████████████████████████████████████████                 | 5597/6576 [1:09:00<12:11,  1.34it/s]"
     ]
    },
    {
     "name": "stdout",
     "output_type": "stream",
     "text": [
      "------------------------------------------------------------------------------ 5603\n",
      "binzui_080702_asyoro_kuroda.wma\n",
      "/home/wataru/code/b-com/b-com/crawling/ビンズイ/さえずり\n",
      "https://www.bird-research.jp/1_shiryo/koe/binzui_080702_asyoro_kuroda.wma\n"
     ]
    },
    {
     "name": "stderr",
     "output_type": "stream",
     "text": [
      "\r",
      " 85%|█████████████████████████████████████████████████████████████████████████████████████████████████▏                | 5604/6576 [1:09:05<12:07,  1.34it/s]"
     ]
    },
    {
     "name": "stdout",
     "output_type": "stream",
     "text": [
      "------------------------------------------------------------------------------ 5610\n",
      "binzui_080703_asyoro_kuroda.wma\n",
      "/home/wataru/code/b-com/b-com/crawling/ビンズイ/さえずり\n",
      "https://www.bird-research.jp/1_shiryo/koe/binzui_080703_asyoro_kuroda.wma\n"
     ]
    },
    {
     "name": "stderr",
     "output_type": "stream",
     "text": [
      "\r",
      " 85%|█████████████████████████████████████████████████████████████████████████████████████████████████▎                | 5611/6576 [1:09:10<12:03,  1.33it/s]"
     ]
    },
    {
     "name": "stdout",
     "output_type": "stream",
     "text": [
      "------------------------------------------------------------------------------ 5617\n",
      "binzui_0911_hyogo_kaji.wma\n",
      "/home/wataru/code/b-com/b-com/crawling/ビンズイ/地鳴き\n",
      "https://www.bird-research.jp/1_shiryo/koe/binzui_0911_hyogo_kaji.wma\n"
     ]
    },
    {
     "name": "stderr",
     "output_type": "stream",
     "text": [
      "\r",
      " 85%|█████████████████████████████████████████████████████████████████████████████████████████████████▍                | 5618/6576 [1:09:16<11:58,  1.33it/s]"
     ]
    },
    {
     "name": "stdout",
     "output_type": "stream",
     "text": [
      "------------------------------------------------------------------------------ 5624\n",
      "tahibari_151204_toyooka_kuroda.wma\n",
      "/home/wataru/code/b-com/b-com/crawling/タヒバリ/地鳴き\n",
      "https://www.bird-research.jp/1_shiryo/koe/tahibari_151204_toyooka_kuroda.wma\n"
     ]
    },
    {
     "name": "stderr",
     "output_type": "stream",
     "text": [
      "\r",
      " 86%|█████████████████████████████████████████████████████████████████████████████████████████████████▌                | 5625/6576 [1:09:21<11:53,  1.33it/s]"
     ]
    },
    {
     "name": "stdout",
     "output_type": "stream",
     "text": [
      "------------------------------------------------------------------------------ 5631\n",
      "tahibari_111015_nemuro_mju.wma\n",
      "/home/wataru/code/b-com/b-com/crawling/タヒバリ/地鳴き\n",
      "https://www.bird-research.jp/1_shiryo/koe/tahibari_111015_nemuro_mju.wma\n"
     ]
    },
    {
     "name": "stderr",
     "output_type": "stream",
     "text": [
      "\r",
      " 86%|█████████████████████████████████████████████████████████████████████████████████████████████████▋                | 5632/6576 [1:09:26<11:48,  1.33it/s]"
     ]
    },
    {
     "name": "stdout",
     "output_type": "stream",
     "text": [
      "------------------------------------------------------------------------------ 5638\n",
      "tahibari_0802_hyogo_kaji.wma\n",
      "/home/wataru/code/b-com/b-com/crawling/タヒバリ/地鳴き\n",
      "https://www.bird-research.jp/1_shiryo/koe/tahibari_0802_hyogo_kaji.wma\n"
     ]
    },
    {
     "name": "stderr",
     "output_type": "stream",
     "text": [
      "\r",
      " 86%|█████████████████████████████████████████████████████████████████████████████████████████████████▊                | 5639/6576 [1:09:31<11:42,  1.33it/s]"
     ]
    },
    {
     "name": "stdout",
     "output_type": "stream",
     "text": [
      "------------------------------------------------------------------------------ 5646\n",
      "atori_okayama_111027_kaji.wma\n",
      "/home/wataru/code/b-com/b-com/crawling/アトリ/地鳴き\n",
      "https://www.bird-research.jp/1_shiryo/koe/atori_okayama_111027_kaji.wma\n"
     ]
    },
    {
     "name": "stderr",
     "output_type": "stream",
     "text": [
      "\r",
      " 86%|█████████████████████████████████████████████████████████████████████████████████████████████████▉                | 5647/6576 [1:09:37<11:06,  1.39it/s]"
     ]
    },
    {
     "name": "stdout",
     "output_type": "stream",
     "text": [
      "------------------------------------------------------------------------------ 5653\n",
      "atori_120111_chichibu_mju.wma\n",
      "/home/wataru/code/b-com/b-com/crawling/アトリ/地鳴き\n",
      "https://www.bird-research.jp/1_shiryo/koe/atori_120111_chichibu_mju.wma\n"
     ]
    },
    {
     "name": "stderr",
     "output_type": "stream",
     "text": [
      "\r",
      " 86%|██████████████████████████████████████████████████████████████████████████████████████████████████                | 5654/6576 [1:09:42<11:09,  1.38it/s]"
     ]
    },
    {
     "name": "stdout",
     "output_type": "stream",
     "text": [
      "------------------------------------------------------------------------------ 5660\n",
      "atori_120323_utsunomiya_hirano.wma\n",
      "/home/wataru/code/b-com/b-com/crawling/アトリ/ぐぜり\n",
      "https://www.bird-research.jp/1_shiryo/koe/atori_120323_utsunomiya_hirano.wma\n"
     ]
    },
    {
     "name": "stderr",
     "output_type": "stream",
     "text": [
      "\r",
      " 86%|██████████████████████████████████████████████████████████████████████████████████████████████████▏               | 5661/6576 [1:09:48<12:07,  1.26it/s]"
     ]
    },
    {
     "name": "stdout",
     "output_type": "stream",
     "text": [
      "------------------------------------------------------------------------------ 5667\n",
      "atori_160401_hokuto_mikami.wma\n",
      "/home/wataru/code/b-com/b-com/crawling/アトリ/ぐぜり\n",
      "https://www.bird-research.jp/1_shiryo/koe/atori_160401_hokuto_mikami.wma\n"
     ]
    },
    {
     "name": "stderr",
     "output_type": "stream",
     "text": [
      "\r",
      " 86%|██████████████████████████████████████████████████████████████████████████████████████████████████▎               | 5668/6576 [1:09:54<11:46,  1.28it/s]"
     ]
    },
    {
     "name": "stdout",
     "output_type": "stream",
     "text": [
      "------------------------------------------------------------------------------ 5674\n",
      "kawarahiwa_130326_utsunomiya_hirano.wma\n",
      "/home/wataru/code/b-com/b-com/crawling/カワラヒワ/さえずり\n",
      "https://www.bird-research.jp/1_shiryo/koe/kawarahiwa_130326_utsunomiya_hirano.wma\n"
     ]
    },
    {
     "name": "stderr",
     "output_type": "stream",
     "text": [
      "\r",
      " 86%|██████████████████████████████████████████████████████████████████████████████████████████████████▍               | 5675/6576 [1:09:59<11:33,  1.30it/s]"
     ]
    },
    {
     "name": "stdout",
     "output_type": "stream",
     "text": [
      "------------------------------------------------------------------------------ 5681\n",
      "kawarahiwa_060512_hino_mju.wma\n",
      "/home/wataru/code/b-com/b-com/crawling/カワラヒワ/\n",
      "https://www.bird-research.jp/1_shiryo/koe/kawarahiwa_060512_hino_mju.wma\n"
     ]
    },
    {
     "name": "stderr",
     "output_type": "stream",
     "text": [
      "\r",
      " 86%|██████████████████████████████████████████████████████████████████████████████████████████████████▌               | 5682/6576 [1:10:04<11:23,  1.31it/s]"
     ]
    },
    {
     "name": "stdout",
     "output_type": "stream",
     "text": [
      "------------------------------------------------------------------------------ 5688\n",
      "kawarahiwa_100624_utsunomiya.wma\n",
      "/home/wataru/code/b-com/b-com/crawling/カワラヒワ/地鳴き\n",
      "https://www.bird-research.jp/1_shiryo/koe/kawarahiwa_100624_utsunomiya.wma\n"
     ]
    },
    {
     "name": "stderr",
     "output_type": "stream",
     "text": [
      "\r",
      " 87%|██████████████████████████████████████████████████████████████████████████████████████████████████▌               | 5689/6576 [1:10:09<11:14,  1.32it/s]"
     ]
    },
    {
     "name": "stdout",
     "output_type": "stream",
     "text": [
      "------------------------------------------------------------------------------ 5695\n",
      "kawarahiwa_110122_ikeshima_mju.wma\n",
      "/home/wataru/code/b-com/b-com/crawling/カワラヒワ/地鳴き\n",
      "https://www.bird-research.jp/1_shiryo/koe/kawarahiwa_110122_ikeshima_mju.wma\n"
     ]
    },
    {
     "name": "stderr",
     "output_type": "stream",
     "text": [
      "\r",
      " 87%|██████████████████████████████████████████████████████████████████████████████████████████████████▋               | 5696/6576 [1:10:15<11:06,  1.32it/s]"
     ]
    },
    {
     "name": "stdout",
     "output_type": "stream",
     "text": [
      "------------------------------------------------------------------------------ 5702\n",
      "kawarahiwa_1006_hyogo_kaji.wma\n",
      "/home/wataru/code/b-com/b-com/crawling/カワラヒワ/特殊声\n",
      "https://www.bird-research.jp/1_shiryo/koe/kawarahiwa_1006_hyogo_kaji.wma\n"
     ]
    },
    {
     "name": "stderr",
     "output_type": "stream",
     "text": [
      "\r",
      " 87%|██████████████████████████████████████████████████████████████████████████████████████████████████▊               | 5703/6576 [1:10:20<10:59,  1.32it/s]"
     ]
    },
    {
     "name": "stdout",
     "output_type": "stream",
     "text": [
      "------------------------------------------------------------------------------ 5709\n",
      "kawarahiwa_120817_muroran_kuros.wma\n",
      "/home/wataru/code/b-com/b-com/crawling/カワラヒワ/ﾋﾅ餌乞い\n",
      "https://www.bird-research.jp/1_shiryo/koe/kawarahiwa_120817_muroran_kuros.wma\n"
     ]
    },
    {
     "name": "stderr",
     "output_type": "stream",
     "text": [
      "\r",
      " 87%|██████████████████████████████████████████████████████████████████████████████████████████████████▉               | 5710/6576 [1:10:25<10:50,  1.33it/s]"
     ]
    },
    {
     "name": "stdout",
     "output_type": "stream",
     "text": [
      "------------------------------------------------------------------------------ 5716\n",
      "kawarahiwa_130623_date_kros.wma\n",
      "/home/wataru/code/b-com/b-com/crawling/カワラヒワ/さえずり\n",
      "https://www.bird-research.jp/1_shiryo/koe/kawarahiwa_130623_date_kros.wma\n"
     ]
    },
    {
     "name": "stderr",
     "output_type": "stream",
     "text": [
      "\r",
      " 87%|███████████████████████████████████████████████████████████████████████████████████████████████████               | 5717/6576 [1:10:30<10:44,  1.33it/s]"
     ]
    },
    {
     "name": "stdout",
     "output_type": "stream",
     "text": [
      "------------------------------------------------------------------------------ 5723\n",
      "ookawarahiwa_140427_mishima_okamoto.wma\n",
      "/home/wataru/code/b-com/b-com/crawling/オオカワラヒワ/亜種\n",
      "https://www.bird-research.jp/1_shiryo/koe/ookawarahiwa_140427_mishima_okamoto.wma\n"
     ]
    },
    {
     "name": "stderr",
     "output_type": "stream",
     "text": [
      "\r",
      " 87%|███████████████████████████████████████████████████████████████████████████████████████████████████▏              | 5724/6576 [1:10:36<10:40,  1.33it/s]"
     ]
    },
    {
     "name": "stdout",
     "output_type": "stream",
     "text": [
      "------------------------------------------------------------------------------ 5730\n",
      "mahiwa_200407_chichibu_cf.wma\n",
      "/home/wataru/code/b-com/b-com/crawling/マヒワ/地鳴き\n",
      "https://www.bird-research.jp/1_shiryo/koe/mahiwa_200407_chichibu_cf.wma\n"
     ]
    },
    {
     "name": "stderr",
     "output_type": "stream",
     "text": [
      "\r",
      " 87%|███████████████████████████████████████████████████████████████████████████████████████████████████▎              | 5731/6576 [1:10:41<10:32,  1.34it/s]"
     ]
    },
    {
     "name": "stdout",
     "output_type": "stream",
     "text": [
      "------------------------------------------------------------------------------ 5737\n",
      "mahiwa_20200404_chichibu_cf.wma\n",
      "/home/wataru/code/b-com/b-com/crawling/マヒワ/地鳴き\n",
      "https://www.bird-research.jp/1_shiryo/koe/mahiwa_20200404_chichibu_cf.wma\n"
     ]
    },
    {
     "name": "stderr",
     "output_type": "stream",
     "text": [
      "\r",
      " 87%|███████████████████████████████████████████████████████████████████████████████████████████████████▍              | 5738/6576 [1:10:46<10:28,  1.33it/s]"
     ]
    },
    {
     "name": "stdout",
     "output_type": "stream",
     "text": [
      "------------------------------------------------------------------------------ 5744\n",
      "mahiwa_210408_saitama_ohi.wma\n",
      "/home/wataru/code/b-com/b-com/crawling/マヒワ/ぐぜり\n",
      "https://www.bird-research.jp/1_shiryo/koe/mahiwa_210408_saitama_ohi.wma\n"
     ]
    },
    {
     "name": "stderr",
     "output_type": "stream",
     "text": [
      "\r",
      " 87%|███████████████████████████████████████████████████████████████████████████████████████████████████▌              | 5745/6576 [1:10:51<10:22,  1.33it/s]"
     ]
    },
    {
     "name": "stdout",
     "output_type": "stream",
     "text": [
      "------------------------------------------------------------------------------ 5751\n",
      "mahiwa_090318_hitachi_hirano.wma\n",
      "/home/wataru/code/b-com/b-com/crawling/マヒワ/地鳴き\n",
      "https://www.bird-research.jp/1_shiryo/koe/mahiwa_090318_hitachi_hirano.wma\n"
     ]
    },
    {
     "name": "stderr",
     "output_type": "stream",
     "text": [
      "\r",
      " 87%|███████████████████████████████████████████████████████████████████████████████████████████████████▋              | 5752/6576 [1:10:57<10:14,  1.34it/s]"
     ]
    },
    {
     "name": "stdout",
     "output_type": "stream",
     "text": [
      "------------------------------------------------------------------------------ 5758\n",
      "benihiwa_140121_nemuro_mju.wma\n",
      "/home/wataru/code/b-com/b-com/crawling/ベニヒワ/地鳴き\n",
      "https://www.bird-research.jp/1_shiryo/koe/benihiwa_140121_nemuro_mju.wma\n"
     ]
    },
    {
     "name": "stderr",
     "output_type": "stream",
     "text": [
      "\r",
      " 88%|███████████████████████████████████████████████████████████████████████████████████████████████████▊              | 5759/6576 [1:11:02<10:10,  1.34it/s]"
     ]
    },
    {
     "name": "stdout",
     "output_type": "stream",
     "text": [
      "------------------------------------------------------------------------------ 5765\n",
      "hagimashiko_110121_ikeshima_mju.wma\n",
      "/home/wataru/code/b-com/b-com/crawling/ハギマシコ/地鳴き\n",
      "https://www.bird-research.jp/1_shiryo/koe/hagimashiko_110121_ikeshima_mju.wma\n"
     ]
    },
    {
     "name": "stderr",
     "output_type": "stream",
     "text": [
      "\r",
      " 88%|███████████████████████████████████████████████████████████████████████████████████████████████████▉              | 5766/6576 [1:11:07<10:03,  1.34it/s]"
     ]
    },
    {
     "name": "stdout",
     "output_type": "stream",
     "text": [
      "------------------------------------------------------------------------------ 5772\n",
      "hagimashiko_160315_kochi_kuroda.wma\n",
      "/home/wataru/code/b-com/b-com/crawling/ハギマシコ/地鳴き\n",
      "https://www.bird-research.jp/1_shiryo/koe/hagimashiko_160315_kochi_kuroda.wma\n"
     ]
    },
    {
     "name": "stderr",
     "output_type": "stream",
     "text": [
      "\r",
      " 88%|████████████████████████████████████████████████████████████████████████████████████████████████████              | 5773/6576 [1:11:12<09:59,  1.34it/s]"
     ]
    },
    {
     "name": "stdout",
     "output_type": "stream",
     "text": [
      "------------------------------------------------------------------------------ 5779\n",
      "hagimashiko_160315_kochi_kuroda2.wma\n",
      "/home/wataru/code/b-com/b-com/crawling/ハギマシコ/地鳴き\n",
      "https://www.bird-research.jp/1_shiryo/koe/hagimashiko_160315_kochi_kuroda2.wma\n"
     ]
    },
    {
     "name": "stderr",
     "output_type": "stream",
     "text": [
      "\r",
      " 88%|████████████████████████████████████████████████████████████████████████████████████████████████████▏             | 5780/6576 [1:11:17<09:53,  1.34it/s]"
     ]
    },
    {
     "name": "stdout",
     "output_type": "stream",
     "text": [
      "------------------------------------------------------------------------------ 5786\n",
      "benimashiko081118_watarase_hirano.wma\n",
      "/home/wataru/code/b-com/b-com/crawling/ベニマシコ/地鳴き\n",
      "https://www.bird-research.jp/1_shiryo/koe/benimashiko081118_watarase_hirano.wma\n"
     ]
    },
    {
     "name": "stderr",
     "output_type": "stream",
     "text": [
      "\r",
      " 88%|████████████████████████████████████████████████████████████████████████████████████████████████████▎             | 5787/6576 [1:11:23<09:46,  1.34it/s]"
     ]
    },
    {
     "name": "stdout",
     "output_type": "stream",
     "text": [
      "------------------------------------------------------------------------------ 5793\n",
      "benimashiko_090819_nemuro_mju.wma\n",
      "/home/wataru/code/b-com/b-com/crawling/ベニマシコ/\n",
      "https://www.bird-research.jp/1_shiryo/koe/benimashiko_090819_nemuro_mju.wma\n"
     ]
    },
    {
     "name": "stderr",
     "output_type": "stream",
     "text": [
      "\r",
      " 88%|████████████████████████████████████████████████████████████████████████████████████████████████████▍             | 5794/6576 [1:11:28<09:40,  1.35it/s]"
     ]
    },
    {
     "name": "stdout",
     "output_type": "stream",
     "text": [
      "------------------------------------------------------------------------------ 5800\n",
      "akamashiko_kochi_hashi.wma\n",
      "/home/wataru/code/b-com/b-com/crawling/アカマシコ/地鳴き\n",
      "https://www.bird-research.jp/1_shiryo/koe/akamashiko_kochi_hashi.wma\n"
     ]
    },
    {
     "name": "stderr",
     "output_type": "stream",
     "text": [
      "\r",
      " 88%|████████████████████████████████████████████████████████████████████████████████████████████████████▌             | 5801/6576 [1:11:33<09:36,  1.34it/s]"
     ]
    },
    {
     "name": "stdout",
     "output_type": "stream",
     "text": [
      "------------------------------------------------------------------------------ 5807\n",
      "omashiko_121203_tottori_kuroda.wma\n",
      "/home/wataru/code/b-com/b-com/crawling/オオマシコ/\n",
      "https://www.bird-research.jp/1_shiryo/koe/omashiko_121203_tottori_kuroda.wma\n"
     ]
    },
    {
     "name": "stderr",
     "output_type": "stream",
     "text": [
      "\r",
      " 88%|████████████████████████████████████████████████████████████████████████████████████████████████████▋             | 5808/6576 [1:11:38<09:32,  1.34it/s]"
     ]
    },
    {
     "name": "stdout",
     "output_type": "stream",
     "text": [
      "------------------------------------------------------------------------------ 5814\n",
      "isuka_140528_osado_mju.wma\n",
      "/home/wataru/code/b-com/b-com/crawling/イスカ/地鳴き\n",
      "https://www.bird-research.jp/1_shiryo/koe/isuka_140528_osado_mju.wma\n"
     ]
    },
    {
     "name": "stderr",
     "output_type": "stream",
     "text": [
      "\r",
      " 88%|████████████████████████████████████████████████████████████████████████████████████████████████████▊             | 5815/6576 [1:11:43<09:27,  1.34it/s]"
     ]
    },
    {
     "name": "stdout",
     "output_type": "stream",
     "text": [
      "------------------------------------------------------------------------------ 5821\n",
      "isuka_131105_nasushio_hirano.wma\n",
      "/home/wataru/code/b-com/b-com/crawling/イスカ/地鳴き\n",
      "https://www.bird-research.jp/1_shiryo/koe/isuka_131105_nasushio_hirano.wma\n"
     ]
    },
    {
     "name": "stderr",
     "output_type": "stream",
     "text": [
      "\r",
      " 89%|████████████████████████████████████████████████████████████████████████████████████████████████████▉             | 5822/6576 [1:11:49<09:22,  1.34it/s]"
     ]
    },
    {
     "name": "stdout",
     "output_type": "stream",
     "text": [
      "------------------------------------------------------------------------------ 5828\n",
      "isuka_110407_sapporo_namba.wma\n",
      "/home/wataru/code/b-com/b-com/crawling/イスカ/\n",
      "https://www.bird-research.jp/1_shiryo/koe/isuka_110407_sapporo_namba.wma\n"
     ]
    },
    {
     "name": "stderr",
     "output_type": "stream",
     "text": [
      "\r",
      " 89%|█████████████████████████████████████████████████████████████████████████████████████████████████████             | 5829/6576 [1:11:54<09:16,  1.34it/s]"
     ]
    },
    {
     "name": "stdout",
     "output_type": "stream",
     "text": [
      "------------------------------------------------------------------------------ 5835\n",
      "isuka2_110407_sapporo_namba.wma\n",
      "/home/wataru/code/b-com/b-com/crawling/イスカ/ぐぜり\n",
      "https://www.bird-research.jp/1_shiryo/koe/isuka2_110407_sapporo_namba.wma\n"
     ]
    },
    {
     "name": "stderr",
     "output_type": "stream",
     "text": [
      "\r",
      " 89%|█████████████████████████████████████████████████████████████████████████████████████████████████████▏            | 5836/6576 [1:11:59<09:12,  1.34it/s]"
     ]
    },
    {
     "name": "stdout",
     "output_type": "stream",
     "text": [
      "------------------------------------------------------------------------------ 5842\n",
      "isuka_120327_shimokita_mikami.wma\n",
      "/home/wataru/code/b-com/b-com/crawling/イスカ/さえずり\n",
      "https://www.bird-research.jp/1_shiryo/koe/isuka_120327_shimokita_mikami.wma\n"
     ]
    },
    {
     "name": "stderr",
     "output_type": "stream",
     "text": [
      "\r",
      " 89%|█████████████████████████████████████████████████████████████████████████████████████████████████████▎            | 5843/6576 [1:12:04<09:08,  1.34it/s]"
     ]
    },
    {
     "name": "stdout",
     "output_type": "stream",
     "text": [
      "------------------------------------------------------------------------------ 5849\n",
      "nakiisuka_110403_kitami_namba.wma\n",
      "/home/wataru/code/b-com/b-com/crawling/ナキイスカ/\n",
      "https://www.bird-research.jp/1_shiryo/koe/nakiisuka_110403_kitami_namba.wma\n"
     ]
    },
    {
     "name": "stderr",
     "output_type": "stream",
     "text": [
      "\r",
      " 89%|█████████████████████████████████████████████████████████████████████████████████████████████████████▍            | 5850/6576 [1:12:10<09:03,  1.34it/s]"
     ]
    },
    {
     "name": "stdout",
     "output_type": "stream",
     "text": [
      "------------------------------------------------------------------------------ 5856\n",
      "uso_100606_nigorigo_mju.wma\n",
      "/home/wataru/code/b-com/b-com/crawling/ウソ/繁殖期\n",
      "https://www.bird-research.jp/1_shiryo/koe/uso_100606_nigorigo_mju.wma\n"
     ]
    },
    {
     "name": "stderr",
     "output_type": "stream",
     "text": [
      "\r",
      " 89%|█████████████████████████████████████████████████████████████████████████████████████████████████████▌            | 5857/6576 [1:12:15<08:59,  1.33it/s]"
     ]
    },
    {
     "name": "stdout",
     "output_type": "stream",
     "text": [
      "------------------------------------------------------------------------------ 5863\n",
      "uso_20110111_sado_mju.wma\n",
      "/home/wataru/code/b-com/b-com/crawling/ウソ/越冬期\n",
      "https://www.bird-research.jp/1_shiryo/koe/uso_20110111_sado_mju.wma\n"
     ]
    },
    {
     "name": "stderr",
     "output_type": "stream",
     "text": [
      "\r",
      " 89%|█████████████████████████████████████████████████████████████████████████████████████████████████████▋            | 5864/6576 [1:12:20<08:53,  1.33it/s]"
     ]
    },
    {
     "name": "stdout",
     "output_type": "stream",
     "text": [
      "------------------------------------------------------------------------------ 5870\n",
      "uso_130403_muroran_kros.wma\n",
      "/home/wataru/code/b-com/b-com/crawling/ウソ/さえずり\n",
      "https://www.bird-research.jp/1_shiryo/koe/uso_130403_muroran_kros.wma\n"
     ]
    },
    {
     "name": "stderr",
     "output_type": "stream",
     "text": [
      "\r",
      " 89%|█████████████████████████████████████████████████████████████████████████████████████████████████████▊            | 5871/6576 [1:12:25<08:48,  1.33it/s]"
     ]
    },
    {
     "name": "stdout",
     "output_type": "stream",
     "text": [
      "------------------------------------------------------------------------------ 5877\n",
      "uso_130504_muroran_kros.wma\n",
      "/home/wataru/code/b-com/b-com/crawling/ウソ/さえずり\n",
      "https://www.bird-research.jp/1_shiryo/koe/uso_130504_muroran_kros.wma\n"
     ]
    },
    {
     "name": "stderr",
     "output_type": "stream",
     "text": [
      "\r",
      " 89%|█████████████████████████████████████████████████████████████████████████████████████████████████████▉            | 5878/6576 [1:12:31<08:43,  1.33it/s]"
     ]
    },
    {
     "name": "stdout",
     "output_type": "stream",
     "text": [
      "------------------------------------------------------------------------------ 5884\n",
      "shime_0812_hyogo_kaji.wma\n",
      "/home/wataru/code/b-com/b-com/crawling/シメ/地鳴き\n",
      "https://www.bird-research.jp/1_shiryo/koe/shime_0812_hyogo_kaji.wma\n"
     ]
    },
    {
     "name": "stderr",
     "output_type": "stream",
     "text": [
      "\r",
      " 89%|██████████████████████████████████████████████████████████████████████████████████████████████████████            | 5885/6576 [1:12:36<08:38,  1.33it/s]"
     ]
    },
    {
     "name": "stdout",
     "output_type": "stream",
     "text": [
      "------------------------------------------------------------------------------ 5891\n",
      "shime_200211_kosado_mju.wma\n",
      "/home/wataru/code/b-com/b-com/crawling/シメ/地鳴き\n",
      "https://www.bird-research.jp/1_shiryo/koe/shime_200211_kosado_mju.wma\n"
     ]
    },
    {
     "name": "stderr",
     "output_type": "stream",
     "text": [
      "\r",
      " 90%|██████████████████████████████████████████████████████████████████████████████████████████████████████▏           | 5892/6576 [1:12:41<08:34,  1.33it/s]"
     ]
    },
    {
     "name": "stdout",
     "output_type": "stream",
     "text": [
      "------------------------------------------------------------------------------ 5898\n",
      "shime_150428_utsunomiya_hirano.wma\n",
      "/home/wataru/code/b-com/b-com/crawling/シメ/さえずり？\n",
      "https://www.bird-research.jp/1_shiryo/koe/shime_150428_utsunomiya_hirano.wma\n"
     ]
    },
    {
     "name": "stderr",
     "output_type": "stream",
     "text": [
      "\r",
      " 90%|██████████████████████████████████████████████████████████████████████████████████████████████████████▎           | 5899/6576 [1:12:46<08:28,  1.33it/s]"
     ]
    },
    {
     "name": "stdout",
     "output_type": "stream",
     "text": [
      "------------------------------------------------------------------------------ 5905\n",
      "ikaru_0805_hyogo_kaji.wma\n",
      "/home/wataru/code/b-com/b-com/crawling/イカル/さえずり\n",
      "https://www.bird-research.jp/1_shiryo/koe/ikaru_0805_hyogo_kaji.wma\n"
     ]
    },
    {
     "name": "stderr",
     "output_type": "stream",
     "text": [
      "\r",
      " 90%|██████████████████████████████████████████████████████████████████████████████████████████████████████▍           | 5906/6576 [1:12:52<08:23,  1.33it/s]"
     ]
    },
    {
     "name": "stdout",
     "output_type": "stream",
     "text": [
      "------------------------------------------------------------------------------ 5912\n",
      "ikaru_140325_mie_kuroda.wma\n",
      "/home/wataru/code/b-com/b-com/crawling/イカル/さえずり\n",
      "https://www.bird-research.jp/1_shiryo/koe/ikaru_140325_mie_kuroda.wma\n"
     ]
    },
    {
     "name": "stderr",
     "output_type": "stream",
     "text": [
      "\r",
      " 90%|██████████████████████████████████████████████████████████████████████████████████████████████████████▌           | 5913/6576 [1:12:57<08:17,  1.33it/s]"
     ]
    },
    {
     "name": "stdout",
     "output_type": "stream",
     "text": [
      "------------------------------------------------------------------------------ 5919\n",
      "ikaru_0804_hyogo_kaji.wma\n",
      "/home/wataru/code/b-com/b-com/crawling/イカル/地鳴き\n",
      "https://www.bird-research.jp/1_shiryo/koe/ikaru_0804_hyogo_kaji.wma\n"
     ]
    },
    {
     "name": "stderr",
     "output_type": "stream",
     "text": [
      "\r",
      " 90%|██████████████████████████████████████████████████████████████████████████████████████████████████████▋           | 5920/6576 [1:13:02<08:12,  1.33it/s]"
     ]
    },
    {
     "name": "stdout",
     "output_type": "stream",
     "text": [
      "------------------------------------------------------------------------------ 5926\n",
      "ikaru_0904_hyogo_kaji.wma\n",
      "/home/wataru/code/b-com/b-com/crawling/イカル/地鳴き\n",
      "https://www.bird-research.jp/1_shiryo/koe/ikaru_0904_hyogo_kaji.wma\n"
     ]
    },
    {
     "name": "stderr",
     "output_type": "stream",
     "text": [
      "\r",
      " 90%|██████████████████████████████████████████████████████████████████████████████████████████████████████▋           | 5927/6576 [1:13:07<08:07,  1.33it/s]"
     ]
    },
    {
     "name": "stdout",
     "output_type": "stream",
     "text": [
      "------------------------------------------------------------------------------ 5933\n",
      "ikaru_0905_hyogo_kaji.wma\n",
      "/home/wataru/code/b-com/b-com/crawling/イカル/地鳴き\n",
      "https://www.bird-research.jp/1_shiryo/koe/ikaru_0905_hyogo_kaji.wma\n"
     ]
    },
    {
     "name": "stderr",
     "output_type": "stream",
     "text": [
      "\r",
      " 90%|██████████████████████████████████████████████████████████████████████████████████████████████████████▊           | 5934/6576 [1:13:13<08:02,  1.33it/s]"
     ]
    },
    {
     "name": "stdout",
     "output_type": "stream",
     "text": [
      "------------------------------------------------------------------------------ 5940\n",
      "ikaru_1007_shimane_kuroda.wma\n",
      "/home/wataru/code/b-com/b-com/crawling/イカル/特殊声\n",
      "https://www.bird-research.jp/1_shiryo/koe/ikaru_1007_shimane_kuroda.wma\n"
     ]
    },
    {
     "name": "stderr",
     "output_type": "stream",
     "text": [
      "\r",
      " 90%|██████████████████████████████████████████████████████████████████████████████████████████████████████▉           | 5941/6576 [1:13:18<07:55,  1.34it/s]"
     ]
    },
    {
     "name": "stdout",
     "output_type": "stream",
     "text": [
      "------------------------------------------------------------------------------ 5948\n",
      "tsumenagahojiro_111217_mukawa_namba.wma\n",
      "/home/wataru/code/b-com/b-com/crawling/ツメナガホオジロ/地鳴き\n",
      "https://www.bird-research.jp/1_shiryo/koe/tsumenagahojiro_111217_mukawa_namba.wma\n"
     ]
    },
    {
     "name": "stderr",
     "output_type": "stream",
     "text": [
      "\r",
      " 90%|███████████████████████████████████████████████████████████████████████████████████████████████████████▏          | 5949/6576 [1:13:23<07:27,  1.40it/s]"
     ]
    },
    {
     "name": "stdout",
     "output_type": "stream",
     "text": [
      "------------------------------------------------------------------------------ 5956\n",
      "shiragahojiro_191102_nagasaki_yoshigai.wma\n",
      "/home/wataru/code/b-com/b-com/crawling/シラガホオジロ/地鳴き\n",
      "https://www.bird-research.jp/1_shiryo/koe/shiragahojiro_191102_nagasaki_yoshigai.wma\n"
     ]
    },
    {
     "name": "stderr",
     "output_type": "stream",
     "text": [
      "\r",
      " 91%|███████████████████████████████████████████████████████████████████████████████████████████████████████▎          | 5957/6576 [1:13:28<07:11,  1.43it/s]"
     ]
    },
    {
     "name": "stdout",
     "output_type": "stream",
     "text": [
      "------------------------------------------------------------------------------ 5963\n",
      "hojiro_060621_ichikai_mju.wma\n",
      "/home/wataru/code/b-com/b-com/crawling/ホオジロ/さえずり\n",
      "https://www.bird-research.jp/1_shiryo/koe/hojiro_060621_ichikai_mju.wma\n"
     ]
    },
    {
     "name": "stderr",
     "output_type": "stream",
     "text": [
      "\r",
      " 91%|███████████████████████████████████████████████████████████████████████████████████████████████████████▍          | 5964/6576 [1:13:34<07:16,  1.40it/s]"
     ]
    },
    {
     "name": "stdout",
     "output_type": "stream",
     "text": [
      "------------------------------------------------------------------------------ 5970\n",
      "hoojiro_060506_fuchu_mju.wma\n",
      "/home/wataru/code/b-com/b-com/crawling/ホオジロ/地鳴き\n",
      "https://www.bird-research.jp/1_shiryo/koe/hoojiro_060506_fuchu_mju.wma\n"
     ]
    },
    {
     "name": "stderr",
     "output_type": "stream",
     "text": [
      "\r",
      " 91%|███████████████████████████████████████████████████████████████████████████████████████████████████████▌          | 5971/6576 [1:13:40<07:33,  1.33it/s]"
     ]
    },
    {
     "name": "stdout",
     "output_type": "stream",
     "text": [
      "------------------------------------------------------------------------------ 5977\n",
      "hoojiro_1004_hyogo_kaji.wma\n",
      "/home/wataru/code/b-com/b-com/crawling/ホオジロ/地鳴き\n",
      "https://www.bird-research.jp/1_shiryo/koe/hoojiro_1004_hyogo_kaji.wma\n"
     ]
    },
    {
     "name": "stderr",
     "output_type": "stream",
     "text": [
      "\r",
      " 91%|███████████████████████████████████████████████████████████████████████████████████████████████████████▋          | 5978/6576 [1:13:45<07:28,  1.33it/s]"
     ]
    },
    {
     "name": "stdout",
     "output_type": "stream",
     "text": [
      "------------------------------------------------------------------------------ 5984\n",
      "hoojiro_130604_kyohto_kaji.wma\n",
      "/home/wataru/code/b-com/b-com/crawling/ホオジロ/巣立ちビナ\n",
      "https://www.bird-research.jp/1_shiryo/koe/hoojiro_130604_kyohto_kaji.wma\n"
     ]
    },
    {
     "name": "stderr",
     "output_type": "stream",
     "text": [
      "\r",
      " 91%|███████████████████████████████████████████████████████████████████████████████████████████████████████▊          | 5985/6576 [1:13:50<07:22,  1.33it/s]"
     ]
    },
    {
     "name": "stdout",
     "output_type": "stream",
     "text": [
      "------------------------------------------------------------------------------ 5991\n",
      "shiroharahojiroc_160409_nagasaki_yoshigai.wma\n",
      "/home/wataru/code/b-com/b-com/crawling/シロハラホオジロ/地鳴き\n",
      "https://www.bird-research.jp/1_shiryo/koe/shiroharahojiroc_160409_nagasaki_yoshigai.wma\n"
     ]
    },
    {
     "name": "stderr",
     "output_type": "stream",
     "text": [
      "\r",
      " 91%|███████████████████████████████████████████████████████████████████████████████████████████████████████▉          | 5992/6576 [1:13:55<07:19,  1.33it/s]"
     ]
    },
    {
     "name": "stdout",
     "output_type": "stream",
     "text": [
      "------------------------------------------------------------------------------ 5998\n",
      "shiroharahojiro_160409_nagasaki_yoshigai.wma\n",
      "/home/wataru/code/b-com/b-com/crawling/シロハラホオジロ/さえずり\n",
      "https://www.bird-research.jp/1_shiryo/koe/shiroharahojiro_160409_nagasaki_yoshigai.wma\n"
     ]
    },
    {
     "name": "stderr",
     "output_type": "stream",
     "text": [
      "\r",
      " 91%|███████████████████████████████████████████████████████████████████████████████████████████████████████▉          | 5999/6576 [1:14:01<07:14,  1.33it/s]"
     ]
    },
    {
     "name": "stdout",
     "output_type": "stream",
     "text": [
      "------------------------------------------------------------------------------ 6005\n",
      "hoaka_180615_nozori_mju.wma\n",
      "/home/wataru/code/b-com/b-com/crawling/ホオアカ/さえずり\n",
      "https://www.bird-research.jp/1_shiryo/koe/hoaka_180615_nozori_mju.wma\n"
     ]
    },
    {
     "name": "stderr",
     "output_type": "stream",
     "text": [
      "\r",
      " 91%|████████████████████████████████████████████████████████████████████████████████████████████████████████          | 6006/6576 [1:14:06<07:09,  1.33it/s]"
     ]
    },
    {
     "name": "stdout",
     "output_type": "stream",
     "text": [
      "------------------------------------------------------------------------------ 6012\n",
      "hooaka_060525_nasu_hirano.wma\n",
      "/home/wataru/code/b-com/b-com/crawling/ホオアカ/さえずり\n",
      "https://www.bird-research.jp/1_shiryo/koe/hooaka_060525_nasu_hirano.wma\n"
     ]
    },
    {
     "name": "stderr",
     "output_type": "stream",
     "text": [
      "\r",
      " 91%|████████████████████████████████████████████████████████████████████████████████████████████████████████▏         | 6013/6576 [1:14:11<07:03,  1.33it/s]"
     ]
    },
    {
     "name": "stdout",
     "output_type": "stream",
     "text": [
      "------------------------------------------------------------------------------ 6019\n",
      "hoaka_070708_ishikari_moriya.wma\n",
      "/home/wataru/code/b-com/b-com/crawling/ホオアカ/さえずり\n",
      "https://www.bird-research.jp/1_shiryo/koe/hoaka_070708_ishikari_moriya.wma\n"
     ]
    },
    {
     "name": "stderr",
     "output_type": "stream",
     "text": [
      "\r",
      " 92%|████████████████████████████████████████████████████████████████████████████████████████████████████████▎         | 6020/6576 [1:14:16<06:57,  1.33it/s]"
     ]
    },
    {
     "name": "stdout",
     "output_type": "stream",
     "text": [
      "------------------------------------------------------------------------------ 6026\n",
      "hooaka_080505_nasumachi.wma\n",
      "/home/wataru/code/b-com/b-com/crawling/ホオアカ/地鳴き\n",
      "https://www.bird-research.jp/1_shiryo/koe/hooaka_080505_nasumachi.wma\n"
     ]
    },
    {
     "name": "stderr",
     "output_type": "stream",
     "text": [
      "\r",
      " 92%|████████████████████████████████████████████████████████████████████████████████████████████████████████▍         | 6027/6576 [1:14:22<06:50,  1.34it/s]"
     ]
    },
    {
     "name": "stdout",
     "output_type": "stream",
     "text": [
      "------------------------------------------------------------------------------ 6033\n",
      "kohoaka_210502_nagasaki_kuroda.wma\n",
      "/home/wataru/code/b-com/b-com/crawling/コホオアカ/地鳴き\n",
      "https://www.bird-research.jp/1_shiryo/koe/kohoaka_210502_nagasaki_kuroda.wma\n"
     ]
    },
    {
     "name": "stderr",
     "output_type": "stream",
     "text": [
      "\r",
      " 92%|████████████████████████████████████████████████████████████████████████████████████████████████████████▌         | 6034/6576 [1:14:27<06:43,  1.34it/s]"
     ]
    },
    {
     "name": "stdout",
     "output_type": "stream",
     "text": [
      "------------------------------------------------------------------------------ 6040\n",
      "kimayuhojiro_210502_nagasaki_kuroda.wma\n",
      "/home/wataru/code/b-com/b-com/crawling/キマユホオジロ/地鳴き\n",
      "https://www.bird-research.jp/1_shiryo/koe/kimayuhojiro_210502_nagasaki_kuroda.wma\n"
     ]
    },
    {
     "name": "stderr",
     "output_type": "stream",
     "text": [
      "\r",
      " 92%|████████████████████████████████████████████████████████████████████████████████████████████████████████▋         | 6041/6576 [1:14:32<06:40,  1.34it/s]"
     ]
    },
    {
     "name": "stdout",
     "output_type": "stream",
     "text": [
      "------------------------------------------------------------------------------ 6047\n",
      "kashiradaka_101209_watarase_hirano.wma\n",
      "/home/wataru/code/b-com/b-com/crawling/カシラダカ/地鳴き\n",
      "https://www.bird-research.jp/1_shiryo/koe/kashiradaka_101209_watarase_hirano.wma\n"
     ]
    },
    {
     "name": "stderr",
     "output_type": "stream",
     "text": [
      "\r",
      " 92%|████████████████████████████████████████████████████████████████████████████████████████████████████████▊         | 6048/6576 [1:14:37<06:35,  1.34it/s]"
     ]
    },
    {
     "name": "stdout",
     "output_type": "stream",
     "text": [
      "------------------------------------------------------------------------------ 6054\n",
      "kashiradaka_100410_utsunomiya.wma\n",
      "/home/wataru/code/b-com/b-com/crawling/カシラダカ/ぐぜり\n",
      "https://www.bird-research.jp/1_shiryo/koe/kashiradaka_100410_utsunomiya.wma\n"
     ]
    },
    {
     "name": "stderr",
     "output_type": "stream",
     "text": [
      "\r",
      " 92%|████████████████████████████████████████████████████████████████████████████████████████████████████████▉         | 6055/6576 [1:14:42<06:30,  1.33it/s]"
     ]
    },
    {
     "name": "stdout",
     "output_type": "stream",
     "text": [
      "------------------------------------------------------------------------------ 6061\n",
      "miyamahoojiro_0904_hyogo_kaji.wma\n",
      "/home/wataru/code/b-com/b-com/crawling/ミヤマホオジロ/さえずり\n",
      "https://www.bird-research.jp/1_shiryo/koe/miyamahoojiro_0904_hyogo_kaji.wma\n"
     ]
    },
    {
     "name": "stderr",
     "output_type": "stream",
     "text": [
      "\r",
      " 92%|█████████████████████████████████████████████████████████████████████████████████████████████████████████         | 6062/6576 [1:14:48<06:25,  1.33it/s]"
     ]
    },
    {
     "name": "stdout",
     "output_type": "stream",
     "text": [
      "------------------------------------------------------------------------------ 6068\n",
      "miyamahoojiro_0903_hyogo_kaji.wma\n",
      "/home/wataru/code/b-com/b-com/crawling/ミヤマホオジロ/地鳴き\n",
      "https://www.bird-research.jp/1_shiryo/koe/miyamahoojiro_0903_hyogo_kaji.wma\n"
     ]
    },
    {
     "name": "stderr",
     "output_type": "stream",
     "text": [
      "\r",
      " 92%|█████████████████████████████████████████████████████████████████████████████████████████████████████████▏        | 6069/6576 [1:14:53<06:20,  1.33it/s]"
     ]
    },
    {
     "name": "stdout",
     "output_type": "stream",
     "text": [
      "------------------------------------------------------------------------------ 6075\n",
      "miyamahoojiro_210309_tottori_saiki.wma\n",
      "/home/wataru/code/b-com/b-com/crawling/ミヤマホオジロ/さえずり\n",
      "https://www.bird-research.jp/1_shiryo/koe/miyamahoojiro_210309_tottori_saiki.wma\n"
     ]
    },
    {
     "name": "stderr",
     "output_type": "stream",
     "text": [
      "\r",
      " 92%|█████████████████████████████████████████████████████████████████████████████████████████████████████████▎        | 6076/6576 [1:14:58<06:16,  1.33it/s]"
     ]
    },
    {
     "name": "stdout",
     "output_type": "stream",
     "text": [
      "------------------------------------------------------------------------------ 6082\n",
      "shimaaoji_110702_sarobetsu_namba.wma\n",
      "/home/wataru/code/b-com/b-com/crawling/シマアオジ/さえずり\n",
      "https://www.bird-research.jp/1_shiryo/koe/shimaaoji_110702_sarobetsu_namba.wma\n"
     ]
    },
    {
     "name": "stderr",
     "output_type": "stream",
     "text": [
      "\r",
      " 93%|█████████████████████████████████████████████████████████████████████████████████████████████████████████▍        | 6083/6576 [1:15:04<06:11,  1.33it/s]"
     ]
    },
    {
     "name": "stdout",
     "output_type": "stream",
     "text": [
      "------------------------------------------------------------------------------ 6089\n",
      "nojiko_090512_nasu_hirano.wma\n",
      "/home/wataru/code/b-com/b-com/crawling/ノジコ/さえずり\n",
      "https://www.bird-research.jp/1_shiryo/koe/nojiko_090512_nasu_hirano.wma\n"
     ]
    },
    {
     "name": "stderr",
     "output_type": "stream",
     "text": [
      "\r",
      " 93%|█████████████████████████████████████████████████████████████████████████████████████████████████████████▌        | 6090/6576 [1:15:09<06:05,  1.33it/s]"
     ]
    },
    {
     "name": "stdout",
     "output_type": "stream",
     "text": [
      "------------------------------------------------------------------------------ 6096\n",
      "nojiko_110523_yamanaka_mju.wma\n",
      "/home/wataru/code/b-com/b-com/crawling/ノジコ/さえずり\n",
      "https://www.bird-research.jp/1_shiryo/koe/nojiko_110523_yamanaka_mju.wma\n"
     ]
    },
    {
     "name": "stderr",
     "output_type": "stream",
     "text": [
      "\r",
      " 93%|█████████████████████████████████████████████████████████████████████████████████████████████████████████▋        | 6097/6576 [1:15:14<06:00,  1.33it/s]"
     ]
    },
    {
     "name": "stdout",
     "output_type": "stream",
     "text": [
      "------------------------------------------------------------------------------ 6103\n",
      "nojiko_170618_minamiaizu_mju.wma\n",
      "/home/wataru/code/b-com/b-com/crawling/ノジコ/地鳴き\n",
      "https://www.bird-research.jp/1_shiryo/koe/nojiko_170618_minamiaizu_mju.wma\n"
     ]
    },
    {
     "name": "stderr",
     "output_type": "stream",
     "text": [
      "\r",
      " 93%|█████████████████████████████████████████████████████████████████████████████████████████████████████████▊        | 6104/6576 [1:15:19<05:55,  1.33it/s]"
     ]
    },
    {
     "name": "stdout",
     "output_type": "stream",
     "text": [
      "------------------------------------------------------------------------------ 6110\n",
      "aoji_150402_kunitachi_mju.wma\n",
      "/home/wataru/code/b-com/b-com/crawling/アオジ/さえずり\n",
      "https://www.bird-research.jp/1_shiryo/koe/aoji_150402_kunitachi_mju.wma\n"
     ]
    },
    {
     "name": "stderr",
     "output_type": "stream",
     "text": [
      "\r",
      " 93%|█████████████████████████████████████████████████████████████████████████████████████████████████████████▉        | 6111/6576 [1:15:25<05:49,  1.33it/s]"
     ]
    },
    {
     "name": "stdout",
     "output_type": "stream",
     "text": [
      "------------------------------------------------------------------------------ 6117\n",
      "aoji_080422_watarase_hirano.wma\n",
      "/home/wataru/code/b-com/b-com/crawling/アオジ/さえずり\n",
      "https://www.bird-research.jp/1_shiryo/koe/aoji_080422_watarase_hirano.wma\n"
     ]
    },
    {
     "name": "stderr",
     "output_type": "stream",
     "text": [
      "\r",
      " 93%|██████████████████████████████████████████████████████████████████████████████████████████████████████████        | 6118/6576 [1:15:30<05:43,  1.33it/s]"
     ]
    },
    {
     "name": "stdout",
     "output_type": "stream",
     "text": [
      "------------------------------------------------------------------------------ 6124\n",
      "aoji_0803_hyogo_kaji.wma\n",
      "/home/wataru/code/b-com/b-com/crawling/アオジ/地鳴き\n",
      "https://www.bird-research.jp/1_shiryo/koe/aoji_0803_hyogo_kaji.wma\n"
     ]
    },
    {
     "name": "stderr",
     "output_type": "stream",
     "text": [
      "\r",
      " 93%|██████████████████████████████████████████████████████████████████████████████████████████████████████████▏       | 6125/6576 [1:15:35<05:38,  1.33it/s]"
     ]
    },
    {
     "name": "stdout",
     "output_type": "stream",
     "text": [
      "------------------------------------------------------------------------------ 6131\n",
      "shibariajurin_191106_nagasaki_yoshigai.wma\n",
      "/home/wataru/code/b-com/b-com/crawling/シベリアジュリン/地鳴き\n",
      "https://www.bird-research.jp/1_shiryo/koe/shibariajurin_191106_nagasaki_yoshigai.wma\n"
     ]
    },
    {
     "name": "stderr",
     "output_type": "stream",
     "text": [
      "\r",
      " 93%|██████████████████████████████████████████████████████████████████████████████████████████████████████████▎       | 6132/6576 [1:15:40<05:33,  1.33it/s]"
     ]
    },
    {
     "name": "stdout",
     "output_type": "stream",
     "text": [
      "------------------------------------------------------------------------------ 6138\n",
      "siberiajurin_220106_hyogo_kuroda.wma\n",
      "/home/wataru/code/b-com/b-com/crawling/シベリアジュリン/地鳴き\n",
      "https://www.bird-research.jp/1_shiryo/koe/siberiajurin_220106_hyogo_kuroda.wma\n"
     ]
    },
    {
     "name": "stderr",
     "output_type": "stream",
     "text": [
      "\r",
      " 93%|██████████████████████████████████████████████████████████████████████████████████████████████████████████▍       | 6139/6576 [1:15:46<05:29,  1.33it/s]"
     ]
    },
    {
     "name": "stdout",
     "output_type": "stream",
     "text": [
      "------------------------------------------------------------------------------ 6145\n",
      "siberiajurin_220106_hyogo_kuroda2.wma\n",
      "/home/wataru/code/b-com/b-com/crawling/シベリアジュリン/地鳴き\n",
      "https://www.bird-research.jp/1_shiryo/koe/siberiajurin_220106_hyogo_kuroda2.wma\n"
     ]
    },
    {
     "name": "stderr",
     "output_type": "stream",
     "text": [
      "\r",
      " 93%|██████████████████████████████████████████████████████████████████████████████████████████████████████████▌       | 6146/6576 [1:15:51<05:22,  1.33it/s]"
     ]
    },
    {
     "name": "stdout",
     "output_type": "stream",
     "text": [
      "------------------------------------------------------------------------------ 6152\n",
      "kurojii_090620_osado_mju.wma\n",
      "/home/wataru/code/b-com/b-com/crawling/クロジ/さえずり\n",
      "https://www.bird-research.jp/1_shiryo/koe/kurojii_090620_osado_mju.wma\n"
     ]
    },
    {
     "name": "stderr",
     "output_type": "stream",
     "text": [
      "\r",
      " 94%|██████████████████████████████████████████████████████████████████████████████████████████████████████████▋       | 6153/6576 [1:15:56<05:17,  1.33it/s]"
     ]
    },
    {
     "name": "stdout",
     "output_type": "stream",
     "text": [
      "------------------------------------------------------------------------------ 6159\n",
      "kuroji_100529_nasushiobara_hirano.wma\n",
      "/home/wataru/code/b-com/b-com/crawling/クロジ/さえずり\n",
      "https://www.bird-research.jp/1_shiryo/koe/kuroji_100529_nasushiobara_hirano.wma\n"
     ]
    },
    {
     "name": "stderr",
     "output_type": "stream",
     "text": [
      "\r",
      " 94%|██████████████████████████████████████████████████████████████████████████████████████████████████████████▊       | 6160/6576 [1:16:01<05:12,  1.33it/s]"
     ]
    },
    {
     "name": "stdout",
     "output_type": "stream",
     "text": [
      "------------------------------------------------------------------------------ 6166\n",
      "kuroji_c_080430_utsunomiya_hirano.wma\n",
      "/home/wataru/code/b-com/b-com/crawling/クロジ/地鳴き\n",
      "https://www.bird-research.jp/1_shiryo/koe/kuroji_c_080430_utsunomiya_hirano.wma\n"
     ]
    },
    {
     "name": "stderr",
     "output_type": "stream",
     "text": [
      "\r",
      " 94%|██████████████████████████████████████████████████████████████████████████████████████████████████████████▉       | 6167/6576 [1:16:07<05:06,  1.33it/s]"
     ]
    },
    {
     "name": "stdout",
     "output_type": "stream",
     "text": [
      "------------------------------------------------------------------------------ 6173\n",
      "kuroji_130423_utsunomiya_hirano.wma\n",
      "/home/wataru/code/b-com/b-com/crawling/クロジ/ぐぜり\n",
      "https://www.bird-research.jp/1_shiryo/koe/kuroji_130423_utsunomiya_hirano.wma\n"
     ]
    },
    {
     "name": "stderr",
     "output_type": "stream",
     "text": [
      "\r",
      " 94%|███████████████████████████████████████████████████████████████████████████████████████████████████████████       | 6174/6576 [1:16:12<05:01,  1.33it/s]"
     ]
    },
    {
     "name": "stdout",
     "output_type": "stream",
     "text": [
      "------------------------------------------------------------------------------ 6180\n",
      "kojurin_040614_tonegawa_kuroda.wma\n",
      "/home/wataru/code/b-com/b-com/crawling/コジュリン/さえずり\n",
      "https://www.bird-research.jp/1_shiryo/koe/kojurin_040614_tonegawa_kuroda.wma\n"
     ]
    },
    {
     "name": "stderr",
     "output_type": "stream",
     "text": [
      "\r",
      " 94%|███████████████████████████████████████████████████████████████████████████████████████████████████████████▏      | 6181/6576 [1:16:17<04:56,  1.33it/s]"
     ]
    },
    {
     "name": "stdout",
     "output_type": "stream",
     "text": [
      "------------------------------------------------------------------------------ 6187\n",
      "kojyurin_100202_utsunomiya_hirano.wma\n",
      "/home/wataru/code/b-com/b-com/crawling/コジュリン/地鳴き\n",
      "https://www.bird-research.jp/1_shiryo/koe/kojyurin_100202_utsunomiya_hirano.wma\n"
     ]
    },
    {
     "name": "stderr",
     "output_type": "stream",
     "text": [
      "\r",
      " 94%|███████████████████████████████████████████████████████████████████████████████████████████████████████████▎      | 6188/6576 [1:16:22<04:50,  1.33it/s]"
     ]
    },
    {
     "name": "stdout",
     "output_type": "stream",
     "text": [
      "------------------------------------------------------------------------------ 6194\n",
      "ojurin_080701_doto_kuroda.wma\n",
      "/home/wataru/code/b-com/b-com/crawling/オオジュリン/\n",
      "https://www.bird-research.jp/1_shiryo/koe/ojurin_080701_doto_kuroda.wma\n"
     ]
    },
    {
     "name": "stderr",
     "output_type": "stream",
     "text": [
      "\r",
      " 94%|███████████████████████████████████████████████████████████████████████████████████████████████████████████▍      | 6195/6576 [1:16:28<04:45,  1.33it/s]"
     ]
    },
    {
     "name": "stdout",
     "output_type": "stream",
     "text": [
      "------------------------------------------------------------------------------ 6201\n",
      "ojurin_091116_watarase_hirano.wma\n",
      "/home/wataru/code/b-com/b-com/crawling/オオジュリン/地鳴き\n",
      "https://www.bird-research.jp/1_shiryo/koe/ojurin_091116_watarase_hirano.wma\n"
     ]
    },
    {
     "name": "stderr",
     "output_type": "stream",
     "text": [
      "\r",
      " 94%|███████████████████████████████████████████████████████████████████████████████████████████████████████████▌      | 6202/6576 [1:16:33<04:38,  1.34it/s]"
     ]
    },
    {
     "name": "stdout",
     "output_type": "stream",
     "text": [
      "------------------------------------------------------------------------------ 6209\n",
      "kojukei1_060512_hino_mju.wma\n",
      "/home/wataru/code/b-com/b-com/crawling/コジュケイ/さえずり\n",
      "https://www.bird-research.jp/1_shiryo/koe/kojukei1_060512_hino_mju.wma\n"
     ]
    },
    {
     "name": "stderr",
     "output_type": "stream",
     "text": [
      "\r",
      " 94%|███████████████████████████████████████████████████████████████████████████████████████████████████████████▋      | 6210/6576 [1:16:38<04:21,  1.40it/s]"
     ]
    },
    {
     "name": "stdout",
     "output_type": "stream",
     "text": [
      "------------------------------------------------------------------------------ 6216\n",
      "kojukei_20200309_oita_ikenaga.wma\n",
      "/home/wataru/code/b-com/b-com/crawling/コジュケイ/鳴き交し\n",
      "https://www.bird-research.jp/1_shiryo/koe/kojukei_20200309_oita_ikenaga.wma\n"
     ]
    },
    {
     "name": "stderr",
     "output_type": "stream",
     "text": [
      "\r",
      " 95%|███████████████████████████████████████████████████████████████████████████████████████████████████████████▊      | 6217/6576 [1:16:43<04:20,  1.38it/s]"
     ]
    },
    {
     "name": "stdout",
     "output_type": "stream",
     "text": [
      "------------------------------------------------------------------------------ 6223\n",
      "kojukei2_060512_hino_mju.wma\n",
      "/home/wataru/code/b-com/b-com/crawling/コジュケイ/地鳴き\n",
      "https://www.bird-research.jp/1_shiryo/koe/kojukei2_060512_hino_mju.wma\n"
     ]
    },
    {
     "name": "stderr",
     "output_type": "stream",
     "text": [
      "\r",
      " 95%|███████████████████████████████████████████████████████████████████████████████████████████████████████████▉      | 6224/6576 [1:16:48<04:18,  1.36it/s]"
     ]
    },
    {
     "name": "stdout",
     "output_type": "stream",
     "text": [
      "------------------------------------------------------------------------------ 6230\n",
      "kojyukei_120704_sano_hirano.wma\n",
      "/home/wataru/code/b-com/b-com/crawling/コジュケイ/地鳴き\n",
      "https://www.bird-research.jp/1_shiryo/koe/kojyukei_120704_sano_hirano.wma\n"
     ]
    },
    {
     "name": "stderr",
     "output_type": "stream",
     "text": [
      "\r",
      " 95%|████████████████████████████████████████████████████████████████████████████████████████████████████████████      | 6231/6576 [1:16:54<04:14,  1.35it/s]"
     ]
    },
    {
     "name": "stdout",
     "output_type": "stream",
     "text": [
      "------------------------------------------------------------------------------ 6237\n",
      "korinuzura_210526_inba_uemura.wma\n",
      "/home/wataru/code/b-com/b-com/crawling/コリンウズラ/さえずり\n",
      "https://www.bird-research.jp/1_shiryo/koe/korinuzura_210526_inba_uemura.wma\n"
     ]
    },
    {
     "name": "stderr",
     "output_type": "stream",
     "text": [
      "\r",
      " 95%|████████████████████████████████████████████████████████████████████████████████████████████████████████████▏     | 6238/6576 [1:16:59<04:11,  1.34it/s]"
     ]
    },
    {
     "name": "stdout",
     "output_type": "stream",
     "text": [
      "------------------------------------------------------------------------------ 6244\n",
      "kobuhakuchou_071129_kagoshima_kaji.wma\n",
      "/home/wataru/code/b-com/b-com/crawling/コブハクチョウ/\n",
      "https://www.bird-research.jp/1_shiryo/koe/kobuhakuchou_071129_kagoshima_kaji.wma\n"
     ]
    },
    {
     "name": "stderr",
     "output_type": "stream",
     "text": [
      "\r",
      " 95%|████████████████████████████████████████████████████████████████████████████████████████████████████████████▎     | 6245/6576 [1:17:04<04:05,  1.35it/s]"
     ]
    },
    {
     "name": "stdout",
     "output_type": "stream",
     "text": [
      "------------------------------------------------------------------------------ 6251\n",
      "dobato_100506_kunitachi_mju.wma\n",
      "/home/wataru/code/b-com/b-com/crawling/ドバト/\n",
      "https://www.bird-research.jp/1_shiryo/koe/dobato_100506_kunitachi_mju.wma\n"
     ]
    },
    {
     "name": "stderr",
     "output_type": "stream",
     "text": [
      "\r",
      " 95%|████████████████████████████████████████████████████████████████████████████████████████████████████████████▍     | 6252/6576 [1:17:09<04:00,  1.35it/s]"
     ]
    },
    {
     "name": "stdout",
     "output_type": "stream",
     "text": [
      "------------------------------------------------------------------------------ 6258\n",
      "honsei_100503_kunitachi_mju.wma\n",
      "/home/wataru/code/b-com/b-com/crawling/ホンセイインコ/\n",
      "https://www.bird-research.jp/1_shiryo/koe/honsei_100503_kunitachi_mju.wma\n"
     ]
    },
    {
     "name": "stderr",
     "output_type": "stream",
     "text": [
      "\r",
      " 95%|████████████████████████████████████████████████████████████████████████████████████████████████████████████▌     | 6259/6576 [1:17:15<03:58,  1.33it/s]"
     ]
    },
    {
     "name": "stdout",
     "output_type": "stream",
     "text": [
      "------------------------------------------------------------------------------ 6265\n",
      "gabi200703_naganuma_mju.wma\n",
      "/home/wataru/code/b-com/b-com/crawling/ガビチョウ/さえずり\n",
      "https://www.bird-research.jp/1_shiryo/koe/gabi200703_naganuma_mju.wma\n"
     ]
    },
    {
     "name": "stderr",
     "output_type": "stream",
     "text": [
      "\r",
      " 95%|████████████████████████████████████████████████████████████████████████████████████████████████████████████▋     | 6266/6576 [1:17:20<03:53,  1.33it/s]"
     ]
    },
    {
     "name": "stdout",
     "output_type": "stream",
     "text": [
      "------------------------------------------------------------------------------ 6273\n",
      "gabicho_040512_hino_mju.wma\n",
      "/home/wataru/code/b-com/b-com/crawling/ガビチョウ/さえずり\n",
      "https://www.bird-research.jp/1_shiryo/koe/gabicho_040512_hino_mju.wma\n"
     ]
    },
    {
     "name": "stderr",
     "output_type": "stream",
     "text": [
      "\r",
      " 95%|████████████████████████████████████████████████████████████████████████████████████████████████████████████▊     | 6274/6576 [1:17:25<03:38,  1.38it/s]"
     ]
    },
    {
     "name": "stdout",
     "output_type": "stream",
     "text": [
      "------------------------------------------------------------------------------ 6281\n",
      "gabicho_100625_tama_miya.wma\n",
      "/home/wataru/code/b-com/b-com/crawling/ガビチョウ/地鳴き\n",
      "https://www.bird-research.jp/1_shiryo/koe/gabicho_100625_tama_miya.wma\n"
     ]
    },
    {
     "name": "stderr",
     "output_type": "stream",
     "text": [
      "\r",
      " 96%|████████████████████████████████████████████████████████████████████████████████████████████████████████████▉     | 6282/6576 [1:17:31<03:26,  1.42it/s]"
     ]
    },
    {
     "name": "stdout",
     "output_type": "stream",
     "text": [
      "------------------------------------------------------------------------------ 6288\n",
      "kaogurogabi_130429_akikawa_miya.wma\n",
      "/home/wataru/code/b-com/b-com/crawling/ｶｵｸﾞﾛｶﾞﾋﾞﾁｮｳ/地鳴き\n",
      "https://www.bird-research.jp/1_shiryo/koe/kaogurogabi_130429_akikawa_miya.wma\n"
     ]
    },
    {
     "name": "stderr",
     "output_type": "stream",
     "text": [
      "\r",
      " 96%|█████████████████████████████████████████████████████████████████████████████████████████████████████████████     | 6289/6576 [1:17:36<03:25,  1.40it/s]"
     ]
    },
    {
     "name": "stdout",
     "output_type": "stream",
     "text": [
      "------------------------------------------------------------------------------ 6295\n",
      "kaogurogabi_180626_kokubunji_mju.wma\n",
      "/home/wataru/code/b-com/b-com/crawling/ｶｵｸﾞﾛｶﾞﾋﾞﾁｮｳ/地鳴き\n",
      "https://www.bird-research.jp/1_shiryo/koe/kaogurogabi_180626_kokubunji_mju.wma\n"
     ]
    },
    {
     "name": "stderr",
     "output_type": "stream",
     "text": [
      "\r",
      " 96%|█████████████████████████████████████████████████████████████████████████████████████████████████████████████▏    | 6296/6576 [1:17:41<03:23,  1.38it/s]"
     ]
    },
    {
     "name": "stdout",
     "output_type": "stream",
     "text": [
      "------------------------------------------------------------------------------ 6302\n",
      "kaoguro_190412_x_mju.wma\n",
      "/home/wataru/code/b-com/b-com/crawling/ｶｵｸﾞﾛｶﾞﾋﾞﾁｮｳ/地鳴き\n",
      "https://www.bird-research.jp/1_shiryo/koe/kaoguro_190412_x_mju.wma\n"
     ]
    },
    {
     "name": "stderr",
     "output_type": "stream",
     "text": [
      "\r",
      " 96%|█████████████████████████████████████████████████████████████████████████████████████████████████████████████▎    | 6303/6576 [1:17:46<03:20,  1.36it/s]"
     ]
    },
    {
     "name": "stdout",
     "output_type": "stream",
     "text": [
      "------------------------------------------------------------------------------ 6309\n",
      "kaoguro_190414_x_mju.wma\n",
      "/home/wataru/code/b-com/b-com/crawling/ｶｵｸﾞﾛｶﾞﾋﾞﾁｮｳ/地鳴き\n",
      "https://www.bird-research.jp/1_shiryo/koe/kaoguro_190414_x_mju.wma\n"
     ]
    },
    {
     "name": "stderr",
     "output_type": "stream",
     "text": [
      "\r",
      " 96%|█████████████████████████████████████████████████████████████████████████████████████████████████████████████▍    | 6310/6576 [1:17:52<03:15,  1.36it/s]"
     ]
    },
    {
     "name": "stdout",
     "output_type": "stream",
     "text": [
      "------------------------------------------------------------------------------ 6316\n",
      "kaojirogabicho_20140410_watarase_hirano.wma\n",
      "/home/wataru/code/b-com/b-com/crawling/ｶｵｼﾞﾛｶﾞﾋﾞﾁｮｳ/さえずり\n",
      "https://www.bird-research.jp/1_shiryo/koe/kaojirogabicho_20140410_watarase_hirano.wma\n"
     ]
    },
    {
     "name": "stderr",
     "output_type": "stream",
     "text": [
      "\r",
      " 96%|█████████████████████████████████████████████████████████████████████████████████████████████████████████████▌    | 6317/6576 [1:17:57<03:11,  1.35it/s]"
     ]
    },
    {
     "name": "stdout",
     "output_type": "stream",
     "text": [
      "------------------------------------------------------------------------------ 6323\n",
      "kaojirogabityou_120406_watarase_hirano.wma\n",
      "/home/wataru/code/b-com/b-com/crawling/ｶｵｼﾞﾛｶﾞﾋﾞﾁｮｳ/地鳴き\n",
      "https://www.bird-research.jp/1_shiryo/koe/kaojirogabityou_120406_watarase_hirano.wma\n"
     ]
    },
    {
     "name": "stderr",
     "output_type": "stream",
     "text": [
      "\r",
      " 96%|█████████████████████████████████████████████████████████████████████████████████████████████████████████████▋    | 6324/6576 [1:18:02<03:06,  1.35it/s]"
     ]
    },
    {
     "name": "stdout",
     "output_type": "stream",
     "text": [
      "------------------------------------------------------------------------------ 6330\n",
      "kaojirogabi_210703_watarase_oi.wma\n",
      "/home/wataru/code/b-com/b-com/crawling/ｶｵｼﾞﾛｶﾞﾋﾞﾁｮｳ/地鳴き\n",
      "https://www.bird-research.jp/1_shiryo/koe/kaojirogabi_210703_watarase_oi.wma\n"
     ]
    },
    {
     "name": "stderr",
     "output_type": "stream",
     "text": [
      "\r",
      " 96%|█████████████████████████████████████████████████████████████████████████████████████████████████████████████▊    | 6331/6576 [1:18:07<03:01,  1.35it/s]"
     ]
    },
    {
     "name": "stdout",
     "output_type": "stream",
     "text": [
      "------------------------------------------------------------------------------ 6337\n",
      "higegabi_141015_kochi_kuroda.wma\n",
      "/home/wataru/code/b-com/b-com/crawling/ヒゲガビチョウ/さえずり\n",
      "https://www.bird-research.jp/1_shiryo/koe/higegabi_141015_kochi_kuroda.wma\n"
     ]
    },
    {
     "name": "stderr",
     "output_type": "stream",
     "text": [
      "\r",
      " 96%|█████████████████████████████████████████████████████████████████████████████████████████████████████████████▊    | 6338/6576 [1:18:13<02:57,  1.34it/s]"
     ]
    },
    {
     "name": "stdout",
     "output_type": "stream",
     "text": [
      "------------------------------------------------------------------------------ 6344\n",
      "higegabi2_141015_kochi_kuroda.wma\n",
      "/home/wataru/code/b-com/b-com/crawling/ヒゲガビチョウ/さえずり\n",
      "https://www.bird-research.jp/1_shiryo/koe/higegabi2_141015_kochi_kuroda.wma\n"
     ]
    },
    {
     "name": "stderr",
     "output_type": "stream",
     "text": [
      "\r",
      " 96%|█████████████████████████████████████████████████████████████████████████████████████████████████████████████▉    | 6345/6576 [1:18:18<02:52,  1.34it/s]"
     ]
    },
    {
     "name": "stdout",
     "output_type": "stream",
     "text": [
      "------------------------------------------------------------------------------ 6351\n",
      "higegabi_170727_kochi_kuroda.wma\n",
      "/home/wataru/code/b-com/b-com/crawling/ヒゲガビチョウ/地鳴き\n",
      "https://www.bird-research.jp/1_shiryo/koe/higegabi_170727_kochi_kuroda.wma\n"
     ]
    },
    {
     "name": "stderr",
     "output_type": "stream",
     "text": [
      "\r",
      " 97%|██████████████████████████████████████████████████████████████████████████████████████████████████████████████    | 6352/6576 [1:18:23<02:47,  1.34it/s]"
     ]
    },
    {
     "name": "stdout",
     "output_type": "stream",
     "text": [
      "------------------------------------------------------------------------------ 6358\n",
      "soushicho_0811_hyogo_kaji.wma\n",
      "/home/wataru/code/b-com/b-com/crawling/ソウシチョウ/さえずり\n",
      "https://www.bird-research.jp/1_shiryo/koe/soushicho_0811_hyogo_kaji.wma\n"
     ]
    },
    {
     "name": "stderr",
     "output_type": "stream",
     "text": [
      "\r",
      " 97%|██████████████████████████████████████████████████████████████████████████████████████████████████████████████▏   | 6359/6576 [1:18:28<02:41,  1.34it/s]"
     ]
    },
    {
     "name": "stdout",
     "output_type": "stream",
     "text": [
      "------------------------------------------------------------------------------ 6366\n",
      "soushicho_0906_hyogo_kaji.wma\n",
      "/home/wataru/code/b-com/b-com/crawling/ソウシチョウ/さえずり\n",
      "https://www.bird-research.jp/1_shiryo/koe/soushicho_0906_hyogo_kaji.wma\n"
     ]
    },
    {
     "name": "stderr",
     "output_type": "stream",
     "text": [
      "\r",
      " 97%|██████████████████████████████████████████████████████████████████████████████████████████████████████████████▍   | 6367/6576 [1:18:34<02:29,  1.40it/s]"
     ]
    },
    {
     "name": "stdout",
     "output_type": "stream",
     "text": [
      "------------------------------------------------------------------------------ 6373\n",
      "soshicho_c_070331_kokubunji_mju.wma\n",
      "/home/wataru/code/b-com/b-com/crawling/ソウシチョウ/地鳴き\n",
      "https://www.bird-research.jp/1_shiryo/koe/soshicho_c_070331_kokubunji_mju.wma\n"
     ]
    },
    {
     "name": "stderr",
     "output_type": "stream",
     "text": [
      "\r",
      " 97%|██████████████████████████████████████████████████████████████████████████████████████████████████████████████▍   | 6374/6576 [1:18:39<02:26,  1.38it/s]"
     ]
    },
    {
     "name": "stdout",
     "output_type": "stream",
     "text": [
      "------------------------------------------------------------------------------ 6380\n",
      "hakkacho_120514a_himeji_kuroda.wma\n",
      "/home/wataru/code/b-com/b-com/crawling/ハッカチョウ/\n",
      "https://www.bird-research.jp/1_shiryo/koe/hakkacho_120514a_himeji_kuroda.wma\n"
     ]
    },
    {
     "name": "stderr",
     "output_type": "stream",
     "text": [
      "\r",
      " 97%|██████████████████████████████████████████████████████████████████████████████████████████████████████████████▌   | 6381/6576 [1:18:44<02:22,  1.36it/s]"
     ]
    },
    {
     "name": "stdout",
     "output_type": "stream",
     "text": [
      "------------------------------------------------------------------------------ 6387\n",
      "hakkacho_120514b_himeji_kuroda.wma\n",
      "/home/wataru/code/b-com/b-com/crawling/ハッカチョウ/\n",
      "https://www.bird-research.jp/1_shiryo/koe/hakkacho_120514b_himeji_kuroda.wma\n"
     ]
    },
    {
     "name": "stderr",
     "output_type": "stream",
     "text": [
      "\r",
      " 97%|██████████████████████████████████████████████████████████████████████████████████████████████████████████████▋   | 6388/6576 [1:18:49<02:18,  1.36it/s]"
     ]
    },
    {
     "name": "stdout",
     "output_type": "stream",
     "text": [
      "------------------------------------------------------------------------------ 6394\n",
      "hakkacho_120514c_himeji_kuroda.wma\n",
      "/home/wataru/code/b-com/b-com/crawling/ハッカチョウ/攻撃\n",
      "https://www.bird-research.jp/1_shiryo/koe/hakkacho_120514c_himeji_kuroda.wma\n"
     ]
    },
    {
     "name": "stderr",
     "output_type": "stream",
     "text": [
      "\r",
      " 97%|██████████████████████████████████████████████████████████████████████████████████████████████████████████████▊   | 6395/6576 [1:18:54<02:13,  1.35it/s]"
     ]
    },
    {
     "name": "stdout",
     "output_type": "stream",
     "text": [
      "------------------------------------------------------------------------------ 6401\n",
      "hakkacho_131122_tasuno_kuroda.wma\n",
      "/home/wataru/code/b-com/b-com/crawling/ハッカチョウ/\n",
      "https://www.bird-research.jp/1_shiryo/koe/hakkacho_131122_tasuno_kuroda.wma\n"
     ]
    },
    {
     "name": "stderr",
     "output_type": "stream",
     "text": [
      "\r",
      " 97%|██████████████████████████████████████████████████████████████████████████████████████████████████████████████▉   | 6402/6576 [1:19:00<02:08,  1.35it/s]"
     ]
    },
    {
     "name": "stdout",
     "output_type": "stream",
     "text": [
      "------------------------------------------------------------------------------ 6408\n",
      "sanjaku_170725_kochi_kuroda.wma\n",
      "/home/wataru/code/b-com/b-com/crawling/サンジャク/地鳴き\n",
      "https://www.bird-research.jp/1_shiryo/koe/sanjaku_170725_kochi_kuroda.wma\n"
     ]
    },
    {
     "name": "stderr",
     "output_type": "stream",
     "text": [
      "\r",
      " 97%|███████████████████████████████████████████████████████████████████████████████████████████████████████████████   | 6409/6576 [1:19:05<02:04,  1.35it/s]"
     ]
    },
    {
     "name": "stdout",
     "output_type": "stream",
     "text": [
      "------------------------------------------------------------------------------ 6415\n",
      "shimakinpara_181125_okinawa_mju.wma\n",
      "/home/wataru/code/b-com/b-com/crawling/シマキンパラ/地鳴き\n",
      "https://www.bird-research.jp/1_shiryo/koe/shimakinpara_181125_okinawa_mju.wma\n"
     ]
    },
    {
     "name": "stderr",
     "output_type": "stream",
     "text": [
      "\r",
      " 98%|███████████████████████████████████████████████████████████████████████████████████████████████████████████████▏  | 6416/6576 [1:19:10<01:59,  1.34it/s]"
     ]
    },
    {
     "name": "stdout",
     "output_type": "stream",
     "text": [
      "------------------------------------------------------------------------------ 6422\n",
      "shimakinpara_211010_sankaku_oshiro.wma\n",
      "/home/wataru/code/b-com/b-com/crawling/シマキンパラ/地鳴き\n",
      "https://www.bird-research.jp/1_shiryo/koe/shimakinpara_211010_sankaku_oshiro.wma\n"
     ]
    },
    {
     "name": "stderr",
     "output_type": "stream",
     "text": [
      "\r",
      " 98%|███████████████████████████████████████████████████████████████████████████████████████████████████████████████▎  | 6423/6576 [1:19:17<02:07,  1.20it/s]"
     ]
    },
    {
     "name": "stdout",
     "output_type": "stream",
     "text": [
      "------------------------------------------------------------------------------ 6430\n",
      "saru_11060700_chichibu_mju.wma\n",
      "/home/wataru/code/b-com/b-com/crawling/ニホンザル/\n",
      "https://www.bird-research.jp/1_shiryo/koe/saru_11060700_chichibu_mju.wma\n"
     ]
    },
    {
     "name": "stderr",
     "output_type": "stream",
     "text": [
      "\r",
      " 98%|███████████████████████████████████████████████████████████████████████████████████████████████████████████████▍  | 6431/6576 [1:19:23<01:52,  1.29it/s]"
     ]
    },
    {
     "name": "stdout",
     "output_type": "stream",
     "text": [
      "------------------------------------------------------------------------------ 6437\n",
      "shika_090528_chichibu_mju.wma\n",
      "/home/wataru/code/b-com/b-com/crawling/シカ/\n",
      "https://www.bird-research.jp/1_shiryo/koe/shika_090528_chichibu_mju.wma\n"
     ]
    },
    {
     "name": "stderr",
     "output_type": "stream",
     "text": [
      "\r",
      " 98%|███████████████████████████████████████████████████████████████████████████████████████████████████████████████▌  | 6438/6576 [1:19:28<01:46,  1.30it/s]"
     ]
    },
    {
     "name": "stdout",
     "output_type": "stream",
     "text": [
      "------------------------------------------------------------------------------ 6444\n",
      "kamoshika_140510_nikko_abe.wma\n",
      "/home/wataru/code/b-com/b-com/crawling/ニホンカモシカ/\n",
      "https://www.bird-research.jp/1_shiryo/koe/kamoshika_140510_nikko_abe.wma\n"
     ]
    },
    {
     "name": "stderr",
     "output_type": "stream",
     "text": [
      "\r",
      " 98%|███████████████████████████████████████████████████████████████████████████████████████████████████████████████▋  | 6445/6576 [1:19:33<01:39,  1.32it/s]"
     ]
    },
    {
     "name": "stdout",
     "output_type": "stream",
     "text": [
      "------------------------------------------------------------------------------ 6451\n",
      "kitsune_180618_tsumagoi_mju.wma\n",
      "/home/wataru/code/b-com/b-com/crawling/キツネ/\n",
      "https://www.bird-research.jp/1_shiryo/koe/kitsune_180618_tsumagoi_mju.wma\n"
     ]
    },
    {
     "name": "stderr",
     "output_type": "stream",
     "text": [
      "\r",
      " 98%|███████████████████████████████████████████████████████████████████████████████████████████████████████████████▊  | 6452/6576 [1:19:38<01:33,  1.33it/s]"
     ]
    },
    {
     "name": "stdout",
     "output_type": "stream",
     "text": [
      "------------------------------------------------------------------------------ 6458\n",
      "kitakitsune_051017_muroran_mju.wma\n",
      "/home/wataru/code/b-com/b-com/crawling/キタキツネ/\n",
      "https://www.bird-research.jp/1_shiryo/koe/kitakitsune_051017_muroran_mju.wma\n"
     ]
    },
    {
     "name": "stderr",
     "output_type": "stream",
     "text": [
      "\r",
      " 98%|███████████████████████████████████████████████████████████████████████████████████████████████████████████████▉  | 6459/6576 [1:19:44<01:28,  1.33it/s]"
     ]
    },
    {
     "name": "stdout",
     "output_type": "stream",
     "text": [
      "------------------------------------------------------------------------------ 6465\n",
      "hondorisu_hyogo_170421_kaji.wma\n",
      "/home/wataru/code/b-com/b-com/crawling/ホンドリス/\n",
      "https://www.bird-research.jp/1_shiryo/koe/hondorisu_hyogo_170421_kaji.wma\n"
     ]
    },
    {
     "name": "stderr",
     "output_type": "stream",
     "text": [
      "\r",
      " 98%|████████████████████████████████████████████████████████████████████████████████████████████████████████████████  | 6466/6576 [1:19:49<01:22,  1.33it/s]"
     ]
    },
    {
     "name": "stdout",
     "output_type": "stream",
     "text": [
      "------------------------------------------------------------------------------ 6472\n",
      "ezorisu_110402_maruyama_namba.wma\n",
      "/home/wataru/code/b-com/b-com/crawling/エゾリス/\n",
      "https://www.bird-research.jp/1_shiryo/koe/ezorisu_110402_maruyama_namba.wma\n"
     ]
    },
    {
     "name": "stderr",
     "output_type": "stream",
     "text": [
      "\r",
      " 98%|████████████████████████████████████████████████████████████████████████████████████████████████████████████████▏ | 6473/6576 [1:19:54<01:17,  1.33it/s]"
     ]
    },
    {
     "name": "stdout",
     "output_type": "stream",
     "text": [
      "------------------------------------------------------------------------------ 6479\n",
      "nezumi_080409_tottori_kuroda.wma\n",
      "/home/wataru/code/b-com/b-com/crawling/ジネズミ類/子ネズミ\n",
      "https://www.bird-research.jp/1_shiryo/koe/nezumi_080409_tottori_kuroda.wma\n"
     ]
    },
    {
     "name": "stderr",
     "output_type": "stream",
     "text": [
      "\r",
      " 99%|████████████████████████████████████████████████████████████████████████████████████████████████████████████████▎ | 6480/6576 [1:19:59<01:12,  1.33it/s]"
     ]
    },
    {
     "name": "stdout",
     "output_type": "stream",
     "text": [
      "------------------------------------------------------------------------------ 6486\n",
      "jakonezumi_211007_itoman_oshiro.wma\n",
      "/home/wataru/code/b-com/b-com/crawling/ジャコウネズミ/\n",
      "https://www.bird-research.jp/1_shiryo/koe/jakonezumi_211007_itoman_oshiro.wma\n"
     ]
    },
    {
     "name": "stderr",
     "output_type": "stream",
     "text": [
      "\r",
      " 99%|████████████████████████████████████████████████████████████████████████████████████████████████████████████████▍ | 6487/6576 [1:20:05<01:07,  1.32it/s]"
     ]
    },
    {
     "name": "stdout",
     "output_type": "stream",
     "text": [
      "------------------------------------------------------------------------------ 6493\n",
      "okomori_211007_itoman_oshiro.wma\n",
      "/home/wataru/code/b-com/b-com/crawling/クビワオオコウモリ/\n",
      "https://www.bird-research.jp/1_shiryo/koe/okomori_211007_itoman_oshiro.wma\n"
     ]
    },
    {
     "name": "stderr",
     "output_type": "stream",
     "text": [
      "\r",
      " 99%|████████████████████████████████████████████████████████████████████████████████████████████████████████████████▌ | 6494/6576 [1:20:10<01:01,  1.32it/s]"
     ]
    },
    {
     "name": "stdout",
     "output_type": "stream",
     "text": [
      "------------------------------------------------------------------------------ 6500\n",
      "hinakomori_140527_wakayama_kuroda.wma\n",
      "/home/wataru/code/b-com/b-com/crawling/ヒナコウモリ/\n",
      "https://www.bird-research.jp/1_shiryo/koe/hinakomori_140527_wakayama_kuroda.wma\n"
     ]
    },
    {
     "name": "stderr",
     "output_type": "stream",
     "text": [
      "\r",
      " 99%|████████████████████████████████████████████████████████████████████████████████████████████████████████████████▋ | 6501/6576 [1:20:15<00:56,  1.33it/s]"
     ]
    },
    {
     "name": "stdout",
     "output_type": "stream",
     "text": [
      "------------------------------------------------------------------------------ 6507\n",
      "kokikugashirai_170712_shobara_kaji.wma\n",
      "/home/wataru/code/b-com/b-com/crawling/コキグガシラコウモリ/\n",
      "https://www.bird-research.jp/1_shiryo/koe/kokikugashirai_170712_shobara_kaji.wma\n"
     ]
    },
    {
     "name": "stderr",
     "output_type": "stream",
     "text": [
      "\r",
      " 99%|████████████████████████████████████████████████████████████████████████████████████████████████████████████████▊ | 6508/6576 [1:20:21<00:51,  1.32it/s]"
     ]
    },
    {
     "name": "stdout",
     "output_type": "stream",
     "text": [
      "------------------------------------------------------------------------------ 6514\n",
      "komori_091212_ehime_kuroda.wma\n",
      "/home/wataru/code/b-com/b-com/crawling/コウモリ？/\n",
      "https://www.bird-research.jp/1_shiryo/koe/komori_091212_ehime_kuroda.wma\n"
     ]
    },
    {
     "name": "stderr",
     "output_type": "stream",
     "text": [
      "\r",
      " 99%|████████████████████████████████████████████████████████████████████████████████████████████████████████████████▉ | 6515/6576 [1:20:26<00:46,  1.33it/s]"
     ]
    },
    {
     "name": "stdout",
     "output_type": "stream",
     "text": [
      "------------------------------------------------------------------------------ 6521\n",
      "ushigaeru_200525_izu_mju.wma\n",
      "/home/wataru/code/b-com/b-com/crawling/ウシガエル/鳴き声\n",
      "https://www.bird-research.jp/1_shiryo/koe/ushigaeru_200525_izu_mju.wma\n"
     ]
    },
    {
     "name": "stderr",
     "output_type": "stream",
     "text": [
      "\r",
      " 99%|█████████████████████████████████████████████████████████████████████████████████████████████████████████████████ | 6522/6576 [1:20:32<00:43,  1.24it/s]"
     ]
    },
    {
     "name": "stdout",
     "output_type": "stream",
     "text": [
      "------------------------------------------------------------------------------ 6528\n",
      "amagaeru_060607_hino_mju.wma\n",
      "/home/wataru/code/b-com/b-com/crawling/アマガエル/\n",
      "https://www.bird-research.jp/1_shiryo/koe/amagaeru_060607_hino_mju.wma\n"
     ]
    },
    {
     "name": "stderr",
     "output_type": "stream",
     "text": [
      "\r",
      " 99%|█████████████████████████████████████████████████████████████████████████████████████████████████████████████████▏| 6529/6576 [1:20:38<00:37,  1.26it/s]"
     ]
    },
    {
     "name": "stdout",
     "output_type": "stream",
     "text": [
      "------------------------------------------------------------------------------ 6535\n",
      "tagogaeru_060603_okutadami_mju.wma\n",
      "/home/wataru/code/b-com/b-com/crawling/タゴガエル/\n",
      "https://www.bird-research.jp/1_shiryo/koe/tagogaeru_060603_okutadami_mju.wma\n"
     ]
    },
    {
     "name": "stderr",
     "output_type": "stream",
     "text": [
      "\r",
      " 99%|█████████████████████████████████████████████████████████████████████████████████████████████████████████████████▎| 6536/6576 [1:20:43<00:31,  1.28it/s]"
     ]
    },
    {
     "name": "stdout",
     "output_type": "stream",
     "text": [
      "------------------------------------------------------------------------------ 6542\n",
      "kajikagaeru_130618_nashushiobara.wma\n",
      "/home/wataru/code/b-com/b-com/crawling/カジカガエル/\n",
      "https://www.bird-research.jp/1_shiryo/koe/kajikagaeru_130618_nashushiobara.wma\n"
     ]
    },
    {
     "name": "stderr",
     "output_type": "stream",
     "text": [
      "\r",
      " 99%|█████████████████████████████████████████████████████████████████████████████████████████████████████████████████▍| 6543/6576 [1:20:48<00:25,  1.30it/s]"
     ]
    },
    {
     "name": "stdout",
     "output_type": "stream",
     "text": [
      "------------------------------------------------------------------------------ 6549\n",
      "hikigaeru_110313_kokubunji_mju.wma\n",
      "/home/wataru/code/b-com/b-com/crawling/ヒキガエル/\n",
      "https://www.bird-research.jp/1_shiryo/koe/hikigaeru_110313_kokubunji_mju.wma\n"
     ]
    },
    {
     "name": "stderr",
     "output_type": "stream",
     "text": [
      "\r",
      "100%|█████████████████████████████████████████████████████████████████████████████████████████████████████████████████▌| 6550/6576 [1:20:53<00:19,  1.31it/s]"
     ]
    },
    {
     "name": "stdout",
     "output_type": "stream",
     "text": [
      "------------------------------------------------------------------------------ 6556\n",
      "moriaogaeru_100618_sado_mju.wma\n",
      "/home/wataru/code/b-com/b-com/crawling/モリアオガエル/\n",
      "https://www.bird-research.jp/1_shiryo/koe/moriaogaeru_100618_sado_mju.wma\n"
     ]
    },
    {
     "name": "stderr",
     "output_type": "stream",
     "text": [
      "\r",
      "100%|█████████████████████████████████████████████████████████████████████████████████████████████████████████████████▋| 6557/6576 [1:20:59<00:14,  1.32it/s]"
     ]
    },
    {
     "name": "stdout",
     "output_type": "stream",
     "text": [
      "------------------------------------------------------------------------------ 6563\n",
      "yamaakagaeru_200702_hyogo_kuroda.wma\n",
      "/home/wataru/code/b-com/b-com/crawling/ヤマアカガエル/\n",
      "https://www.bird-research.jp/1_shiryo/koe/yamaakagaeru_200702_hyogo_kuroda.wma\n"
     ]
    },
    {
     "name": "stderr",
     "output_type": "stream",
     "text": [
      "\r",
      "100%|█████████████████████████████████████████████████████████████████████████████████████████████████████████████████▊| 6564/6576 [1:21:04<00:09,  1.33it/s]"
     ]
    },
    {
     "name": "stdout",
     "output_type": "stream",
     "text": [
      "------------------------------------------------------------------------------ 6570\n",
      "ezoaka_190409_sapporo_kurosawa.wma\n",
      "/home/wataru/code/b-com/b-com/crawling/エゾアカガエル/\n",
      "https://www.bird-research.jp/1_shiryo/koe/ezoaka_190409_sapporo_kurosawa.wma\n"
     ]
    },
    {
     "name": "stderr",
     "output_type": "stream",
     "text": [
      "100%|██████████████████████████████████████████████████████████████████████████████████████████████████████████████████| 6576/6576 [1:21:09<00:00,  1.35it/s]\n"
     ]
    }
   ],
   "source": [
    "url = 'https://www.bird-research.jp/1_shiryo/nakigoe17.html'\n",
    "response = request.urlopen(url)\n",
    "soup = BeautifulSoup(response, 'html.parser')\n",
    "table = soup.find('table', class_='table001')\n",
    "rows = table.find_all('td')\n",
    "\n",
    "for i, row in enumerate(tqdm(rows)):\n",
    "    a_tag = row.find('a')\n",
    "    if a_tag:\n",
    "        bird = a_tag.get_text()\n",
    "        link = a_tag.get('href')\n",
    "        ignore_list = ['mp3', '春の初認', '繁殖調査', '初認調査', '分布調査', '福田 2016', '所崎 2015', 'アンケート']\n",
    "        if bird not in ignore_list:\n",
    "            file_name = link.split('/')[1]\n",
    "            cry_type = rows[i+1].get_text()\n",
    "            dir_path = os.path.join(os.getcwd(), bird, cry_type)\n",
    "            url = ('https://www.bird-research.jp/1_shiryo/' + link).replace(\" \", \"%20\")\n",
    "            \n",
    "            print('------------------------------------------------------------------------------ '+str(i))\n",
    "            print(file_name)\n",
    "            print(dir_path)\n",
    "            print(url)\n",
    "            \n",
    "            try:\n",
    "                with request.urlopen(url) as u:\n",
    "                    if not os.path.exists(dir_path):\n",
    "                        os.makedirs(dir_path)\n",
    "                    if os.path.exists(os.path.join(dir_path, file_name)):\n",
    "                        pass\n",
    "                    with open(os.path.join(dir_path, file_name), 'bw') as o:\n",
    "                        o.write(u.read())\n",
    "            except error.URLError as e:\n",
    "                print(e.reason)\n",
    "                pass\n",
    "            \n",
    "            time.sleep(5)\n",
    "            \n",
    "response.close()"
   ]
  }
 ],
 "metadata": {
  "kernelspec": {
   "display_name": "Python 3 (ipykernel)",
   "language": "python",
   "name": "python3"
  },
  "language_info": {
   "codemirror_mode": {
    "name": "ipython",
    "version": 3
   },
   "file_extension": ".py",
   "mimetype": "text/x-python",
   "name": "python",
   "nbconvert_exporter": "python",
   "pygments_lexer": "ipython3",
   "version": "3.8.10"
  }
 },
 "nbformat": 4,
 "nbformat_minor": 5
}
